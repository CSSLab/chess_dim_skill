{
 "cells": [
  {
   "cell_type": "markdown",
   "metadata": {},
   "source": [
    "<h1>Word2Vecf on Chess Puzzle Data</h1>"
   ]
  },
  {
   "cell_type": "code",
   "execution_count": 1,
   "metadata": {},
   "outputs": [
    {
     "data": {
      "application/vnd.jupyter.widget-view+json": {
       "model_id": "e52fb216bdff4cd28d80ed2954e065d3",
       "version_major": 2,
       "version_minor": 0
      },
      "text/plain": [
       "HBox(children=(IntProgress(value=1, bar_style='info', max=1), HTML(value='')))"
      ]
     },
     "metadata": {},
     "output_type": "display_data"
    },
    {
     "name": "stdout",
     "output_type": "stream",
     "text": [
      "\n"
     ]
    }
   ],
   "source": [
    "#Word 2 Vec F test\n",
    "import numpy as np\n",
    "import pandas as pd\n",
    "from tqdm import tqdm_notebook as tqdm\n",
    "tqdm().pandas()\n",
    "\n",
    "TRAIN_DAT = '/w/225/1/chess/tactics/parameter_tuning_files/train_full_set'\n",
    "CONTEXT_DAT = '/w/225/1/chess/tactics/parameter_tuning_files/cv_full_set'\n",
    "VOCAB_DAT = '/w/225/1/chess/tactics/parameter_tuning_files/wv_full_set'\n",
    "PPMI_TAB = '/w/225/1/chess/tactics/parameter_tuning_files/sample_pairs_ppmi'"
   ]
  },
  {
   "cell_type": "markdown",
   "metadata": {},
   "source": [
    "<h2>Load, Filter, Save Data for Loading to Word2vecf</h2>"
   ]
  },
  {
   "cell_type": "code",
   "execution_count": null,
   "metadata": {},
   "outputs": [],
   "source": [
    "#Load Data\n",
    "chess_data = pd.read_csv('/w/225/1/chess/tactics/glicko_user_tactics_problem.csv_00')"
   ]
  },
  {
   "cell_type": "code",
   "execution_count": null,
   "metadata": {},
   "outputs": [],
   "source": [
    "#Filter Data\n",
    "chess_data = chess_data[chess_data.is_passed == 1]"
   ]
  },
  {
   "cell_type": "code",
   "execution_count": null,
   "metadata": {},
   "outputs": [],
   "source": [
    "len(chess_data)"
   ]
  },
  {
   "cell_type": "code",
   "execution_count": null,
   "metadata": {},
   "outputs": [],
   "source": [
    "#Create vocabulary file for word2vecf\n",
    "vocab_dat = chess_data.groupby('tactics_problem_id')['user_hash'].nunique().to_frame()\n",
    "#Number of vocab words in 'corpus'\n",
    "len(vocab_dat.index)"
   ]
  },
  {
   "cell_type": "code",
   "execution_count": null,
   "metadata": {},
   "outputs": [],
   "source": [
    "#Get the count of puzzles attempted per each user, ie create the context file for word2vecf\n",
    "context_dat = chess_data.groupby('user_hash')['tactics_problem_id'].nunique().to_frame()\n",
    "context_dat.head()"
   ]
  },
  {
   "cell_type": "code",
   "execution_count": null,
   "metadata": {},
   "outputs": [],
   "source": [
    "#Write to CSV the training, vocab and context data\n",
    "#Convert indexes to columns\n",
    "vocab_dat.reset_index(level=0, inplace=True)\n",
    "vocab_dat.to_csv(VOCAB_DAT,\n",
    "                 sep=' ',\n",
    "                 index=False,\n",
    "                 header=False,\n",
    "                 encoding='utf-8')"
   ]
  },
  {
   "cell_type": "code",
   "execution_count": null,
   "metadata": {},
   "outputs": [],
   "source": [
    "context_dat.reset_index(level=0,inplace=True)\n",
    "context_dat.to_csv(CONTEXT_DAT,\n",
    "                 sep=' ',\n",
    "                 index=False,\n",
    "                 header=False,\n",
    "                 encoding='utf-8')"
   ]
  },
  {
   "cell_type": "code",
   "execution_count": null,
   "metadata": {},
   "outputs": [],
   "source": [
    "#Filter and reorder columns\n",
    "#chess_data = chess_data.filter(items=['user_hash','tactics_problem_id'])\n",
    "chess_data = chess_data[['tactics_problem_id','user_hash']]\n",
    "chess_data.head()\n",
    "chess_data.to_csv(TRAIN_DAT,\n",
    "                 sep=' ',\n",
    "                 index=False,\n",
    "                 header=False,\n",
    "                 encoding='utf-8')"
   ]
  },
  {
   "cell_type": "markdown",
   "metadata": {},
   "source": [
    "<h2>Create Pairs of random vocab words to generate PPMIs</h2>"
   ]
  },
  {
   "cell_type": "code",
   "execution_count": 102,
   "metadata": {},
   "outputs": [
    {
     "name": "stdout",
     "output_type": "stream",
     "text": [
      "[[159895  63342]\n",
      " [120701  84914]\n",
      " [ 59774  97619]\n",
      " [115842 166214]\n",
      " [130142 183507]]\n",
      "(999989, 2)\n"
     ]
    }
   ],
   "source": [
    "#Create a bunch of random pairs of \n",
    "pairs_to_sample = 1000000 # will be less b.c. duplicates\n",
    "#vocab_dat = vocab_dat.set_index('tactics_problem_id')\n",
    "pairs = np.random.choice(vocab_dat.index, (pairs_to_sample,2))\n",
    "pairs = pairs[pairs[:, 0] != pairs[:, 1]]\n",
    "print(pairs[:5])\n",
    "print(pairs.shape)"
   ]
  },
  {
   "cell_type": "code",
   "execution_count": 104,
   "metadata": {},
   "outputs": [
    {
     "data": {
      "text/html": [
       "<div>\n",
       "<style scoped>\n",
       "    .dataframe tbody tr th:only-of-type {\n",
       "        vertical-align: middle;\n",
       "    }\n",
       "\n",
       "    .dataframe tbody tr th {\n",
       "        vertical-align: top;\n",
       "    }\n",
       "\n",
       "    .dataframe thead th {\n",
       "        text-align: right;\n",
       "    }\n",
       "</style>\n",
       "<table border=\"1\" class=\"dataframe\">\n",
       "  <thead>\n",
       "    <tr style=\"text-align: right;\">\n",
       "      <th></th>\n",
       "      <th>puz_a</th>\n",
       "      <th>puz_b</th>\n",
       "      <th>users_a</th>\n",
       "      <th>users_b</th>\n",
       "    </tr>\n",
       "  </thead>\n",
       "  <tbody>\n",
       "    <tr>\n",
       "      <th>0</th>\n",
       "      <td>159895</td>\n",
       "      <td>63342</td>\n",
       "      <td>3006</td>\n",
       "      <td>2516</td>\n",
       "    </tr>\n",
       "    <tr>\n",
       "      <th>1</th>\n",
       "      <td>120701</td>\n",
       "      <td>84914</td>\n",
       "      <td>3982</td>\n",
       "      <td>2850</td>\n",
       "    </tr>\n",
       "    <tr>\n",
       "      <th>2</th>\n",
       "      <td>59774</td>\n",
       "      <td>97619</td>\n",
       "      <td>4389</td>\n",
       "      <td>1560</td>\n",
       "    </tr>\n",
       "    <tr>\n",
       "      <th>3</th>\n",
       "      <td>115842</td>\n",
       "      <td>166214</td>\n",
       "      <td>4061</td>\n",
       "      <td>117</td>\n",
       "    </tr>\n",
       "    <tr>\n",
       "      <th>4</th>\n",
       "      <td>130142</td>\n",
       "      <td>183507</td>\n",
       "      <td>2532</td>\n",
       "      <td>213</td>\n",
       "    </tr>\n",
       "  </tbody>\n",
       "</table>\n",
       "</div>"
      ],
      "text/plain": [
       "    puz_a   puz_b  users_a  users_b\n",
       "0  159895   63342     3006     2516\n",
       "1  120701   84914     3982     2850\n",
       "2   59774   97619     4389     1560\n",
       "3  115842  166214     4061      117\n",
       "4  130142  183507     2532      213"
      ]
     },
     "execution_count": 104,
     "metadata": {},
     "output_type": "execute_result"
    }
   ],
   "source": [
    "#Join pairs with their user counts for each puzzle\n",
    "pmi_table = pd.DataFrame(data=pairs,columns=[\"puz_a\",\"puz_b\"])\n",
    "pmi_table = pd.merge(pmi_table,vocab_dat,how='left',left_on='puz_a',right_on='tactics_problem_id')\n",
    "#mi_table.columns = ['puz_a','puz_b','users_a',]\n",
    "pmi_table = pd.merge(pmi_table,vocab_dat,how='left',left_on='puz_b',right_on='tactics_problem_id')\n",
    "pmi_table.columns = ['puz_a','puz_b','users_a','users_b']\n",
    "pmi_table.head()"
   ]
  },
  {
   "cell_type": "code",
   "execution_count": 80,
   "metadata": {},
   "outputs": [
    {
     "data": {
      "text/html": [
       "<div>\n",
       "<style scoped>\n",
       "    .dataframe tbody tr th:only-of-type {\n",
       "        vertical-align: middle;\n",
       "    }\n",
       "\n",
       "    .dataframe tbody tr th {\n",
       "        vertical-align: top;\n",
       "    }\n",
       "\n",
       "    .dataframe thead th {\n",
       "        text-align: right;\n",
       "    }\n",
       "</style>\n",
       "<table border=\"1\" class=\"dataframe\">\n",
       "  <thead>\n",
       "    <tr style=\"text-align: right;\">\n",
       "      <th></th>\n",
       "      <th>tactics_problem_id</th>\n",
       "      <th>user_hash</th>\n",
       "    </tr>\n",
       "  </thead>\n",
       "  <tbody>\n",
       "    <tr>\n",
       "      <th>10905403</th>\n",
       "      <td>731</td>\n",
       "      <td>83f328ec5627b146c51b7115493332eba6132692e911fa...</td>\n",
       "    </tr>\n",
       "    <tr>\n",
       "      <th>30975168</th>\n",
       "      <td>731</td>\n",
       "      <td>1cdf809577062352e1c6aedc7e8c6979e75775585923a3...</td>\n",
       "    </tr>\n",
       "    <tr>\n",
       "      <th>16416117</th>\n",
       "      <td>731</td>\n",
       "      <td>925184f476c094bc7bfd348dbb3f23512952fdc679d1bd...</td>\n",
       "    </tr>\n",
       "    <tr>\n",
       "      <th>126555710</th>\n",
       "      <td>731</td>\n",
       "      <td>1ecc2214ac2c6055788091af105dcd78cec8629e3352d6...</td>\n",
       "    </tr>\n",
       "    <tr>\n",
       "      <th>10832985</th>\n",
       "      <td>731</td>\n",
       "      <td>50650667f2ae361a53d05ee1107ffabe0426c173695255...</td>\n",
       "    </tr>\n",
       "  </tbody>\n",
       "</table>\n",
       "</div>"
      ],
      "text/plain": [
       "           tactics_problem_id  \\\n",
       "10905403                  731   \n",
       "30975168                  731   \n",
       "16416117                  731   \n",
       "126555710                 731   \n",
       "10832985                  731   \n",
       "\n",
       "                                                   user_hash  \n",
       "10905403   83f328ec5627b146c51b7115493332eba6132692e911fa...  \n",
       "30975168   1cdf809577062352e1c6aedc7e8c6979e75775585923a3...  \n",
       "16416117   925184f476c094bc7bfd348dbb3f23512952fdc679d1bd...  \n",
       "126555710  1ecc2214ac2c6055788091af105dcd78cec8629e3352d6...  \n",
       "10832985   50650667f2ae361a53d05ee1107ffabe0426c173695255...  "
      ]
     },
     "execution_count": 80,
     "metadata": {},
     "output_type": "execute_result"
    }
   ],
   "source": [
    "#Sort for speeding up finding counts of shared users later\n",
    "chess_data.sort_values(by=\"tactics_problem_id\",inplace=True)\n",
    "chess_data.head()"
   ]
  },
  {
   "cell_type": "code",
   "execution_count": 86,
   "metadata": {},
   "outputs": [
    {
     "data": {
      "text/html": [
       "<div>\n",
       "<style scoped>\n",
       "    .dataframe tbody tr th:only-of-type {\n",
       "        vertical-align: middle;\n",
       "    }\n",
       "\n",
       "    .dataframe tbody tr th {\n",
       "        vertical-align: top;\n",
       "    }\n",
       "\n",
       "    .dataframe thead th {\n",
       "        text-align: right;\n",
       "    }\n",
       "</style>\n",
       "<table border=\"1\" class=\"dataframe\">\n",
       "  <thead>\n",
       "    <tr style=\"text-align: right;\">\n",
       "      <th></th>\n",
       "      <th>tactics_problem_id</th>\n",
       "      <th>user_hash</th>\n",
       "    </tr>\n",
       "  </thead>\n",
       "  <tbody>\n",
       "    <tr>\n",
       "      <th>0</th>\n",
       "      <td>731</td>\n",
       "      <td>83f328ec5627b146c51b7115493332eba6132692e911fa...</td>\n",
       "    </tr>\n",
       "    <tr>\n",
       "      <th>1</th>\n",
       "      <td>731</td>\n",
       "      <td>1cdf809577062352e1c6aedc7e8c6979e75775585923a3...</td>\n",
       "    </tr>\n",
       "    <tr>\n",
       "      <th>2</th>\n",
       "      <td>731</td>\n",
       "      <td>925184f476c094bc7bfd348dbb3f23512952fdc679d1bd...</td>\n",
       "    </tr>\n",
       "    <tr>\n",
       "      <th>3</th>\n",
       "      <td>731</td>\n",
       "      <td>1ecc2214ac2c6055788091af105dcd78cec8629e3352d6...</td>\n",
       "    </tr>\n",
       "    <tr>\n",
       "      <th>4</th>\n",
       "      <td>731</td>\n",
       "      <td>50650667f2ae361a53d05ee1107ffabe0426c173695255...</td>\n",
       "    </tr>\n",
       "  </tbody>\n",
       "</table>\n",
       "</div>"
      ],
      "text/plain": [
       "   tactics_problem_id                                          user_hash\n",
       "0                 731  83f328ec5627b146c51b7115493332eba6132692e911fa...\n",
       "1                 731  1cdf809577062352e1c6aedc7e8c6979e75775585923a3...\n",
       "2                 731  925184f476c094bc7bfd348dbb3f23512952fdc679d1bd...\n",
       "3                 731  1ecc2214ac2c6055788091af105dcd78cec8629e3352d6...\n",
       "4                 731  50650667f2ae361a53d05ee1107ffabe0426c173695255..."
      ]
     },
     "execution_count": 86,
     "metadata": {},
     "output_type": "execute_result"
    }
   ],
   "source": [
    "#Drop Index\n",
    "#chess_data = chess_data.reset_index()\n",
    "chess_data = chess_data.drop('index',axis=1)\n",
    "chess_data.head()"
   ]
  },
  {
   "cell_type": "code",
   "execution_count": 131,
   "metadata": {},
   "outputs": [
    {
     "data": {
      "application/vnd.jupyter.widget-view+json": {
       "model_id": "c790044f03ed4b6b818cf9b842e3853f",
       "version_major": 2,
       "version_minor": 0
      },
      "text/plain": [
       "HBox(children=(IntProgress(value=0, max=999989), HTML(value='')))"
      ]
     },
     "metadata": {},
     "output_type": "display_data"
    },
    {
     "name": "stdout",
     "output_type": "stream",
     "text": [
      "4512.267183065414\n"
     ]
    }
   ],
   "source": [
    "#Calculate number of users that have completed both puzzles for each pair\n",
    "import time\n",
    "def get_shared_user(row):\n",
    "    #temp = chess_data[(chess_data['tactics_problem_id'] == row['puz_a']) | (chess_data['tactics_problem_id'] == row['puz_b'])]\n",
    "    #return(len(temp[temp.duplicated(['user_hash'])]))\n",
    "    #Option B, slightly slower\n",
    "    #user_a = chess_data[chess_data['tactics_problem_id'] == row['puz_a']]\n",
    "    #user_b = chess_data[chess_data['tactics_problem_id'] == row['puz_b']]\n",
    "    #return(len(pd.merge(user_a,user_b,how='inner',on='user_hash')))\n",
    "    #Option C, requires sorted list, fastest\n",
    "    a_start = np.searchsorted(chess_data['tactics_problem_id'],row['puz_a'])[0]\n",
    "    #print(a_first_index)\n",
    "    b_start = np.searchsorted(chess_data['tactics_problem_id'],row['puz_b'])[0]\n",
    "    user_a = chess_data.iloc[a_start:a_start+row['users_a']]\n",
    "    user_b = chess_data.iloc[b_start:b_start+row['users_b']]\n",
    "    return(len(pd.merge(user_a,user_b,how='inner',on='user_hash')))\n",
    "\n",
    "start = time.time()\n",
    "pmi_table['users_a_b'] = pmi_table.progress_apply(lambda row: get_shared_user(row),axis=1)\n",
    "end = time.time()\n",
    "print(end-start)"
   ]
  },
  {
   "cell_type": "code",
   "execution_count": 134,
   "metadata": {},
   "outputs": [
    {
     "data": {
      "text/plain": [
       "(999989, 5)"
      ]
     },
     "execution_count": 134,
     "metadata": {},
     "output_type": "execute_result"
    }
   ],
   "source": [
    "pmi_table.shape"
   ]
  },
  {
   "cell_type": "code",
   "execution_count": 135,
   "metadata": {},
   "outputs": [
    {
     "data": {
      "text/html": [
       "<div>\n",
       "<style scoped>\n",
       "    .dataframe tbody tr th:only-of-type {\n",
       "        vertical-align: middle;\n",
       "    }\n",
       "\n",
       "    .dataframe tbody tr th {\n",
       "        vertical-align: top;\n",
       "    }\n",
       "\n",
       "    .dataframe thead th {\n",
       "        text-align: right;\n",
       "    }\n",
       "</style>\n",
       "<table border=\"1\" class=\"dataframe\">\n",
       "  <thead>\n",
       "    <tr style=\"text-align: right;\">\n",
       "      <th></th>\n",
       "      <th>puz_a</th>\n",
       "      <th>puz_b</th>\n",
       "      <th>users_a</th>\n",
       "      <th>users_b</th>\n",
       "      <th>users_a_b</th>\n",
       "      <th>pmi</th>\n",
       "    </tr>\n",
       "  </thead>\n",
       "  <tbody>\n",
       "    <tr>\n",
       "      <th>0</th>\n",
       "      <td>159895</td>\n",
       "      <td>63342</td>\n",
       "      <td>3006</td>\n",
       "      <td>2516</td>\n",
       "      <td>351</td>\n",
       "      <td>0.674017</td>\n",
       "    </tr>\n",
       "    <tr>\n",
       "      <th>1</th>\n",
       "      <td>120701</td>\n",
       "      <td>84914</td>\n",
       "      <td>3982</td>\n",
       "      <td>2850</td>\n",
       "      <td>386</td>\n",
       "      <td>0.363246</td>\n",
       "    </tr>\n",
       "    <tr>\n",
       "      <th>5</th>\n",
       "      <td>52531</td>\n",
       "      <td>27906</td>\n",
       "      <td>3719</td>\n",
       "      <td>3723</td>\n",
       "      <td>505</td>\n",
       "      <td>0.433085</td>\n",
       "    </tr>\n",
       "    <tr>\n",
       "      <th>8</th>\n",
       "      <td>115098</td>\n",
       "      <td>155221</td>\n",
       "      <td>376</td>\n",
       "      <td>169</td>\n",
       "      <td>7</td>\n",
       "      <td>1.538444</td>\n",
       "    </tr>\n",
       "    <tr>\n",
       "      <th>10</th>\n",
       "      <td>29644</td>\n",
       "      <td>147189</td>\n",
       "      <td>3618</td>\n",
       "      <td>3079</td>\n",
       "      <td>716</td>\n",
       "      <td>0.999665</td>\n",
       "    </tr>\n",
       "  </tbody>\n",
       "</table>\n",
       "</div>"
      ],
      "text/plain": [
       "     puz_a   puz_b  users_a  users_b  users_a_b       pmi\n",
       "0   159895   63342     3006     2516        351  0.674017\n",
       "1   120701   84914     3982     2850        386  0.363246\n",
       "5    52531   27906     3719     3723        505  0.433085\n",
       "8   115098  155221      376      169          7  1.538444\n",
       "10   29644  147189     3618     3079        716  0.999665"
      ]
     },
     "execution_count": 135,
     "metadata": {},
     "output_type": "execute_result"
    }
   ],
   "source": [
    "#Calculate pointwise mutual information for each pair\n",
    "def calc_pmi(row,vocab_len):\n",
    "    if(row['users_a_b'] == 0): return 0\n",
    "    return np.log(row['users_a_b']) + vocab_len - np.log(row['users_a']) - np.log(row['users_b'])\n",
    "\n",
    "vocab_len = np.log(len(vocab_dat.index))\n",
    "pmi_table['pmi'] = pmi_table.apply(lambda row: calc_pmi(row,vocab_len),axis=1)\n",
    "#Filter out negative values to get Postivive PMI\n",
    "pmi_table = pmi_table[pmi_table['pmi'] > 0]\n",
    "pmi_table.head()"
   ]
  },
  {
   "cell_type": "code",
   "execution_count": 137,
   "metadata": {},
   "outputs": [],
   "source": [
    "#Save PPMI\n",
    "pmi_table.to_csv(,\n",
    "                 encoding='utf-8')"
   ]
  },
  {
   "cell_type": "markdown",
   "metadata": {},
   "source": [
    "<h2>Create embeddings for different hyperparameter combos</h2>"
   ]
  },
  {
   "cell_type": "code",
   "execution_count": 50,
   "metadata": {},
   "outputs": [
    {
     "name": "stdout",
     "output_type": "stream",
     "text": [
      "[0.1  0.15 0.2  0.25 0.3 ]\n",
      "[ 50. 100. 150. 200. 250.]\n"
     ]
    }
   ],
   "source": [
    "#Set up range of hyperparamters to try for tuning\n",
    "param1 = \"alpha\"\n",
    "param1_values = np.linspace(0.1, 0.3, 5)\n",
    "param2 = \"size\"\n",
    "param2_values = np.linspace(50, 250, 5)\n",
    "\n",
    "print(param1_values)\n",
    "print(param2_values)\n",
    "\n",
    "all_embeddings = [(p1, p2) for p1 in param1_values for p2 in param2_values]"
   ]
  },
  {
   "cell_type": "code",
   "execution_count": 3,
   "metadata": {},
   "outputs": [
    {
     "data": {
      "application/vnd.jupyter.widget-view+json": {
       "model_id": "1ddd0355d59a4fad8bfdcb775da85941",
       "version_major": 2,
       "version_minor": 0
      },
      "text/plain": [
       "HBox(children=(IntProgress(value=0, max=64), HTML(value='')))"
      ]
     },
     "metadata": {},
     "output_type": "display_data"
    },
    {
     "name": "stdout",
     "output_type": "stream",
     "text": [
      "\n"
     ]
    }
   ],
   "source": [
    "import subprocess\n",
    "import sys\n",
    "\n",
    "def generate_embedding(tpl):\n",
    "    p1, p2 = tpl\n",
    "    output = f\"word2vecf/vectors/size_alpha/vecs_{p1}_{p2}.txt\"\n",
    "    command = f\"word2vecf/word2vecf -train {TRAIN_DAT} -wvocab {VOCAB_DAT} -cvocab {CONTEXT_DAT} -output {output} -threads 180 -{param1} {p1} -{param2} {p2}\"\n",
    "    \n",
    "    subprocess.run(command, shell=True)\n",
    "    \n",
    "    return output\n",
    "    \n",
    "generated_embeddings = list(map(generate_embedding, tqdm(all_embeddings)))"
   ]
  },
  {
   "cell_type": "code",
   "execution_count": 38,
   "metadata": {},
   "outputs": [
    {
     "data": {
      "application/vnd.jupyter.widget-view+json": {
       "model_id": "6a1c35241daf4cabab56d5815d8abb73",
       "version_major": 2,
       "version_minor": 0
      },
      "text/plain": [
       "HBox(children=(IntProgress(value=0, max=25), HTML(value='')))"
      ]
     },
     "metadata": {},
     "output_type": "display_data"
    }
   ],
   "source": [
    "#Load embeddings\n",
    "\n",
    "def load_embedding(filename):\n",
    "    vectors = pd.read_csv(filename, sep=' ', header=None, skiprows=1)\n",
    "    #Set index to be the first column which contains the puzzle IDs\n",
    "    vectors = vectors.set_index(0)\n",
    "    #Get rid of empty column at end\n",
    "    vectors = vectors.drop(len(vectors.columns),axis=1)\n",
    "    #vectors = vectors = vectors.iloc[:, 0:200]\n",
    "    #Normalize puzzle vectors\n",
    "    vectors = vectors.divide(np.linalg.norm(vectors, axis=1), axis=0)\n",
    "    return vectors\n",
    "\n",
    "loaded_embeddings = list(map(lambda x: load_embedding(x), tqdm(generated_embeddings)))"
   ]
  },
  {
   "cell_type": "code",
   "execution_count": 35,
   "metadata": {},
   "outputs": [
    {
     "data": {
      "text/html": [
       "<div>\n",
       "<style scoped>\n",
       "    .dataframe tbody tr th:only-of-type {\n",
       "        vertical-align: middle;\n",
       "    }\n",
       "\n",
       "    .dataframe tbody tr th {\n",
       "        vertical-align: top;\n",
       "    }\n",
       "\n",
       "    .dataframe thead th {\n",
       "        text-align: right;\n",
       "    }\n",
       "</style>\n",
       "<table border=\"1\" class=\"dataframe\">\n",
       "  <thead>\n",
       "    <tr style=\"text-align: right;\">\n",
       "      <th></th>\n",
       "      <th>puz_a</th>\n",
       "      <th>puz_b</th>\n",
       "      <th>users_a</th>\n",
       "      <th>users_b</th>\n",
       "      <th>users_a_b</th>\n",
       "      <th>pmi</th>\n",
       "    </tr>\n",
       "  </thead>\n",
       "  <tbody>\n",
       "    <tr>\n",
       "      <th>0</th>\n",
       "      <td>159895</td>\n",
       "      <td>63342</td>\n",
       "      <td>3006</td>\n",
       "      <td>2516</td>\n",
       "      <td>351</td>\n",
       "      <td>0.674017</td>\n",
       "    </tr>\n",
       "    <tr>\n",
       "      <th>1</th>\n",
       "      <td>120701</td>\n",
       "      <td>84914</td>\n",
       "      <td>3982</td>\n",
       "      <td>2850</td>\n",
       "      <td>386</td>\n",
       "      <td>0.363246</td>\n",
       "    </tr>\n",
       "    <tr>\n",
       "      <th>2</th>\n",
       "      <td>52531</td>\n",
       "      <td>27906</td>\n",
       "      <td>3719</td>\n",
       "      <td>3723</td>\n",
       "      <td>505</td>\n",
       "      <td>0.433085</td>\n",
       "    </tr>\n",
       "    <tr>\n",
       "      <th>3</th>\n",
       "      <td>115098</td>\n",
       "      <td>155221</td>\n",
       "      <td>376</td>\n",
       "      <td>169</td>\n",
       "      <td>7</td>\n",
       "      <td>1.538444</td>\n",
       "    </tr>\n",
       "    <tr>\n",
       "      <th>4</th>\n",
       "      <td>29644</td>\n",
       "      <td>147189</td>\n",
       "      <td>3618</td>\n",
       "      <td>3079</td>\n",
       "      <td>716</td>\n",
       "      <td>0.999665</td>\n",
       "    </tr>\n",
       "  </tbody>\n",
       "</table>\n",
       "</div>"
      ],
      "text/plain": [
       "    puz_a   puz_b  users_a  users_b  users_a_b       pmi\n",
       "0  159895   63342     3006     2516        351  0.674017\n",
       "1  120701   84914     3982     2850        386  0.363246\n",
       "2   52531   27906     3719     3723        505  0.433085\n",
       "3  115098  155221      376      169          7  1.538444\n",
       "4   29644  147189     3618     3079        716  0.999665"
      ]
     },
     "execution_count": 35,
     "metadata": {},
     "output_type": "execute_result"
    }
   ],
   "source": [
    "ppmi = pd.read_csv(PPMI_TAB).drop('Unnamed: 0',axis=1)\n",
    "ppmi.head()"
   ]
  },
  {
   "cell_type": "code",
   "execution_count": 39,
   "metadata": {},
   "outputs": [
    {
     "data": {
      "application/vnd.jupyter.widget-view+json": {
       "model_id": "bec4c5b13d574550accbfcfc93f07d39",
       "version_major": 2,
       "version_minor": 0
      },
      "text/plain": [
       "HBox(children=(IntProgress(value=0, max=25), HTML(value='')))"
      ]
     },
     "metadata": {},
     "output_type": "display_data"
    }
   ],
   "source": [
    "#Assess PPMI\n",
    "\n",
    "#Load PMI\n",
    "\n",
    "\n",
    "def assess_ppmi(embedding):\n",
    "    vecs_a = embedding.reindex(ppmi[\"puz_a\"].astype(int))\n",
    "    vecs_b = embedding.reindex(ppmi[\"puz_b\"].astype(int))\n",
    "    cosines = np.multiply(vecs_a, vecs_b).sum(1)\n",
    "    ppmis = ppmi[\"pmi\"]\n",
    "    \n",
    "    corr = np.corrcoef(cosines, ppmis)\n",
    "    return corr[0,1]\n",
    "    \n",
    "    \n",
    "assessment_scores = np.array(list(map(assess_ppmi, tqdm(loaded_embeddings))))"
   ]
  },
  {
   "cell_type": "code",
   "execution_count": 47,
   "metadata": {},
   "outputs": [
    {
     "data": {
      "image/png": "[encoded data removed]",
      "text/plain": [
       "<Figure size 432x432 with 2 Axes>"
      ]
     },
     "metadata": {
      "needs_background": "light"
     },
     "output_type": "display_data"
    }
   ],
   "source": [
    "import matplotlib.pyplot as plt\n",
    "grid = np.arange(0, len(all_embeddings)).reshape((len(param1_values), len(param2_values)))\n",
    "\n",
    "scores = assessment_scores.copy()\n",
    "plt.figure(figsize=(6,6))\n",
    "plt.imshow(scores[grid])\n",
    "plt.yticks(np.arange(0, len(param1_values)), [\"%.2f\" % d for d in param1_values])\n",
    "plt.xticks(np.arange(0, len(param2_values)), [\"%d\" % d for d in param2_values])\n",
    "plt.ylabel(param1)\n",
    "plt.xlabel(param2)\n",
    "plt.colorbar()\n",
    "plt.show()"
   ]
  },
  {
   "cell_type": "code",
   "execution_count": 49,
   "metadata": {},
   "outputs": [
    {
     "data": {
      "text/plain": [
       "<Figure size 432x288 with 0 Axes>"
      ]
     },
     "metadata": {},
     "output_type": "display_data"
    }
   ],
   "source": [
    "plt.savefig('5_5_correlation_matrix_size_alpha.png')"
   ]
  },
  {
   "cell_type": "markdown",
   "metadata": {},
   "source": [
    "<h2>Prepare Data for Projector</h2>"
   ]
  },
  {
   "cell_type": "code",
   "execution_count": 61,
   "metadata": {},
   "outputs": [],
   "source": [
    "#vectors = pd.read_csv(\"word2vecf/vectors/dim200puzzlevec\", sep=' ', header=None, skiprows=1)\n",
    "#Remove Empty column at end of file\n",
    "\n",
    "#vectors = vectors.drop(vectors.shape[1]-1,axis=1)\n",
    "#Create puzzle_vocabulary data frame from first column of vectors and then remove vector id column from vectors\n",
    "max_index = np.where(assessment_scores == max(assessment_scores))[0][0]\n",
    "vectors = loaded_embeddings[max_index]\n",
    "vectors.reset_index(level=0, inplace=True)\n",
    "vectors.rename(columns={0:'tactics_problem_id'}, inplace=True)\n",
    "puzzle_vocabulary_pd = vectors['tactics_problem_id'].to_frame().astype('int32').set_index(\"tactics_problem_id\")\n",
    "vectors = vectors.drop('tactics_problem_id',axis=1)"
   ]
  },
  {
   "cell_type": "code",
   "execution_count": 62,
   "metadata": {},
   "outputs": [
    {
     "data": {
      "text/plain": [
       "(42278, 250)"
      ]
     },
     "execution_count": 62,
     "metadata": {},
     "output_type": "execute_result"
    }
   ],
   "source": [
    "vectors.shape"
   ]
  },
  {
   "cell_type": "markdown",
   "metadata": {},
   "source": [
    "<h2>Load Puzzle MetaData</h2>"
   ]
  },
  {
   "cell_type": "code",
   "execution_count": 63,
   "metadata": {},
   "outputs": [],
   "source": [
    "#Load Fen Data\n",
    "fen_data = pd.read_csv('/w/225/1/chess/tactics/tactics_problem.csv')"
   ]
  },
  {
   "cell_type": "code",
   "execution_count": null,
   "metadata": {},
   "outputs": [],
   "source": [
    "#Extract PGN and FEN\n",
    "'''\n",
    "import re\n",
    "old_pgn = fen_data['pgn']\n",
    "new_pgn = np.array([])\n",
    "for i in range(0,len(old_pgn)):\n",
    "    old_fen = old_pgn[i]\n",
    "    try:\n",
    "        string = re.search('\\[FEN \\\"(.+?)\\\"\\]', old_fen).group(1)\n",
    "        string = string.replace(' ','_')\n",
    "        #print(string)\n",
    "    except:\n",
    "        string = ''\n",
    "    new_pgn = np.append(new_pgn,'https://lichess.org/analysis/' + string)\n",
    "print(new_pgn)\n",
    "'''"
   ]
  },
  {
   "cell_type": "code",
   "execution_count": 64,
   "metadata": {},
   "outputs": [],
   "source": [
    "#np.save('fen_links.npy',new_pgn)\n",
    "#Add FEN Data to \n",
    "new_pgn = np.load('fen_links.npy')\n",
    "fen_data['pgn'] = new_pgn\n",
    "fen_data.rename(columns={'pgn':'fen'}, inplace=True)"
   ]
  },
  {
   "cell_type": "code",
   "execution_count": 65,
   "metadata": {},
   "outputs": [],
   "source": [
    "#puzzle_vocabulary_pd = puzzle_vocabulary_pd.join(tag_data.set_index('tactics_problem_id'))\n",
    "puzzle_vocabulary_pd = puzzle_vocabulary_pd.join(fen_data.set_index('tactics_problem_id'))"
   ]
  },
  {
   "cell_type": "code",
   "execution_count": 66,
   "metadata": {},
   "outputs": [],
   "source": [
    "#IMPORTANT remove empty values, causes issues with projector\n",
    "puzzle_vocabulary_pd = puzzle_vocabulary_pd.replace(np.nan, 0,regex=True)\n",
    "puzzle_vocabulary_pd.reset_index(level=0, inplace=True)"
   ]
  },
  {
   "cell_type": "code",
   "execution_count": 67,
   "metadata": {},
   "outputs": [
    {
     "name": "stdout",
     "output_type": "stream",
     "text": [
      "tactics_problem_id    0\n",
      "rating                0\n",
      "rd                    0\n",
      "attempt_count         0\n",
      "average_seconds       0\n",
      "move_count            0\n",
      "tags                  0\n",
      "fen                   0\n",
      "dtype: int64\n"
     ]
    },
    {
     "data": {
      "text/html": [
       "<div>\n",
       "<style scoped>\n",
       "    .dataframe tbody tr th:only-of-type {\n",
       "        vertical-align: middle;\n",
       "    }\n",
       "\n",
       "    .dataframe tbody tr th {\n",
       "        vertical-align: top;\n",
       "    }\n",
       "\n",
       "    .dataframe thead th {\n",
       "        text-align: right;\n",
       "    }\n",
       "</style>\n",
       "<table border=\"1\" class=\"dataframe\">\n",
       "  <thead>\n",
       "    <tr style=\"text-align: right;\">\n",
       "      <th></th>\n",
       "      <th>tactics_problem_id</th>\n",
       "      <th>rating</th>\n",
       "      <th>rd</th>\n",
       "      <th>attempt_count</th>\n",
       "      <th>average_seconds</th>\n",
       "      <th>move_count</th>\n",
       "      <th>tags</th>\n",
       "      <th>fen</th>\n",
       "    </tr>\n",
       "  </thead>\n",
       "  <tbody>\n",
       "    <tr>\n",
       "      <th>0</th>\n",
       "      <td>731</td>\n",
       "      <td>1569.0</td>\n",
       "      <td>44.96</td>\n",
       "      <td>53336.0</td>\n",
       "      <td>41.0</td>\n",
       "      <td>3.0</td>\n",
       "      <td>Attacking f7/f2,Attacking Castled King,Back Ra...</td>\n",
       "      <td>https://lichess.org/analysis/r1b2rk1/ppp2ppp/1...</td>\n",
       "    </tr>\n",
       "    <tr>\n",
       "      <th>1</th>\n",
       "      <td>746</td>\n",
       "      <td>876.0</td>\n",
       "      <td>43.96</td>\n",
       "      <td>329720.0</td>\n",
       "      <td>46.0</td>\n",
       "      <td>1.0</td>\n",
       "      <td>Pin</td>\n",
       "      <td>https://lichess.org/analysis/r3k2r/ppp1b2p/2n1...</td>\n",
       "    </tr>\n",
       "    <tr>\n",
       "      <th>2</th>\n",
       "      <td>27811</td>\n",
       "      <td>1087.0</td>\n",
       "      <td>45.58</td>\n",
       "      <td>234263.0</td>\n",
       "      <td>92.0</td>\n",
       "      <td>2.0</td>\n",
       "      <td>Decoy / Deflection,Fork / Double Attack</td>\n",
       "      <td>https://lichess.org/analysis/r4rk1/p4pp1/5q1p/...</td>\n",
       "    </tr>\n",
       "    <tr>\n",
       "      <th>3</th>\n",
       "      <td>905</td>\n",
       "      <td>873.0</td>\n",
       "      <td>43.31</td>\n",
       "      <td>367968.0</td>\n",
       "      <td>60.0</td>\n",
       "      <td>3.0</td>\n",
       "      <td>Remove the Defender</td>\n",
       "      <td>https://lichess.org/analysis/2r3k1/8/5P2/Q3P2p...</td>\n",
       "    </tr>\n",
       "    <tr>\n",
       "      <th>4</th>\n",
       "      <td>48779</td>\n",
       "      <td>1244.0</td>\n",
       "      <td>45.65</td>\n",
       "      <td>230125.0</td>\n",
       "      <td>72.0</td>\n",
       "      <td>4.0</td>\n",
       "      <td>Decoy / Deflection,Endgame Tactics,Pawn Promot...</td>\n",
       "      <td>https://lichess.org/analysis/8/6b1/6P1/B7/P1k5...</td>\n",
       "    </tr>\n",
       "  </tbody>\n",
       "</table>\n",
       "</div>"
      ],
      "text/plain": [
       "   tactics_problem_id  rating     rd  attempt_count  average_seconds  \\\n",
       "0                 731  1569.0  44.96        53336.0             41.0   \n",
       "1                 746   876.0  43.96       329720.0             46.0   \n",
       "2               27811  1087.0  45.58       234263.0             92.0   \n",
       "3                 905   873.0  43.31       367968.0             60.0   \n",
       "4               48779  1244.0  45.65       230125.0             72.0   \n",
       "\n",
       "   move_count                                               tags  \\\n",
       "0         3.0  Attacking f7/f2,Attacking Castled King,Back Ra...   \n",
       "1         1.0                                                Pin   \n",
       "2         2.0            Decoy / Deflection,Fork / Double Attack   \n",
       "3         3.0                                Remove the Defender   \n",
       "4         4.0  Decoy / Deflection,Endgame Tactics,Pawn Promot...   \n",
       "\n",
       "                                                 fen  \n",
       "0  https://lichess.org/analysis/r1b2rk1/ppp2ppp/1...  \n",
       "1  https://lichess.org/analysis/r3k2r/ppp1b2p/2n1...  \n",
       "2  https://lichess.org/analysis/r4rk1/p4pp1/5q1p/...  \n",
       "3  https://lichess.org/analysis/2r3k1/8/5P2/Q3P2p...  \n",
       "4  https://lichess.org/analysis/8/6b1/6P1/B7/P1k5...  "
      ]
     },
     "execution_count": 67,
     "metadata": {},
     "output_type": "execute_result"
    }
   ],
   "source": [
    "#Set data types back to int32 for numeric columns\n",
    "puzzle_vocabulary_pd.astype({'rating': 'int32','attempt_count': 'int32','average_seconds':'int32','move_count':'int32'}).dtypes\n",
    "#Check for Null values\n",
    "print(len(puzzle_vocabulary_pd) - puzzle_vocabulary_pd.count())\n",
    "puzzle_vocabulary_pd.head()"
   ]
  },
  {
   "cell_type": "markdown",
   "metadata": {},
   "source": [
    "<h2>Save Files for Projector</h2>"
   ]
  },
  {
   "cell_type": "code",
   "execution_count": 68,
   "metadata": {},
   "outputs": [],
   "source": [
    "meta_name = 'dim250meta.tsv'\n",
    "vec_name = 'dim250vectors.tsv'\n",
    "\n",
    "#Save Metadata\n",
    "puzzle_vocabulary_pd.to_csv(\n",
    "        meta_name,\n",
    "        sep='\\t',\n",
    "        index=False,\n",
    "        header=True,\n",
    "        encoding='utf-8'\n",
    "    )\n",
    "\n",
    "#Save vectors\n",
    "vectors.to_csv(\n",
    "        vec_name,\n",
    "        sep='\\t',\n",
    "        index=False,\n",
    "        header=False,\n",
    "        encoding='utf-8'\n",
    "    )"
   ]
  },
  {
   "cell_type": "code",
   "execution_count": 69,
   "metadata": {},
   "outputs": [],
   "source": [
    "#Generate Config For Projector\n",
    "import json\n",
    "embeddings = []\n",
    "embeddings.append({\"tensorName\": \"Chess Puzzle Embeddings 2\",\n",
    "      \"tensorShape\": [\n",
    "        vectors.shape[0],\n",
    "        vectors.shape[1]\n",
    "      ],\n",
    "      \"tensorPath\": \"https://raw.githubusercontent.com/biltmire/ChessPuzzleEmbeddings/master/\" + vec_name,\n",
    "      \"metadataPath\": \"https://raw.githubusercontent.com/biltmire/ChessPuzzleEmbeddings/master/\" + meta_name,\n",
    "  })\n",
    "\n",
    "with open('../../ChessPuzzleEmbeddings/puzzle_250_config.json', \"w+\") as text_file:\n",
    "    text_file.write(json.dumps({\"embeddings\": embeddings}))"
   ]
  }
 ],
 "metadata": {
  "kernelspec": {
   "display_name": "Python 3",
   "language": "python",
   "name": "python3"
  },
  "language_info": {
   "codemirror_mode": {
    "name": "ipython",
    "version": 3
   },
   "file_extension": ".py",
   "mimetype": "text/x-python",
   "name": "python",
   "nbconvert_exporter": "python",
   "pygments_lexer": "ipython3",
   "version": "3.7.1"
  }
 },
 "nbformat": 4,
 "nbformat_minor": 4
}
