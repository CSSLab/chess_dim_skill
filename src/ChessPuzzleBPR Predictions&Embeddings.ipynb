{
 "cells": [
  {
   "cell_type": "code",
   "execution_count": 1,
   "metadata": {},
   "outputs": [],
   "source": [
    "#The code for this notebook was based on code from here: \n",
    "#https://medium.com/radon-dev/implicit-bayesian-personalized-ranking-in-tensorflow-b4dfa733c478\n",
    "\n",
    "import tensorflow as tf\n",
    "import pandas as pd\n",
    "import numpy as np\n",
    "from scipy.sparse import csr_matrix,dok_matrix\n",
    "from math import ceil\n",
    "\n",
    "from tqdm import tqdm_notebook as tqdm"
   ]
  },
  {
   "cell_type": "code",
   "execution_count": 2,
   "metadata": {},
   "outputs": [
    {
     "data": {
      "application/vnd.jupyter.widget-view+json": {
       "model_id": "4aefe0a7e02f466b872624f849dea1bf",
       "version_major": 2,
       "version_minor": 0
      },
      "text/plain": [
       "HBox(children=(IntProgress(value=1, bar_style='info', max=1), HTML(value='')))"
      ]
     },
     "metadata": {},
     "output_type": "display_data"
    },
    {
     "name": "stdout",
     "output_type": "stream",
     "text": [
      "\n"
     ]
    }
   ],
   "source": [
    "tqdm().pandas()"
   ]
  },
  {
   "cell_type": "code",
   "execution_count": 3,
   "metadata": {},
   "outputs": [
    {
     "name": "stdout",
     "output_type": "stream",
     "text": [
      "(129998184, 15)\n"
     ]
    }
   ],
   "source": [
    "#Read the puzzzle attempts data\n",
    "df = pd.read_csv('/w/225/1/chess/tactics/glicko_user_tactics_problem.csv_00')\n",
    "print(df.shape)"
   ]
  },
  {
   "cell_type": "code",
   "execution_count": 4,
   "metadata": {},
   "outputs": [],
   "source": [
    "#Filter for palyers that have played at least 1000 games\n",
    "df = df.loc[df['userGamesPlayed'] >= 1000]\n",
    "#Filter to get only successful attempts\n",
    "df = df.loc[df['is_passed'] == 1]"
   ]
  },
  {
   "cell_type": "code",
   "execution_count": 5,
   "metadata": {},
   "outputs": [
    {
     "data": {
      "text/plain": [
       "(29604286, 15)"
      ]
     },
     "execution_count": 5,
     "metadata": {},
     "output_type": "execute_result"
    }
   ],
   "source": [
    "df.shape"
   ]
  },
  {
   "cell_type": "code",
   "execution_count": 6,
   "metadata": {},
   "outputs": [],
   "source": [
    "#Get a table of user ratings and games played for each user in order to create metadata for user embeddings\n",
    "user_data = df.groupby('user_hash')[['ratingUser','userGamesPlayed']].max()"
   ]
  },
  {
   "cell_type": "code",
   "execution_count": 7,
   "metadata": {},
   "outputs": [],
   "source": [
    "#Filter out unnecessary columns\n",
    "df = df[['user_hash','tactics_problem_id','is_passed']]\n",
    "#Replace all missed attempt values with a -1 as to avoid confusion when creating sparse matrix\n",
    "#df['is_passed'] = df['is_passed'].replace(0, -1,regex=True)\n",
    "#Convert user_hashes and tactics_problem_id's to numerical category codes\n",
    "df['user_id'] = df['user_hash'].astype(\"category\").cat.codes\n",
    "df['puzzle_id'] = df['tactics_problem_id'].astype(\"category\").cat.codes\n",
    "#Create lookup tables for user ID's and puzzle ID's for later reference\n",
    "user_lookup = df[['user_id', 'user_hash']].drop_duplicates()\n",
    "user_lookup['user_id'] = user_lookup.user_id\n",
    "item_lookup = df[['tactics_problem_id', 'puzzle_id']].drop_duplicates()\n",
    "df = df.drop('user_hash',axis=1)\n",
    "df = df.drop('tactics_problem_id',axis=1)"
   ]
  },
  {
   "cell_type": "code",
   "execution_count": 8,
   "metadata": {},
   "outputs": [],
   "source": [
    "#Get list of unique users and puzzles\n",
    "users = list(np.sort(df.user_id.unique()))\n",
    "puzzles = list(np.sort(df.puzzle_id.unique()))\n",
    "#Convert all the attempt values to a list\n",
    "is_passed = list(df.is_passed)"
   ]
  },
  {
   "cell_type": "code",
   "execution_count": 9,
   "metadata": {},
   "outputs": [],
   "source": [
    "# Get the rows and columns for our new matrix\n",
    "rows = df.user_id.astype(float)\n",
    "cols = df.puzzle_id.astype(float)\n",
    "# Contruct a sparse matrix for our users and items containing is_passed values\n",
    "X = csr_matrix((is_passed, (rows, cols)), shape=(len(users), len(puzzles)))"
   ]
  },
  {
   "cell_type": "code",
   "execution_count": 10,
   "metadata": {},
   "outputs": [],
   "source": [
    "def train_test_split(ratings,test_size=0.2,seed = 1352):\n",
    "    assert test_size < 1.0 and test_size > 0.0\n",
    "\n",
    "    # Dictionary Of Keys based sparse matrix is more efficient\n",
    "    # for constructing sparse matrices incrementally compared with csr_matrix\n",
    "    train = ratings.copy().todok()\n",
    "    test = dok_matrix(train.shape)\n",
    "    \n",
    "    # for all the users assign randomly chosen interactions\n",
    "    # to the test and assign those interactions to zero in the training;\n",
    "    # when computing the interactions to go into the test set, \n",
    "    # remember to round up the numbers (e.g. a user has 4 ratings, if the\n",
    "    # test_size is 0.2, then 0.8 ratings will go to test, thus we need to\n",
    "    # round up to ensure the test set gets at least 1 rating)\n",
    "    rstate = np.random.RandomState(seed)\n",
    "    for u in tqdm(range(ratings.shape[0])):\n",
    "        split_index = ratings[u].indices\n",
    "        n_splits = ceil(test_size * split_index.shape[0])\n",
    "        test_index = rstate.choice(split_index, size = n_splits, replace = False)\n",
    "        test[u, test_index] = ratings[u, test_index]\n",
    "        train[u, test_index] = 0\n",
    "    \n",
    "    train, test = train.tocsr(), test.tocsr()\n",
    "    return train, test"
   ]
  },
  {
   "cell_type": "code",
   "execution_count": 11,
   "metadata": {},
   "outputs": [
    {
     "data": {
      "application/vnd.jupyter.widget-view+json": {
       "model_id": "b072098a07254469a602ec927fe077ea",
       "version_major": 2,
       "version_minor": 0
      },
      "text/plain": [
       "HBox(children=(IntProgress(value=0, max=30265), HTML(value='')))"
      ]
     },
     "metadata": {},
     "output_type": "display_data"
    },
    {
     "name": "stdout",
     "output_type": "stream",
     "text": [
      "\n"
     ]
    }
   ],
   "source": [
    "X_train, X_test = train_test_split(X, test_size = 0.2, seed = 1234)\n",
    "#Get Row and column values for attempted puzzles and the users that did them\n",
    "uids, puzz_ids = X_train.nonzero()\n",
    "#Get row and column values for attemptd puzzles in the test set\n",
    "test_uids, test_puzz_ids = X_test.nonzero()"
   ]
  },
  {
   "cell_type": "code",
   "execution_count": 12,
   "metadata": {},
   "outputs": [
    {
     "name": "stdout",
     "output_type": "stream",
     "text": [
      "23671273\n",
      "5933013\n"
     ]
    }
   ],
   "source": [
    "print(len(uids))\n",
    "print(len(test_uids))"
   ]
  },
  {
   "cell_type": "code",
   "execution_count": 13,
   "metadata": {},
   "outputs": [],
   "source": [
    "#-------------\n",
    "# HYPERPARAMS\n",
    "#-------------\n",
    "\n",
    "epochs = 50\n",
    "batches = 30\n",
    "num_factors = 64 # Number of latent features\n",
    "\n",
    "# Independent lambda regularization values \n",
    "# for user, items and bias.\n",
    "lambda_user = 0.0000001\n",
    "lambda_item = 0.0000001\n",
    "lambda_bias = 0.0000001\n",
    "\n",
    "# Our learning rate \n",
    "lr = 0.005\n",
    "\n",
    "# How many (u,i,j) triplets we sample for each batch\n",
    "samples = 15000"
   ]
  },
  {
   "cell_type": "code",
   "execution_count": 14,
   "metadata": {},
   "outputs": [],
   "source": [
    "#-------------------------\n",
    "# TENSORFLOW GRAPH\n",
    "#-------------------------\n",
    "\n",
    "# Set up our Tensorflow graph\n",
    "graph = tf.Graph()\n",
    "\n",
    "def init_variable(size, dim, name=None):\n",
    "    '''\n",
    "    Helper function to initialize a new variable with\n",
    "    uniform random values.\n",
    "    '''\n",
    "    std = np.sqrt(2 / dim)\n",
    "    return tf.Variable(tf.random_uniform([size, dim], -std, std), name=name)\n",
    "\n",
    "\n",
    "def embed(inputs, size, dim, name=None):\n",
    "    '''\n",
    "    Helper function to get a Tensorflow variable and create\n",
    "    an embedding lookup to map our user and item\n",
    "    indices to vectors.\n",
    "    '''\n",
    "    emb = init_variable(size, dim, name)\n",
    "    return tf.nn.embedding_lookup(emb, inputs)\n",
    "\n",
    "\n",
    "def get_variable(graph, session, name):\n",
    "    '''\n",
    "    Helper function to get the value of a\n",
    "    Tensorflow variable by name.\n",
    "    '''\n",
    "    v = graph.get_operation_by_name(name)\n",
    "    v = v.values()[0]\n",
    "    v = v.eval(session=session)\n",
    "    return v"
   ]
  },
  {
   "cell_type": "code",
   "execution_count": 15,
   "metadata": {},
   "outputs": [
    {
     "data": {
      "text/plain": [
       "\"\\nparam1_values = np.linspace(12, 144, 4).astype('int')\\nparam2_values = np.linspace(100, 15000, 4).astype('int')\\n\\nprint(param1_values)\\nprint(param2_values)\\n\\nall_combs = [(p1, p2) for p1 in param1_values for p2 in param2_values]\\n\""
      ]
     },
     "execution_count": 15,
     "metadata": {},
     "output_type": "execute_result"
    }
   ],
   "source": [
    "#Set up range of hyperparamters to try for tuning\n",
    "'''\n",
    "param1_values = np.linspace(12, 144, 4).astype('int')\n",
    "param2_values = np.linspace(100, 15000, 4).astype('int')\n",
    "\n",
    "print(param1_values)\n",
    "print(param2_values)\n",
    "\n",
    "all_combs = [(p1, p2) for p1 in param1_values for p2 in param2_values]\n",
    "'''"
   ]
  },
  {
   "cell_type": "code",
   "execution_count": 16,
   "metadata": {},
   "outputs": [
    {
     "name": "stdout",
     "output_type": "stream",
     "text": [
      "WARNING:tensorflow:From <ipython-input-16-b6868206d7fd>:44: to_float (from tensorflow.python.ops.math_ops) is deprecated and will be removed in a future version.\n",
      "Instructions for updating:\n",
      "Use `tf.cast` instead.\n"
     ]
    }
   ],
   "source": [
    "with graph.as_default():\n",
    "    '''\n",
    "    Loss function: \n",
    "    -SUM ln σ(xui - xuj) + λ(w1)**2 + λ(w2)**2 + λ(w3)**2 ...\n",
    "    ln = the natural log\n",
    "    σ(xuij) = the sigmoid function of xuij.\n",
    "    λ = lambda regularization value.\n",
    "    ||W||**2 = the squared L2 norm of our model parameters.\n",
    "    \n",
    "    '''\n",
    "\n",
    "    # Input into our model, in this case our user (u),\n",
    "    # known item (i) an unknown item (j) triplets.\n",
    "    u = tf.placeholder(tf.int32, shape=(None, 1))\n",
    "    i = tf.placeholder(tf.int32, shape=(None, 1))\n",
    "    j = tf.placeholder(tf.int32, shape=(None, 1))\n",
    "\n",
    "    # User feature embedding\n",
    "    u_factors = embed(u, len(users), num_factors, 'user_factors') # U matrix\n",
    "\n",
    "    # Known and unknown item embeddings\n",
    "    item_factors = init_variable(len(puzzles), num_factors, \"puzzle_factors\") # V matrix\n",
    "    i_factors = tf.nn.embedding_lookup(item_factors, i)\n",
    "    j_factors = tf.nn.embedding_lookup(item_factors, j)\n",
    "\n",
    "    # i and j bias embeddings.\n",
    "    item_bias = init_variable(len(puzzles), 1, \"item_bias\")\n",
    "    i_bias = tf.nn.embedding_lookup(item_bias, i)\n",
    "    i_bias = tf.reshape(i_bias, [-1, 1])\n",
    "    j_bias = tf.nn.embedding_lookup(item_bias, j)\n",
    "    j_bias = tf.reshape(j_bias, [-1, 1])\n",
    "\n",
    "    # Calculate the dot product + bias for known and unknown\n",
    "    # item to get xui and xuj.\n",
    "    xui = i_bias + tf.reduce_sum(u_factors * i_factors, axis=2)\n",
    "    xuj = j_bias + tf.reduce_sum(u_factors * j_factors, axis=2)\n",
    "\n",
    "    # We calculate xuij.\n",
    "    xuij = xui - xuj\n",
    "\n",
    "    # Calculate the mean AUC (area under curve).\n",
    "    # if xuij is greater than 0, that means that \n",
    "    # xui is greater than xuj (and thats what we want).\n",
    "    u_auc = tf.reduce_mean(tf.to_float(xuij > 0))\n",
    "\n",
    "    # Output the AUC value to tensorboard for monitoring.\n",
    "    tf.summary.scalar('auc', u_auc)\n",
    "\n",
    "    # Calculate the squared L2 norm ||W||**2 multiplied by λ.\n",
    "    l2_norm = tf.add_n([\n",
    "        lambda_user * tf.reduce_sum(tf.multiply(u_factors, u_factors)),\n",
    "        lambda_item * tf.reduce_sum(tf.multiply(i_factors, i_factors)),\n",
    "        lambda_item * tf.reduce_sum(tf.multiply(j_factors, j_factors)),\n",
    "        lambda_bias * tf.reduce_sum(tf.multiply(i_bias, i_bias)),\n",
    "        lambda_bias * tf.reduce_sum(tf.multiply(j_bias, j_bias))\n",
    "        ])\n",
    "\n",
    "    # Calculate the loss as ||W||**2 - ln σ(Xuij)\n",
    "    #loss = l2_norm - tf.reduce_mean(tf.log(tf.sigmoid(xuij)))\n",
    "    loss = -tf.reduce_mean(tf.log(tf.sigmoid(xuij))) + l2_norm\n",
    "    \n",
    "    # Train using the Adam optimizer to minimize \n",
    "    # our loss function.\n",
    "    opt = tf.train.AdamOptimizer(learning_rate=lr)\n",
    "    step = opt.minimize(loss)\n",
    "\n",
    "    # Initialize all tensorflow variables.\n",
    "    init = tf.global_variables_initializer()"
   ]
  },
  {
   "cell_type": "code",
   "execution_count": 17,
   "metadata": {},
   "outputs": [],
   "source": [
    "from sklearn.metrics import roc_auc_score\n",
    "\n",
    "def test_auc(ratings,sample_size=100):\n",
    "    \"\"\"\n",
    "    Calculate AUC for sample_size many randomly sampled users from the \n",
    "    test dataset and then return the average of these scores\n",
    "    \"\"\"\n",
    "    # Grab our user matrix U\n",
    "    user_vecs = get_variable(graph, session, 'user_factors')\n",
    "\n",
    "    # Grab our item matrix V\n",
    "    item_vecs = get_variable(graph, session, 'puzzle_factors')\n",
    "\n",
    "    # Grab our item bias\n",
    "    item_bi = get_variable(graph, session, 'item_bias').reshape(-1)\n",
    "    \n",
    "    auc = 0.0\n",
    "    n_users, n_items = ratings.shape\n",
    "    samples = np.random.choice(n_users,sample_size)\n",
    "    \n",
    "    #pbar = tqdm(total=sample_size)\n",
    "    \n",
    "    for i, row in enumerate(ratings[samples]):\n",
    "        index = samples[i]\n",
    "        scores = np.add(user_vecs[index].dot(item_vecs.T), item_bi)\n",
    "        true = np.zeros(n_items)\n",
    "        true[row.indices] = 1\n",
    "        auc += roc_auc_score(true, scores)\n",
    "        #pbar.update(1)\n",
    "        \n",
    "    #pbar.close()\n",
    "    auc /= sample_size\n",
    "    return auc\n",
    "\n",
    "#print(test_auc(X_test,500))"
   ]
  },
  {
   "cell_type": "code",
   "execution_count": 18,
   "metadata": {},
   "outputs": [
    {
     "data": {
      "application/vnd.jupyter.widget-view+json": {
       "model_id": "de19490a3b564c998f0e40cf4ec945da",
       "version_major": 2,
       "version_minor": 0
      },
      "text/plain": [
       "HBox(children=(IntProgress(value=0, max=1500), HTML(value='')))"
      ]
     },
     "metadata": {},
     "output_type": "display_data"
    },
    {
     "name": "stdout",
     "output_type": "stream",
     "text": [
      "Validation is: 0.5186277425034098\n",
      "Validation is: 0.5350330015933126\n",
      "Validation is: 0.5449922221055794\n",
      "Validation is: 0.5788513156423205\n",
      "Validation is: 0.5834940123227582\n",
      "Validation is: 0.6218297623118538\n",
      "Validation is: 0.6442632535677493\n",
      "Validation is: 0.7068139922903068\n",
      "Validation is: 0.7697405230638695\n",
      "Validation is: 0.7859997023890872\n",
      "Validation is: 0.814863536897201\n",
      "Validation is: 0.8584244618106522\n",
      "Validation is: 0.862792572077265\n",
      "Validation is: 0.8739392507618758\n",
      "Validation is: 0.872024726011817\n",
      "Validation is: 0.8772515048023625\n",
      "Validation is: 0.8730935988757981\n",
      "Validation is: 0.885215093890394\n",
      "Validation is: 0.889210220561361\n",
      "Validation is: 0.8933218168185247\n",
      "Validation is: 0.89959713171843\n",
      "Validation is: 0.8771737026586847\n",
      "Validation is: 0.8786651380415443\n",
      "Validation is: 0.88661360785651\n",
      "Validation is: 0.8965786196730267\n",
      "Validation is: 0.8972692838783974\n",
      "Validation is: 0.8893679207173268\n",
      "Validation is: 0.8923741345168337\n",
      "Validation is: 0.8920311870915532\n",
      "Validation is: 0.9026305926210079\n",
      "Validation is: 0.889110811789364\n",
      "Validation is: 0.894634909676162\n",
      "Validation is: 0.9016594047919694\n",
      "Validation is: 0.8873476431239062\n",
      "Validation is: 0.8934387563765201\n",
      "Validation is: 0.895153743434938\n",
      "Validation is: 0.9044296001362815\n",
      "Validation is: 0.8935690096680381\n",
      "Validation is: 0.8867711817154934\n",
      "Validation is: 0.8925730279591484\n",
      "Validation is: 0.8941041095082001\n",
      "Validation is: 0.8971146465776515\n",
      "Validation is: 0.8975963461542907\n",
      "Validation is: 0.9013343839918707\n",
      "Validation is: 0.9009194234125156\n",
      "Validation is: 0.8988366089525346\n",
      "Validation is: 0.9006052783463829\n",
      "Validation is: 0.8995685554041812\n",
      "Validation is: 0.904929409308819\n",
      "Validation is: 0.9063312814008166\n",
      "\n"
     ]
    },
    {
     "data": {
      "text/plain": [
       "'\\nscores = [] \\nfor pair in all_combs:\\n    #Set param 1 to value in comb\\n    num_factors = pair[0]\\n    #Set param 2 to value in comb\\n    samples = pair[1]\\n    sess = training_session()\\n    scores.append(test_auc(X_test,session=sess))\\n'"
      ]
     },
     "execution_count": 18,
     "metadata": {},
     "output_type": "execute_result"
    }
   ],
   "source": [
    "#------------------\n",
    "# GRAPH EXECUTION\n",
    "#------------------\n",
    "# Run the session. \n",
    "session = tf.Session(config=None, graph=graph)\n",
    "session.run(init)\n",
    "# This has noting to do with tensorflow but gives\n",
    "# us a nice progress bar for the training.\n",
    "progress = tqdm(total=batches*epochs)\n",
    "\n",
    "auc_data = []\n",
    "loss_data = []\n",
    "vals = []\n",
    "for _ in range(epochs):\n",
    "    for _ in range(batches):\n",
    "\n",
    "        # We want to sample one known and one unknown \n",
    "        # puzzle for each user. \n",
    "\n",
    "        # First we sample 15000 uniform indices.\n",
    "        idx = np.random.randint(low=0, high=len(uids), size=samples)\n",
    "\n",
    "        # We then grab the users matching those indices.\n",
    "        batch_u = uids[idx].reshape(-1, 1)\n",
    "\n",
    "        # Then the known items for those users.\n",
    "        batch_i = puzz_ids[idx].reshape(-1, 1)\n",
    "\n",
    "        # Lastly we randomly sample one unknown item for each user.\n",
    "        batch_j = np.random.randint(\n",
    "                low=0, high=len(puzzles), size=(samples, 1), dtype='int32')\n",
    "\n",
    "        # Feed our users, known and unknown items to\n",
    "        # our tensorflow graph. \n",
    "        feed_dict = { u: batch_u, i: batch_i, j: batch_j }\n",
    "\n",
    "        # We run the session.\n",
    "        _, l, auc = session.run([step, loss, u_auc], feed_dict)\n",
    "\n",
    "        \n",
    "    validation = test_auc(X_test)\n",
    "    auc_data.append(auc)\n",
    "    loss_data.append(l)\n",
    "    vals.append(validation)\n",
    "    print('Validation is: {}'.format(validation))\n",
    "    progress.update(batches)\n",
    "    progress.set_description('Loss: %.3f | AUC: %.3f' % (l, auc))\n",
    "    \n",
    "progress.close()\n",
    "'''\n",
    "scores = [] \n",
    "for pair in all_combs:\n",
    "    #Set param 1 to value in comb\n",
    "    num_factors = pair[0]\n",
    "    #Set param 2 to value in comb\n",
    "    samples = pair[1]\n",
    "    sess = training_session()\n",
    "    scores.append(test_auc(X_test,session=sess))\n",
    "'''\n",
    "#sess = training_session()\n",
    "#test_auc(X_test,session=sess)"
   ]
  },
  {
   "cell_type": "code",
   "execution_count": 23,
   "metadata": {},
   "outputs": [
    {
     "data": {
      "image/png": "[encoded data removed]",
      "text/plain": [
       "<Figure size 640x480 with 1 Axes>"
      ]
     },
     "metadata": {},
     "output_type": "display_data"
    }
   ],
   "source": [
    "import matplotlib.pyplot as plt\n",
    "from matplotlib.pyplot import figure\n",
    "\n",
    "colors = ['orange','red']\n",
    "labels = ['AUC','Validation']\n",
    "figure(figsize=(8, 6), dpi=80, facecolor='w', edgecolor='k')\n",
    "for index,data in enumerate((auc_data,vals)):\n",
    "    color = colors[index]\n",
    "    label = labels[index]\n",
    "    plt.plot(data,color=color,label=label)\n",
    "             \n",
    "plt.title('Training AUC and Validation')\n",
    "plt.legend(loc=2)\n",
    "#plt.savefig('../plots/presentation/training_validation_loss_bpr')\n",
    "plt.show()"
   ]
  },
  {
   "cell_type": "code",
   "execution_count": 20,
   "metadata": {},
   "outputs": [
    {
     "data": {
      "text/plain": [
       "'\\nreshaped = np.array(scores).reshape(4,4)\\nimport matplotlib.pyplot as plt\\n#grid = np.arange(0, len(all_embeddings)).reshape((len(param1_values), len(param2_values)))\\n\\nplt.figure(figsize=(6,6))\\nplt.imshow(reshaped)\\nplt.yticks(np.arange(0, len(param1_values)), [\"%.2f\" % d for d in param1_values])\\nplt.xticks(np.arange(0, len(param2_values)), [\"%d\" % d for d in param2_values])\\nplt.ylabel(\"Num of Latent Features\")\\nplt.xlabel(\"Puzzle sample size\")\\nplt.colorbar()\\nplt.show()\\n'"
      ]
     },
     "execution_count": 20,
     "metadata": {},
     "output_type": "execute_result"
    }
   ],
   "source": [
    "#Create heatmap for grid-search of hyperparameters\n",
    "'''\n",
    "reshaped = np.array(scores).reshape(4,4)\n",
    "import matplotlib.pyplot as plt\n",
    "#grid = np.arange(0, len(all_embeddings)).reshape((len(param1_values), len(param2_values)))\n",
    "\n",
    "plt.figure(figsize=(6,6))\n",
    "plt.imshow(reshaped)\n",
    "plt.yticks(np.arange(0, len(param1_values)), [\"%.2f\" % d for d in param1_values])\n",
    "plt.xticks(np.arange(0, len(param2_values)), [\"%d\" % d for d in param2_values])\n",
    "plt.ylabel(\"Num of Latent Features\")\n",
    "plt.xlabel(\"Puzzle sample size\")\n",
    "plt.colorbar()\n",
    "plt.show()\n",
    "'''"
   ]
  },
  {
   "cell_type": "code",
   "execution_count": 21,
   "metadata": {},
   "outputs": [
    {
     "data": {
      "text/html": [
       "<div>\n",
       "<style scoped>\n",
       "    .dataframe tbody tr th:only-of-type {\n",
       "        vertical-align: middle;\n",
       "    }\n",
       "\n",
       "    .dataframe tbody tr th {\n",
       "        vertical-align: top;\n",
       "    }\n",
       "\n",
       "    .dataframe thead th {\n",
       "        text-align: right;\n",
       "    }\n",
       "</style>\n",
       "<table border=\"1\" class=\"dataframe\">\n",
       "  <thead>\n",
       "    <tr style=\"text-align: right;\">\n",
       "      <th></th>\n",
       "      <th>tactics_problem_id</th>\n",
       "      <th>rating</th>\n",
       "      <th>rd</th>\n",
       "      <th>attempt_count</th>\n",
       "      <th>average_seconds</th>\n",
       "      <th>move_count</th>\n",
       "      <th>tags</th>\n",
       "      <th>pgn</th>\n",
       "      <th>tag</th>\n",
       "      <th>full</th>\n",
       "      <th>fen</th>\n",
       "    </tr>\n",
       "  </thead>\n",
       "  <tbody>\n",
       "    <tr>\n",
       "      <th>0</th>\n",
       "      <td>731</td>\n",
       "      <td>1569</td>\n",
       "      <td>44.96</td>\n",
       "      <td>53336</td>\n",
       "      <td>41</td>\n",
       "      <td>3</td>\n",
       "      <td>Attacking f7/f2,Attacking Castled King,Back Ra...</td>\n",
       "      <td>[Event \"?\"]\\n[Site \"?\"]\\n[Date \"????.??.??\"]\\n...</td>\n",
       "      <td>Attacking f7/f2</td>\n",
       "      <td>1. ... gxf6 2. Qxf8+ Kxf8 3. Bh6+ Kg8 4. Re8#</td>\n",
       "      <td>https://lichess.org/analysis/r1b2rk1/ppp2ppp/1...</td>\n",
       "    </tr>\n",
       "    <tr>\n",
       "      <th>1</th>\n",
       "      <td>732</td>\n",
       "      <td>1417</td>\n",
       "      <td>45.44</td>\n",
       "      <td>63725</td>\n",
       "      <td>26</td>\n",
       "      <td>2</td>\n",
       "      <td>Basic Checkmates,Decoy / Deflection,Mate in 2,...</td>\n",
       "      <td>[Event \"?\"]\\n[Site \"?\"]\\n[Date \"????.??.??\"]\\n...</td>\n",
       "      <td>Clearance Sacrifice</td>\n",
       "      <td>1. ... Rag8 2. Qxh7+ Rxh7 3. Rxg8#</td>\n",
       "      <td>https://lichess.org/analysis/r6k/1q1n1prp/p3pN...</td>\n",
       "    </tr>\n",
       "    <tr>\n",
       "      <th>2</th>\n",
       "      <td>738</td>\n",
       "      <td>2443</td>\n",
       "      <td>44.59</td>\n",
       "      <td>18115</td>\n",
       "      <td>54</td>\n",
       "      <td>3</td>\n",
       "      <td>Back Rank,Discovered Attack,Fork / Double Atta...</td>\n",
       "      <td>[Event \"?\"]\\n[Site \"?\"]\\n[Date \"????.??.??\"]\\n...</td>\n",
       "      <td>Back Rank</td>\n",
       "      <td>1. Kxf1 Nd2+ 2. Kg1 Re1+ 3. Kh2 Nf1+</td>\n",
       "      <td>https://lichess.org/analysis/3rr1k1/ppp2ppp/8/...</td>\n",
       "    </tr>\n",
       "    <tr>\n",
       "      <th>3</th>\n",
       "      <td>739</td>\n",
       "      <td>1795</td>\n",
       "      <td>44.97</td>\n",
       "      <td>41674</td>\n",
       "      <td>57</td>\n",
       "      <td>3</td>\n",
       "      <td>Discovered Attack,Mate in 3+,Mating Net,Cleara...</td>\n",
       "      <td>[Event \"?\"]\\n[Site \"?\"]\\n[Date \"????.??.??\"]\\n...</td>\n",
       "      <td>Double Check</td>\n",
       "      <td>1. ... Kf8 2. Qh8+ Ke7 3. Nf5+ exf5 4. Bc5#</td>\n",
       "      <td>https://lichess.org/analysis/3r2k1/pb1q1ppQ/1p...</td>\n",
       "    </tr>\n",
       "    <tr>\n",
       "      <th>4</th>\n",
       "      <td>740</td>\n",
       "      <td>2148</td>\n",
       "      <td>45.14</td>\n",
       "      <td>25701</td>\n",
       "      <td>88</td>\n",
       "      <td>5</td>\n",
       "      <td>Discovered Attack,Mate in 3+,Mating Net,Double...</td>\n",
       "      <td>[Event \"?\"]\\n[Site \"?\"]\\n[Date \"????.??.??\"]\\n...</td>\n",
       "      <td>Double Check</td>\n",
       "      <td>1. ... Kxd8 2. Nxe6+ Ke7 3. Bg5+ f6 4. Nd8+ Re...</td>\n",
       "      <td>https://lichess.org/analysis/3Qkb1r/pp3ppp/q3b...</td>\n",
       "    </tr>\n",
       "  </tbody>\n",
       "</table>\n",
       "</div>"
      ],
      "text/plain": [
       "   tactics_problem_id  rating     rd  attempt_count  average_seconds  \\\n",
       "0                 731    1569  44.96          53336               41   \n",
       "1                 732    1417  45.44          63725               26   \n",
       "2                 738    2443  44.59          18115               54   \n",
       "3                 739    1795  44.97          41674               57   \n",
       "4                 740    2148  45.14          25701               88   \n",
       "\n",
       "   move_count                                               tags  \\\n",
       "0           3  Attacking f7/f2,Attacking Castled King,Back Ra...   \n",
       "1           2  Basic Checkmates,Decoy / Deflection,Mate in 2,...   \n",
       "2           3  Back Rank,Discovered Attack,Fork / Double Atta...   \n",
       "3           3  Discovered Attack,Mate in 3+,Mating Net,Cleara...   \n",
       "4           5  Discovered Attack,Mate in 3+,Mating Net,Double...   \n",
       "\n",
       "                                                 pgn                  tag  \\\n",
       "0  [Event \"?\"]\\n[Site \"?\"]\\n[Date \"????.??.??\"]\\n...      Attacking f7/f2   \n",
       "1  [Event \"?\"]\\n[Site \"?\"]\\n[Date \"????.??.??\"]\\n...  Clearance Sacrifice   \n",
       "2  [Event \"?\"]\\n[Site \"?\"]\\n[Date \"????.??.??\"]\\n...            Back Rank   \n",
       "3  [Event \"?\"]\\n[Site \"?\"]\\n[Date \"????.??.??\"]\\n...         Double Check   \n",
       "4  [Event \"?\"]\\n[Site \"?\"]\\n[Date \"????.??.??\"]\\n...         Double Check   \n",
       "\n",
       "                                                full  \\\n",
       "0      1. ... gxf6 2. Qxf8+ Kxf8 3. Bh6+ Kg8 4. Re8#   \n",
       "1                 1. ... Rag8 2. Qxh7+ Rxh7 3. Rxg8#   \n",
       "2               1. Kxf1 Nd2+ 2. Kg1 Re1+ 3. Kh2 Nf1+   \n",
       "3        1. ... Kf8 2. Qh8+ Ke7 3. Nf5+ exf5 4. Bc5#   \n",
       "4  1. ... Kxd8 2. Nxe6+ Ke7 3. Bg5+ f6 4. Nd8+ Re...   \n",
       "\n",
       "                                                 fen  \n",
       "0  https://lichess.org/analysis/r1b2rk1/ppp2ppp/1...  \n",
       "1  https://lichess.org/analysis/r6k/1q1n1prp/p3pN...  \n",
       "2  https://lichess.org/analysis/3rr1k1/ppp2ppp/8/...  \n",
       "3  https://lichess.org/analysis/3r2k1/pb1q1ppQ/1p...  \n",
       "4  https://lichess.org/analysis/3Qkb1r/pp3ppp/q3b...  "
      ]
     },
     "execution_count": 21,
     "metadata": {},
     "output_type": "execute_result"
    }
   ],
   "source": [
    "puzzle_data = pd.read_csv('../important/tactics_problem_complete_data.csv')\n",
    "puzzle_data.head()"
   ]
  },
  {
   "cell_type": "code",
   "execution_count": 22,
   "metadata": {},
   "outputs": [],
   "source": [
    "item_lookup = pd.merge(item_lookup,puzzle_data,on='tactics_problem_id',how='inner')"
   ]
  },
  {
   "cell_type": "markdown",
   "metadata": {},
   "source": [
    "<h2>Get data ready for projector</h2>"
   ]
  },
  {
   "cell_type": "code",
   "execution_count": 24,
   "metadata": {},
   "outputs": [
    {
     "data": {
      "text/html": [
       "<div>\n",
       "<style scoped>\n",
       "    .dataframe tbody tr th:only-of-type {\n",
       "        vertical-align: middle;\n",
       "    }\n",
       "\n",
       "    .dataframe tbody tr th {\n",
       "        vertical-align: top;\n",
       "    }\n",
       "\n",
       "    .dataframe thead th {\n",
       "        text-align: right;\n",
       "    }\n",
       "</style>\n",
       "<table border=\"1\" class=\"dataframe\">\n",
       "  <thead>\n",
       "    <tr style=\"text-align: right;\">\n",
       "      <th></th>\n",
       "      <th>tactics_problem_id</th>\n",
       "      <th>puzzle_id</th>\n",
       "      <th>rating</th>\n",
       "      <th>rd</th>\n",
       "      <th>attempt_count</th>\n",
       "      <th>average_seconds</th>\n",
       "      <th>move_count</th>\n",
       "      <th>tags</th>\n",
       "      <th>pgn</th>\n",
       "      <th>tag</th>\n",
       "      <th>full</th>\n",
       "      <th>fen</th>\n",
       "    </tr>\n",
       "  </thead>\n",
       "  <tbody>\n",
       "    <tr>\n",
       "      <th>0</th>\n",
       "      <td>31142</td>\n",
       "      <td>2796</td>\n",
       "      <td>1074</td>\n",
       "      <td>45.42</td>\n",
       "      <td>64176</td>\n",
       "      <td>28</td>\n",
       "      <td>2</td>\n",
       "      <td>Back Rank,Decoy / Deflection,Remove the Defender</td>\n",
       "      <td>[Event \"?\"]\\n[Site \"Maribor\"]\\n[Date \"1967.??....</td>\n",
       "      <td>Back Rank</td>\n",
       "      <td>35. ... Qxb2 36. Rc8+ Rxc8 37. Qxb2</td>\n",
       "      <td>https://lichess.org/analysis/rr4k1/1q4p1/2Rp1n...</td>\n",
       "    </tr>\n",
       "    <tr>\n",
       "      <th>1</th>\n",
       "      <td>30498</td>\n",
       "      <td>2455</td>\n",
       "      <td>1633</td>\n",
       "      <td>45.01</td>\n",
       "      <td>48918</td>\n",
       "      <td>56</td>\n",
       "      <td>2</td>\n",
       "      <td>Defense,Endgame Tactics,Pawn Promotion,Simplif...</td>\n",
       "      <td>[Event \"?\"]\\n[Site \"op, Calcutta IND\"]\\n[Date ...</td>\n",
       "      <td>Simplification</td>\n",
       "      <td>48. f4 Bxf5 49. fxg5 Kd5</td>\n",
       "      <td>https://lichess.org/analysis/8/3b4/8/5Np1/2k4p...</td>\n",
       "    </tr>\n",
       "    <tr>\n",
       "      <th>2</th>\n",
       "      <td>27538</td>\n",
       "      <td>740</td>\n",
       "      <td>818</td>\n",
       "      <td>44.10</td>\n",
       "      <td>52292</td>\n",
       "      <td>59</td>\n",
       "      <td>2</td>\n",
       "      <td>Fork / Double Attack</td>\n",
       "      <td>[Event \"Online Chess\"]\\n[Site \"Chess.com\"]\\n[D...</td>\n",
       "      <td>Fork / Double Attack</td>\n",
       "      <td>8. ... c6 9. Bf4 Qxb2 10. Nc7+</td>\n",
       "      <td>https://lichess.org/analysis/rn2kb1r/ppp1pppp/...</td>\n",
       "    </tr>\n",
       "    <tr>\n",
       "      <th>3</th>\n",
       "      <td>29439</td>\n",
       "      <td>1855</td>\n",
       "      <td>733</td>\n",
       "      <td>41.93</td>\n",
       "      <td>44805</td>\n",
       "      <td>76</td>\n",
       "      <td>4</td>\n",
       "      <td>Decoy / Deflection,Remove the Defender</td>\n",
       "      <td>[Event \"?\"]\\n[Site \"Thessaloniki olm\"]\\n[Date ...</td>\n",
       "      <td>Remove the Defender</td>\n",
       "      <td>33. ... Kf8 34. Qh8+ Ke7 35. Re1+ Re6 36. Rxe6...</td>\n",
       "      <td>https://lichess.org/analysis/4r1k1/1q3ppQ/2r5/...</td>\n",
       "    </tr>\n",
       "    <tr>\n",
       "      <th>4</th>\n",
       "      <td>29064</td>\n",
       "      <td>1643</td>\n",
       "      <td>986</td>\n",
       "      <td>43.76</td>\n",
       "      <td>57201</td>\n",
       "      <td>45</td>\n",
       "      <td>2</td>\n",
       "      <td>Basic Checkmates,Mating Net,Sacrifice</td>\n",
       "      <td>[Event \"It (open)\"]\\n[Site \"Ljubljana (Sloveni...</td>\n",
       "      <td>Sacrifice</td>\n",
       "      <td>71. Qd8 Rxa2+ 72. Kxa2 Qa4+</td>\n",
       "      <td>https://lichess.org/analysis/8/4Q3/k1q5/5p2/r2...</td>\n",
       "    </tr>\n",
       "  </tbody>\n",
       "</table>\n",
       "</div>"
      ],
      "text/plain": [
       "   tactics_problem_id  puzzle_id  rating     rd  attempt_count  \\\n",
       "0               31142       2796    1074  45.42          64176   \n",
       "1               30498       2455    1633  45.01          48918   \n",
       "2               27538        740     818  44.10          52292   \n",
       "3               29439       1855     733  41.93          44805   \n",
       "4               29064       1643     986  43.76          57201   \n",
       "\n",
       "   average_seconds  move_count  \\\n",
       "0               28           2   \n",
       "1               56           2   \n",
       "2               59           2   \n",
       "3               76           4   \n",
       "4               45           2   \n",
       "\n",
       "                                                tags  \\\n",
       "0   Back Rank,Decoy / Deflection,Remove the Defender   \n",
       "1  Defense,Endgame Tactics,Pawn Promotion,Simplif...   \n",
       "2                               Fork / Double Attack   \n",
       "3             Decoy / Deflection,Remove the Defender   \n",
       "4              Basic Checkmates,Mating Net,Sacrifice   \n",
       "\n",
       "                                                 pgn                   tag  \\\n",
       "0  [Event \"?\"]\\n[Site \"Maribor\"]\\n[Date \"1967.??....             Back Rank   \n",
       "1  [Event \"?\"]\\n[Site \"op, Calcutta IND\"]\\n[Date ...        Simplification   \n",
       "2  [Event \"Online Chess\"]\\n[Site \"Chess.com\"]\\n[D...  Fork / Double Attack   \n",
       "3  [Event \"?\"]\\n[Site \"Thessaloniki olm\"]\\n[Date ...   Remove the Defender   \n",
       "4  [Event \"It (open)\"]\\n[Site \"Ljubljana (Sloveni...             Sacrifice   \n",
       "\n",
       "                                                full  \\\n",
       "0                35. ... Qxb2 36. Rc8+ Rxc8 37. Qxb2   \n",
       "1                           48. f4 Bxf5 49. fxg5 Kd5   \n",
       "2                     8. ... c6 9. Bf4 Qxb2 10. Nc7+   \n",
       "3  33. ... Kf8 34. Qh8+ Ke7 35. Re1+ Re6 36. Rxe6...   \n",
       "4                        71. Qd8 Rxa2+ 72. Kxa2 Qa4+   \n",
       "\n",
       "                                                 fen  \n",
       "0  https://lichess.org/analysis/rr4k1/1q4p1/2Rp1n...  \n",
       "1  https://lichess.org/analysis/8/3b4/8/5Np1/2k4p...  \n",
       "2  https://lichess.org/analysis/rn2kb1r/ppp1pppp/...  \n",
       "3  https://lichess.org/analysis/4r1k1/1q3ppQ/2r5/...  \n",
       "4  https://lichess.org/analysis/8/4Q3/k1q5/5p2/r2...  "
      ]
     },
     "execution_count": 24,
     "metadata": {},
     "output_type": "execute_result"
    }
   ],
   "source": [
    "item_lookup.head()"
   ]
  },
  {
   "cell_type": "code",
   "execution_count": null,
   "metadata": {},
   "outputs": [],
   "source": [
    "#Prepare the puzzle data for the projector\n",
    "\n",
    "#Merge the item_lookup table with the puzzle metadata\n",
    "item_meta = pd.merge(item_lookup,puzzle_data,on='tactics_problem_id')\n",
    "\n",
    "#Get the puzzle embeddings and join \n",
    "item_vecs = get_variable(graph, session, 'puzzle_factors')\n",
    "item_frame = pd.DataFrame(item_vecs)\n",
    "item_frame = item_frame.reindex(item_meta['puzzle_id'])\n",
    "item_frame = item_frame[item_frame.isnull() == False]\n",
    "\n",
    "item_frame.to_csv('../../ChessPuzzleEmbeddings/bpr_vecs_highacc.tsv',\n",
    "                 sep='\\t',\n",
    "                 index=False,\n",
    "                 header=False)\n",
    "\n",
    "item_meta.to_csv('../../ChessPuzzleEmbeddings/bpr_meta_highacc.tsv',\n",
    "                 sep='\\t',\n",
    "                 index=False,\n",
    "                 header=True,\n",
    "                 encoding='utf-8')"
   ]
  },
  {
   "cell_type": "code",
   "execution_count": 25,
   "metadata": {},
   "outputs": [],
   "source": [
    "user_meta = pd.merge(user_lookup,user_data,on='user_hash',how='inner')"
   ]
  },
  {
   "cell_type": "code",
   "execution_count": null,
   "metadata": {},
   "outputs": [],
   "source": [
    "user_vecs = get_variable(graph,session,'user_factors')\n",
    "user_frame = pd.DataFrame(user_vecs)\n",
    "user_frame = user_frame.reindex(user_meta['user_id'])\n",
    "user_frame = user_frame[user_frame.isnull() == False]\n",
    "\n",
    "user_frame.to_csv('bpr_user_vecs.tsv',\n",
    "                 sep='\\t',\n",
    "                 index=False,\n",
    "                 header=False)\n",
    "\n",
    "user_meta.to_csv('bpr_user_meta.tsv',\n",
    "                 sep='\\t',\n",
    "                 index=False,\n",
    "                 header=True,\n",
    "                 encoding='utf-8')"
   ]
  },
  {
   "cell_type": "code",
   "execution_count": null,
   "metadata": {},
   "outputs": [],
   "source": [
    "user_meta.head()"
   ]
  },
  {
   "cell_type": "markdown",
   "metadata": {},
   "source": [
    "<h2>Puzzle Recommendations</h2>"
   ]
  },
  {
   "cell_type": "code",
   "execution_count": 26,
   "metadata": {},
   "outputs": [
    {
     "data": {
      "text/html": [
       "<div>\n",
       "<style scoped>\n",
       "    .dataframe tbody tr th:only-of-type {\n",
       "        vertical-align: middle;\n",
       "    }\n",
       "\n",
       "    .dataframe tbody tr th {\n",
       "        vertical-align: top;\n",
       "    }\n",
       "\n",
       "    .dataframe thead th {\n",
       "        text-align: right;\n",
       "    }\n",
       "</style>\n",
       "<table border=\"1\" class=\"dataframe\">\n",
       "  <thead>\n",
       "    <tr style=\"text-align: right;\">\n",
       "      <th></th>\n",
       "      <th>tactics_problem_id</th>\n",
       "      <th>score</th>\n",
       "      <th>tags</th>\n",
       "      <th>rating</th>\n",
       "      <th>fen</th>\n",
       "      <th>full</th>\n",
       "    </tr>\n",
       "  </thead>\n",
       "  <tbody>\n",
       "    <tr>\n",
       "      <th>0</th>\n",
       "      <td>195038</td>\n",
       "      <td>4.908939</td>\n",
       "      <td>Decoy / Deflection,Fork / Double Attack,Mate i...</td>\n",
       "      <td>1283</td>\n",
       "      <td>https://lichess.org/analysis/1B2k3/p3b1p1/4p3/...</td>\n",
       "      <td>23. Bf4 Nf3+ 24. Rxf3 Qxg2#</td>\n",
       "    </tr>\n",
       "    <tr>\n",
       "      <th>1</th>\n",
       "      <td>90217</td>\n",
       "      <td>4.854404</td>\n",
       "      <td>Defense,Hanging Piece</td>\n",
       "      <td>805</td>\n",
       "      <td>https://lichess.org/analysis/2r1kb1r/p3pppp/np...</td>\n",
       "      <td>17. Nxd6+ Qxd6</td>\n",
       "    </tr>\n",
       "    <tr>\n",
       "      <th>2</th>\n",
       "      <td>104985</td>\n",
       "      <td>4.843050</td>\n",
       "      <td>Exchange Sacrifice,Hanging Piece,Vulnerable King</td>\n",
       "      <td>1414</td>\n",
       "      <td>https://lichess.org/analysis/8/1Q3p2/3qbk2/1P1...</td>\n",
       "      <td>36. Bf5 Qxe5</td>\n",
       "    </tr>\n",
       "    <tr>\n",
       "      <th>3</th>\n",
       "      <td>31142</td>\n",
       "      <td>4.746570</td>\n",
       "      <td>Back Rank,Decoy / Deflection,Remove the Defender</td>\n",
       "      <td>1074</td>\n",
       "      <td>https://lichess.org/analysis/rr4k1/1q4p1/2Rp1n...</td>\n",
       "      <td>35. ... Qxb2 36. Rc8+ Rxc8 37. Qxb2</td>\n",
       "    </tr>\n",
       "    <tr>\n",
       "      <th>4</th>\n",
       "      <td>34716</td>\n",
       "      <td>4.718121</td>\n",
       "      <td>Zwischenzug</td>\n",
       "      <td>829</td>\n",
       "      <td>https://lichess.org/analysis/r7/7k/8/3P4/1pp4P...</td>\n",
       "      <td>43. ... Ra2 44. Re7+ Kg6 45. Qxa2</td>\n",
       "    </tr>\n",
       "    <tr>\n",
       "      <th>5</th>\n",
       "      <td>49404</td>\n",
       "      <td>4.645564</td>\n",
       "      <td>Trapped Piece</td>\n",
       "      <td>1110</td>\n",
       "      <td>https://lichess.org/analysis/rnb1kbnr/ppp2ppp/...</td>\n",
       "      <td>7. ... Nc6 8. Bg5 Qxg5 9. Nxg5</td>\n",
       "    </tr>\n",
       "    <tr>\n",
       "      <th>6</th>\n",
       "      <td>111319</td>\n",
       "      <td>4.642885</td>\n",
       "      <td>Mate in 3+,Clearance Sacrifice</td>\n",
       "      <td>1188</td>\n",
       "      <td>https://lichess.org/analysis/r2qr1k1/pp1n3p/2p...</td>\n",
       "      <td>24. ... exd5 25. Rxg6+ hxg6 26. Qh8+ Kf7 27. Qg7#</td>\n",
       "    </tr>\n",
       "    <tr>\n",
       "      <th>7</th>\n",
       "      <td>28573</td>\n",
       "      <td>4.632152</td>\n",
       "      <td>Mate in 1,Pin</td>\n",
       "      <td>1423</td>\n",
       "      <td>https://lichess.org/analysis/r1b1k2N/ppp3pp/8/...</td>\n",
       "      <td>16. Kd2 Nf3#</td>\n",
       "    </tr>\n",
       "    <tr>\n",
       "      <th>8</th>\n",
       "      <td>35529</td>\n",
       "      <td>4.629028</td>\n",
       "      <td>Mating Net,Vulnerable King</td>\n",
       "      <td>1056</td>\n",
       "      <td>https://lichess.org/analysis/rnbq2kr/pp1p2b1/2...</td>\n",
       "      <td>14. ... Qf8 15. f7+</td>\n",
       "    </tr>\n",
       "    <tr>\n",
       "      <th>9</th>\n",
       "      <td>54978</td>\n",
       "      <td>4.601310</td>\n",
       "      <td>Mate in 1</td>\n",
       "      <td>980</td>\n",
       "      <td>https://lichess.org/analysis/B1b4r/3p4/p2P2R1/...</td>\n",
       "      <td>36. ... Ke5 37. Rf5#</td>\n",
       "    </tr>\n",
       "  </tbody>\n",
       "</table>\n",
       "</div>"
      ],
      "text/plain": [
       "   tactics_problem_id     score  \\\n",
       "0              195038  4.908939   \n",
       "1               90217  4.854404   \n",
       "2              104985  4.843050   \n",
       "3               31142  4.746570   \n",
       "4               34716  4.718121   \n",
       "5               49404  4.645564   \n",
       "6              111319  4.642885   \n",
       "7               28573  4.632152   \n",
       "8               35529  4.629028   \n",
       "9               54978  4.601310   \n",
       "\n",
       "                                                tags  rating  \\\n",
       "0  Decoy / Deflection,Fork / Double Attack,Mate i...    1283   \n",
       "1                              Defense,Hanging Piece     805   \n",
       "2   Exchange Sacrifice,Hanging Piece,Vulnerable King    1414   \n",
       "3   Back Rank,Decoy / Deflection,Remove the Defender    1074   \n",
       "4                                        Zwischenzug     829   \n",
       "5                                      Trapped Piece    1110   \n",
       "6                     Mate in 3+,Clearance Sacrifice    1188   \n",
       "7                                      Mate in 1,Pin    1423   \n",
       "8                         Mating Net,Vulnerable King    1056   \n",
       "9                                          Mate in 1     980   \n",
       "\n",
       "                                                 fen  \\\n",
       "0  https://lichess.org/analysis/1B2k3/p3b1p1/4p3/...   \n",
       "1  https://lichess.org/analysis/2r1kb1r/p3pppp/np...   \n",
       "2  https://lichess.org/analysis/8/1Q3p2/3qbk2/1P1...   \n",
       "3  https://lichess.org/analysis/rr4k1/1q4p1/2Rp1n...   \n",
       "4  https://lichess.org/analysis/r7/7k/8/3P4/1pp4P...   \n",
       "5  https://lichess.org/analysis/rnb1kbnr/ppp2ppp/...   \n",
       "6  https://lichess.org/analysis/r2qr1k1/pp1n3p/2p...   \n",
       "7  https://lichess.org/analysis/r1b1k2N/ppp3pp/8/...   \n",
       "8  https://lichess.org/analysis/rnbq2kr/pp1p2b1/2...   \n",
       "9  https://lichess.org/analysis/B1b4r/3p4/p2P2R1/...   \n",
       "\n",
       "                                                full  \n",
       "0                        23. Bf4 Nf3+ 24. Rxf3 Qxg2#  \n",
       "1                                     17. Nxd6+ Qxd6  \n",
       "2                                       36. Bf5 Qxe5  \n",
       "3                35. ... Qxb2 36. Rc8+ Rxc8 37. Qxb2  \n",
       "4                  43. ... Ra2 44. Re7+ Kg6 45. Qxa2  \n",
       "5                     7. ... Nc6 8. Bg5 Qxg5 9. Nxg5  \n",
       "6  24. ... exd5 25. Rxg6+ hxg6 26. Qh8+ Kf7 27. Qg7#  \n",
       "7                                       16. Kd2 Nf3#  \n",
       "8                                14. ... Qf8 15. f7+  \n",
       "9                               36. ... Ke5 37. Rf5#  "
      ]
     },
     "execution_count": 26,
     "metadata": {},
     "output_type": "execute_result"
    }
   ],
   "source": [
    "def find_similar_puzzles(puzzle=None, num_items=10):\n",
    "    \"\"\"Find puzzles similar to another puzzle based on the users that complete it.\n",
    "    Args:\n",
    "        puzzle (int): The ID of the puzzle we want to find similar puzzles for\n",
    "        num_items (int): How many similar puzzles we want to return.\n",
    "    Returns:\n",
    "        similar (pandas.DataFrame): DataFrame with num_items puzzles names and scores\n",
    "    \"\"\"\n",
    "\n",
    "    # Grab our User matrix U\n",
    "    user_vecs = get_variable(graph, session, 'user_factors')\n",
    "\n",
    "    # Grab our Item matrix V\n",
    "    item_vecs = get_variable(graph, session, 'puzzle_factors')\n",
    "\n",
    "    # Grab our item bias\n",
    "    item_bi = get_variable(graph, session, 'item_bias').reshape(-1)\n",
    "\n",
    "    # Get the item id for the puzzle\n",
    "    item_id = int(item_lookup[item_lookup.tactics_problem_id == puzzle]['puzzle_id'])\n",
    "\n",
    "    # Get the item vector for our item_id and transpose it.\n",
    "    item_vec = item_vecs[item_id].T\n",
    "\n",
    "    scores = np.add(item_vecs.dot(item_vec), item_bi).reshape(1,-1)[0]\n",
    "\n",
    "    # Get the indices for the top 10 scores\n",
    "    top_10 = np.argsort(scores)[::-1][:num_items]\n",
    "\n",
    "    # We then use our lookup table to grab the names of these indices\n",
    "    # and add it along with its score to a pandas dataframe.\n",
    "    puzzles, puzzle_scores = [], []\n",
    "    \n",
    "    for idx in top_10:\n",
    "        try:\n",
    "            puzzles.append(item_lookup.tactics_problem_id.loc[item_lookup.puzzle_id == idx].iloc[0])\n",
    "            puzzle_scores.append(scores[idx])\n",
    "        except:\n",
    "            pass\n",
    "    similar = pd.DataFrame({'tactics_problem_id': puzzles, 'score': puzzle_scores})\n",
    "    similar = pd.merge(similar,puzzle_data[['tactics_problem_id','tags','rating','fen','full']],on='tactics_problem_id',how='left')\n",
    "    return similar\n",
    "\n",
    "\n",
    "find_similar_puzzles(puzzle=31142)"
   ]
  },
  {
   "cell_type": "code",
   "execution_count": 29,
   "metadata": {},
   "outputs": [
    {
     "data": {
      "text/html": [
       "<div>\n",
       "<style scoped>\n",
       "    .dataframe tbody tr th:only-of-type {\n",
       "        vertical-align: middle;\n",
       "    }\n",
       "\n",
       "    .dataframe tbody tr th {\n",
       "        vertical-align: top;\n",
       "    }\n",
       "\n",
       "    .dataframe thead th {\n",
       "        text-align: right;\n",
       "    }\n",
       "</style>\n",
       "<table border=\"1\" class=\"dataframe\">\n",
       "  <thead>\n",
       "    <tr style=\"text-align: right;\">\n",
       "      <th></th>\n",
       "      <th>tactics_problem_id</th>\n",
       "      <th>score</th>\n",
       "      <th>tag</th>\n",
       "      <th>rating</th>\n",
       "      <th>fen</th>\n",
       "      <th>full</th>\n",
       "    </tr>\n",
       "  </thead>\n",
       "  <tbody>\n",
       "    <tr>\n",
       "      <th>0</th>\n",
       "      <td>124904</td>\n",
       "      <td>5.775882</td>\n",
       "      <td>Mate in 2</td>\n",
       "      <td>419</td>\n",
       "      <td>https://lichess.org/analysis/r1b1k2r/pppp2pp/8...</td>\n",
       "      <td>12. Rf5 Qxh2+ 13. Kf1 Qh1#</td>\n",
       "    </tr>\n",
       "    <tr>\n",
       "      <th>1</th>\n",
       "      <td>111941</td>\n",
       "      <td>5.764602</td>\n",
       "      <td>Mate in 2</td>\n",
       "      <td>400</td>\n",
       "      <td>https://lichess.org/analysis/r6k/pb2q3/npp1p1Q...</td>\n",
       "      <td>22. ... Qh7 23. Qf6+ Qg7 24. Qxg7#</td>\n",
       "    </tr>\n",
       "    <tr>\n",
       "      <th>2</th>\n",
       "      <td>87286</td>\n",
       "      <td>5.764546</td>\n",
       "      <td>Mate in 1</td>\n",
       "      <td>425</td>\n",
       "      <td>https://lichess.org/analysis/5r1k/6pp/7b/P2Q4/...</td>\n",
       "      <td>29. Kd1 Qd2#</td>\n",
       "    </tr>\n",
       "    <tr>\n",
       "      <th>3</th>\n",
       "      <td>149405</td>\n",
       "      <td>5.746862</td>\n",
       "      <td>Mate in 1</td>\n",
       "      <td>400</td>\n",
       "      <td>https://lichess.org/analysis/r5k1/2qb1ppp/p7/1...</td>\n",
       "      <td>19. Ng5 Qxh2#</td>\n",
       "    </tr>\n",
       "    <tr>\n",
       "      <th>4</th>\n",
       "      <td>82526</td>\n",
       "      <td>5.743651</td>\n",
       "      <td>Mate in 2</td>\n",
       "      <td>400</td>\n",
       "      <td>https://lichess.org/analysis/4rr1k/p1pq1p1n/2p...</td>\n",
       "      <td>26. ... Nf6 27. Qxf6+ Kh7 28. Qg7#</td>\n",
       "    </tr>\n",
       "    <tr>\n",
       "      <th>5</th>\n",
       "      <td>175390</td>\n",
       "      <td>5.732563</td>\n",
       "      <td>Mate in 1</td>\n",
       "      <td>400</td>\n",
       "      <td>https://lichess.org/analysis/r2q1rk1/3b1pp1/p3...</td>\n",
       "      <td>21. ... Nxf1 22. Qxg7#</td>\n",
       "    </tr>\n",
       "    <tr>\n",
       "      <th>6</th>\n",
       "      <td>71361</td>\n",
       "      <td>5.728631</td>\n",
       "      <td>Mate in 1</td>\n",
       "      <td>426</td>\n",
       "      <td>https://lichess.org/analysis/1Q4nr/5k2/p4b2/8/...</td>\n",
       "      <td>27. Kg1 Qh1#</td>\n",
       "    </tr>\n",
       "    <tr>\n",
       "      <th>7</th>\n",
       "      <td>82746</td>\n",
       "      <td>5.713660</td>\n",
       "      <td>Mate in 1</td>\n",
       "      <td>400</td>\n",
       "      <td>https://lichess.org/analysis/rn1qkb1r/ppp3pp/3...</td>\n",
       "      <td>8. ... c6 9. Qf7#</td>\n",
       "    </tr>\n",
       "    <tr>\n",
       "      <th>8</th>\n",
       "      <td>101507</td>\n",
       "      <td>5.704401</td>\n",
       "      <td>Mate in 2</td>\n",
       "      <td>407</td>\n",
       "      <td>https://lichess.org/analysis/6k1/p2r1ppp/1p1N4...</td>\n",
       "      <td>24. ... Re7 25. Qc8+ Re8 26. Qxe8#</td>\n",
       "    </tr>\n",
       "    <tr>\n",
       "      <th>9</th>\n",
       "      <td>71896</td>\n",
       "      <td>5.697987</td>\n",
       "      <td>Mate in 2</td>\n",
       "      <td>402</td>\n",
       "      <td>https://lichess.org/analysis/r2q1bkr/ppp1n2p/2...</td>\n",
       "      <td>9. ... Bg7 10. Qe6+ Kf8 11. Qf7#</td>\n",
       "    </tr>\n",
       "  </tbody>\n",
       "</table>\n",
       "</div>"
      ],
      "text/plain": [
       "   tactics_problem_id     score        tag  rating  \\\n",
       "0              124904  5.775882  Mate in 2     419   \n",
       "1              111941  5.764602  Mate in 2     400   \n",
       "2               87286  5.764546  Mate in 1     425   \n",
       "3              149405  5.746862  Mate in 1     400   \n",
       "4               82526  5.743651  Mate in 2     400   \n",
       "5              175390  5.732563  Mate in 1     400   \n",
       "6               71361  5.728631  Mate in 1     426   \n",
       "7               82746  5.713660  Mate in 1     400   \n",
       "8              101507  5.704401  Mate in 2     407   \n",
       "9               71896  5.697987  Mate in 2     402   \n",
       "\n",
       "                                                 fen  \\\n",
       "0  https://lichess.org/analysis/r1b1k2r/pppp2pp/8...   \n",
       "1  https://lichess.org/analysis/r6k/pb2q3/npp1p1Q...   \n",
       "2  https://lichess.org/analysis/5r1k/6pp/7b/P2Q4/...   \n",
       "3  https://lichess.org/analysis/r5k1/2qb1ppp/p7/1...   \n",
       "4  https://lichess.org/analysis/4rr1k/p1pq1p1n/2p...   \n",
       "5  https://lichess.org/analysis/r2q1rk1/3b1pp1/p3...   \n",
       "6  https://lichess.org/analysis/1Q4nr/5k2/p4b2/8/...   \n",
       "7  https://lichess.org/analysis/rn1qkb1r/ppp3pp/3...   \n",
       "8  https://lichess.org/analysis/6k1/p2r1ppp/1p1N4...   \n",
       "9  https://lichess.org/analysis/r2q1bkr/ppp1n2p/2...   \n",
       "\n",
       "                                 full  \n",
       "0          12. Rf5 Qxh2+ 13. Kf1 Qh1#  \n",
       "1  22. ... Qh7 23. Qf6+ Qg7 24. Qxg7#  \n",
       "2                        29. Kd1 Qd2#  \n",
       "3                       19. Ng5 Qxh2#  \n",
       "4  26. ... Nf6 27. Qxf6+ Kh7 28. Qg7#  \n",
       "5              21. ... Nxf1 22. Qxg7#  \n",
       "6                        27. Kg1 Qh1#  \n",
       "7                   8. ... c6 9. Qf7#  \n",
       "8  24. ... Re7 25. Qc8+ Re8 26. Qxe8#  \n",
       "9    9. ... Bg7 10. Qe6+ Kf8 11. Qf7#  "
      ]
     },
     "execution_count": 29,
     "metadata": {},
     "output_type": "execute_result"
    }
   ],
   "source": [
    "#---------------------\n",
    "# MAKE RECOMMENDATION\n",
    "#---------------------\n",
    "\n",
    "def make_recommendation(user_id=None, num_items=10):\n",
    "    \"\"\"Recommend items for a given user given a trained model\n",
    "    Args:\n",
    "        user_id (int): The id of the user we want to create recommendations for.\n",
    "        num_items (int): How many recommendations we want to return.\n",
    "    Returns:\n",
    "        recommendations (pandas.DataFrame): DataFrame with num_items artist names and scores\n",
    "    \"\"\"\n",
    "\n",
    "    # Grab our user matrix U\n",
    "    user_vecs = get_variable(graph, session, 'user_factors')\n",
    "\n",
    "    # Grab our item matrix V\n",
    "    item_vecs = get_variable(graph, session, 'puzzle_factors')\n",
    "\n",
    "    # Grab our item bias\n",
    "    item_bi = get_variable(graph, session, 'item_bias').reshape(-1)\n",
    "\n",
    "    # Calculate the score for our user for all items. \n",
    "    rec_vector = np.add(user_vecs[user_id, :].dot(item_vecs.T), item_bi)\n",
    "\n",
    "    # Grab the indices of the top puzzles\n",
    "    item_idx = np.argsort(rec_vector)[::-1][:num_items]\n",
    "\n",
    "    # Map the indices to artist names and add to dataframe along with scores.\n",
    "    puzzles, puzzle_scores = [], []\n",
    "\n",
    "    for idx in item_idx:\n",
    "        puzzles.append(item_lookup.tactics_problem_id.loc[item_lookup.puzzle_id == idx].iloc[0])\n",
    "        puzzle_scores.append(rec_vector[idx])\n",
    "\n",
    "    \n",
    "    recs = pd.DataFrame({'tactics_problem_id': puzzles, 'score': puzzle_scores})\n",
    "    recs = pd.merge(recs,puzzle_data[['tactics_problem_id','tag','rating','fen','full']],on='tactics_problem_id',how='left')\n",
    "    return recs\n",
    "\n",
    "#Sort user meta by rating\n",
    "user_meta.sort_values(by='ratingUser',inplace=True)\n",
    "#Get the reccomended puzzles for a low user\n",
    "lowuser = user_meta.iloc[1].user_id\n",
    "make_recommendation(user_id=lowuser)"
   ]
  },
  {
   "cell_type": "markdown",
   "metadata": {},
   "source": [
    "<h2>Find average differene in rating between target and reccomended puzzles</h2>"
   ]
  },
  {
   "cell_type": "code",
   "execution_count": 31,
   "metadata": {},
   "outputs": [
    {
     "data": {
      "application/vnd.jupyter.widget-view+json": {
       "model_id": "13eeacdf538149ee9fd372d7c38daf20",
       "version_major": 2,
       "version_minor": 0
      },
      "text/plain": [
       "HBox(children=(IntProgress(value=0, max=5000), HTML(value='')))"
      ]
     },
     "metadata": {},
     "output_type": "display_data"
    },
    {
     "name": "stdout",
     "output_type": "stream",
     "text": [
      "\n",
      "257.03824563492014\n",
      "425.43468735214196\n"
     ]
    }
   ],
   "source": [
    "#Get average absolute error in ratings between puzzle and top ten predictions\n",
    "def get_average_error(puzzle):\n",
    "    preds = find_similar_puzzles(puzzle)\n",
    "    given_rating = item_lookup.loc[item_lookup.tactics_problem_id == puzzle]['rating'].iloc[0]\n",
    "    preds['diff'] = abs(given_rating - preds['rating'])\n",
    "    average = preds['diff'].agg('mean')\n",
    "    return average\n",
    "\n",
    "#Get average absolute difference for 10 random puzzles\n",
    "def get_rand_average(puzzle):\n",
    "    indices = np.random.choice(item_lookup.index,10)\n",
    "    puzzles = item_lookup.iloc[indices]\n",
    "    given_rating = item_lookup.loc[item_lookup.tactics_problem_id == puzzle]['rating'].iloc[0]\n",
    "    diff = abs(given_rating - puzzles['rating'])\n",
    "    return diff.agg('mean')\n",
    "\n",
    "num_samples = 5000\n",
    "puzzles = np.random.choice(item_lookup['tactics_problem_id'],num_samples)\n",
    "averages = []\n",
    "for puzzle in tqdm(puzzles):\n",
    "    averages.append(get_average_error(puzzle))\n",
    "\n",
    "print(sum(averages)/len(averages))\n",
    "print(np.var(averages)**0.5)"
   ]
  },
  {
   "cell_type": "code",
   "execution_count": 32,
   "metadata": {},
   "outputs": [
    {
     "data": {
      "application/vnd.jupyter.widget-view+json": {
       "model_id": "9071e3d5d5b949c8b212e9fb4814866f",
       "version_major": 2,
       "version_minor": 0
      },
      "text/plain": [
       "HBox(children=(IntProgress(value=0, max=5000), HTML(value='')))"
      ]
     },
     "metadata": {},
     "output_type": "display_data"
    },
    {
     "name": "stdout",
     "output_type": "stream",
     "text": [
      "\n",
      "737.4899399999997\n",
      "365.58954183728565\n"
     ]
    }
   ],
   "source": [
    "rand_averages = []\n",
    "for puzzle in tqdm(puzzles):\n",
    "    rand_averages.append(get_rand_average(puzzle))\n",
    "    \n",
    "print(sum(rand_averages)/len(rand_averages))\n",
    "print(np.var(rand_averages)**0.5)"
   ]
  },
  {
   "cell_type": "markdown",
   "metadata": {},
   "source": [
    "<h2>Success Prediction Test</h2> "
   ]
  },
  {
   "cell_type": "code",
   "execution_count": 33,
   "metadata": {},
   "outputs": [
    {
     "data": {
      "text/plain": [
       "True"
      ]
     },
     "execution_count": 33,
     "metadata": {},
     "output_type": "execute_result"
    }
   ],
   "source": [
    "def higher_score(user,puzzle_1,puzzle_2):\n",
    "    '''\n",
    "    Returns true if the puzzle_1 has a higher score than puzzle_2, false if not\n",
    "    '''\n",
    "    \n",
    "    #Get user ID from username\n",
    "    user_id = user_lookup.loc[user_lookup.user_hash == user]['user_id']\n",
    "    \n",
    "    #Get puzzle_IDs from tactics_problem_ids\n",
    "    id_1 = item_lookup.loc[item_lookup.tactics_problem_id == puzzle_1]['puzzle_id'].iloc[0]\n",
    "    id_2 = item_lookup.loc[item_lookup.tactics_problem_id == puzzle_2]['puzzle_id'].iloc[0]\n",
    "    \n",
    "    \n",
    "    # Grab our user matrix U\n",
    "    user_vecs = get_variable(graph, session, 'user_factors')\n",
    "\n",
    "    # Grab our item matrix V\n",
    "    item_vecs = get_variable(graph, session, 'puzzle_factors')\n",
    "\n",
    "    # Grab our item bias\n",
    "    item_bi = get_variable(graph, session, 'item_bias').reshape(-1)\n",
    "\n",
    "    # Calculate the score for our user for all items. \n",
    "    rec_vector = np.add(user_vecs[user_id, :].dot(item_vecs.T), item_bi)[0]\n",
    "    # Grab the indices of the top puzzles\n",
    "    item_idx = np.argsort(rec_vector)[::-1]\n",
    "    \n",
    "    return rec_vector[id_1] > rec_vector[id_2]\n",
    "\n",
    "higher_score('2e3f96438c113cb00b724c2b0b5399ed66bc7451207a63a3b45ca40b4b37d700',32910,33634)"
   ]
  },
  {
   "cell_type": "code",
   "execution_count": 34,
   "metadata": {},
   "outputs": [],
   "source": [
    "pred_data = pd.read_csv('prediction_data_same_rating_shuffled.csv')"
   ]
  },
  {
   "cell_type": "code",
   "execution_count": 35,
   "metadata": {},
   "outputs": [
    {
     "data": {
      "text/plain": [
       "(161828, 10)"
      ]
     },
     "execution_count": 35,
     "metadata": {},
     "output_type": "execute_result"
    }
   ],
   "source": [
    "pred_data.shape"
   ]
  },
  {
   "cell_type": "code",
   "execution_count": 42,
   "metadata": {},
   "outputs": [
    {
     "data": {
      "application/vnd.jupyter.widget-view+json": {
       "model_id": "cb668c268388429597e0390df5be0f7b",
       "version_major": 2,
       "version_minor": 0
      },
      "text/plain": [
       "HBox(children=(IntProgress(value=0, max=161828), HTML(value='')))"
      ]
     },
     "metadata": {},
     "output_type": "display_data"
    },
    {
     "name": "stdout",
     "output_type": "stream",
     "text": [
      "\n",
      "Accuracy is: 0.5423412512049831\n"
     ]
    }
   ],
   "source": [
    "sample_size = 10000\n",
    "\n",
    "def pass_prediction(row):\n",
    "    pred = 1\n",
    "    puzzle_1_closer = higher_score(row['user_hash'],row['puzzle_1'],row['puzzle_2'])\n",
    "    \n",
    "    if puzzle_1_closer:\n",
    "        pred = 0\n",
    "        \n",
    "    if pred == row['passed_puzzle']:\n",
    "        return 1\n",
    "#Get predictions on sampled data\n",
    "#indices = np.random.choice(pred_data.index,sample_size)\n",
    "#ans = pred_data.iloc[indices].progress_apply(lambda x: pass_prediction(x),axis=1)\n",
    "#print('Accuracy is: {}'.format(ans.fillna(0).sum()/sample_size))\n",
    "#Get predictions on whole dataset\n",
    "ans = pred_data.progress_apply(lambda x: pass_prediction(x),axis=1)\n",
    "print('Accuracy is: {}'.format(ans.fillna(0).sum()/pred_data.shape[0]))"
   ]
  },
  {
   "cell_type": "code",
   "execution_count": 39,
   "metadata": {},
   "outputs": [
    {
     "data": {
      "text/plain": [
       "1000"
      ]
     },
     "execution_count": 39,
     "metadata": {},
     "output_type": "execute_result"
    }
   ],
   "source": [
    "sample_size"
   ]
  },
  {
   "cell_type": "code",
   "execution_count": 41,
   "metadata": {},
   "outputs": [
    {
     "data": {
      "application/vnd.jupyter.widget-view+json": {
       "model_id": "e2bf409a703e4bd08e900a15f6f4cc4a",
       "version_major": 2,
       "version_minor": 0
      },
      "text/plain": [
       "HBox(children=(IntProgress(value=0, max=10000), HTML(value='')))"
      ]
     },
     "metadata": {},
     "output_type": "display_data"
    },
    {
     "name": "stdout",
     "output_type": "stream",
     "text": [
      "\n",
      "0.5486\n"
     ]
    }
   ],
   "source": [
    "indices = np.random.choice(pred_data.index,sample_size)\n",
    "ans = pred_data.iloc[indices].progress_apply(lambda x: pass_prediction(x),axis=1)\n",
    "print(ans.fillna(0).sum()/sample_size)"
   ]
  }
 ],
 "metadata": {
  "kernelspec": {
   "display_name": "Python 3",
   "language": "python",
   "name": "python3"
  },
  "language_info": {
   "codemirror_mode": {
    "name": "ipython",
    "version": 3
   },
   "file_extension": ".py",
   "mimetype": "text/x-python",
   "name": "python",
   "nbconvert_exporter": "python",
   "pygments_lexer": "ipython3",
   "version": "3.7.1"
  }
 },
 "nbformat": 4,
 "nbformat_minor": 2
}
