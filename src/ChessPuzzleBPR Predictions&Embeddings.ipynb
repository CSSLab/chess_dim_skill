{
 "cells": [
  {
   "cell_type": "code",
   "execution_count": 3,
   "metadata": {},
   "outputs": [],
   "source": [
    "#Code for this notebook came from here: \n",
    "#https://medium.com/radon-dev/implicit-bayesian-personalized-ranking-in-tensorflow-b4dfa733c478\n",
    "\n",
    "import tensorflow as tf\n",
    "import pandas as pd\n",
    "import numpy as np\n",
    "from scipy.sparse import csr_matrix,dok_matrix\n",
    "from math import ceil\n",
    "\n",
    "from tqdm import tqdm_notebook as tqdm"
   ]
  },
  {
   "cell_type": "code",
   "execution_count": 4,
   "metadata": {},
   "outputs": [
    {
     "data": {
      "application/vnd.jupyter.widget-view+json": {
       "model_id": "8f703424a80346f9bb819ac4ee0e26d3",
       "version_major": 2,
       "version_minor": 0
      },
      "text/plain": [
       "HBox(children=(IntProgress(value=1, bar_style='info', max=1), HTML(value='')))"
      ]
     },
     "metadata": {},
     "output_type": "display_data"
    },
    {
     "name": "stdout",
     "output_type": "stream",
     "text": [
      "\n"
     ]
    }
   ],
   "source": [
    "tqdm().pandas()"
   ]
  },
  {
   "cell_type": "code",
   "execution_count": 77,
   "metadata": {},
   "outputs": [],
   "source": [
    "df = pd.read_csv('/w/225/1/chess/tactics/glicko_user_tactics_problem.csv_00')"
   ]
  },
  {
   "cell_type": "code",
   "execution_count": 83,
   "metadata": {},
   "outputs": [],
   "source": [
    "user_data = df.groupby('user_hash')[['ratingUser','userGamesPlayed']].max()"
   ]
  },
  {
   "cell_type": "code",
   "execution_count": 89,
   "metadata": {},
   "outputs": [
    {
     "data": {
      "text/plain": [
       "(30265, 2)"
      ]
     },
     "execution_count": 89,
     "metadata": {},
     "output_type": "execute_result"
    }
   ],
   "source": [
    "user_data.shape"
   ]
  },
  {
   "cell_type": "code",
   "execution_count": 79,
   "metadata": {},
   "outputs": [],
   "source": [
    "#Filter for palyers that have played at least 1000 games\n",
    "df = df.loc[df['userGamesPlayed'] >= 1000]\n",
    "#Filter to get only successful attempts\n",
    "df = df.loc[df['is_passed'] == 1]"
   ]
  },
  {
   "cell_type": "code",
   "execution_count": 7,
   "metadata": {},
   "outputs": [],
   "source": [
    "#Filter out unnecessary columns\n",
    "df = df[['user_hash','tactics_problem_id','is_passed']]\n",
    "#Replace all missed attempt values with a -1 as to avoid confusion when creating sparse matrix\n",
    "#df['is_passed'] = df['is_passed'].replace(0, -1,regex=True)\n",
    "#Convert user_hashes and tactics_problem_id's to numerical category codes\n",
    "df['user_id'] = df['user_hash'].astype(\"category\").cat.codes\n",
    "df['puzzle_id'] = df['tactics_problem_id'].astype(\"category\").cat.codes\n",
    "#Create lookup tables for user ID's and puzzle ID's for later reference\n",
    "user_lookup = df[['user_id', 'user_hash']].drop_duplicates()\n",
    "user_lookup['user_id'] = user_lookup.user_id\n",
    "item_lookup = df[['tactics_problem_id', 'puzzle_id']].drop_duplicates()\n",
    "df = df.drop('user_hash',axis=1)\n",
    "df = df.drop('tactics_problem_id',axis=1)"
   ]
  },
  {
   "cell_type": "code",
   "execution_count": 8,
   "metadata": {},
   "outputs": [],
   "source": [
    "#Get list of unique users and puzzles\n",
    "users = list(np.sort(df.user_id.unique()))\n",
    "puzzles = list(np.sort(df.puzzle_id.unique()))\n",
    "#Convert all the attempt values to a list\n",
    "is_passed = list(df.is_passed)"
   ]
  },
  {
   "cell_type": "code",
   "execution_count": 9,
   "metadata": {},
   "outputs": [],
   "source": [
    "# Get the rows and columns for our new matrix\n",
    "rows = df.user_id.astype(float)\n",
    "cols = df.puzzle_id.astype(float)\n",
    "# Contruct a sparse matrix for our users and items containing is_passed values\n",
    "X = csr_matrix((is_passed, (rows, cols)), shape=(len(users), len(puzzles)))"
   ]
  },
  {
   "cell_type": "code",
   "execution_count": 10,
   "metadata": {},
   "outputs": [],
   "source": [
    "def train_test_split(ratings,test_size=0.2,seed = 1352):\n",
    "    assert test_size < 1.0 and test_size > 0.0\n",
    "\n",
    "    # Dictionary Of Keys based sparse matrix is more efficient\n",
    "    # for constructing sparse matrices incrementally compared with csr_matrix\n",
    "    train = ratings.copy().todok()\n",
    "    test = dok_matrix(train.shape)\n",
    "    \n",
    "    # for all the users assign randomly chosen interactions\n",
    "    # to the test and assign those interactions to zero in the training;\n",
    "    # when computing the interactions to go into the test set, \n",
    "    # remember to round up the numbers (e.g. a user has 4 ratings, if the\n",
    "    # test_size is 0.2, then 0.8 ratings will go to test, thus we need to\n",
    "    # round up to ensure the test set gets at least 1 rating)\n",
    "    rstate = np.random.RandomState(seed)\n",
    "    for u in tqdm(range(ratings.shape[0])):\n",
    "        split_index = ratings[u].indices\n",
    "        n_splits = ceil(test_size * split_index.shape[0])\n",
    "        test_index = rstate.choice(split_index, size = n_splits, replace = False)\n",
    "        test[u, test_index] = ratings[u, test_index]\n",
    "        train[u, test_index] = 0\n",
    "    \n",
    "    train, test = train.tocsr(), test.tocsr()\n",
    "    return train, test"
   ]
  },
  {
   "cell_type": "code",
   "execution_count": 11,
   "metadata": {},
   "outputs": [
    {
     "data": {
      "application/vnd.jupyter.widget-view+json": {
       "model_id": "b29273dd7bb74051af091eb27f13b029",
       "version_major": 2,
       "version_minor": 0
      },
      "text/plain": [
       "HBox(children=(IntProgress(value=0, max=30265), HTML(value='')))"
      ]
     },
     "metadata": {},
     "output_type": "display_data"
    },
    {
     "name": "stdout",
     "output_type": "stream",
     "text": [
      "\n"
     ]
    }
   ],
   "source": [
    "X_train, X_test = train_test_split(X, test_size = 0.2, seed = 1234)\n",
    "#Get Row and column values for attempted puzzles and the users that did them\n",
    "uids, puzz_ids = X_train.nonzero()\n",
    "#Get row and column values for attemptd puzzles in the test set\n",
    "test_uids, test_puzz_ids = X_test.nonzero()"
   ]
  },
  {
   "cell_type": "code",
   "execution_count": 12,
   "metadata": {},
   "outputs": [
    {
     "name": "stdout",
     "output_type": "stream",
     "text": [
      "23671273\n",
      "5933013\n"
     ]
    }
   ],
   "source": [
    "print(len(uids))\n",
    "print(len(test_uids))"
   ]
  },
  {
   "cell_type": "code",
   "execution_count": 13,
   "metadata": {},
   "outputs": [],
   "source": [
    "#-------------\n",
    "# HYPERPARAMS\n",
    "#-------------\n",
    "\n",
    "epochs = 50\n",
    "batches = 30\n",
    "num_factors = 64 # Number of latent features\n",
    "\n",
    "# Independent lambda regularization values \n",
    "# for user, items and bias.\n",
    "lambda_user = 0.0000001\n",
    "lambda_item = 0.0000001\n",
    "lambda_bias = 0.0000001\n",
    "\n",
    "# Our learning rate \n",
    "lr = 0.005\n",
    "\n",
    "# How many (u,i,j) triplets we sample for each batch\n",
    "samples = 15000"
   ]
  },
  {
   "cell_type": "code",
   "execution_count": 14,
   "metadata": {},
   "outputs": [],
   "source": [
    "#-------------------------\n",
    "# TENSORFLOW GRAPH\n",
    "#-------------------------\n",
    "\n",
    "# Set up our Tensorflow graph\n",
    "graph = tf.Graph()\n",
    "\n",
    "def init_variable(size, dim, name=None):\n",
    "    '''\n",
    "    Helper function to initialize a new variable with\n",
    "    uniform random values.\n",
    "    '''\n",
    "    std = np.sqrt(2 / dim)\n",
    "    return tf.Variable(tf.random_uniform([size, dim], -std, std), name=name)\n",
    "\n",
    "\n",
    "def embed(inputs, size, dim, name=None):\n",
    "    '''\n",
    "    Helper function to get a Tensorflow variable and create\n",
    "    an embedding lookup to map our user and item\n",
    "    indices to vectors.\n",
    "    '''\n",
    "    emb = init_variable(size, dim, name)\n",
    "    return tf.nn.embedding_lookup(emb, inputs)\n",
    "\n",
    "\n",
    "def get_variable(graph, session, name):\n",
    "    '''\n",
    "    Helper function to get the value of a\n",
    "    Tensorflow variable by name.\n",
    "    '''\n",
    "    v = graph.get_operation_by_name(name)\n",
    "    v = v.values()[0]\n",
    "    v = v.eval(session=session)\n",
    "    return v"
   ]
  },
  {
   "cell_type": "code",
   "execution_count": 15,
   "metadata": {},
   "outputs": [
    {
     "name": "stdout",
     "output_type": "stream",
     "text": [
      "WARNING:tensorflow:From <ipython-input-15-b6868206d7fd>:44: to_float (from tensorflow.python.ops.math_ops) is deprecated and will be removed in a future version.\n",
      "Instructions for updating:\n",
      "Use `tf.cast` instead.\n"
     ]
    }
   ],
   "source": [
    "with graph.as_default():\n",
    "    '''\n",
    "    Loss function: \n",
    "    -SUM ln σ(xui - xuj) + λ(w1)**2 + λ(w2)**2 + λ(w3)**2 ...\n",
    "    ln = the natural log\n",
    "    σ(xuij) = the sigmoid function of xuij.\n",
    "    λ = lambda regularization value.\n",
    "    ||W||**2 = the squared L2 norm of our model parameters.\n",
    "    \n",
    "    '''\n",
    "\n",
    "    # Input into our model, in this case our user (u),\n",
    "    # known item (i) an unknown item (j) triplets.\n",
    "    u = tf.placeholder(tf.int32, shape=(None, 1))\n",
    "    i = tf.placeholder(tf.int32, shape=(None, 1))\n",
    "    j = tf.placeholder(tf.int32, shape=(None, 1))\n",
    "\n",
    "    # User feature embedding\n",
    "    u_factors = embed(u, len(users), num_factors, 'user_factors') # U matrix\n",
    "\n",
    "    # Known and unknown item embeddings\n",
    "    item_factors = init_variable(len(puzzles), num_factors, \"puzzle_factors\") # V matrix\n",
    "    i_factors = tf.nn.embedding_lookup(item_factors, i)\n",
    "    j_factors = tf.nn.embedding_lookup(item_factors, j)\n",
    "\n",
    "    # i and j bias embeddings.\n",
    "    item_bias = init_variable(len(puzzles), 1, \"item_bias\")\n",
    "    i_bias = tf.nn.embedding_lookup(item_bias, i)\n",
    "    i_bias = tf.reshape(i_bias, [-1, 1])\n",
    "    j_bias = tf.nn.embedding_lookup(item_bias, j)\n",
    "    j_bias = tf.reshape(j_bias, [-1, 1])\n",
    "\n",
    "    # Calculate the dot product + bias for known and unknown\n",
    "    # item to get xui and xuj.\n",
    "    xui = i_bias + tf.reduce_sum(u_factors * i_factors, axis=2)\n",
    "    xuj = j_bias + tf.reduce_sum(u_factors * j_factors, axis=2)\n",
    "\n",
    "    # We calculate xuij.\n",
    "    xuij = xui - xuj\n",
    "\n",
    "    # Calculate the mean AUC (area under curve).\n",
    "    # if xuij is greater than 0, that means that \n",
    "    # xui is greater than xuj (and thats what we want).\n",
    "    u_auc = tf.reduce_mean(tf.to_float(xuij > 0))\n",
    "\n",
    "    # Output the AUC value to tensorboard for monitoring.\n",
    "    tf.summary.scalar('auc', u_auc)\n",
    "\n",
    "    # Calculate the squared L2 norm ||W||**2 multiplied by λ.\n",
    "    l2_norm = tf.add_n([\n",
    "        lambda_user * tf.reduce_sum(tf.multiply(u_factors, u_factors)),\n",
    "        lambda_item * tf.reduce_sum(tf.multiply(i_factors, i_factors)),\n",
    "        lambda_item * tf.reduce_sum(tf.multiply(j_factors, j_factors)),\n",
    "        lambda_bias * tf.reduce_sum(tf.multiply(i_bias, i_bias)),\n",
    "        lambda_bias * tf.reduce_sum(tf.multiply(j_bias, j_bias))\n",
    "        ])\n",
    "\n",
    "    # Calculate the loss as ||W||**2 - ln σ(Xuij)\n",
    "    #loss = l2_norm - tf.reduce_mean(tf.log(tf.sigmoid(xuij)))\n",
    "    loss = -tf.reduce_mean(tf.log(tf.sigmoid(xuij))) + l2_norm\n",
    "    \n",
    "    # Train using the Adam optimizer to minimize \n",
    "    # our loss function.\n",
    "    opt = tf.train.AdamOptimizer(learning_rate=lr)\n",
    "    step = opt.minimize(loss)\n",
    "\n",
    "    # Initialize all tensorflow variables.\n",
    "    init = tf.global_variables_initializer()"
   ]
  },
  {
   "cell_type": "code",
   "execution_count": 35,
   "metadata": {},
   "outputs": [
    {
     "name": "stdout",
     "output_type": "stream",
     "text": [
      "[ 12  56 100 144]\n",
      "[  100  5066 10033 15000]\n"
     ]
    }
   ],
   "source": [
    "#Set up range of hyperparamters to try for tuning\n",
    "param1_values = np.linspace(12, 144, 4).astype('int')\n",
    "param2_values = np.linspace(100, 15000, 4).astype('int')\n",
    "\n",
    "print(param1_values)\n",
    "print(param2_values)\n",
    "\n",
    "all_combs = [(p1, p2) for p1 in param1_values for p2 in param2_values]"
   ]
  },
  {
   "cell_type": "code",
   "execution_count": 16,
   "metadata": {},
   "outputs": [
    {
     "data": {
      "application/vnd.jupyter.widget-view+json": {
       "model_id": "5b54f9d0c47b4d909218e16a19dc19c0",
       "version_major": 2,
       "version_minor": 0
      },
      "text/plain": [
       "HBox(children=(IntProgress(value=0, max=1500), HTML(value='')))"
      ]
     },
     "metadata": {},
     "output_type": "display_data"
    },
    {
     "data": {
      "text/plain": [
       "'\\nscores = [] \\nfor pair in all_combs:\\n    #Set param 1 to value in comb\\n    num_factors = pair[0]\\n    #Set param 2 to value in comb\\n    samples = pair[1]\\n    sess = training_session()\\n    scores.append(test_auc(X_test,session=sess))\\n'"
      ]
     },
     "execution_count": 16,
     "metadata": {},
     "output_type": "execute_result"
    }
   ],
   "source": [
    "#------------------\n",
    "# GRAPH EXECUTION\n",
    "#------------------\n",
    "# Run the session. \n",
    "session = tf.Session(config=None, graph=graph)\n",
    "session.run(init)\n",
    "# This has noting to do with tensorflow but gives\n",
    "# us a nice progress bar for the training.\n",
    "progress = tqdm(total=batches*epochs)\n",
    "\n",
    "for _ in range(epochs):\n",
    "    for _ in range(batches):\n",
    "\n",
    "        # We want to sample one known and one unknown \n",
    "        # puzzle for each user. \n",
    "\n",
    "        # First we sample 15000 uniform indices.\n",
    "        idx = np.random.randint(low=0, high=len(uids), size=samples)\n",
    "\n",
    "        # We then grab the users matching those indices.\n",
    "        batch_u = uids[idx].reshape(-1, 1)\n",
    "\n",
    "        # Then the known items for those users.\n",
    "        batch_i = puzz_ids[idx].reshape(-1, 1)\n",
    "\n",
    "        # Lastly we randomly sample one unknown item for each user.\n",
    "        batch_j = np.random.randint(\n",
    "                low=0, high=len(puzzles), size=(samples, 1), dtype='int32')\n",
    "\n",
    "        # Feed our users, known and unknown items to\n",
    "        # our tensorflow graph. \n",
    "        feed_dict = { u: batch_u, i: batch_i, j: batch_j }\n",
    "\n",
    "        # We run the session.\n",
    "        _, l, auc = session.run([step, loss, u_auc], feed_dict)\n",
    "\n",
    "    progress.update(batches)\n",
    "    progress.set_description('Loss: %.3f | AUC: %.3f' % (l, auc))\n",
    "progress.close()\n",
    "'''\n",
    "scores = [] \n",
    "for pair in all_combs:\n",
    "    #Set param 1 to value in comb\n",
    "    num_factors = pair[0]\n",
    "    #Set param 2 to value in comb\n",
    "    samples = pair[1]\n",
    "    sess = training_session()\n",
    "    scores.append(test_auc(X_test,session=sess))\n",
    "'''\n",
    "#sess = training_session()\n",
    "#test_auc(X_test,session=sess)"
   ]
  },
  {
   "cell_type": "code",
   "execution_count": 76,
   "metadata": {},
   "outputs": [
    {
     "data": {
      "application/vnd.jupyter.widget-view+json": {
       "model_id": "4d649e7b6e594f2a87f66ca27a4ea631",
       "version_major": 2,
       "version_minor": 0
      },
      "text/plain": [
       "HBox(children=(IntProgress(value=0, max=500), HTML(value='')))"
      ]
     },
     "metadata": {},
     "output_type": "display_data"
    },
    {
     "name": "stdout",
     "output_type": "stream",
     "text": [
      "0.9008145091311547\n"
     ]
    }
   ],
   "source": [
    "from sklearn.metrics import roc_auc_score\n",
    "\n",
    "def test_auc(ratings,sample_size=100):\n",
    "    \"\"\"\n",
    "    Calculate AUC for sample_size many randomly sampled users from the \n",
    "    test dataset and then return the average of these scores\n",
    "    \"\"\"\n",
    "    # Grab our user matrix U\n",
    "    user_vecs = get_variable(graph, session, 'user_factors')\n",
    "\n",
    "    # Grab our item matrix V\n",
    "    item_vecs = get_variable(graph, session, 'puzzle_factors')\n",
    "\n",
    "    # Grab our item bias\n",
    "    item_bi = get_variable(graph, session, 'item_bias').reshape(-1)\n",
    "    \n",
    "    auc = 0.0\n",
    "    n_users, n_items = ratings.shape\n",
    "    samples = np.random.choice(n_users,sample_size)\n",
    "    \n",
    "    pbar = tqdm(total=sample_size)\n",
    "    \n",
    "    for i, row in enumerate(ratings[samples]):\n",
    "        index = samples[i]\n",
    "        scores = np.add(user_vecs[index].dot(item_vecs.T), item_bi)\n",
    "        true = np.zeros(n_items)\n",
    "        true[row.indices] = 1\n",
    "        auc += roc_auc_score(true, scores)\n",
    "        pbar.update(1)\n",
    "        \n",
    "    pbar.close()\n",
    "    auc /= sample_size\n",
    "    return auc\n",
    "\n",
    "print(test_auc(X_test,500))"
   ]
  },
  {
   "cell_type": "code",
   "execution_count": 56,
   "metadata": {},
   "outputs": [
    {
     "data": {
      "image/png": "[encoded data removed]",
      "text/plain": [
       "<Figure size 432x432 with 2 Axes>"
      ]
     },
     "metadata": {
      "needs_background": "light"
     },
     "output_type": "display_data"
    }
   ],
   "source": [
    "reshaped = np.array(scores).reshape(4,4)\n",
    "import matplotlib.pyplot as plt\n",
    "#grid = np.arange(0, len(all_embeddings)).reshape((len(param1_values), len(param2_values)))\n",
    "\n",
    "plt.figure(figsize=(6,6))\n",
    "plt.imshow(reshaped)\n",
    "plt.yticks(np.arange(0, len(param1_values)), [\"%.2f\" % d for d in param1_values])\n",
    "plt.xticks(np.arange(0, len(param2_values)), [\"%d\" % d for d in param2_values])\n",
    "plt.ylabel(\"Num of Latent Features\")\n",
    "plt.xlabel(\"Puzzle sample size\")\n",
    "plt.colorbar()\n",
    "plt.show()"
   ]
  },
  {
   "cell_type": "code",
   "execution_count": 155,
   "metadata": {},
   "outputs": [
    {
     "data": {
      "application/vnd.jupyter.widget-view+json": {
       "model_id": "bf73d558c3d4400d8d83b40f0cc1717d",
       "version_major": 2,
       "version_minor": 0
      },
      "text/plain": [
       "HBox(children=(IntProgress(value=0, max=1500), HTML(value='')))"
      ]
     },
     "metadata": {},
     "output_type": "display_data"
    },
    {
     "data": {
      "text/plain": [
       "0.9766"
      ]
     },
     "execution_count": 155,
     "metadata": {},
     "output_type": "execute_result"
    }
   ],
   "source": [
    "training_session()"
   ]
  },
  {
   "cell_type": "code",
   "execution_count": 18,
   "metadata": {},
   "outputs": [
    {
     "data": {
      "text/html": [
       "<div>\n",
       "<style scoped>\n",
       "    .dataframe tbody tr th:only-of-type {\n",
       "        vertical-align: middle;\n",
       "    }\n",
       "\n",
       "    .dataframe tbody tr th {\n",
       "        vertical-align: top;\n",
       "    }\n",
       "\n",
       "    .dataframe thead th {\n",
       "        text-align: right;\n",
       "    }\n",
       "</style>\n",
       "<table border=\"1\" class=\"dataframe\">\n",
       "  <thead>\n",
       "    <tr style=\"text-align: right;\">\n",
       "      <th></th>\n",
       "      <th>tactics_problem_id</th>\n",
       "      <th>rating</th>\n",
       "      <th>rd</th>\n",
       "      <th>attempt_count</th>\n",
       "      <th>average_seconds</th>\n",
       "      <th>move_count</th>\n",
       "      <th>tags</th>\n",
       "      <th>fen</th>\n",
       "      <th>tag</th>\n",
       "      <th>cluster</th>\n",
       "    </tr>\n",
       "  </thead>\n",
       "  <tbody>\n",
       "    <tr>\n",
       "      <th>0</th>\n",
       "      <td>731</td>\n",
       "      <td>1569</td>\n",
       "      <td>44.96</td>\n",
       "      <td>53336</td>\n",
       "      <td>41</td>\n",
       "      <td>3</td>\n",
       "      <td>Attacking f7/f2,Attacking Castled King,Back Ra...</td>\n",
       "      <td>https://lichess.org/analysis/r1b2rk1/ppp2ppp/1...</td>\n",
       "      <td>Attacking f7/f2</td>\n",
       "      <td>5</td>\n",
       "    </tr>\n",
       "    <tr>\n",
       "      <th>1</th>\n",
       "      <td>732</td>\n",
       "      <td>1417</td>\n",
       "      <td>45.44</td>\n",
       "      <td>63725</td>\n",
       "      <td>26</td>\n",
       "      <td>2</td>\n",
       "      <td>Basic Checkmates,Decoy / Deflection,Mate in 2,...</td>\n",
       "      <td>https://lichess.org/analysis/r6k/1q1n1prp/p3pN...</td>\n",
       "      <td>Clearance Sacrifice</td>\n",
       "      <td>2</td>\n",
       "    </tr>\n",
       "    <tr>\n",
       "      <th>2</th>\n",
       "      <td>738</td>\n",
       "      <td>2443</td>\n",
       "      <td>44.59</td>\n",
       "      <td>18115</td>\n",
       "      <td>54</td>\n",
       "      <td>3</td>\n",
       "      <td>Back Rank,Discovered Attack,Fork / Double Atta...</td>\n",
       "      <td>https://lichess.org/analysis/3rr1k1/ppp2ppp/8/...</td>\n",
       "      <td>Back Rank</td>\n",
       "      <td>4</td>\n",
       "    </tr>\n",
       "    <tr>\n",
       "      <th>3</th>\n",
       "      <td>739</td>\n",
       "      <td>1795</td>\n",
       "      <td>44.97</td>\n",
       "      <td>41674</td>\n",
       "      <td>57</td>\n",
       "      <td>3</td>\n",
       "      <td>Discovered Attack,Mate in 3+,Mating Net,Cleara...</td>\n",
       "      <td>https://lichess.org/analysis/3r2k1/pb1q1ppQ/1p...</td>\n",
       "      <td>Double Check</td>\n",
       "      <td>4</td>\n",
       "    </tr>\n",
       "    <tr>\n",
       "      <th>4</th>\n",
       "      <td>740</td>\n",
       "      <td>2148</td>\n",
       "      <td>45.14</td>\n",
       "      <td>25701</td>\n",
       "      <td>88</td>\n",
       "      <td>5</td>\n",
       "      <td>Discovered Attack,Mate in 3+,Mating Net,Double...</td>\n",
       "      <td>https://lichess.org/analysis/3Qkb1r/pp3ppp/q3b...</td>\n",
       "      <td>Double Check</td>\n",
       "      <td>4</td>\n",
       "    </tr>\n",
       "  </tbody>\n",
       "</table>\n",
       "</div>"
      ],
      "text/plain": [
       "   tactics_problem_id  rating     rd  attempt_count  average_seconds  \\\n",
       "0                 731    1569  44.96          53336               41   \n",
       "1                 732    1417  45.44          63725               26   \n",
       "2                 738    2443  44.59          18115               54   \n",
       "3                 739    1795  44.97          41674               57   \n",
       "4                 740    2148  45.14          25701               88   \n",
       "\n",
       "   move_count                                               tags  \\\n",
       "0           3  Attacking f7/f2,Attacking Castled King,Back Ra...   \n",
       "1           2  Basic Checkmates,Decoy / Deflection,Mate in 2,...   \n",
       "2           3  Back Rank,Discovered Attack,Fork / Double Atta...   \n",
       "3           3  Discovered Attack,Mate in 3+,Mating Net,Cleara...   \n",
       "4           5  Discovered Attack,Mate in 3+,Mating Net,Double...   \n",
       "\n",
       "                                                 fen                  tag  \\\n",
       "0  https://lichess.org/analysis/r1b2rk1/ppp2ppp/1...      Attacking f7/f2   \n",
       "1  https://lichess.org/analysis/r6k/1q1n1prp/p3pN...  Clearance Sacrifice   \n",
       "2  https://lichess.org/analysis/3rr1k1/ppp2ppp/8/...            Back Rank   \n",
       "3  https://lichess.org/analysis/3r2k1/pb1q1ppQ/1p...         Double Check   \n",
       "4  https://lichess.org/analysis/3Qkb1r/pp3ppp/q3b...         Double Check   \n",
       "\n",
       "   cluster  \n",
       "0        5  \n",
       "1        2  \n",
       "2        4  \n",
       "3        4  \n",
       "4        4  "
      ]
     },
     "execution_count": 18,
     "metadata": {},
     "output_type": "execute_result"
    }
   ],
   "source": [
    "puzzle_data = pd.read_csv('../full_meta_clustered_singletag.tsv',sep='\\t')\n",
    "puzzle_data.head()"
   ]
  },
  {
   "cell_type": "markdown",
   "metadata": {},
   "source": [
    "<h2>Get data ready for projector</h2>"
   ]
  },
  {
   "cell_type": "code",
   "execution_count": 20,
   "metadata": {},
   "outputs": [],
   "source": []
  },
  {
   "cell_type": "code",
   "execution_count": 64,
   "metadata": {},
   "outputs": [],
   "source": [
    "#Prepare the puzzle data for the projector\n",
    "\n",
    "#Merge the item_lookup table with the puzzle metadata\n",
    "item_meta = pd.merge(item_lookup,puzzle_data,on='tactics_problem_id')\n",
    "\n",
    "#Get the puzzle embeddings and join \n",
    "item_vecs = get_variable(graph, session, 'puzzle_factors')\n",
    "item_frame = pd.DataFrame(item_vecs)\n",
    "item_frame = item_frame.reindex(item_meta['puzzle_id'])\n",
    "item_frame = item_frame[item_frame.isnull() == False]\n",
    "\n",
    "item_frame.to_csv('bpr_vecs.tsv',\n",
    "                 sep='\\t',\n",
    "                 index=False,\n",
    "                 header=False)\n",
    "\n",
    "item_meta.to_csv('bpr_meta.tsv',\n",
    "                 sep='\\t',\n",
    "                 index=False,\n",
    "                 header=True,\n",
    "                 encoding='utf-8')"
   ]
  },
  {
   "cell_type": "code",
   "execution_count": 87,
   "metadata": {},
   "outputs": [],
   "source": [
    "user_meta = pd.merge(user_lookup,user_data,on='user_hash',how='inner')"
   ]
  },
  {
   "cell_type": "code",
   "execution_count": 92,
   "metadata": {},
   "outputs": [],
   "source": [
    "user_vecs = get_variable(graph,session,'user_factors')\n",
    "user_frame = pd.DataFrame(user_vecs)\n",
    "user_frame = user_frame.reindex(user_meta['user_id'])\n",
    "user_frame = user_frame[user_frame.isnull() == False]\n",
    "\n",
    "user_frame.to_csv('bpr_user_vecs.tsv',\n",
    "                 sep='\\t',\n",
    "                 index=False,\n",
    "                 header=False)\n",
    "\n",
    "user_meta.to_csv('bpr_user_meta.tsv',\n",
    "                 sep='\\t',\n",
    "                 index=False,\n",
    "                 header=True,\n",
    "                 encoding='utf-8')"
   ]
  },
  {
   "cell_type": "code",
   "execution_count": 94,
   "metadata": {},
   "outputs": [
    {
     "data": {
      "text/html": [
       "<div>\n",
       "<style scoped>\n",
       "    .dataframe tbody tr th:only-of-type {\n",
       "        vertical-align: middle;\n",
       "    }\n",
       "\n",
       "    .dataframe tbody tr th {\n",
       "        vertical-align: top;\n",
       "    }\n",
       "\n",
       "    .dataframe thead th {\n",
       "        text-align: right;\n",
       "    }\n",
       "</style>\n",
       "<table border=\"1\" class=\"dataframe\">\n",
       "  <thead>\n",
       "    <tr style=\"text-align: right;\">\n",
       "      <th></th>\n",
       "      <th>0</th>\n",
       "      <th>1</th>\n",
       "      <th>2</th>\n",
       "      <th>3</th>\n",
       "      <th>4</th>\n",
       "      <th>5</th>\n",
       "      <th>6</th>\n",
       "      <th>7</th>\n",
       "      <th>8</th>\n",
       "      <th>9</th>\n",
       "      <th>...</th>\n",
       "      <th>54</th>\n",
       "      <th>55</th>\n",
       "      <th>56</th>\n",
       "      <th>57</th>\n",
       "      <th>58</th>\n",
       "      <th>59</th>\n",
       "      <th>60</th>\n",
       "      <th>61</th>\n",
       "      <th>62</th>\n",
       "      <th>63</th>\n",
       "    </tr>\n",
       "    <tr>\n",
       "      <th>user_id</th>\n",
       "      <th></th>\n",
       "      <th></th>\n",
       "      <th></th>\n",
       "      <th></th>\n",
       "      <th></th>\n",
       "      <th></th>\n",
       "      <th></th>\n",
       "      <th></th>\n",
       "      <th></th>\n",
       "      <th></th>\n",
       "      <th></th>\n",
       "      <th></th>\n",
       "      <th></th>\n",
       "      <th></th>\n",
       "      <th></th>\n",
       "      <th></th>\n",
       "      <th></th>\n",
       "      <th></th>\n",
       "      <th></th>\n",
       "      <th></th>\n",
       "      <th></th>\n",
       "    </tr>\n",
       "  </thead>\n",
       "  <tbody>\n",
       "    <tr>\n",
       "      <th>7268</th>\n",
       "      <td>-0.116227</td>\n",
       "      <td>-0.149589</td>\n",
       "      <td>-0.085489</td>\n",
       "      <td>0.565071</td>\n",
       "      <td>0.185805</td>\n",
       "      <td>0.285969</td>\n",
       "      <td>0.360607</td>\n",
       "      <td>-0.207891</td>\n",
       "      <td>-0.165436</td>\n",
       "      <td>0.062456</td>\n",
       "      <td>...</td>\n",
       "      <td>0.018330</td>\n",
       "      <td>0.032768</td>\n",
       "      <td>0.233139</td>\n",
       "      <td>0.352490</td>\n",
       "      <td>-0.056974</td>\n",
       "      <td>-0.025506</td>\n",
       "      <td>0.259670</td>\n",
       "      <td>-0.450900</td>\n",
       "      <td>-0.336568</td>\n",
       "      <td>-0.097533</td>\n",
       "    </tr>\n",
       "    <tr>\n",
       "      <th>21709</th>\n",
       "      <td>0.060433</td>\n",
       "      <td>0.273746</td>\n",
       "      <td>-0.178654</td>\n",
       "      <td>0.288299</td>\n",
       "      <td>-0.120911</td>\n",
       "      <td>0.044414</td>\n",
       "      <td>0.068750</td>\n",
       "      <td>-0.223570</td>\n",
       "      <td>-0.483417</td>\n",
       "      <td>0.017993</td>\n",
       "      <td>...</td>\n",
       "      <td>0.159404</td>\n",
       "      <td>-0.015925</td>\n",
       "      <td>0.193464</td>\n",
       "      <td>-0.082851</td>\n",
       "      <td>-0.302397</td>\n",
       "      <td>-0.191096</td>\n",
       "      <td>-0.001867</td>\n",
       "      <td>-0.426234</td>\n",
       "      <td>-0.221665</td>\n",
       "      <td>-0.235822</td>\n",
       "    </tr>\n",
       "    <tr>\n",
       "      <th>21407</th>\n",
       "      <td>0.051550</td>\n",
       "      <td>0.127746</td>\n",
       "      <td>-0.110234</td>\n",
       "      <td>-0.115421</td>\n",
       "      <td>0.105275</td>\n",
       "      <td>0.256774</td>\n",
       "      <td>0.005507</td>\n",
       "      <td>-0.523069</td>\n",
       "      <td>-0.055167</td>\n",
       "      <td>-0.069964</td>\n",
       "      <td>...</td>\n",
       "      <td>-0.046320</td>\n",
       "      <td>-0.164767</td>\n",
       "      <td>0.020593</td>\n",
       "      <td>-0.029957</td>\n",
       "      <td>0.280180</td>\n",
       "      <td>0.515061</td>\n",
       "      <td>0.137560</td>\n",
       "      <td>-0.456505</td>\n",
       "      <td>0.089773</td>\n",
       "      <td>-0.354895</td>\n",
       "    </tr>\n",
       "    <tr>\n",
       "      <th>18278</th>\n",
       "      <td>-0.299195</td>\n",
       "      <td>0.398573</td>\n",
       "      <td>0.251129</td>\n",
       "      <td>0.665174</td>\n",
       "      <td>0.333952</td>\n",
       "      <td>0.328828</td>\n",
       "      <td>-0.134055</td>\n",
       "      <td>-0.453877</td>\n",
       "      <td>-0.442910</td>\n",
       "      <td>-0.080413</td>\n",
       "      <td>...</td>\n",
       "      <td>0.586297</td>\n",
       "      <td>0.052418</td>\n",
       "      <td>0.285633</td>\n",
       "      <td>0.131724</td>\n",
       "      <td>0.157023</td>\n",
       "      <td>0.070599</td>\n",
       "      <td>0.020872</td>\n",
       "      <td>-0.435403</td>\n",
       "      <td>-0.209037</td>\n",
       "      <td>-0.646409</td>\n",
       "    </tr>\n",
       "    <tr>\n",
       "      <th>14331</th>\n",
       "      <td>-0.138481</td>\n",
       "      <td>0.065273</td>\n",
       "      <td>-0.043948</td>\n",
       "      <td>0.461519</td>\n",
       "      <td>0.025239</td>\n",
       "      <td>0.601733</td>\n",
       "      <td>0.117440</td>\n",
       "      <td>-0.499732</td>\n",
       "      <td>-0.405923</td>\n",
       "      <td>-0.633878</td>\n",
       "      <td>...</td>\n",
       "      <td>-0.158116</td>\n",
       "      <td>0.007874</td>\n",
       "      <td>0.231812</td>\n",
       "      <td>0.023377</td>\n",
       "      <td>-0.205437</td>\n",
       "      <td>-0.016764</td>\n",
       "      <td>0.268948</td>\n",
       "      <td>-0.376583</td>\n",
       "      <td>-0.106163</td>\n",
       "      <td>-0.260334</td>\n",
       "    </tr>\n",
       "  </tbody>\n",
       "</table>\n",
       "<p>5 rows × 64 columns</p>\n",
       "</div>"
      ],
      "text/plain": [
       "               0         1         2         3         4         5         6   \\\n",
       "user_id                                                                         \n",
       "7268    -0.116227 -0.149589 -0.085489  0.565071  0.185805  0.285969  0.360607   \n",
       "21709    0.060433  0.273746 -0.178654  0.288299 -0.120911  0.044414  0.068750   \n",
       "21407    0.051550  0.127746 -0.110234 -0.115421  0.105275  0.256774  0.005507   \n",
       "18278   -0.299195  0.398573  0.251129  0.665174  0.333952  0.328828 -0.134055   \n",
       "14331   -0.138481  0.065273 -0.043948  0.461519  0.025239  0.601733  0.117440   \n",
       "\n",
       "               7         8         9     ...           54        55        56  \\\n",
       "user_id                                  ...                                    \n",
       "7268    -0.207891 -0.165436  0.062456    ...     0.018330  0.032768  0.233139   \n",
       "21709   -0.223570 -0.483417  0.017993    ...     0.159404 -0.015925  0.193464   \n",
       "21407   -0.523069 -0.055167 -0.069964    ...    -0.046320 -0.164767  0.020593   \n",
       "18278   -0.453877 -0.442910 -0.080413    ...     0.586297  0.052418  0.285633   \n",
       "14331   -0.499732 -0.405923 -0.633878    ...    -0.158116  0.007874  0.231812   \n",
       "\n",
       "               57        58        59        60        61        62        63  \n",
       "user_id                                                                        \n",
       "7268     0.352490 -0.056974 -0.025506  0.259670 -0.450900 -0.336568 -0.097533  \n",
       "21709   -0.082851 -0.302397 -0.191096 -0.001867 -0.426234 -0.221665 -0.235822  \n",
       "21407   -0.029957  0.280180  0.515061  0.137560 -0.456505  0.089773 -0.354895  \n",
       "18278    0.131724  0.157023  0.070599  0.020872 -0.435403 -0.209037 -0.646409  \n",
       "14331    0.023377 -0.205437 -0.016764  0.268948 -0.376583 -0.106163 -0.260334  \n",
       "\n",
       "[5 rows x 64 columns]"
      ]
     },
     "execution_count": 94,
     "metadata": {},
     "output_type": "execute_result"
    }
   ],
   "source": [
    "user_frame.head()"
   ]
  },
  {
   "cell_type": "markdown",
   "metadata": {},
   "source": [
    "<h2>Puzzle Recommendations</h2>"
   ]
  },
  {
   "cell_type": "code",
   "execution_count": 67,
   "metadata": {},
   "outputs": [
    {
     "data": {
      "text/html": [
       "<div>\n",
       "<style scoped>\n",
       "    .dataframe tbody tr th:only-of-type {\n",
       "        vertical-align: middle;\n",
       "    }\n",
       "\n",
       "    .dataframe tbody tr th {\n",
       "        vertical-align: top;\n",
       "    }\n",
       "\n",
       "    .dataframe thead th {\n",
       "        text-align: right;\n",
       "    }\n",
       "</style>\n",
       "<table border=\"1\" class=\"dataframe\">\n",
       "  <thead>\n",
       "    <tr style=\"text-align: right;\">\n",
       "      <th></th>\n",
       "      <th>tactics_problem_id</th>\n",
       "      <th>score</th>\n",
       "      <th>tags</th>\n",
       "      <th>rating</th>\n",
       "      <th>fen</th>\n",
       "    </tr>\n",
       "  </thead>\n",
       "  <tbody>\n",
       "    <tr>\n",
       "      <th>0</th>\n",
       "      <td>133766</td>\n",
       "      <td>3.374700</td>\n",
       "      <td>Hanging Piece</td>\n",
       "      <td>418</td>\n",
       "      <td>https://lichess.org/analysis/r2r4/7p/p4p2/kpQ5...</td>\n",
       "    </tr>\n",
       "    <tr>\n",
       "      <th>1</th>\n",
       "      <td>66454</td>\n",
       "      <td>3.176466</td>\n",
       "      <td>Pin</td>\n",
       "      <td>430</td>\n",
       "      <td>https://lichess.org/analysis/r2q1bk1/pp3p1p/2p...</td>\n",
       "    </tr>\n",
       "    <tr>\n",
       "      <th>2</th>\n",
       "      <td>29802</td>\n",
       "      <td>3.084095</td>\n",
       "      <td>Attacking Castled King,Decoy / Deflection,Over...</td>\n",
       "      <td>728</td>\n",
       "      <td>https://lichess.org/analysis/4R3/p1q1brk1/1p2Q...</td>\n",
       "    </tr>\n",
       "    <tr>\n",
       "      <th>3</th>\n",
       "      <td>59594</td>\n",
       "      <td>3.063890</td>\n",
       "      <td>Fork / Double Attack,Pin</td>\n",
       "      <td>657</td>\n",
       "      <td>https://lichess.org/analysis/r2r2k1/5pp1/2n3qp...</td>\n",
       "    </tr>\n",
       "    <tr>\n",
       "      <th>4</th>\n",
       "      <td>94953</td>\n",
       "      <td>3.048369</td>\n",
       "      <td>Defense,Hanging Piece</td>\n",
       "      <td>600</td>\n",
       "      <td>https://lichess.org/analysis/rnb1k2r/pppp1Bpp/...</td>\n",
       "    </tr>\n",
       "    <tr>\n",
       "      <th>5</th>\n",
       "      <td>155488</td>\n",
       "      <td>3.044339</td>\n",
       "      <td>Mate in 2</td>\n",
       "      <td>753</td>\n",
       "      <td>https://lichess.org/analysis/r1b2r2/ppp3k1/4pp...</td>\n",
       "    </tr>\n",
       "    <tr>\n",
       "      <th>6</th>\n",
       "      <td>71460</td>\n",
       "      <td>3.039621</td>\n",
       "      <td>Mate in 1</td>\n",
       "      <td>670</td>\n",
       "      <td>https://lichess.org/analysis/3r1b1r/2kqnppp/Qp...</td>\n",
       "    </tr>\n",
       "    <tr>\n",
       "      <th>7</th>\n",
       "      <td>91410</td>\n",
       "      <td>3.009550</td>\n",
       "      <td>Mate in 1</td>\n",
       "      <td>592</td>\n",
       "      <td>https://lichess.org/analysis/r1b2k1r/1pp4p/p4b...</td>\n",
       "    </tr>\n",
       "    <tr>\n",
       "      <th>8</th>\n",
       "      <td>89459</td>\n",
       "      <td>2.979619</td>\n",
       "      <td>Mate in 2</td>\n",
       "      <td>607</td>\n",
       "      <td>https://lichess.org/analysis/8/p5p1/1p1R2p1/4P...</td>\n",
       "    </tr>\n",
       "    <tr>\n",
       "      <th>9</th>\n",
       "      <td>42264</td>\n",
       "      <td>2.967455</td>\n",
       "      <td>Endgame Tactics,Skewer</td>\n",
       "      <td>629</td>\n",
       "      <td>https://lichess.org/analysis/6r1/2b5/R3b3/1B2k...</td>\n",
       "    </tr>\n",
       "  </tbody>\n",
       "</table>\n",
       "</div>"
      ],
      "text/plain": [
       "   tactics_problem_id     score  \\\n",
       "0              133766  3.374700   \n",
       "1               66454  3.176466   \n",
       "2               29802  3.084095   \n",
       "3               59594  3.063890   \n",
       "4               94953  3.048369   \n",
       "5              155488  3.044339   \n",
       "6               71460  3.039621   \n",
       "7               91410  3.009550   \n",
       "8               89459  2.979619   \n",
       "9               42264  2.967455   \n",
       "\n",
       "                                                tags  rating  \\\n",
       "0                                      Hanging Piece     418   \n",
       "1                                                Pin     430   \n",
       "2  Attacking Castled King,Decoy / Deflection,Over...     728   \n",
       "3                           Fork / Double Attack,Pin     657   \n",
       "4                              Defense,Hanging Piece     600   \n",
       "5                                          Mate in 2     753   \n",
       "6                                          Mate in 1     670   \n",
       "7                                          Mate in 1     592   \n",
       "8                                          Mate in 2     607   \n",
       "9                             Endgame Tactics,Skewer     629   \n",
       "\n",
       "                                                 fen  \n",
       "0  https://lichess.org/analysis/r2r4/7p/p4p2/kpQ5...  \n",
       "1  https://lichess.org/analysis/r2q1bk1/pp3p1p/2p...  \n",
       "2  https://lichess.org/analysis/4R3/p1q1brk1/1p2Q...  \n",
       "3  https://lichess.org/analysis/r2r2k1/5pp1/2n3qp...  \n",
       "4  https://lichess.org/analysis/rnb1k2r/pppp1Bpp/...  \n",
       "5  https://lichess.org/analysis/r1b2r2/ppp3k1/4pp...  \n",
       "6  https://lichess.org/analysis/3r1b1r/2kqnppp/Qp...  \n",
       "7  https://lichess.org/analysis/r1b2k1r/1pp4p/p4b...  \n",
       "8  https://lichess.org/analysis/8/p5p1/1p1R2p1/4P...  \n",
       "9  https://lichess.org/analysis/6r1/2b5/R3b3/1B2k...  "
      ]
     },
     "execution_count": 67,
     "metadata": {},
     "output_type": "execute_result"
    }
   ],
   "source": [
    "def find_similar_puzzles(puzzle=None, num_items=10):\n",
    "    \"\"\"Find puzzles similar to another puzzle based on the users that complete it.\n",
    "    Args:\n",
    "        puzzle (int): The ID of the puzzle we want to find similar puzzles for\n",
    "        num_items (int): How many similar puzzles we want to return.\n",
    "    Returns:\n",
    "        similar (pandas.DataFrame): DataFrame with num_items puzzles names and scores\n",
    "    \"\"\"\n",
    "\n",
    "    # Grab our User matrix U\n",
    "    user_vecs = get_variable(graph, session, 'user_factors')\n",
    "\n",
    "    # Grab our Item matrix V\n",
    "    item_vecs = get_variable(graph, session, 'puzzle_factors')\n",
    "\n",
    "    # Grab our item bias\n",
    "    item_bi = get_variable(graph, session, 'item_bias').reshape(-1)\n",
    "\n",
    "    # Get the item id for the puzzle\n",
    "    item_id = int(item_lookup[item_lookup.tactics_problem_id == puzzle]['puzzle_id'])\n",
    "\n",
    "    # Get the item vector for our item_id and transpose it.\n",
    "    item_vec = item_vecs[item_id].T\n",
    "\n",
    "    scores = np.add(item_vecs.dot(item_vec), item_bi).reshape(1,-1)[0]\n",
    "\n",
    "    # Get the indices for the top 10 scores\n",
    "    top_10 = np.argsort(scores)[::-1][:num_items]\n",
    "\n",
    "    # We then use our lookup table to grab the names of these indices\n",
    "    # and add it along with its score to a pandas dataframe.\n",
    "    puzzles, puzzle_scores = [], []\n",
    "    \n",
    "    for idx in top_10:\n",
    "        try:\n",
    "            puzzles.append(item_lookup.tactics_problem_id.loc[item_lookup.puzzle_id == idx].iloc[0])\n",
    "            puzzle_scores.append(scores[idx])\n",
    "        except:\n",
    "            pass\n",
    "    similar = pd.DataFrame({'tactics_problem_id': puzzles, 'score': puzzle_scores})\n",
    "    similar = pd.merge(similar,puzzle_data[['tactics_problem_id','tags','rating','fen']],on='tactics_problem_id',how='left')\n",
    "    return similar\n",
    "\n",
    "find_similar_puzzles(puzzle=133766)"
   ]
  },
  {
   "cell_type": "code",
   "execution_count": 88,
   "metadata": {},
   "outputs": [
    {
     "data": {
      "text/html": [
       "<div>\n",
       "<style scoped>\n",
       "    .dataframe tbody tr th:only-of-type {\n",
       "        vertical-align: middle;\n",
       "    }\n",
       "\n",
       "    .dataframe tbody tr th {\n",
       "        vertical-align: top;\n",
       "    }\n",
       "\n",
       "    .dataframe thead th {\n",
       "        text-align: right;\n",
       "    }\n",
       "</style>\n",
       "<table border=\"1\" class=\"dataframe\">\n",
       "  <thead>\n",
       "    <tr style=\"text-align: right;\">\n",
       "      <th></th>\n",
       "      <th>tactics_problem_id</th>\n",
       "      <th>puzzle_id</th>\n",
       "      <th>rating</th>\n",
       "      <th>tags</th>\n",
       "    </tr>\n",
       "  </thead>\n",
       "  <tbody>\n",
       "  </tbody>\n",
       "</table>\n",
       "</div>"
      ],
      "text/plain": [
       "Empty DataFrame\n",
       "Columns: [tactics_problem_id, puzzle_id, rating, tags]\n",
       "Index: []"
      ]
     },
     "execution_count": 88,
     "metadata": {},
     "output_type": "execute_result"
    }
   ],
   "source": [
    "item_lookup.loc[item_lookup.puzzle_id == 31980]\n",
    "#item_lookup.tactics_problem_id.loc[item_lookup.puzzle_id == 31980].iloc[0]"
   ]
  },
  {
   "cell_type": "code",
   "execution_count": 68,
   "metadata": {},
   "outputs": [
    {
     "name": "stdout",
     "output_type": "stream",
     "text": [
      "   tactics_problem_id     score              tag  rating  \\\n",
      "0              191583  4.295309   Pawn Promotion    1024   \n",
      "1               45665  4.124528        Sacrifice     883   \n",
      "2              114935  4.094472        Back Rank    1104   \n",
      "3               86829  4.087699        Mate in 2     897   \n",
      "4              116557  4.024525       Mate in 3+     947   \n",
      "5               33772  3.988487       Mating Net     889   \n",
      "6              125361  3.972062        Mate in 1    1038   \n",
      "7               66049  3.967026  Attacking f7/f2     955   \n",
      "8              185652  3.954621        Mate in 1     729   \n",
      "9               93978  3.933393        Back Rank     964   \n",
      "\n",
      "                                                 fen  \n",
      "0  https://lichess.org/analysis/8/1p1R4/2p5/p6P/8...  \n",
      "1  https://lichess.org/analysis/rnbqkb1r/ppppp2p/...  \n",
      "2  https://lichess.org/analysis/5r1k/1p1R2p1/p5Qp...  \n",
      "3  https://lichess.org/analysis/4nQ1k/3q2r1/1p1p2...  \n",
      "4  https://lichess.org/analysis/r2b1k1r/5q1p/p3RP...  \n",
      "5  https://lichess.org/analysis/8/5pk1/P5p1/3P4/7...  \n",
      "6  https://lichess.org/analysis/3k2rr/3n1p1q/p7/P...  \n",
      "7  https://lichess.org/analysis/r2qkb1r/2p1nppp/p...  \n",
      "8  https://lichess.org/analysis/5R2/1p1b2p1/p1kP2...  \n",
      "9  https://lichess.org/analysis/r2qkb1Q/ppp5/4p1p...  \n"
     ]
    }
   ],
   "source": [
    "#---------------------\n",
    "# MAKE RECOMMENDATION\n",
    "#---------------------\n",
    "\n",
    "def make_recommendation(user_id=None, num_items=10):\n",
    "    \"\"\"Recommend items for a given user given a trained model\n",
    "    Args:\n",
    "        user_id (int): The id of the user we want to create recommendations for.\n",
    "        num_items (int): How many recommendations we want to return.\n",
    "    Returns:\n",
    "        recommendations (pandas.DataFrame): DataFrame with num_items artist names and scores\n",
    "    \"\"\"\n",
    "\n",
    "    # Grab our user matrix U\n",
    "    user_vecs = get_variable(graph, session, 'user_factors')\n",
    "\n",
    "    # Grab our item matrix V\n",
    "    item_vecs = get_variable(graph, session, 'puzzle_factors')\n",
    "\n",
    "    # Grab our item bias\n",
    "    item_bi = get_variable(graph, session, 'item_bias').reshape(-1)\n",
    "\n",
    "    # Calculate the score for our user for all items. \n",
    "    rec_vector = np.add(user_vecs[user_id, :].dot(item_vecs.T), item_bi)\n",
    "\n",
    "    # Grab the indices of the top puzzles\n",
    "    item_idx = np.argsort(rec_vector)[::-1][:num_items]\n",
    "\n",
    "    # Map the indices to artist names and add to dataframe along with scores.\n",
    "    puzzles, puzzle_scores = [], []\n",
    "\n",
    "    for idx in item_idx:\n",
    "        puzzles.append(item_lookup.tactics_problem_id.loc[item_lookup.puzzle_id == idx].iloc[0])\n",
    "        puzzle_scores.append(rec_vector[idx])\n",
    "\n",
    "    \n",
    "    recs = pd.DataFrame({'tactics_problem_id': puzzles, 'score': puzzle_scores})\n",
    "    recs = pd.merge(recs,puzzle_data[['tactics_problem_id','tag','rating','fen']],on='tactics_problem_id',how='left')\n",
    "    return recs\n",
    "\n",
    "make_recommendation(user_id=0).head()"
   ]
  },
  {
   "cell_type": "markdown",
   "metadata": {},
   "source": [
    "<h2>Find average differene in rating between target and reccomended puzzles</h2>"
   ]
  },
  {
   "cell_type": "code",
   "execution_count": 34,
   "metadata": {},
   "outputs": [
    {
     "data": {
      "application/vnd.jupyter.widget-view+json": {
       "model_id": "c72e4ba90d0749e89f5f4a60e008a4ba",
       "version_major": 2,
       "version_minor": 0
      },
      "text/plain": [
       "HBox(children=(IntProgress(value=0, max=5000), HTML(value='')))"
      ]
     },
     "metadata": {},
     "output_type": "display_data"
    },
    {
     "name": "stdout",
     "output_type": "stream",
     "text": [
      "230.2449615873022\n",
      "396.10549721146447\n"
     ]
    }
   ],
   "source": [
    "#Get average absolute error in ratings between puzzle and top ten predictions\n",
    "def get_average_error(puzzle):\n",
    "    preds = find_similar_puzzles(puzzle)\n",
    "    given_rating = item_lookup.loc[item_lookup.tactics_problem_id == puzzle]['rating'].iloc[0]\n",
    "    preds['diff'] = abs(given_rating - preds['rating'])\n",
    "    average = preds['diff'].agg('mean')\n",
    "    return average\n",
    "\n",
    "#Get average absolute difference for 10 random puzzles\n",
    "def get_rand_average(puzzle):\n",
    "    indices = np.random.choice(item_lookup.index,10)\n",
    "    puzzles = item_lookup.iloc[indices]\n",
    "    given_rating = item_lookup.loc[item_lookup.tactics_problem_id == puzzle]['rating'].iloc[0]\n",
    "    diff = abs(given_rating - puzzles['rating'])\n",
    "    return diff.agg('mean')\n",
    "\n",
    "num_samples = 5000\n",
    "puzzles = np.random.choice(item_lookup['tactics_problem_id'],num_samples)\n",
    "averages = []\n",
    "for puzzle in tqdm(puzzles):\n",
    "    averages.append(get_average_error(puzzle))\n",
    "\n",
    "print(sum(averages)/len(averages))\n",
    "print(np.var(averages)**0.5)"
   ]
  },
  {
   "cell_type": "code",
   "execution_count": 35,
   "metadata": {},
   "outputs": [
    {
     "data": {
      "application/vnd.jupyter.widget-view+json": {
       "model_id": "b22040014f2242f9b952718deee30f87",
       "version_major": 2,
       "version_minor": 0
      },
      "text/plain": [
       "HBox(children=(IntProgress(value=0, max=5000), HTML(value='')))"
      ]
     },
     "metadata": {},
     "output_type": "display_data"
    },
    {
     "name": "stdout",
     "output_type": "stream",
     "text": [
      "734.6780199999988\n",
      "364.07614603387515\n"
     ]
    }
   ],
   "source": [
    "rand_averages = []\n",
    "for puzzle in tqdm(puzzles):\n",
    "    rand_averages.append(get_rand_average(puzzle))\n",
    "    \n",
    "print(sum(rand_averages)/len(rand_averages))\n",
    "print(np.var(rand_averages)**0.5)"
   ]
  },
  {
   "cell_type": "markdown",
   "metadata": {},
   "source": [
    "<h2>Success Prediction Test</h2> "
   ]
  },
  {
   "cell_type": "code",
   "execution_count": 69,
   "metadata": {},
   "outputs": [
    {
     "data": {
      "text/plain": [
       "True"
      ]
     },
     "execution_count": 69,
     "metadata": {},
     "output_type": "execute_result"
    }
   ],
   "source": [
    "def higher_score(user,puzzle_1,puzzle_2):\n",
    "    '''\n",
    "    Returns true if the puzzle_1 has a higher score than puzzle_2, false if not\n",
    "    '''\n",
    "    \n",
    "    #Get user ID from username\n",
    "    user_id = user_lookup.loc[user_lookup.user_hash == user]['user_id']\n",
    "    \n",
    "    #Get puzzle_IDs from tactics_problem_ids\n",
    "    id_1 = item_lookup.loc[item_lookup.tactics_problem_id == puzzle_1]['puzzle_id'].iloc[0]\n",
    "    id_2 = item_lookup.loc[item_lookup.tactics_problem_id == puzzle_2]['puzzle_id'].iloc[0]\n",
    "    \n",
    "    \n",
    "    # Grab our user matrix U\n",
    "    user_vecs = get_variable(graph, session, 'user_factors')\n",
    "\n",
    "    # Grab our item matrix V\n",
    "    item_vecs = get_variable(graph, session, 'puzzle_factors')\n",
    "\n",
    "    # Grab our item bias\n",
    "    item_bi = get_variable(graph, session, 'item_bias').reshape(-1)\n",
    "\n",
    "    # Calculate the score for our user for all items. \n",
    "    rec_vector = np.add(user_vecs[user_id, :].dot(item_vecs.T), item_bi)[0]\n",
    "    # Grab the indices of the top puzzles\n",
    "    item_idx = np.argsort(rec_vector)[::-1]\n",
    "    \n",
    "    return rec_vector[id_1] > rec_vector[id_2]\n",
    "\n",
    "higher_score('2e3f96438c113cb00b724c2b0b5399ed66bc7451207a63a3b45ca40b4b37d700',32910,33634)"
   ]
  },
  {
   "cell_type": "code",
   "execution_count": 70,
   "metadata": {},
   "outputs": [],
   "source": [
    "pred_data = pd.read_csv('../prediction_data_trimmed_shuffled.csv')"
   ]
  },
  {
   "cell_type": "code",
   "execution_count": 71,
   "metadata": {},
   "outputs": [
    {
     "data": {
      "text/html": [
       "<div>\n",
       "<style scoped>\n",
       "    .dataframe tbody tr th:only-of-type {\n",
       "        vertical-align: middle;\n",
       "    }\n",
       "\n",
       "    .dataframe tbody tr th {\n",
       "        vertical-align: top;\n",
       "    }\n",
       "\n",
       "    .dataframe thead th {\n",
       "        text-align: right;\n",
       "    }\n",
       "</style>\n",
       "<table border=\"1\" class=\"dataframe\">\n",
       "  <thead>\n",
       "    <tr style=\"text-align: right;\">\n",
       "      <th></th>\n",
       "      <th>user_hash</th>\n",
       "      <th>puzzle_1</th>\n",
       "      <th>puzzle_2</th>\n",
       "      <th>cluster_1</th>\n",
       "      <th>rating_labels</th>\n",
       "      <th>rating_1</th>\n",
       "      <th>cluster_2</th>\n",
       "      <th>rating_2</th>\n",
       "      <th>cluster_perf_1</th>\n",
       "      <th>cluster_perf_2</th>\n",
       "      <th>passed_puzzle</th>\n",
       "      <th>cluster_count_2</th>\n",
       "      <th>cluster_count_1</th>\n",
       "    </tr>\n",
       "  </thead>\n",
       "  <tbody>\n",
       "    <tr>\n",
       "      <th>0</th>\n",
       "      <td>2e3f96438c113cb00b724c2b0b5399ed66bc7451207a63...</td>\n",
       "      <td>195592</td>\n",
       "      <td>44028</td>\n",
       "      <td>14</td>\n",
       "      <td>2</td>\n",
       "      <td>420</td>\n",
       "      <td>16</td>\n",
       "      <td>405</td>\n",
       "      <td>1043.07676</td>\n",
       "      <td>920.599138</td>\n",
       "      <td>1</td>\n",
       "      <td>232</td>\n",
       "      <td>2358</td>\n",
       "    </tr>\n",
       "    <tr>\n",
       "      <th>1</th>\n",
       "      <td>2e3f96438c113cb00b724c2b0b5399ed66bc7451207a63...</td>\n",
       "      <td>158678</td>\n",
       "      <td>44028</td>\n",
       "      <td>14</td>\n",
       "      <td>2</td>\n",
       "      <td>418</td>\n",
       "      <td>16</td>\n",
       "      <td>405</td>\n",
       "      <td>1043.07676</td>\n",
       "      <td>920.599138</td>\n",
       "      <td>1</td>\n",
       "      <td>232</td>\n",
       "      <td>2358</td>\n",
       "    </tr>\n",
       "    <tr>\n",
       "      <th>2</th>\n",
       "      <td>2e3f96438c113cb00b724c2b0b5399ed66bc7451207a63...</td>\n",
       "      <td>27321</td>\n",
       "      <td>33634</td>\n",
       "      <td>14</td>\n",
       "      <td>23</td>\n",
       "      <td>941</td>\n",
       "      <td>16</td>\n",
       "      <td>946</td>\n",
       "      <td>1043.07676</td>\n",
       "      <td>920.599138</td>\n",
       "      <td>0</td>\n",
       "      <td>232</td>\n",
       "      <td>2358</td>\n",
       "    </tr>\n",
       "    <tr>\n",
       "      <th>3</th>\n",
       "      <td>2e3f96438c113cb00b724c2b0b5399ed66bc7451207a63...</td>\n",
       "      <td>32910</td>\n",
       "      <td>33634</td>\n",
       "      <td>14</td>\n",
       "      <td>23</td>\n",
       "      <td>947</td>\n",
       "      <td>16</td>\n",
       "      <td>946</td>\n",
       "      <td>1043.07676</td>\n",
       "      <td>920.599138</td>\n",
       "      <td>0</td>\n",
       "      <td>232</td>\n",
       "      <td>2358</td>\n",
       "    </tr>\n",
       "    <tr>\n",
       "      <th>4</th>\n",
       "      <td>2e3f96438c113cb00b724c2b0b5399ed66bc7451207a63...</td>\n",
       "      <td>34554</td>\n",
       "      <td>33634</td>\n",
       "      <td>14</td>\n",
       "      <td>23</td>\n",
       "      <td>927</td>\n",
       "      <td>16</td>\n",
       "      <td>946</td>\n",
       "      <td>1043.07676</td>\n",
       "      <td>920.599138</td>\n",
       "      <td>0</td>\n",
       "      <td>232</td>\n",
       "      <td>2358</td>\n",
       "    </tr>\n",
       "  </tbody>\n",
       "</table>\n",
       "</div>"
      ],
      "text/plain": [
       "                                           user_hash  puzzle_1  puzzle_2  \\\n",
       "0  2e3f96438c113cb00b724c2b0b5399ed66bc7451207a63...    195592     44028   \n",
       "1  2e3f96438c113cb00b724c2b0b5399ed66bc7451207a63...    158678     44028   \n",
       "2  2e3f96438c113cb00b724c2b0b5399ed66bc7451207a63...     27321     33634   \n",
       "3  2e3f96438c113cb00b724c2b0b5399ed66bc7451207a63...     32910     33634   \n",
       "4  2e3f96438c113cb00b724c2b0b5399ed66bc7451207a63...     34554     33634   \n",
       "\n",
       "   cluster_1  rating_labels  rating_1  cluster_2  rating_2  cluster_perf_1  \\\n",
       "0         14              2       420         16       405      1043.07676   \n",
       "1         14              2       418         16       405      1043.07676   \n",
       "2         14             23       941         16       946      1043.07676   \n",
       "3         14             23       947         16       946      1043.07676   \n",
       "4         14             23       927         16       946      1043.07676   \n",
       "\n",
       "   cluster_perf_2  passed_puzzle  cluster_count_2  cluster_count_1  \n",
       "0      920.599138              1              232             2358  \n",
       "1      920.599138              1              232             2358  \n",
       "2      920.599138              0              232             2358  \n",
       "3      920.599138              0              232             2358  \n",
       "4      920.599138              0              232             2358  "
      ]
     },
     "execution_count": 71,
     "metadata": {},
     "output_type": "execute_result"
    }
   ],
   "source": [
    "pred_data.head()"
   ]
  },
  {
   "cell_type": "code",
   "execution_count": 72,
   "metadata": {},
   "outputs": [
    {
     "data": {
      "application/vnd.jupyter.widget-view+json": {
       "model_id": "7abcfa5c09284b06af91a188d7d3d148",
       "version_major": 2,
       "version_minor": 0
      },
      "text/plain": [
       "HBox(children=(IntProgress(value=0, max=5000), HTML(value='')))"
      ]
     },
     "metadata": {},
     "output_type": "display_data"
    },
    {
     "name": "stdout",
     "output_type": "stream",
     "text": [
      "0.5504\n"
     ]
    }
   ],
   "source": [
    "sample_size = 5000\n",
    "\n",
    "def pass_prediction(row):\n",
    "    pred = 1\n",
    "    puzzle_1_closer = higher_score(row['user_hash'],row['puzzle_1'],row['puzzle_2'])\n",
    "    \n",
    "    if puzzle_1_closer:\n",
    "        pred = 0\n",
    "        \n",
    "    if pred == row['passed_puzzle']:\n",
    "        return 1\n",
    "\n",
    "indices = np.random.choice(pred_data.index,sample_size)\n",
    "ans = pred_data.iloc[indices].progress_apply(lambda x: pass_prediction(x),axis=1)\n",
    "print(ans.fillna(0).sum()/sample_size)"
   ]
  }
 ],
 "metadata": {
  "kernelspec": {
   "display_name": "Python 3",
   "language": "python",
   "name": "python3"
  },
  "language_info": {
   "codemirror_mode": {
    "name": "ipython",
    "version": 3
   },
   "file_extension": ".py",
   "mimetype": "text/x-python",
   "name": "python",
   "nbconvert_exporter": "python",
   "pygments_lexer": "ipython3",
   "version": "3.7.1"
  }
 },
 "nbformat": 4,
 "nbformat_minor": 2
}
