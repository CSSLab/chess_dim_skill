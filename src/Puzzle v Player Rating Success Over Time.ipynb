{
 "cells": [
  {
   "cell_type": "code",
   "execution_count": 1,
   "metadata": {},
   "outputs": [
    {
     "data": {
      "application/vnd.jupyter.widget-view+json": {
       "model_id": "79a4657906164f449fd2a00a3a9beef0",
       "version_major": 2,
       "version_minor": 0
      },
      "text/plain": [
       "HBox(children=(IntProgress(value=1, bar_style='info', max=1), HTML(value='')))"
      ]
     },
     "metadata": {},
     "output_type": "display_data"
    },
    {
     "name": "stdout",
     "output_type": "stream",
     "text": [
      "\n"
     ]
    }
   ],
   "source": [
    "import pandas as pd\n",
    "import numpy as np\n",
    "from tqdm import tqdm_notebook as tqdm\n",
    "\n",
    "tqdm().pandas()\n",
    "\n"
   ]
  },
  {
   "cell_type": "code",
   "execution_count": null,
   "metadata": {},
   "outputs": [],
   "source": [
    "attempts=pd.read_csv('/w/225/1/chess/tactics/glicko_user_tactics_problem.csv_00')"
   ]
  },
  {
   "cell_type": "code",
   "execution_count": null,
   "metadata": {},
   "outputs": [],
   "source": [
    "#Filter for users that have only played at least x games\n",
    "attempts=attempts.loc[attempts.userGamesPlayed.between(2500,4000)]\n",
    "#attempts = attempts.loc[attempts.userGamesPlayed > 2500]"
   ]
  },
  {
   "cell_type": "code",
   "execution_count": null,
   "metadata": {},
   "outputs": [],
   "source": [
    "puzzle_data = pd.read_csv('/w/225/1/chess/tactics/tactics_problem.csv')\n",
    "attempts = pd.merge(attempts,puzzle_data[['tactics_problem_id','rating']],on='tactics_problem_id',how='inner')"
   ]
  },
  {
   "cell_type": "code",
   "execution_count": null,
   "metadata": {},
   "outputs": [],
   "source": [
    "attempts.rename(columns={'rating':'problemRating'},inplace=True)"
   ]
  },
  {
   "cell_type": "code",
   "execution_count": 21,
   "metadata": {},
   "outputs": [],
   "source": [
    "trimmed_data = attempts[['seconds','is_passed','ratingUser','problemRating']]"
   ]
  },
  {
   "cell_type": "code",
   "execution_count": 22,
   "metadata": {},
   "outputs": [
    {
     "name": "stdout",
     "output_type": "stream",
     "text": [
      "[(1300, 1500), (1600, 1800), (1900, 2100), (2200, 2400)]\n"
     ]
    }
   ],
   "source": [
    "ratings = [1400,1700,2000,2300]\n",
    "rating_rad = 100\n",
    "rating_ranges = []\n",
    "for rating in ratings:\n",
    "    rating_ranges.append((rating-rating_rad,rating+rating_rad))\n",
    "print(rating_ranges)"
   ]
  },
  {
   "cell_type": "code",
   "execution_count": 23,
   "metadata": {},
   "outputs": [],
   "source": [
    "import matplotlib.pyplot as plt\n",
    "from matplotlib.pyplot import figure\n",
    "\n",
    "def plot_graph(data,rating):\n",
    "    figure(figsize=(8, 6), dpi=80, facecolor='w', edgecolor='k')\n",
    "    colors = ['#1dc23b','#f28d18','#931dc2','#c21d1d']\n",
    "    for index,data in enumerate(probs):\n",
    "        color = colors[index]\n",
    "        plt.plot(data,color=color,label=str(ratings[index]))\n",
    "        \n",
    "    plt.ylabel('Probability of success')\n",
    "    plt.xlabel('Time waited >= x')\n",
    "    plt.title('Success at puzzles for players around {}'.format(rating))\n",
    "    plt.legend(loc=2)\n",
    "    plt.savefig('../plots/puzzle_time_success_{}_players.png'.format(rating))\n",
    "    plt.clf()"
   ]
  },
  {
   "cell_type": "code",
   "execution_count": 25,
   "metadata": {},
   "outputs": [
    {
     "data": {
      "application/vnd.jupyter.widget-view+json": {
       "model_id": "532f30f2dd4b47b3a063b5ca37e33a2d",
       "version_major": 2,
       "version_minor": 0
      },
      "text/plain": [
       "HBox(children=(IntProgress(value=0, max=4), HTML(value='')))"
      ]
     },
     "metadata": {},
     "output_type": "display_data"
    },
    {
     "name": "stdout",
     "output_type": "stream",
     "text": [
      "Generating plot for players around: 1400\n",
      "Doing ratings for puzzles around: 1400\n",
      "Num of attempts: 14755\n",
      "Doing ratings for puzzles around: 1700\n",
      "Num of attempts: 1874\n",
      "Doing ratings for puzzles around: 2000\n",
      "Num of attempts: 3491\n",
      "Doing ratings for puzzles around: 2300\n",
      "Num of attempts: 2269\n",
      "Generating plot for players around: 1700\n",
      "Doing ratings for puzzles around: 1400\n",
      "Num of attempts: 281319\n",
      "Doing ratings for puzzles around: 1700\n",
      "Num of attempts: 33785\n",
      "Doing ratings for puzzles around: 2000\n",
      "Num of attempts: 19415\n",
      "Doing ratings for puzzles around: 2300\n",
      "Num of attempts: 14516\n",
      "Generating plot for players around: 2000\n",
      "Doing ratings for puzzles around: 1400\n",
      "Num of attempts: 6960094\n",
      "Doing ratings for puzzles around: 1700\n",
      "Num of attempts: 1112851\n",
      "Doing ratings for puzzles around: 2000\n",
      "Num of attempts: 164081\n",
      "Doing ratings for puzzles around: 2300\n",
      "Num of attempts: 40240\n",
      "Generating plot for players around: 2300\n",
      "Doing ratings for puzzles around: 1400\n",
      "Num of attempts: 1850205\n",
      "Doing ratings for puzzles around: 1700\n",
      "Num of attempts: 2719976\n",
      "Doing ratings for puzzles around: 2000\n",
      "Num of attempts: 1303302\n",
      "Doing ratings for puzzles around: 2300\n",
      "Num of attempts: 344049\n",
      "\n"
     ]
    },
    {
     "data": {
      "text/plain": [
       "<Figure size 640x480 with 0 Axes>"
      ]
     },
     "metadata": {},
     "output_type": "display_data"
    },
    {
     "data": {
      "text/plain": [
       "<Figure size 640x480 with 0 Axes>"
      ]
     },
     "metadata": {},
     "output_type": "display_data"
    },
    {
     "data": {
      "text/plain": [
       "<Figure size 640x480 with 0 Axes>"
      ]
     },
     "metadata": {},
     "output_type": "display_data"
    },
    {
     "data": {
      "text/plain": [
       "<Figure size 640x480 with 0 Axes>"
      ]
     },
     "metadata": {},
     "output_type": "display_data"
    }
   ],
   "source": [
    "time_range = list(range(0,40))\n",
    "# if A = # of correct attempts and B = # of problems where seconds >= x time and ratings for user and problem are \n",
    "#within a certain range. Want to find: P(A|B) = P(A&B)/P(B)\n",
    "for player_rating in tqdm(rating_ranges):\n",
    "    probs = []\n",
    "    print('Generating plot for players around: ' + str(player_rating[0]+rating_rad))\n",
    "    for tup in rating_ranges:\n",
    "        print('Doing ratings for puzzles around: ' + str(tup[0]+rating_rad))\n",
    "        rating_probs = []\n",
    "        #Get problems within the correct rating range\n",
    "        rating_trimmed = trimmed_data.loc[(trimmed_data.problemRating.between(tup[0],tup[1])) & \n",
    "                                             (trimmed_data.ratingUser.between(player_rating[0],player_rating[1]))]\n",
    "        print('Num of attempts: ' + str(len(rating_trimmed)))\n",
    "        #Filter the problemd from rating_trimmed that were attempted after at least time seconds\n",
    "        for time in time_range:\n",
    "            b_condition = rating_trimmed.loc[rating_trimmed.seconds >= time]\n",
    "            rating_probs.append(len(b_condition.loc[b_condition.is_passed == 1])/len(b_condition))\n",
    "        probs.append(rating_probs)\n",
    "    #Making plot\n",
    "    plot_graph(probs,player_rating[0]+rating_rad)"
   ]
  },
  {
   "cell_type": "code",
   "execution_count": null,
   "metadata": {},
   "outputs": [],
   "source": []
  }
 ],
 "metadata": {
  "kernelspec": {
   "display_name": "Python 3",
   "language": "python",
   "name": "python3"
  },
  "language_info": {
   "codemirror_mode": {
    "name": "ipython",
    "version": 3
   },
   "file_extension": ".py",
   "mimetype": "text/x-python",
   "name": "python",
   "nbconvert_exporter": "python",
   "pygments_lexer": "ipython3",
   "version": "3.7.1"
  }
 },
 "nbformat": 4,
 "nbformat_minor": 2
}
