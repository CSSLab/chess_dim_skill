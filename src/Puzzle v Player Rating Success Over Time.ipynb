{
 "cells": [
  {
   "cell_type": "code",
   "execution_count": 2,
   "metadata": {},
   "outputs": [
    {
     "data": {
      "application/vnd.jupyter.widget-view+json": {
       "model_id": "502da0a04f664db783dabb02804662f7",
       "version_major": 2,
       "version_minor": 0
      },
      "text/plain": [
       "HBox(children=(IntProgress(value=1, bar_style='info', max=1), HTML(value='')))"
      ]
     },
     "metadata": {},
     "output_type": "display_data"
    },
    {
     "name": "stdout",
     "output_type": "stream",
     "text": [
      "\n"
     ]
    }
   ],
   "source": [
    "'''\n",
    "Notebook to generate graphs for player skill over time at different puzzles\n",
    "'''\n",
    "\n",
    "import pandas as pd\n",
    "import numpy as np\n",
    "from tqdm import tqdm_notebook as tqdm\n",
    "\n",
    "tqdm().pandas()"
   ]
  },
  {
   "cell_type": "code",
   "execution_count": 3,
   "metadata": {},
   "outputs": [],
   "source": [
    "attempts=pd.read_csv('/w/225/1/chess/tactics/glicko_user_tactics_problem.csv_00')"
   ]
  },
  {
   "cell_type": "code",
   "execution_count": 4,
   "metadata": {},
   "outputs": [],
   "source": [
    "#Get the last rating for each puzzle and join on the attempts\n",
    "puzzle_ratings = attempts.groupby('tactics_problem_id').tail(1)[['tactics_problem_id','ratingProblem']]\n",
    "puzzle_ratings.rename(columns={'ratingProblem':'rating'},inplace=True)\n",
    "attempts.drop('ratingProblem',axis=1,inplace=True)\n",
    "attempts = pd.merge(attempts,puzzle_ratings,on='tactics_problem_id')"
   ]
  },
  {
   "cell_type": "code",
   "execution_count": 5,
   "metadata": {},
   "outputs": [],
   "source": [
    "#Filter for users that have only played at least x games\n",
    "#attempts=attempts.loc[attempts.userGamesPlayed.between(2500,4000)]\n",
    "attempts = attempts.loc[attempts.userGamesPlayed > 1000]"
   ]
  },
  {
   "cell_type": "code",
   "execution_count": 8,
   "metadata": {},
   "outputs": [],
   "source": [
    "#Function to return string version of interval\n",
    "def range_to_string(range_list):\n",
    "    return ['{} to {}'.format(x.left,x.right) for x in range_list]"
   ]
  },
  {
   "cell_type": "code",
   "execution_count": 27,
   "metadata": {},
   "outputs": [],
   "source": [
    "#Create rating labels for the players\n",
    "k = 5\n",
    "attempts['player_rating_labels'] = pd.qcut(attempts['ratingUser'],k)\n",
    "player_rating_labels = attempts.player_rating_labels.unique().categories.to_list()\n",
    "player_string_labels = range_to_string(player_rating_labels)"
   ]
  },
  {
   "cell_type": "code",
   "execution_count": 29,
   "metadata": {},
   "outputs": [],
   "source": [
    "trimmed_data = attempts[['seconds','is_passed','player_rating_labels','rating']]"
   ]
  },
  {
   "cell_type": "code",
   "execution_count": 25,
   "metadata": {},
   "outputs": [],
   "source": [
    "import matplotlib.pyplot as plt\n",
    "from matplotlib.pyplot import figure\n",
    "import seaborn as sns\n",
    "\n",
    "def plot_graph_2(data,puzzle_ranges,player_index):\n",
    "    figure(figsize=(8, 6), dpi=80, facecolor='w', edgecolor='k')\n",
    "    colors = sns.color_palette(\"hls\", len(data))\n",
    "    for index,data in enumerate(probs):\n",
    "        color = colors[index]\n",
    "        #Calculate standard error \n",
    "        stderror = np.sqrt(np.var(data)/len(data))\n",
    "        plt.plot(data,color=color,label=puzzle_ranges[index])\n",
    "        #Add 1.96 times the standard error to get the 95% confidence interval \n",
    "        plt.fill_between(time_range,data-(1.96*stderror),data+(1.96*stderror),alpha=0.4,color=color)\n",
    "        \n",
    "    plt.ylabel('Probability of success')\n",
    "    plt.xlabel('Time waited >= x')\n",
    "    plt.title('Success at puzzles for players in range: {}'.format(player_string_labels[player_index]))\n",
    "    plt.legend(loc=2)\n",
    "    plt.savefig('../plots/timeplots/puzzle_time_success_{}_players.png'.format(player_string_labels[player_index]).replace(' ','_'))\n",
    "    plt.clf()"
   ]
  },
  {
   "cell_type": "code",
   "execution_count": 28,
   "metadata": {},
   "outputs": [],
   "source": [
    "!rm -f ../plots/timeplots/*"
   ]
  },
  {
   "cell_type": "code",
   "execution_count": 31,
   "metadata": {},
   "outputs": [
    {
     "data": {
      "application/vnd.jupyter.widget-view+json": {
       "model_id": "5c65288f65fe41b8ab686406388fc02f",
       "version_major": 2,
       "version_minor": 0
      },
      "text/plain": [
       "HBox(children=(IntProgress(value=0, max=5), HTML(value='')))"
      ]
     },
     "metadata": {},
     "output_type": "display_data"
    },
    {
     "name": "stdout",
     "output_type": "stream",
     "text": [
      "Generating plot for players in range: 426.999 to 1778.0\n",
      "Generating plot for puzzles between: 711.999 and 1417.0\n",
      "Num of attempts: 2058354\n",
      "Generating plot for puzzles between: 1417.0 and 1532.0\n",
      "Num of attempts: 2032932\n",
      "Generating plot for puzzles between: 1532.0 and 1626.0\n",
      "Num of attempts: 2035731\n",
      "Generating plot for puzzles between: 1626.0 and 1733.0\n",
      "Num of attempts: 2059658\n",
      "Generating plot for puzzles between: 1733.0 and 2981.0\n",
      "Num of attempts: 2024310\n",
      "Generating plot for players in range: 1778.0 to 1900.0\n",
      "Generating plot for puzzles between: 726.999 and 1627.0\n",
      "Num of attempts: 2035696\n",
      "Generating plot for puzzles between: 1627.0 and 1716.0\n",
      "Num of attempts: 2033010\n",
      "Generating plot for puzzles between: 1716.0 and 1791.0\n",
      "Num of attempts: 2040928\n",
      "Generating plot for puzzles between: 1791.0 and 1887.0\n",
      "Num of attempts: 2024209\n",
      "Generating plot for puzzles between: 1887.0 and 2994.0\n",
      "Num of attempts: 2021722\n",
      "Generating plot for players in range: 1900.0 to 2009.0\n",
      "Generating plot for puzzles between: 743.999 and 1728.0\n",
      "Num of attempts: 2035785\n",
      "Generating plot for puzzles between: 1728.0 and 1818.0\n",
      "Num of attempts: 2045791\n",
      "Generating plot for puzzles between: 1818.0 and 1896.0\n",
      "Num of attempts: 2034526\n",
      "Generating plot for puzzles between: 1896.0 and 1988.0\n",
      "Num of attempts: 2023442\n",
      "Generating plot for puzzles between: 1988.0 and 2994.0\n",
      "Num of attempts: 2030907\n",
      "Generating plot for players in range: 2009.0 to 2147.0\n",
      "Generating plot for puzzles between: 749.999 and 1827.0\n",
      "Num of attempts: 2044857\n",
      "Generating plot for puzzles between: 1827.0 and 1925.0\n",
      "Num of attempts: 2045941\n",
      "Generating plot for puzzles between: 1925.0 and 2004.0\n",
      "Num of attempts: 2048662\n",
      "Generating plot for puzzles between: 2004.0 and 2104.0\n",
      "Num of attempts: 2025298\n",
      "Generating plot for puzzles between: 2104.0 and 2994.0\n",
      "Num of attempts: 2030559\n",
      "Generating plot for players in range: 2147.0 to 3774.0\n",
      "Generating plot for puzzles between: 755.999 and 1973.0\n",
      "Num of attempts: 2029111\n",
      "Generating plot for puzzles between: 1973.0 and 2099.0\n",
      "Num of attempts: 2031098\n",
      "Generating plot for puzzles between: 2099.0 and 2212.0\n",
      "Num of attempts: 2020471\n",
      "Generating plot for puzzles between: 2212.0 and 2356.0\n",
      "Num of attempts: 2022565\n",
      "Generating plot for puzzles between: 2356.0 and 3018.0\n",
      "Num of attempts: 2019776\n"
     ]
    },
    {
     "data": {
      "text/plain": [
       "<Figure size 640x480 with 0 Axes>"
      ]
     },
     "metadata": {},
     "output_type": "display_data"
    },
    {
     "data": {
      "text/plain": [
       "<Figure size 640x480 with 0 Axes>"
      ]
     },
     "metadata": {},
     "output_type": "display_data"
    },
    {
     "data": {
      "text/plain": [
       "<Figure size 640x480 with 0 Axes>"
      ]
     },
     "metadata": {},
     "output_type": "display_data"
    },
    {
     "data": {
      "text/plain": [
       "<Figure size 640x480 with 0 Axes>"
      ]
     },
     "metadata": {},
     "output_type": "display_data"
    },
    {
     "data": {
      "text/plain": [
       "<Figure size 640x480 with 0 Axes>"
      ]
     },
     "metadata": {},
     "output_type": "display_data"
    }
   ],
   "source": [
    "#QCut attempt\n",
    "time_range = list(range(0,40))\n",
    "# if A = # of correct attempts and B = # of problems where seconds >= x time and ratings for user and problem are \n",
    "#within a certain range. Want to find: P(A|B) = P(A&B)/P(B)\n",
    "pbar = tqdm(total=k)\n",
    "for index,player_label in enumerate(player_rating_labels):\n",
    "    probs = []\n",
    "    player_problems = trimmed_data.loc[trimmed_data.player_rating_labels == player_label].copy()\n",
    "    player_problems['problem_rating_labels'] = pd.qcut(player_problems['rating'],k)\n",
    "    problem_rating_labels = player_problems['problem_rating_labels'].unique().categories.to_list()\n",
    "    print('Generating plot for players in range: {}'.format(player_string_labels[index]))\n",
    "    for prob_label in problem_rating_labels:\n",
    "        print('Generating plot for puzzles between: {} and {}'.format(prob_label.left,prob_label.right))\n",
    "        rating_probs = []\n",
    "        #Get problems that have both the correct problem rating label and player rating label\n",
    "        rating_trimmed = player_problems.loc[player_problems.problem_rating_labels == prob_label]\n",
    "        print('Num of attempts: ' + str(len(rating_trimmed)))\n",
    "        #Filter the problemd from rating_trimmed that were attempted after at least time seconds\n",
    "        for time in time_range:\n",
    "            b_condition = rating_trimmed.loc[rating_trimmed.seconds >= time]\n",
    "            try:\n",
    "                rating_probs.append(len(b_condition.loc[b_condition.is_passed == 1])/len(b_condition))\n",
    "            except:\n",
    "                rating_probs.append(0)\n",
    "        probs.append(rating_probs)\n",
    "    #Making plot\n",
    "    plot_graph_2(probs,range_to_string(problem_rating_labels),index)\n",
    "    pbar.update(1)\n",
    "pbar.close()"
   ]
  },
  {
   "cell_type": "code",
   "execution_count": 18,
   "metadata": {},
   "outputs": [
    {
     "data": {
      "text/plain": [
       "['426.999 to 1778.0',\n",
       " '1778.0 to 1900.0',\n",
       " '1900.0 to 2009.0',\n",
       " '2009.0 to 2147.0',\n",
       " '2147.0 to 3774.0']"
      ]
     },
     "execution_count": 18,
     "metadata": {},
     "output_type": "execute_result"
    }
   ],
   "source": [
    "player_string_labels"
   ]
  }
 ],
 "metadata": {
  "kernelspec": {
   "display_name": "Python 3",
   "language": "python",
   "name": "python3"
  },
  "language_info": {
   "codemirror_mode": {
    "name": "ipython",
    "version": 3
   },
   "file_extension": ".py",
   "mimetype": "text/x-python",
   "name": "python",
   "nbconvert_exporter": "python",
   "pygments_lexer": "ipython3",
   "version": "3.7.1"
  }
 },
 "nbformat": 4,
 "nbformat_minor": 2
}
