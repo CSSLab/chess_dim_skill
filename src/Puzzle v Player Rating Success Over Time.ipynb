{
 "cells": [
  {
   "cell_type": "code",
   "execution_count": 1,
   "metadata": {},
   "outputs": [
    {
     "data": {
      "application/vnd.jupyter.widget-view+json": {
       "model_id": "704d7b8668c94b8aa16527c2946ee67d",
       "version_major": 2,
       "version_minor": 0
      },
      "text/plain": [
       "HBox(children=(IntProgress(value=1, bar_style='info', max=1), HTML(value='')))"
      ]
     },
     "metadata": {},
     "output_type": "display_data"
    },
    {
     "name": "stdout",
     "output_type": "stream",
     "text": [
      "\n"
     ]
    }
   ],
   "source": [
    "'''\n",
    "Notebook to generate graphs for player skill over time at different puzzles\n",
    "'''\n",
    "\n",
    "import pandas as pd\n",
    "import numpy as np\n",
    "from tqdm import tqdm_notebook as tqdm\n",
    "\n",
    "tqdm().pandas()"
   ]
  },
  {
   "cell_type": "code",
   "execution_count": 2,
   "metadata": {},
   "outputs": [],
   "source": [
    "attempts=pd.read_csv('/w/225/1/chess/tactics/glicko_user_tactics_problem.csv_00')"
   ]
  },
  {
   "cell_type": "code",
   "execution_count": 3,
   "metadata": {},
   "outputs": [],
   "source": [
    "#Filter for users that have only played at least x games\n",
    "#attempts=attempts.loc[attempts.userGamesPlayed.between(2500,4000)]\n",
    "attempts = attempts.loc[attempts.userGamesPlayed > 2500]"
   ]
  },
  {
   "cell_type": "code",
   "execution_count": 4,
   "metadata": {},
   "outputs": [],
   "source": [
    "puzzle_data = pd.read_csv('/w/225/1/chess/tactics/tactics_problem.csv')\n",
    "attempts = pd.merge(attempts,puzzle_data[['tactics_problem_id','rating']],on='tactics_problem_id',how='inner')"
   ]
  },
  {
   "cell_type": "code",
   "execution_count": 5,
   "metadata": {},
   "outputs": [],
   "source": [
    "#Create rating labels for the problems\n",
    "puzzle_start = 800\n",
    "puzzle_end = 2400\n",
    "interval = 100\n",
    "puzzle_ratings = np.arange(puzzle_start,puzzle_end,interval)\n",
    "#puzzle_data['problem_rating_labels'] = pd.cut(puzzle_data['rating'],np.arange(puzzle_start,puzzle_end,interval),labels=range(1,((puzzle_end-puzzle_start)//interval)))\n",
    "#attempts = pd.merge(attempts,puzzle_data[['tactics_problem_id','problem_rating_labels']],on='tactics_problem_id',how='inner')\n",
    "attempts['problem_rating_labels'] = pd.cut(attempts['rating'],puzzle_ratings,labels=range(1,((puzzle_end-puzzle_start)//interval)))"
   ]
  },
  {
   "cell_type": "code",
   "execution_count": 6,
   "metadata": {},
   "outputs": [
    {
     "data": {
      "text/plain": [
       "(24940819, 17)"
      ]
     },
     "execution_count": 6,
     "metadata": {},
     "output_type": "execute_result"
    }
   ],
   "source": [
    "#attempts.drop('rating_labels',axis=1,inplace=True)\n",
    "#attempts = attempts[attempts.problem_rating_labels.isna() == False]\n",
    "attempts.shape"
   ]
  },
  {
   "cell_type": "code",
   "execution_count": 7,
   "metadata": {},
   "outputs": [],
   "source": [
    "#Create rating labels for the players\n",
    "player_start = 1500\n",
    "player_end = 2500\n",
    "player_ratings = np.arange(player_start,player_end,interval)\n",
    "attempts['player_rating_labels'] = pd.cut(attempts['ratingUser'],player_ratings,labels=range(1,((player_end-player_start)//interval)))"
   ]
  },
  {
   "cell_type": "code",
   "execution_count": 10,
   "metadata": {},
   "outputs": [
    {
     "data": {
      "image/png": "[encoded data removed]",
      "text/plain": [
       "<Figure size 432x288 with 1 Axes>"
      ]
     },
     "metadata": {
      "needs_background": "light"
     },
     "output_type": "display_data"
    }
   ],
   "source": [
    "import matplotlib.pyplot as plt\n",
    "counts = attempts.groupby(['problem_rating_labels'])['is_passed'].count()\n",
    "plt.bar(counts.index,counts.values)\n",
    "plt.xticks(counts.index)\n",
    "plt.show()"
   ]
  },
  {
   "cell_type": "code",
   "execution_count": 11,
   "metadata": {},
   "outputs": [
    {
     "data": {
      "text/plain": [
       "0.7660913220211413"
      ]
     },
     "execution_count": 11,
     "metadata": {},
     "output_type": "execute_result"
    }
   ],
   "source": [
    "sum(counts)/attempts.shape[0]"
   ]
  },
  {
   "cell_type": "code",
   "execution_count": 12,
   "metadata": {},
   "outputs": [
    {
     "data": {
      "text/plain": [
       "array([ 800,  900, 1000, 1100, 1200, 1300, 1400, 1500, 1600, 1700, 1800,\n",
       "       1900, 2000, 2100, 2200, 2300])"
      ]
     },
     "execution_count": 12,
     "metadata": {},
     "output_type": "execute_result"
    }
   ],
   "source": [
    "#attempts.drop('rating_labels',axis=1,inplace=True)\n",
    "#attempts = attempts[attempts.player_rating_labels.isna() == False]\n",
    "#attempts.shape\n",
    "puzzle_ratings"
   ]
  },
  {
   "cell_type": "code",
   "execution_count": 13,
   "metadata": {},
   "outputs": [],
   "source": [
    "trimmed_data = attempts[['seconds','is_passed','player_rating_labels','problem_rating_labels']]"
   ]
  },
  {
   "cell_type": "code",
   "execution_count": 14,
   "metadata": {},
   "outputs": [
    {
     "name": "stdout",
     "output_type": "stream",
     "text": [
      "(24940819, 4)\n",
      "(19106945, 4)\n",
      "(18259968, 4)\n"
     ]
    }
   ],
   "source": [
    "print(trimmed_data.shape)\n",
    "trimmed_data = trimmed_data[trimmed_data.problem_rating_labels.isna() == False]\n",
    "print(trimmed_data.shape)\n",
    "trimmed_data = trimmed_data[trimmed_data.player_rating_labels.isna() == False]\n",
    "print(trimmed_data.shape)"
   ]
  },
  {
   "cell_type": "code",
   "execution_count": 15,
   "metadata": {},
   "outputs": [],
   "source": [
    "import matplotlib.pyplot as plt\n",
    "from matplotlib.pyplot import figure\n",
    "import seaborn as sns\n",
    "\n",
    "def plot_graph(data,rating):\n",
    "    figure(figsize=(8, 6), dpi=80, facecolor='w', edgecolor='k')\n",
    "    colors = sns.color_palette(\"hls\", len(data))\n",
    "    for index,data in enumerate(probs):\n",
    "        color = colors[index]\n",
    "        #Calculate standard error \n",
    "        stderror = np.sqrt(np.var(data)/len(data))\n",
    "        plt.plot(data,color=color,label=str(puzzle_ratings[index]))\n",
    "        #Add 1.96 times the standard error to get the 95% confidence interval \n",
    "        plt.fill_between(time_range,data-(1.96*stderror),data+(1.96*stderror),alpha=0.4,color=color)\n",
    "        \n",
    "    plt.ylabel('Probability of success')\n",
    "    plt.xlabel('Time waited >= x')\n",
    "    plt.title('Success at puzzles for players around {}'.format(rating))\n",
    "    plt.legend(loc=2)\n",
    "    plt.savefig('../plots/timeplots/puzzle_time_success_{}_players.png'.format(rating))\n",
    "    plt.clf()"
   ]
  },
  {
   "cell_type": "code",
   "execution_count": 16,
   "metadata": {},
   "outputs": [
    {
     "data": {
      "application/vnd.jupyter.widget-view+json": {
       "model_id": "fffebabcb505464595eb178815960682",
       "version_major": 2,
       "version_minor": 0
      },
      "text/plain": [
       "HBox(children=(IntProgress(value=0, max=9), HTML(value='')))"
      ]
     },
     "metadata": {},
     "output_type": "display_data"
    },
    {
     "name": "stdout",
     "output_type": "stream",
     "text": [
      "Generating plot for players around: 1500\n",
      "Doing ratings for puzzles around: 800\n",
      "Num of attempts: 30375\n",
      "Doing ratings for puzzles around: 900\n",
      "Num of attempts: 12854\n",
      "Doing ratings for puzzles around: 1000\n",
      "Num of attempts: 7209\n",
      "Doing ratings for puzzles around: 1100\n",
      "Num of attempts: 3241\n",
      "Doing ratings for puzzles around: 1200\n",
      "Num of attempts: 1273\n",
      "Doing ratings for puzzles around: 1300\n",
      "Num of attempts: 668\n",
      "Doing ratings for puzzles around: 1400\n",
      "Num of attempts: 370\n",
      "Doing ratings for puzzles around: 1500\n",
      "Num of attempts: 245\n",
      "Doing ratings for puzzles around: 1600\n",
      "Num of attempts: 109\n",
      "Doing ratings for puzzles around: 1700\n",
      "Num of attempts: 181\n",
      "Doing ratings for puzzles around: 1800\n",
      "Num of attempts: 130\n",
      "Doing ratings for puzzles around: 1900\n",
      "Num of attempts: 195\n",
      "Doing ratings for puzzles around: 2000\n",
      "Num of attempts: 166\n",
      "Doing ratings for puzzles around: 2100\n",
      "Num of attempts: 93\n",
      "Doing ratings for puzzles around: 2200\n",
      "Num of attempts: 139\n",
      "Generating plot for players around: 1600\n",
      "Doing ratings for puzzles around: 800\n",
      "Num of attempts: 148100\n",
      "Doing ratings for puzzles around: 900\n",
      "Num of attempts: 75095\n",
      "Doing ratings for puzzles around: 1000\n",
      "Num of attempts: 45703\n",
      "Doing ratings for puzzles around: 1100\n",
      "Num of attempts: 24075\n",
      "Doing ratings for puzzles around: 1200\n",
      "Num of attempts: 9715\n",
      "Doing ratings for puzzles around: 1300\n",
      "Num of attempts: 4009\n",
      "Doing ratings for puzzles around: 1400\n",
      "Num of attempts: 2185\n",
      "Doing ratings for puzzles around: 1500\n",
      "Num of attempts: 1327\n",
      "Doing ratings for puzzles around: 1600\n",
      "Num of attempts: 627\n",
      "Doing ratings for puzzles around: 1700\n",
      "Num of attempts: 737\n",
      "Doing ratings for puzzles around: 1800\n",
      "Num of attempts: 560\n",
      "Doing ratings for puzzles around: 1900\n",
      "Num of attempts: 627\n",
      "Doing ratings for puzzles around: 2000\n",
      "Num of attempts: 459\n",
      "Doing ratings for puzzles around: 2100\n",
      "Num of attempts: 329\n",
      "Doing ratings for puzzles around: 2200\n",
      "Num of attempts: 464\n",
      "Generating plot for players around: 1700\n",
      "Doing ratings for puzzles around: 800\n",
      "Num of attempts: 451965\n",
      "Doing ratings for puzzles around: 900\n",
      "Num of attempts: 313549\n",
      "Doing ratings for puzzles around: 1000\n",
      "Num of attempts: 233797\n",
      "Doing ratings for puzzles around: 1100\n",
      "Num of attempts: 152930\n",
      "Doing ratings for puzzles around: 1200\n",
      "Num of attempts: 67468\n",
      "Doing ratings for puzzles around: 1300\n",
      "Num of attempts: 29548\n",
      "Doing ratings for puzzles around: 1400\n",
      "Num of attempts: 12931\n",
      "Doing ratings for puzzles around: 1500\n",
      "Num of attempts: 6237\n",
      "Doing ratings for puzzles around: 1600\n",
      "Num of attempts: 2589\n",
      "Doing ratings for puzzles around: 1700\n",
      "Num of attempts: 1935\n",
      "Doing ratings for puzzles around: 1800\n",
      "Num of attempts: 1559\n",
      "Doing ratings for puzzles around: 1900\n",
      "Num of attempts: 1470\n",
      "Doing ratings for puzzles around: 2000\n",
      "Num of attempts: 1228\n",
      "Doing ratings for puzzles around: 2100\n",
      "Num of attempts: 871\n",
      "Doing ratings for puzzles around: 2200\n",
      "Num of attempts: 912\n",
      "Generating plot for players around: 1800\n",
      "Doing ratings for puzzles around: 800\n",
      "Num of attempts: 645609\n",
      "Doing ratings for puzzles around: 900\n",
      "Num of attempts: 625788\n",
      "Doing ratings for puzzles around: 1000\n",
      "Num of attempts: 625675\n",
      "Doing ratings for puzzles around: 1100\n",
      "Num of attempts: 531589\n",
      "Doing ratings for puzzles around: 1200\n",
      "Num of attempts: 302117\n",
      "Doing ratings for puzzles around: 1300\n",
      "Num of attempts: 161432\n",
      "Doing ratings for puzzles around: 1400\n",
      "Num of attempts: 77723\n",
      "Doing ratings for puzzles around: 1500\n",
      "Num of attempts: 32870\n",
      "Doing ratings for puzzles around: 1600\n",
      "Num of attempts: 12100\n",
      "Doing ratings for puzzles around: 1700\n",
      "Num of attempts: 5603\n",
      "Doing ratings for puzzles around: 1800\n",
      "Num of attempts: 3566\n",
      "Doing ratings for puzzles around: 1900\n",
      "Num of attempts: 2962\n",
      "Doing ratings for puzzles around: 2000\n",
      "Num of attempts: 2167\n",
      "Doing ratings for puzzles around: 2100\n",
      "Num of attempts: 1466\n",
      "Doing ratings for puzzles around: 2200\n",
      "Num of attempts: 1338\n",
      "Generating plot for players around: 1900\n",
      "Doing ratings for puzzles around: 800\n",
      "Num of attempts: 455361\n",
      "Doing ratings for puzzles around: 900\n",
      "Num of attempts: 535783\n",
      "Doing ratings for puzzles around: 1000\n",
      "Num of attempts: 690471\n",
      "Doing ratings for puzzles around: 1100\n",
      "Num of attempts: 803225\n",
      "Doing ratings for puzzles around: 1200\n",
      "Num of attempts: 649073\n",
      "Doing ratings for puzzles around: 1300\n",
      "Num of attempts: 454738\n",
      "Doing ratings for puzzles around: 1400\n",
      "Num of attempts: 281102\n",
      "Doing ratings for puzzles around: 1500\n",
      "Num of attempts: 143412\n",
      "Doing ratings for puzzles around: 1600\n",
      "Num of attempts: 62191\n",
      "Doing ratings for puzzles around: 1700\n",
      "Num of attempts: 27530\n",
      "Doing ratings for puzzles around: 1800\n",
      "Num of attempts: 12506\n",
      "Doing ratings for puzzles around: 1900\n",
      "Num of attempts: 7919\n",
      "Doing ratings for puzzles around: 2000\n",
      "Num of attempts: 4598\n",
      "Doing ratings for puzzles around: 2100\n",
      "Num of attempts: 2950\n",
      "Doing ratings for puzzles around: 2200\n",
      "Num of attempts: 1937\n",
      "Generating plot for players around: 2000\n",
      "Doing ratings for puzzles around: 800\n",
      "Num of attempts: 231439\n",
      "Doing ratings for puzzles around: 900\n",
      "Num of attempts: 291238\n",
      "Doing ratings for puzzles around: 1000\n",
      "Num of attempts: 414535\n",
      "Doing ratings for puzzles around: 1100\n",
      "Num of attempts: 582744\n",
      "Doing ratings for puzzles around: 1200\n",
      "Num of attempts: 617459\n",
      "Doing ratings for puzzles around: 1300\n",
      "Num of attempts: 593828\n",
      "Doing ratings for puzzles around: 1400\n",
      "Num of attempts: 499465\n",
      "Doing ratings for puzzles around: 1500\n",
      "Num of attempts: 337765\n",
      "Doing ratings for puzzles around: 1600\n",
      "Num of attempts: 186331\n",
      "Doing ratings for puzzles around: 1700\n",
      "Num of attempts: 95688\n",
      "Doing ratings for puzzles around: 1800\n",
      "Num of attempts: 43404\n",
      "Doing ratings for puzzles around: 1900\n",
      "Num of attempts: 23387\n",
      "Doing ratings for puzzles around: 2000\n",
      "Num of attempts: 12866\n",
      "Doing ratings for puzzles around: 2100\n",
      "Num of attempts: 7175\n",
      "Doing ratings for puzzles around: 2200\n",
      "Num of attempts: 4648\n",
      "Generating plot for players around: 2100\n",
      "Doing ratings for puzzles around: 800\n",
      "Num of attempts: 98360\n",
      "Doing ratings for puzzles around: 900\n",
      "Num of attempts: 128519\n",
      "Doing ratings for puzzles around: 1000\n",
      "Num of attempts: 189352\n",
      "Doing ratings for puzzles around: 1100\n",
      "Num of attempts: 285586\n",
      "Doing ratings for puzzles around: 1200\n",
      "Num of attempts: 333304\n",
      "Doing ratings for puzzles around: 1300\n",
      "Num of attempts: 380442\n",
      "Doing ratings for puzzles around: 1400\n",
      "Num of attempts: 398143\n",
      "Doing ratings for puzzles around: 1500\n",
      "Num of attempts: 362259\n",
      "Doing ratings for puzzles around: 1600\n",
      "Num of attempts: 277179\n",
      "Doing ratings for puzzles around: 1700\n",
      "Num of attempts: 184529\n",
      "Doing ratings for puzzles around: 1800\n",
      "Num of attempts: 103080\n",
      "Doing ratings for puzzles around: 1900\n",
      "Num of attempts: 63417\n",
      "Doing ratings for puzzles around: 2000\n",
      "Num of attempts: 38134\n",
      "Doing ratings for puzzles around: 2100\n",
      "Num of attempts: 19983\n",
      "Doing ratings for puzzles around: 2200\n",
      "Num of attempts: 14139\n",
      "Generating plot for players around: 2200\n",
      "Doing ratings for puzzles around: 800\n",
      "Num of attempts: 37674\n",
      "Doing ratings for puzzles around: 900\n",
      "Num of attempts: 50382\n",
      "Doing ratings for puzzles around: 1000\n",
      "Num of attempts: 74600\n",
      "Doing ratings for puzzles around: 1100\n",
      "Num of attempts: 117709\n",
      "Doing ratings for puzzles around: 1200\n",
      "Num of attempts: 140516\n",
      "Doing ratings for puzzles around: 1300\n",
      "Num of attempts: 169268\n",
      "Doing ratings for puzzles around: 1400\n",
      "Num of attempts: 195343\n",
      "Doing ratings for puzzles around: 1500\n",
      "Num of attempts: 211127\n",
      "Doing ratings for puzzles around: 1600\n",
      "Num of attempts: 208553\n",
      "Doing ratings for puzzles around: 1700\n",
      "Num of attempts: 183160\n",
      "Doing ratings for puzzles around: 1800\n",
      "Num of attempts: 132759\n",
      "Doing ratings for puzzles around: 1900\n",
      "Num of attempts: 101819\n",
      "Doing ratings for puzzles around: 2000\n",
      "Num of attempts: 66568\n",
      "Doing ratings for puzzles around: 2100\n",
      "Num of attempts: 38636\n",
      "Doing ratings for puzzles around: 2200\n",
      "Num of attempts: 26747\n",
      "Generating plot for players around: 2300\n",
      "Doing ratings for puzzles around: 800\n",
      "Num of attempts: 14160\n",
      "Doing ratings for puzzles around: 900\n",
      "Num of attempts: 18805\n",
      "Doing ratings for puzzles around: 1000\n",
      "Num of attempts: 27613\n",
      "Doing ratings for puzzles around: 1100\n",
      "Num of attempts: 44373\n",
      "Doing ratings for puzzles around: 1200\n",
      "Num of attempts: 53086\n",
      "Doing ratings for puzzles around: 1300\n",
      "Num of attempts: 65698\n",
      "Doing ratings for puzzles around: 1400\n",
      "Num of attempts: 76885\n"
     ]
    },
    {
     "name": "stdout",
     "output_type": "stream",
     "text": [
      "Doing ratings for puzzles around: 1500\n",
      "Num of attempts: 86108\n",
      "Doing ratings for puzzles around: 1600\n",
      "Num of attempts: 93084\n",
      "Doing ratings for puzzles around: 1700\n",
      "Num of attempts: 95196\n",
      "Doing ratings for puzzles around: 1800\n",
      "Num of attempts: 83267\n",
      "Doing ratings for puzzles around: 1900\n",
      "Num of attempts: 78631\n",
      "Doing ratings for puzzles around: 2000\n",
      "Num of attempts: 61141\n",
      "Doing ratings for puzzles around: 2100\n",
      "Num of attempts: 42320\n",
      "Doing ratings for puzzles around: 2200\n",
      "Num of attempts: 31292\n",
      "\n"
     ]
    },
    {
     "data": {
      "text/plain": [
       "<Figure size 640x480 with 0 Axes>"
      ]
     },
     "metadata": {},
     "output_type": "display_data"
    },
    {
     "data": {
      "text/plain": [
       "<Figure size 640x480 with 0 Axes>"
      ]
     },
     "metadata": {},
     "output_type": "display_data"
    },
    {
     "data": {
      "text/plain": [
       "<Figure size 640x480 with 0 Axes>"
      ]
     },
     "metadata": {},
     "output_type": "display_data"
    },
    {
     "data": {
      "text/plain": [
       "<Figure size 640x480 with 0 Axes>"
      ]
     },
     "metadata": {},
     "output_type": "display_data"
    },
    {
     "data": {
      "text/plain": [
       "<Figure size 640x480 with 0 Axes>"
      ]
     },
     "metadata": {},
     "output_type": "display_data"
    },
    {
     "data": {
      "text/plain": [
       "<Figure size 640x480 with 0 Axes>"
      ]
     },
     "metadata": {},
     "output_type": "display_data"
    },
    {
     "data": {
      "text/plain": [
       "<Figure size 640x480 with 0 Axes>"
      ]
     },
     "metadata": {},
     "output_type": "display_data"
    },
    {
     "data": {
      "text/plain": [
       "<Figure size 640x480 with 0 Axes>"
      ]
     },
     "metadata": {},
     "output_type": "display_data"
    },
    {
     "data": {
      "text/plain": [
       "<Figure size 640x480 with 0 Axes>"
      ]
     },
     "metadata": {},
     "output_type": "display_data"
    }
   ],
   "source": [
    "time_range = list(range(0,40))\n",
    "player_labels = list(range(1,((player_end-player_start)//interval)))\n",
    "puzzle_labels = list(range(1,((puzzle_end-puzzle_start)//interval)))\n",
    "# if A = # of correct attempts and B = # of problems where seconds >= x time and ratings for user and problem are \n",
    "#within a certain range. Want to find: P(A|B) = P(A&B)/P(B)\n",
    "for player_label in tqdm(player_labels):\n",
    "    probs = []\n",
    "    print('Generating plot for players around: ' + str(player_ratings[player_label-1]))\n",
    "    for prob_label in puzzle_labels:\n",
    "        print('Doing ratings for puzzles around: ' + str(puzzle_ratings[prob_label-1]))\n",
    "        rating_probs = []\n",
    "        #Get problems that have both the correct problem rating label and player rating label\n",
    "        rating_trimmed = trimmed_data.loc[(trimmed_data.problem_rating_labels == prob_label) & \n",
    "                                             (trimmed_data.player_rating_labels == player_label)]\n",
    "        print('Num of attempts: ' + str(len(rating_trimmed)))\n",
    "        #Filter the problemd from rating_trimmed that were attempted after at least time seconds\n",
    "        for time in time_range:\n",
    "            b_condition = rating_trimmed.loc[rating_trimmed.seconds >= time]\n",
    "            rating_probs.append(len(b_condition.loc[b_condition.is_passed == 1])/len(b_condition))\n",
    "        probs.append(rating_probs)\n",
    "    #Making plot\n",
    "    plot_graph(probs,player_ratings[player_label-1])"
   ]
  }
 ],
 "metadata": {
  "kernelspec": {
   "display_name": "Python 3",
   "language": "python",
   "name": "python3"
  },
  "language_info": {
   "codemirror_mode": {
    "name": "ipython",
    "version": 3
   },
   "file_extension": ".py",
   "mimetype": "text/x-python",
   "name": "python",
   "nbconvert_exporter": "python",
   "pygments_lexer": "ipython3",
   "version": "3.7.1"
  }
 },
 "nbformat": 4,
 "nbformat_minor": 2
}
