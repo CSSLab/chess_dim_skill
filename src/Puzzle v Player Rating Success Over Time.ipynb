{
 "cells": [
  {
   "cell_type": "code",
   "execution_count": 1,
   "metadata": {},
   "outputs": [
    {
     "data": {
      "application/vnd.jupyter.widget-view+json": {
       "model_id": "7e8419e24e774b378661f53fff0e730a",
       "version_major": 2,
       "version_minor": 0
      },
      "text/plain": [
       "HBox(children=(IntProgress(value=1, bar_style='info', max=1), HTML(value='')))"
      ]
     },
     "metadata": {},
     "output_type": "display_data"
    },
    {
     "name": "stdout",
     "output_type": "stream",
     "text": [
      "\n"
     ]
    }
   ],
   "source": [
    "import pandas as pd\n",
    "import numpy as np\n",
    "from tqdm import tqdm_notebook as tqdm\n",
    "\n",
    "tqdm().pandas()\n",
    "\n",
    "#data=data.loc[data.userGamesPlayed > 50]"
   ]
  },
  {
   "cell_type": "code",
   "execution_count": 2,
   "metadata": {},
   "outputs": [],
   "source": [
    "data=pd.read_csv('/w/225/1/chess/tactics/glicko_user_tactics_problem.csv_00')"
   ]
  },
  {
   "cell_type": "code",
   "execution_count": 3,
   "metadata": {},
   "outputs": [],
   "source": [
    "puzzle_data = pd.read_csv('/w/225/1/chess/tactics/tactics_problem.csv')\n",
    "data = pd.merge(data,puzzle_data[['tactics_problem_id','rating']],on='tactics_problem_id',how='inner')"
   ]
  },
  {
   "cell_type": "code",
   "execution_count": 7,
   "metadata": {},
   "outputs": [],
   "source": [
    "data.rename(columns={'rating':'problemRating'},inplace=True)"
   ]
  },
  {
   "cell_type": "code",
   "execution_count": 8,
   "metadata": {},
   "outputs": [
    {
     "data": {
      "text/html": [
       "<div>\n",
       "<style scoped>\n",
       "    .dataframe tbody tr th:only-of-type {\n",
       "        vertical-align: middle;\n",
       "    }\n",
       "\n",
       "    .dataframe tbody tr th {\n",
       "        vertical-align: top;\n",
       "    }\n",
       "\n",
       "    .dataframe thead th {\n",
       "        text-align: right;\n",
       "    }\n",
       "</style>\n",
       "<table border=\"1\" class=\"dataframe\">\n",
       "  <thead>\n",
       "    <tr style=\"text-align: right;\">\n",
       "      <th></th>\n",
       "      <th>user_tactics_problem_id</th>\n",
       "      <th>user_hash</th>\n",
       "      <th>create_date</th>\n",
       "      <th>date</th>\n",
       "      <th>last_game_date</th>\n",
       "      <th>seconds</th>\n",
       "      <th>is_passed</th>\n",
       "      <th>correct_move_count</th>\n",
       "      <th>rating_change</th>\n",
       "      <th>tactics_problem_id</th>\n",
       "      <th>ratingUser</th>\n",
       "      <th>varianceUser</th>\n",
       "      <th>ratingProblem</th>\n",
       "      <th>varianceProblem</th>\n",
       "      <th>userGamesPlayed</th>\n",
       "      <th>problemRating</th>\n",
       "    </tr>\n",
       "  </thead>\n",
       "  <tbody>\n",
       "    <tr>\n",
       "      <th>0</th>\n",
       "      <td>38941</td>\n",
       "      <td>344494aff0032458cfe9096737c4cd13f829df9e7d3935...</td>\n",
       "      <td>2008-01-22 05:25:28</td>\n",
       "      <td>2008-01-22</td>\n",
       "      <td>2008-01-22</td>\n",
       "      <td>22</td>\n",
       "      <td>0</td>\n",
       "      <td>1</td>\n",
       "      <td>-12</td>\n",
       "      <td>810</td>\n",
       "      <td>1720</td>\n",
       "      <td>350</td>\n",
       "      <td>1720</td>\n",
       "      <td>350</td>\n",
       "      <td>0</td>\n",
       "      <td>687</td>\n",
       "    </tr>\n",
       "    <tr>\n",
       "      <th>1</th>\n",
       "      <td>381211</td>\n",
       "      <td>4017cdf33cd80adc79b3435a882fd8742075440b0ea0bf...</td>\n",
       "      <td>2008-01-30 02:34:19</td>\n",
       "      <td>2008-01-30</td>\n",
       "      <td>2008-01-30</td>\n",
       "      <td>30</td>\n",
       "      <td>0</td>\n",
       "      <td>1</td>\n",
       "      <td>-7</td>\n",
       "      <td>810</td>\n",
       "      <td>1429</td>\n",
       "      <td>265</td>\n",
       "      <td>1882</td>\n",
       "      <td>294</td>\n",
       "      <td>1</td>\n",
       "      <td>687</td>\n",
       "    </tr>\n",
       "    <tr>\n",
       "      <th>2</th>\n",
       "      <td>386511</td>\n",
       "      <td>72a1f7861e5d5fc47259095d561a2a8b3ddfad84f9dbad...</td>\n",
       "      <td>2008-01-30 06:47:40</td>\n",
       "      <td>2008-01-30</td>\n",
       "      <td>2008-01-30</td>\n",
       "      <td>42</td>\n",
       "      <td>1</td>\n",
       "      <td>3</td>\n",
       "      <td>4</td>\n",
       "      <td>810</td>\n",
       "      <td>1720</td>\n",
       "      <td>350</td>\n",
       "      <td>1921</td>\n",
       "      <td>273</td>\n",
       "      <td>0</td>\n",
       "      <td>687</td>\n",
       "    </tr>\n",
       "    <tr>\n",
       "      <th>3</th>\n",
       "      <td>414991</td>\n",
       "      <td>871d84076209702c0cda06da266b96d499d690638ee57e...</td>\n",
       "      <td>2008-01-30 17:07:19</td>\n",
       "      <td>2008-01-30</td>\n",
       "      <td>2008-01-30</td>\n",
       "      <td>48</td>\n",
       "      <td>0</td>\n",
       "      <td>0</td>\n",
       "      <td>-14</td>\n",
       "      <td>810</td>\n",
       "      <td>1720</td>\n",
       "      <td>350</td>\n",
       "      <td>1761</td>\n",
       "      <td>242</td>\n",
       "      <td>0</td>\n",
       "      <td>687</td>\n",
       "    </tr>\n",
       "    <tr>\n",
       "      <th>4</th>\n",
       "      <td>437161</td>\n",
       "      <td>f2e3d53ee5f731c2a9dffb61d33974216b8cf94eccf13b...</td>\n",
       "      <td>2008-01-31 05:22:34</td>\n",
       "      <td>2008-01-31</td>\n",
       "      <td>2008-01-24</td>\n",
       "      <td>16</td>\n",
       "      <td>1</td>\n",
       "      <td>3</td>\n",
       "      <td>7</td>\n",
       "      <td>810</td>\n",
       "      <td>1836</td>\n",
       "      <td>307</td>\n",
       "      <td>1847</td>\n",
       "      <td>220</td>\n",
       "      <td>1</td>\n",
       "      <td>687</td>\n",
       "    </tr>\n",
       "  </tbody>\n",
       "</table>\n",
       "</div>"
      ],
      "text/plain": [
       "   user_tactics_problem_id                                          user_hash  \\\n",
       "0                    38941  344494aff0032458cfe9096737c4cd13f829df9e7d3935...   \n",
       "1                   381211  4017cdf33cd80adc79b3435a882fd8742075440b0ea0bf...   \n",
       "2                   386511  72a1f7861e5d5fc47259095d561a2a8b3ddfad84f9dbad...   \n",
       "3                   414991  871d84076209702c0cda06da266b96d499d690638ee57e...   \n",
       "4                   437161  f2e3d53ee5f731c2a9dffb61d33974216b8cf94eccf13b...   \n",
       "\n",
       "           create_date        date last_game_date  seconds  is_passed  \\\n",
       "0  2008-01-22 05:25:28  2008-01-22     2008-01-22       22          0   \n",
       "1  2008-01-30 02:34:19  2008-01-30     2008-01-30       30          0   \n",
       "2  2008-01-30 06:47:40  2008-01-30     2008-01-30       42          1   \n",
       "3  2008-01-30 17:07:19  2008-01-30     2008-01-30       48          0   \n",
       "4  2008-01-31 05:22:34  2008-01-31     2008-01-24       16          1   \n",
       "\n",
       "   correct_move_count  rating_change  tactics_problem_id  ratingUser  \\\n",
       "0                   1            -12                 810        1720   \n",
       "1                   1             -7                 810        1429   \n",
       "2                   3              4                 810        1720   \n",
       "3                   0            -14                 810        1720   \n",
       "4                   3              7                 810        1836   \n",
       "\n",
       "   varianceUser  ratingProblem  varianceProblem  userGamesPlayed  \\\n",
       "0           350           1720              350                0   \n",
       "1           265           1882              294                1   \n",
       "2           350           1921              273                0   \n",
       "3           350           1761              242                0   \n",
       "4           307           1847              220                1   \n",
       "\n",
       "   problemRating  \n",
       "0            687  \n",
       "1            687  \n",
       "2            687  \n",
       "3            687  \n",
       "4            687  "
      ]
     },
     "execution_count": 8,
     "metadata": {},
     "output_type": "execute_result"
    }
   ],
   "source": [
    "data.head()"
   ]
  },
  {
   "cell_type": "code",
   "execution_count": 9,
   "metadata": {},
   "outputs": [],
   "source": [
    "trimmed_data = data[['seconds','is_passed','ratingUser','problemRating']]"
   ]
  },
  {
   "cell_type": "code",
   "execution_count": 19,
   "metadata": {},
   "outputs": [
    {
     "name": "stdout",
     "output_type": "stream",
     "text": [
      "[(1300, 1500), (1600, 1800), (1900, 2100), (2200, 2400)]\n"
     ]
    }
   ],
   "source": [
    "ratings = [1400,1700,2000,2300]\n",
    "rating_rad = 100\n",
    "rating_ranges = []\n",
    "for rating in ratings:\n",
    "    rating_ranges.append((rating-rating_rad,rating+rating_rad))\n",
    "print(rating_ranges)"
   ]
  },
  {
   "cell_type": "code",
   "execution_count": 46,
   "metadata": {},
   "outputs": [],
   "source": [
    "import matplotlib.pyplot as plt\n",
    "from matplotlib.pyplot import figure\n",
    "\n",
    "def plot_graph(data,puzz_rating):\n",
    "    figure(figsize=(8, 6), dpi=80, facecolor='w', edgecolor='k')\n",
    "    colors = ['#1dc23b','#f28d18','#931dc2','#c21d1d']\n",
    "    group = ['1400','1700','2000','2300']\n",
    "\n",
    "    for index,data in enumerate(probs):\n",
    "        color = colors[index]\n",
    "        plt.plot(data,color=color,label=group[index])\n",
    "        \n",
    "    plt.ylabel('Probability of success')\n",
    "    plt.xlabel('Time waited >= x')\n",
    "    plt.title('Player Success Over time at Puzzles around {}'.format(puzz_rating))\n",
    "    plt.legend(loc=2)\n",
    "    plt.savefig('../plots/player_time_success_{}_puzzles.png'.format(puzz_rating))\n",
    "    plt.clf()"
   ]
  },
  {
   "cell_type": "code",
   "execution_count": 47,
   "metadata": {},
   "outputs": [
    {
     "data": {
      "application/vnd.jupyter.widget-view+json": {
       "model_id": "51294044d7584428927a950e6a7188b2",
       "version_major": 2,
       "version_minor": 0
      },
      "text/plain": [
       "HBox(children=(IntProgress(value=0, max=4), HTML(value='')))"
      ]
     },
     "metadata": {},
     "output_type": "display_data"
    },
    {
     "name": "stdout",
     "output_type": "stream",
     "text": [
      "Generating plot for puzzles around: 1400\n",
      "Doing ratings for players around: 1400\n",
      "Doing ratings for players around: 1700\n",
      "Doing ratings for players around: 2000\n",
      "Doing ratings for players around: 2300\n",
      "Generating plot for puzzles around: 1700\n",
      "Doing ratings for players around: 1400\n",
      "Doing ratings for players around: 1700\n",
      "Doing ratings for players around: 2000\n",
      "Doing ratings for players around: 2300\n",
      "Generating plot for puzzles around: 2000\n",
      "Doing ratings for players around: 1400\n",
      "Doing ratings for players around: 1700\n",
      "Doing ratings for players around: 2000\n",
      "Doing ratings for players around: 2300\n",
      "Generating plot for puzzles around: 2300\n",
      "Doing ratings for players around: 1400\n",
      "Doing ratings for players around: 1700\n",
      "Doing ratings for players around: 2000\n",
      "Doing ratings for players around: 2300\n"
     ]
    },
    {
     "data": {
      "text/plain": [
       "<Figure size 640x480 with 0 Axes>"
      ]
     },
     "metadata": {},
     "output_type": "display_data"
    },
    {
     "data": {
      "text/plain": [
       "<Figure size 640x480 with 0 Axes>"
      ]
     },
     "metadata": {},
     "output_type": "display_data"
    },
    {
     "data": {
      "text/plain": [
       "<Figure size 640x480 with 0 Axes>"
      ]
     },
     "metadata": {},
     "output_type": "display_data"
    },
    {
     "data": {
      "text/plain": [
       "<Figure size 640x480 with 0 Axes>"
      ]
     },
     "metadata": {},
     "output_type": "display_data"
    }
   ],
   "source": [
    "time_range = list(range(0,40))\n",
    "# if A = # of correct attempts and B = # of problems where seconds >= x time and ratings for user and problem are \n",
    "#within a certain range. Want to find: P(A|B) = P(A&B)/P(B)\n",
    "for puz_rating in tqdm(rating_ranges):\n",
    "    probs = []\n",
    "    print('Generating plot for puzzles around: ' + str(puz_rating[0]+rating_rad))\n",
    "    for tup in rating_ranges:\n",
    "        print('Doing ratings for players around: ' + str(tup[0]+rating_rad))\n",
    "        rating_probs = []\n",
    "        #Get problems within the correct rating range\n",
    "        rating_trimmed = trimmed_data.loc[(trimmed_data.problemRating.between(puz_rating[0],puz_rating[1])) & \n",
    "                                             (trimmed_data.ratingUser.between(tup[0],tup[1]))]\n",
    "        #Filter the problemd from rating_trimmed that were attempted after at least time seconds\n",
    "        for time in time_range:\n",
    "            b_condition = rating_trimmed.loc[rating_trimmed.seconds >= time]\n",
    "            rating_probs.append(len(b_condition.loc[b_condition.is_passed == 1])/len(b_condition))\n",
    "        probs.append(rating_probs)\n",
    "    #Making plot\n",
    "    plot_graph(probs,puz_rating[0]+rating_rad)"
   ]
  }
 ],
 "metadata": {
  "kernelspec": {
   "display_name": "Python 3",
   "language": "python",
   "name": "python3"
  },
  "language_info": {
   "codemirror_mode": {
    "name": "ipython",
    "version": 3
   },
   "file_extension": ".py",
   "mimetype": "text/x-python",
   "name": "python",
   "nbconvert_exporter": "python",
   "pygments_lexer": "ipython3",
   "version": "3.7.1"
  }
 },
 "nbformat": 4,
 "nbformat_minor": 2
}
