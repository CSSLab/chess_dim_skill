{
 "cells": [
  {
   "cell_type": "code",
   "execution_count": 1,
   "metadata": {},
   "outputs": [
    {
     "data": {
      "application/vnd.jupyter.widget-view+json": {
       "model_id": "9c1e219a92914fb590f3b3d830967731",
       "version_major": 2,
       "version_minor": 0
      },
      "text/plain": [
       "HBox(children=(IntProgress(value=1, bar_style='info', max=1), HTML(value='')))"
      ]
     },
     "metadata": {},
     "output_type": "display_data"
    },
    {
     "name": "stdout",
     "output_type": "stream",
     "text": [
      "\n"
     ]
    }
   ],
   "source": [
    "import pandas as pd\n",
    "import numpy as np\n",
    "from tqdm import tqdm_notebook as tqdm\n",
    "\n",
    "tqdm().pandas()"
   ]
  },
  {
   "cell_type": "code",
   "execution_count": 2,
   "metadata": {},
   "outputs": [],
   "source": [
    "attempts=pd.read_csv('/w/225/1/chess/tactics/glicko_user_tactics_problem.csv_00')"
   ]
  },
  {
   "cell_type": "code",
   "execution_count": 3,
   "metadata": {},
   "outputs": [],
   "source": [
    "#Filter for users that have only played at least x games\n",
    "#attempts=attempts.loc[attempts.userGamesPlayed.between(2500,4000)]\n",
    "attempts = attempts.loc[attempts.userGamesPlayed > 2500]"
   ]
  },
  {
   "cell_type": "code",
   "execution_count": 5,
   "metadata": {},
   "outputs": [],
   "source": [
    "puzzle_data = pd.read_csv('/w/225/1/chess/tactics/tactics_problem.csv')\n",
    "attempts = pd.merge(attempts,puzzle_data[['tactics_problem_id','rating']],on='tactics_problem_id',how='inner')"
   ]
  },
  {
   "cell_type": "code",
   "execution_count": 41,
   "metadata": {},
   "outputs": [],
   "source": [
    "puzzle_start = 800\n",
    "puzzle_end = 1800\n",
    "interval = 100\n",
    "puzzle_ratings = np.arange(puzzle_start,puzzle_end,interval)\n",
    "#puzzle_data['problem_rating_labels'] = pd.cut(puzzle_data['rating'],np.arange(puzzle_start,puzzle_end,interval),labels=range(1,((puzzle_end-puzzle_start)//interval)))\n",
    "#attempts = pd.merge(attempts,puzzle_data[['tactics_problem_id','problem_rating_labels']],on='tactics_problem_id',how='inner')\n",
    "attempts['problem_rating_labels'] = pd.cut(attempts['rating'],puzzle_ratings,labels=range(1,((puzzle_end-puzzle_start)//interval)))"
   ]
  },
  {
   "cell_type": "code",
   "execution_count": 42,
   "metadata": {},
   "outputs": [
    {
     "data": {
      "text/plain": [
       "(24940819, 18)"
      ]
     },
     "execution_count": 42,
     "metadata": {},
     "output_type": "execute_result"
    }
   ],
   "source": [
    "#attempts.drop('rating_labels',axis=1,inplace=True)\n",
    "#attempts = attempts[attempts.problem_rating_labels.isna() == False]\n",
    "attempts.shape"
   ]
  },
  {
   "cell_type": "code",
   "execution_count": 43,
   "metadata": {},
   "outputs": [],
   "source": [
    "player_start = 1500\n",
    "player_end = 2500\n",
    "player_ratings = np.arange(player_start,player_end,interval)\n",
    "attempts['player_rating_labels'] = pd.cut(attempts['ratingUser'],player_ratings,labels=range(1,((player_end-player_start)//interval)))"
   ]
  },
  {
   "cell_type": "code",
   "execution_count": 80,
   "metadata": {},
   "outputs": [
    {
     "data": {
      "image/png": "[encoded data removed]",
      "text/plain": [
       "<Figure size 432x288 with 1 Axes>"
      ]
     },
     "metadata": {
      "needs_background": "light"
     },
     "output_type": "display_data"
    }
   ],
   "source": [
    "import matplotlib.pyplot as plt\n",
    "counts = trimmed_data.groupby(['player_rating_labels'])['is_passed'].count()\n",
    "plt.bar(counts.index,counts.values)\n",
    "plt.xticks(counts.index)\n",
    "plt.show()"
   ]
  },
  {
   "cell_type": "code",
   "execution_count": 72,
   "metadata": {},
   "outputs": [
    {
     "data": {
      "text/plain": [
       "0.6664330068711858"
      ]
     },
     "execution_count": 72,
     "metadata": {},
     "output_type": "execute_result"
    }
   ],
   "source": [
    "sum(counts)/attempts.shape[0]"
   ]
  },
  {
   "cell_type": "code",
   "execution_count": 46,
   "metadata": {},
   "outputs": [
    {
     "data": {
      "text/plain": [
       "array([ 800,  900, 1000, 1100, 1200, 1300, 1400, 1500, 1600, 1700])"
      ]
     },
     "execution_count": 46,
     "metadata": {},
     "output_type": "execute_result"
    }
   ],
   "source": [
    "#attempts.drop('rating_labels',axis=1,inplace=True)\n",
    "#attempts = attempts[attempts.player_rating_labels.isna() == False]\n",
    "#attempts.shape\n",
    "puzzle_ratings"
   ]
  },
  {
   "cell_type": "code",
   "execution_count": 54,
   "metadata": {},
   "outputs": [],
   "source": [
    "trimmed_data = attempts[['seconds','is_passed','player_rating_labels','problem_rating_labels']]"
   ]
  },
  {
   "cell_type": "code",
   "execution_count": 57,
   "metadata": {},
   "outputs": [
    {
     "name": "stdout",
     "output_type": "stream",
     "text": [
      "(24940819, 4)\n",
      "(16996065, 4)\n",
      "(16621385, 4)\n"
     ]
    }
   ],
   "source": [
    "print(trimmed_data.shape)\n",
    "trimmed_data = trimmed_data[trimmed_data.problem_rating_labels.isna() == False]\n",
    "print(trimmed_data.shape)\n",
    "trimmed_data = trimmed_data[trimmed_data.player_rating_labels.isna() == False]\n",
    "print(trimmed_data.shape)"
   ]
  },
  {
   "cell_type": "code",
   "execution_count": 88,
   "metadata": {},
   "outputs": [],
   "source": [
    "import matplotlib.pyplot as plt\n",
    "from matplotlib.pyplot import figure\n",
    "import seaborn as sns\n",
    "\n",
    "def plot_graph(data,rating):\n",
    "    figure(figsize=(8, 6), dpi=80, facecolor='w', edgecolor='k')\n",
    "    colors = sns.color_palette(\"hls\", len(data))\n",
    "    for index,data in enumerate(probs):\n",
    "        color = colors[index]\n",
    "        #Calculate standard error \n",
    "        stderror = np.sqrt(np.var(data)/len(data))\n",
    "        plt.plot(data,color=color,label=str(puzzle_ratings[index]))\n",
    "        #Add 1.96 times the standard error to get the 95% confidence interval \n",
    "        plt.fill_between(time_range,data-(1.96*stderror),data+(1.96*stderror),alpha=0.4,color=color)\n",
    "        \n",
    "    plt.ylabel('Probability of success')\n",
    "    plt.xlabel('Time waited >= x')\n",
    "    plt.title('Success at puzzles for players around {}'.format(rating))\n",
    "    plt.legend(loc=2)\n",
    "    plt.savefig('../plots/timeplots/puzzle_time_success_{}_players.png'.format(rating))\n",
    "    plt.clf()"
   ]
  },
  {
   "cell_type": "code",
   "execution_count": 77,
   "metadata": {},
   "outputs": [
    {
     "data": {
      "application/vnd.jupyter.widget-view+json": {
       "model_id": "7868166c37a84123a2cbf0da1e55e3f1",
       "version_major": 2,
       "version_minor": 0
      },
      "text/plain": [
       "HBox(children=(IntProgress(value=0, max=9), HTML(value='')))"
      ]
     },
     "metadata": {},
     "output_type": "display_data"
    },
    {
     "name": "stdout",
     "output_type": "stream",
     "text": [
      "Generating plot for players around: 1500\n",
      "Doing ratings for puzzles around: 800\n",
      "Num of attempts: 30375\n",
      "Doing ratings for puzzles around: 900\n",
      "Num of attempts: 12854\n",
      "Doing ratings for puzzles around: 1000\n",
      "Num of attempts: 7209\n",
      "Doing ratings for puzzles around: 1100\n",
      "Num of attempts: 3241\n",
      "Doing ratings for puzzles around: 1200\n",
      "Num of attempts: 1273\n",
      "Doing ratings for puzzles around: 1300\n",
      "Num of attempts: 668\n",
      "Doing ratings for puzzles around: 1400\n",
      "Num of attempts: 370\n",
      "Doing ratings for puzzles around: 1500\n",
      "Num of attempts: 245\n",
      "Doing ratings for puzzles around: 1600\n",
      "Num of attempts: 109\n",
      "Generating plot for players around: 1600\n",
      "Doing ratings for puzzles around: 800\n",
      "Num of attempts: 148100\n",
      "Doing ratings for puzzles around: 900\n",
      "Num of attempts: 75095\n",
      "Doing ratings for puzzles around: 1000\n",
      "Num of attempts: 45703\n",
      "Doing ratings for puzzles around: 1100\n",
      "Num of attempts: 24075\n",
      "Doing ratings for puzzles around: 1200\n",
      "Num of attempts: 9715\n",
      "Doing ratings for puzzles around: 1300\n",
      "Num of attempts: 4009\n",
      "Doing ratings for puzzles around: 1400\n",
      "Num of attempts: 2185\n",
      "Doing ratings for puzzles around: 1500\n",
      "Num of attempts: 1327\n",
      "Doing ratings for puzzles around: 1600\n",
      "Num of attempts: 627\n",
      "Generating plot for players around: 1700\n",
      "Doing ratings for puzzles around: 800\n",
      "Num of attempts: 451965\n",
      "Doing ratings for puzzles around: 900\n",
      "Num of attempts: 313549\n",
      "Doing ratings for puzzles around: 1000\n",
      "Num of attempts: 233797\n",
      "Doing ratings for puzzles around: 1100\n",
      "Num of attempts: 152930\n",
      "Doing ratings for puzzles around: 1200\n",
      "Num of attempts: 67468\n",
      "Doing ratings for puzzles around: 1300\n",
      "Num of attempts: 29548\n",
      "Doing ratings for puzzles around: 1400\n",
      "Num of attempts: 12931\n",
      "Doing ratings for puzzles around: 1500\n",
      "Num of attempts: 6237\n",
      "Doing ratings for puzzles around: 1600\n",
      "Num of attempts: 2589\n",
      "Generating plot for players around: 1800\n",
      "Doing ratings for puzzles around: 800\n",
      "Num of attempts: 645609\n",
      "Doing ratings for puzzles around: 900\n",
      "Num of attempts: 625788\n",
      "Doing ratings for puzzles around: 1000\n",
      "Num of attempts: 625675\n",
      "Doing ratings for puzzles around: 1100\n",
      "Num of attempts: 531589\n",
      "Doing ratings for puzzles around: 1200\n",
      "Num of attempts: 302117\n",
      "Doing ratings for puzzles around: 1300\n",
      "Num of attempts: 161432\n",
      "Doing ratings for puzzles around: 1400\n",
      "Num of attempts: 77723\n",
      "Doing ratings for puzzles around: 1500\n",
      "Num of attempts: 32870\n",
      "Doing ratings for puzzles around: 1600\n",
      "Num of attempts: 12100\n",
      "Generating plot for players around: 1900\n",
      "Doing ratings for puzzles around: 800\n",
      "Num of attempts: 455361\n",
      "Doing ratings for puzzles around: 900\n",
      "Num of attempts: 535783\n",
      "Doing ratings for puzzles around: 1000\n",
      "Num of attempts: 690471\n",
      "Doing ratings for puzzles around: 1100\n",
      "Num of attempts: 803225\n",
      "Doing ratings for puzzles around: 1200\n",
      "Num of attempts: 649073\n",
      "Doing ratings for puzzles around: 1300\n",
      "Num of attempts: 454738\n",
      "Doing ratings for puzzles around: 1400\n",
      "Num of attempts: 281102\n",
      "Doing ratings for puzzles around: 1500\n",
      "Num of attempts: 143412\n",
      "Doing ratings for puzzles around: 1600\n",
      "Num of attempts: 62191\n",
      "Generating plot for players around: 2000\n",
      "Doing ratings for puzzles around: 800\n",
      "Num of attempts: 231439\n",
      "Doing ratings for puzzles around: 900\n",
      "Num of attempts: 291238\n",
      "Doing ratings for puzzles around: 1000\n",
      "Num of attempts: 414535\n",
      "Doing ratings for puzzles around: 1100\n",
      "Num of attempts: 582744\n",
      "Doing ratings for puzzles around: 1200\n",
      "Num of attempts: 617459\n",
      "Doing ratings for puzzles around: 1300\n",
      "Num of attempts: 593828\n",
      "Doing ratings for puzzles around: 1400\n",
      "Num of attempts: 499465\n",
      "Doing ratings for puzzles around: 1500\n",
      "Num of attempts: 337765\n",
      "Doing ratings for puzzles around: 1600\n",
      "Num of attempts: 186331\n",
      "Generating plot for players around: 2100\n",
      "Doing ratings for puzzles around: 800\n",
      "Num of attempts: 98360\n",
      "Doing ratings for puzzles around: 900\n",
      "Num of attempts: 128519\n",
      "Doing ratings for puzzles around: 1000\n",
      "Num of attempts: 189352\n",
      "Doing ratings for puzzles around: 1100\n",
      "Num of attempts: 285586\n",
      "Doing ratings for puzzles around: 1200\n",
      "Num of attempts: 333304\n",
      "Doing ratings for puzzles around: 1300\n",
      "Num of attempts: 380442\n",
      "Doing ratings for puzzles around: 1400\n",
      "Num of attempts: 398143\n",
      "Doing ratings for puzzles around: 1500\n",
      "Num of attempts: 362259\n",
      "Doing ratings for puzzles around: 1600\n",
      "Num of attempts: 277179\n",
      "Generating plot for players around: 2200\n",
      "Doing ratings for puzzles around: 800\n",
      "Num of attempts: 37674\n",
      "Doing ratings for puzzles around: 900\n",
      "Num of attempts: 50382\n",
      "Doing ratings for puzzles around: 1000\n",
      "Num of attempts: 74600\n",
      "Doing ratings for puzzles around: 1100\n",
      "Num of attempts: 117709\n",
      "Doing ratings for puzzles around: 1200\n",
      "Num of attempts: 140516\n",
      "Doing ratings for puzzles around: 1300\n",
      "Num of attempts: 169268\n",
      "Doing ratings for puzzles around: 1400\n",
      "Num of attempts: 195343\n",
      "Doing ratings for puzzles around: 1500\n",
      "Num of attempts: 211127\n",
      "Doing ratings for puzzles around: 1600\n",
      "Num of attempts: 208553\n",
      "Generating plot for players around: 2300\n",
      "Doing ratings for puzzles around: 800\n",
      "Num of attempts: 14160\n",
      "Doing ratings for puzzles around: 900\n",
      "Num of attempts: 18805\n",
      "Doing ratings for puzzles around: 1000\n",
      "Num of attempts: 27613\n",
      "Doing ratings for puzzles around: 1100\n",
      "Num of attempts: 44373\n",
      "Doing ratings for puzzles around: 1200\n",
      "Num of attempts: 53086\n",
      "Doing ratings for puzzles around: 1300\n",
      "Num of attempts: 65698\n",
      "Doing ratings for puzzles around: 1400\n",
      "Num of attempts: 76885\n",
      "Doing ratings for puzzles around: 1500\n",
      "Num of attempts: 86108\n",
      "Doing ratings for puzzles around: 1600\n",
      "Num of attempts: 93084\n",
      "\n"
     ]
    },
    {
     "data": {
      "text/plain": [
       "<Figure size 640x480 with 0 Axes>"
      ]
     },
     "metadata": {},
     "output_type": "display_data"
    },
    {
     "data": {
      "text/plain": [
       "<Figure size 640x480 with 0 Axes>"
      ]
     },
     "metadata": {},
     "output_type": "display_data"
    },
    {
     "data": {
      "text/plain": [
       "<Figure size 640x480 with 0 Axes>"
      ]
     },
     "metadata": {},
     "output_type": "display_data"
    },
    {
     "data": {
      "text/plain": [
       "<Figure size 640x480 with 0 Axes>"
      ]
     },
     "metadata": {},
     "output_type": "display_data"
    },
    {
     "data": {
      "text/plain": [
       "<Figure size 640x480 with 0 Axes>"
      ]
     },
     "metadata": {},
     "output_type": "display_data"
    },
    {
     "data": {
      "text/plain": [
       "<Figure size 640x480 with 0 Axes>"
      ]
     },
     "metadata": {},
     "output_type": "display_data"
    },
    {
     "data": {
      "text/plain": [
       "<Figure size 640x480 with 0 Axes>"
      ]
     },
     "metadata": {},
     "output_type": "display_data"
    },
    {
     "data": {
      "text/plain": [
       "<Figure size 640x480 with 0 Axes>"
      ]
     },
     "metadata": {},
     "output_type": "display_data"
    },
    {
     "data": {
      "text/plain": [
       "<Figure size 640x480 with 0 Axes>"
      ]
     },
     "metadata": {},
     "output_type": "display_data"
    }
   ],
   "source": [
    "time_range = list(range(0,40))\n",
    "player_labels = list(range(1,((player_end-player_start)//interval)))\n",
    "puzzle_labels = list(range(1,((puzzle_end-puzzle_start)//interval)))\n",
    "# if A = # of correct attempts and B = # of problems where seconds >= x time and ratings for user and problem are \n",
    "#within a certain range. Want to find: P(A|B) = P(A&B)/P(B)\n",
    "for player_label in tqdm(player_labels):\n",
    "    probs = []\n",
    "    print('Generating plot for players around: ' + str(player_ratings[player_label-1]))\n",
    "    for prob_label in puzzle_labels:\n",
    "        print('Doing ratings for puzzles around: ' + str(puzzle_ratings[prob_label-1]))\n",
    "        rating_probs = []\n",
    "        #Get problems that have both the correct problem rating label and player rating label\n",
    "        rating_trimmed = trimmed_data.loc[(trimmed_data.problem_rating_labels == prob_label) & \n",
    "                                             (trimmed_data.player_rating_labels == player_label)]\n",
    "        print('Num of attempts: ' + str(len(rating_trimmed)))\n",
    "        #Filter the problemd from rating_trimmed that were attempted after at least time seconds\n",
    "        for time in time_range:\n",
    "            b_condition = rating_trimmed.loc[rating_trimmed.seconds >= time]\n",
    "            rating_probs.append(len(b_condition.loc[b_condition.is_passed == 1])/len(b_condition))\n",
    "        probs.append(rating_probs)\n",
    "    #Making plot\n",
    "    plot_graph(probs,player_ratings[player_label-1])"
   ]
  }
 ],
 "metadata": {
  "kernelspec": {
   "display_name": "Python 3",
   "language": "python",
   "name": "python3"
  },
  "language_info": {
   "codemirror_mode": {
    "name": "ipython",
    "version": 3
   },
   "file_extension": ".py",
   "mimetype": "text/x-python",
   "name": "python",
   "nbconvert_exporter": "python",
   "pygments_lexer": "ipython3",
   "version": "3.7.1"
  }
 },
 "nbformat": 4,
 "nbformat_minor": 2
}
