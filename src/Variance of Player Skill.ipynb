{
 "cells": [
  {
   "cell_type": "code",
   "execution_count": 1,
   "metadata": {},
   "outputs": [
    {
     "data": {
      "application/vnd.jupyter.widget-view+json": {
       "model_id": "56e05c1fa1a04733850e3c12720fd6d3",
       "version_major": 2,
       "version_minor": 0
      },
      "text/plain": [
       "HBox(children=(IntProgress(value=1, bar_style='info', max=1), HTML(value='')))"
      ]
     },
     "metadata": {},
     "output_type": "display_data"
    },
    {
     "name": "stdout",
     "output_type": "stream",
     "text": [
      "\n"
     ]
    }
   ],
   "source": [
    "import numpy as np\n",
    "import pandas as pd\n",
    "from tqdm import tqdm_notebook as tqdm\n",
    "tqdm().pandas()\n",
    "META_FILE = 'bpr_meta.tsv'\n",
    "puzzle_data = pd.read_csv(META_FILE, sep='\\t')"
   ]
  },
  {
   "cell_type": "code",
   "execution_count": 2,
   "metadata": {},
   "outputs": [],
   "source": [
    "#Load the full dataset of puzzle attempts\n",
    "attempts = pd.read_csv(\"/w/225/1/chess/tactics/glicko_user_tactics_problem.csv_00\")"
   ]
  },
  {
   "cell_type": "code",
   "execution_count": 3,
   "metadata": {},
   "outputs": [],
   "source": [
    "#Replace each 0 in the is_passed field with a -1 for calculating the total won - failed later\n",
    "attempts['is_passed'] = attempts['is_passed'].replace(0, -1,regex=True)"
   ]
  },
  {
   "cell_type": "markdown",
   "metadata": {},
   "source": [
    "<h2>Get Average User Success Sample Var in Actual Clusters</h2>"
   ]
  },
  {
   "cell_type": "code",
   "execution_count": 4,
   "metadata": {},
   "outputs": [],
   "source": [
    "#Filter attempts to include only attempts by players who have played at least 100 games\n",
    "attempts = attempts.loc[attempts['userGamesPlayed'] >= 1000]"
   ]
  },
  {
   "cell_type": "code",
   "execution_count": 5,
   "metadata": {},
   "outputs": [],
   "source": [
    "#Join cluster labels to puzzles that were clustered\n",
    "attempts=pd.merge(attempts,puzzle_data[['tactics_problem_id','cluster','tag','rating','bpr_cluster']],on='tactics_problem_id', how='inner')"
   ]
  },
  {
   "cell_type": "code",
   "execution_count": 6,
   "metadata": {},
   "outputs": [],
   "source": [
    "#Create the rating bin labels\n",
    "puzzle_end = attempts['rating'].max()\n",
    "puzzle_start = attempts['rating'].min()\n",
    "interval = (puzzle_end-puzzle_start)//20\n",
    "rating_bins = np.arange(puzzle_start,puzzle_end,interval)"
   ]
  },
  {
   "cell_type": "code",
   "execution_count": 7,
   "metadata": {},
   "outputs": [],
   "source": [
    "attempts['rating_labels'] = pd.cut(attempts['rating'],rating_bins,labels=range(0,((puzzle_end-puzzle_start)//interval)))"
   ]
  },
  {
   "cell_type": "code",
   "execution_count": 8,
   "metadata": {},
   "outputs": [
    {
     "data": {
      "text/html": [
       "<div>\n",
       "<style scoped>\n",
       "    .dataframe tbody tr th:only-of-type {\n",
       "        vertical-align: middle;\n",
       "    }\n",
       "\n",
       "    .dataframe tbody tr th {\n",
       "        vertical-align: top;\n",
       "    }\n",
       "\n",
       "    .dataframe thead th {\n",
       "        text-align: right;\n",
       "    }\n",
       "</style>\n",
       "<table border=\"1\" class=\"dataframe\">\n",
       "  <thead>\n",
       "    <tr style=\"text-align: right;\">\n",
       "      <th></th>\n",
       "      <th>user_tactics_problem_id</th>\n",
       "      <th>user_hash</th>\n",
       "      <th>create_date</th>\n",
       "      <th>date</th>\n",
       "      <th>last_game_date</th>\n",
       "      <th>seconds</th>\n",
       "      <th>is_passed</th>\n",
       "      <th>correct_move_count</th>\n",
       "      <th>rating_change</th>\n",
       "      <th>tactics_problem_id</th>\n",
       "      <th>ratingUser</th>\n",
       "      <th>varianceUser</th>\n",
       "      <th>ratingProblem</th>\n",
       "      <th>varianceProblem</th>\n",
       "      <th>userGamesPlayed</th>\n",
       "      <th>cluster</th>\n",
       "      <th>tag</th>\n",
       "      <th>rating</th>\n",
       "      <th>bpr_cluster</th>\n",
       "      <th>rating_labels</th>\n",
       "    </tr>\n",
       "  </thead>\n",
       "  <tbody>\n",
       "    <tr>\n",
       "      <th>48635756</th>\n",
       "      <td>275283392</td>\n",
       "      <td>ac27feab1da16cfdd021ed91aa0d28d5b27ed36a655bfc...</td>\n",
       "      <td>2013-06-28 20:47:45</td>\n",
       "      <td>2013-06-28</td>\n",
       "      <td>2013-06-28</td>\n",
       "      <td>1</td>\n",
       "      <td>1</td>\n",
       "      <td>2</td>\n",
       "      <td>17</td>\n",
       "      <td>387387</td>\n",
       "      <td>2316</td>\n",
       "      <td>97</td>\n",
       "      <td>1981</td>\n",
       "      <td>21</td>\n",
       "      <td>17646</td>\n",
       "      <td>13</td>\n",
       "      <td>Overloading</td>\n",
       "      <td>1532</td>\n",
       "      <td>9</td>\n",
       "      <td>7</td>\n",
       "    </tr>\n",
       "    <tr>\n",
       "      <th>48635757</th>\n",
       "      <td>275287634</td>\n",
       "      <td>c051031f37ac43e1fc931c94e1a079fa58fc804bfddc04...</td>\n",
       "      <td>2013-06-28 21:07:42</td>\n",
       "      <td>2013-06-28</td>\n",
       "      <td>2013-06-28</td>\n",
       "      <td>21</td>\n",
       "      <td>1</td>\n",
       "      <td>2</td>\n",
       "      <td>11</td>\n",
       "      <td>387387</td>\n",
       "      <td>2093</td>\n",
       "      <td>79</td>\n",
       "      <td>1979</td>\n",
       "      <td>21</td>\n",
       "      <td>1725</td>\n",
       "      <td>13</td>\n",
       "      <td>Overloading</td>\n",
       "      <td>1532</td>\n",
       "      <td>9</td>\n",
       "      <td>7</td>\n",
       "    </tr>\n",
       "    <tr>\n",
       "      <th>48635758</th>\n",
       "      <td>275294194</td>\n",
       "      <td>4221b560d6a95c5783236b5257ffa517ba10871c9f88f4...</td>\n",
       "      <td>2013-06-28 21:43:07</td>\n",
       "      <td>2013-06-28</td>\n",
       "      <td>2013-06-27</td>\n",
       "      <td>62</td>\n",
       "      <td>1</td>\n",
       "      <td>2</td>\n",
       "      <td>6</td>\n",
       "      <td>387387</td>\n",
       "      <td>2089</td>\n",
       "      <td>86</td>\n",
       "      <td>1973</td>\n",
       "      <td>21</td>\n",
       "      <td>8024</td>\n",
       "      <td>13</td>\n",
       "      <td>Overloading</td>\n",
       "      <td>1532</td>\n",
       "      <td>9</td>\n",
       "      <td>7</td>\n",
       "    </tr>\n",
       "    <tr>\n",
       "      <th>48635759</th>\n",
       "      <td>275338250</td>\n",
       "      <td>ab67d05e7822828bc18e20418fd7054b659dd7ea44321b...</td>\n",
       "      <td>2013-06-29 01:06:31</td>\n",
       "      <td>2013-06-29</td>\n",
       "      <td>2013-06-29</td>\n",
       "      <td>40</td>\n",
       "      <td>1</td>\n",
       "      <td>2</td>\n",
       "      <td>11</td>\n",
       "      <td>387387</td>\n",
       "      <td>2034</td>\n",
       "      <td>64</td>\n",
       "      <td>1978</td>\n",
       "      <td>21</td>\n",
       "      <td>7874</td>\n",
       "      <td>13</td>\n",
       "      <td>Overloading</td>\n",
       "      <td>1532</td>\n",
       "      <td>9</td>\n",
       "      <td>7</td>\n",
       "    </tr>\n",
       "    <tr>\n",
       "      <th>48635760</th>\n",
       "      <td>275426270</td>\n",
       "      <td>93520d4c5a91227fbf4fd7a1e7d0473033873325140b5f...</td>\n",
       "      <td>2013-06-29 06:11:09</td>\n",
       "      <td>2013-06-29</td>\n",
       "      <td>2012-12-23</td>\n",
       "      <td>31</td>\n",
       "      <td>1</td>\n",
       "      <td>2</td>\n",
       "      <td>4</td>\n",
       "      <td>387387</td>\n",
       "      <td>2046</td>\n",
       "      <td>350</td>\n",
       "      <td>1982</td>\n",
       "      <td>21</td>\n",
       "      <td>2091</td>\n",
       "      <td>13</td>\n",
       "      <td>Overloading</td>\n",
       "      <td>1532</td>\n",
       "      <td>9</td>\n",
       "      <td>7</td>\n",
       "    </tr>\n",
       "  </tbody>\n",
       "</table>\n",
       "</div>"
      ],
      "text/plain": [
       "          user_tactics_problem_id  \\\n",
       "48635756                275283392   \n",
       "48635757                275287634   \n",
       "48635758                275294194   \n",
       "48635759                275338250   \n",
       "48635760                275426270   \n",
       "\n",
       "                                                  user_hash  \\\n",
       "48635756  ac27feab1da16cfdd021ed91aa0d28d5b27ed36a655bfc...   \n",
       "48635757  c051031f37ac43e1fc931c94e1a079fa58fc804bfddc04...   \n",
       "48635758  4221b560d6a95c5783236b5257ffa517ba10871c9f88f4...   \n",
       "48635759  ab67d05e7822828bc18e20418fd7054b659dd7ea44321b...   \n",
       "48635760  93520d4c5a91227fbf4fd7a1e7d0473033873325140b5f...   \n",
       "\n",
       "                  create_date        date last_game_date  seconds  is_passed  \\\n",
       "48635756  2013-06-28 20:47:45  2013-06-28     2013-06-28        1          1   \n",
       "48635757  2013-06-28 21:07:42  2013-06-28     2013-06-28       21          1   \n",
       "48635758  2013-06-28 21:43:07  2013-06-28     2013-06-27       62          1   \n",
       "48635759  2013-06-29 01:06:31  2013-06-29     2013-06-29       40          1   \n",
       "48635760  2013-06-29 06:11:09  2013-06-29     2012-12-23       31          1   \n",
       "\n",
       "          correct_move_count  rating_change  tactics_problem_id  ratingUser  \\\n",
       "48635756                   2             17              387387        2316   \n",
       "48635757                   2             11              387387        2093   \n",
       "48635758                   2              6              387387        2089   \n",
       "48635759                   2             11              387387        2034   \n",
       "48635760                   2              4              387387        2046   \n",
       "\n",
       "          varianceUser  ratingProblem  varianceProblem  userGamesPlayed  \\\n",
       "48635756            97           1981               21            17646   \n",
       "48635757            79           1979               21             1725   \n",
       "48635758            86           1973               21             8024   \n",
       "48635759            64           1978               21             7874   \n",
       "48635760           350           1982               21             2091   \n",
       "\n",
       "          cluster          tag  rating  bpr_cluster rating_labels  \n",
       "48635756       13  Overloading    1532            9             7  \n",
       "48635757       13  Overloading    1532            9             7  \n",
       "48635758       13  Overloading    1532            9             7  \n",
       "48635759       13  Overloading    1532            9             7  \n",
       "48635760       13  Overloading    1532            9             7  "
      ]
     },
     "execution_count": 8,
     "metadata": {},
     "output_type": "execute_result"
    }
   ],
   "source": [
    "attempts.tail()"
   ]
  },
  {
   "cell_type": "code",
   "execution_count": 9,
   "metadata": {},
   "outputs": [],
   "source": [
    "#Calculate performance rating per cluster per user\n",
    "import time\n",
    "\n",
    "def time_command(command,criteria):\n",
    "    print('Running: ' + command)\n",
    "    start = time.time()\n",
    "    exec(command)\n",
    "    print('Took: '  + str(time.time()-start))\n",
    "\n",
    "def calc_user_performance(time=False,criteria='cluster'):\n",
    "    commands = [\"global opponent_ratings_total; opponent_ratings_total = attempts.groupby(['user_hash',criteria])['rating'].sum()\",\n",
    "                \"global num_cluster_games; num_cluster_games = attempts.groupby(['user_hash',criteria])['user_hash'].count()\",\n",
    "                \"global wins_plus_losses; wins_plus_losses = attempts.groupby(['user_hash',criteria])['is_passed'].sum()\"]\n",
    "    for command in commands:\n",
    "        if time:\n",
    "            time_command(command,criteria)\n",
    "        else:\n",
    "            exec(command)\n",
    "    return (opponent_ratings_total + 400*wins_plus_losses)/num_cluster_games"
   ]
  },
  {
   "cell_type": "code",
   "execution_count": 10,
   "metadata": {},
   "outputs": [],
   "source": [
    "#Calculate the accuracy of each player in each cluster\n",
    "def calc_user_accuracy(time=False,criteria='cluster'):\n",
    "    commands = [\"global num_cluster_games; num_cluster_games = attempts.groupby(['user_hash',criteria])['user_hash'].count()\",\n",
    "                \"global num_wins; num_wins = attempts.loc[attempts.is_passed == 1].groupby(['user_hash',criteria])['tactics_problem_id'].count()\"]\n",
    "    for command in commands:\n",
    "        if time:\n",
    "            time_command(command,criteria)\n",
    "        else:\n",
    "            exec(command)\n",
    "    return num_wins/num_cluster_games"
   ]
  },
  {
   "cell_type": "code",
   "execution_count": 11,
   "metadata": {},
   "outputs": [
    {
     "name": "stdout",
     "output_type": "stream",
     "text": [
      "Running: global opponent_ratings_total; opponent_ratings_total = attempts.groupby(['user_hash',criteria])['rating'].sum()\n",
      "Took: 93.87803816795349\n",
      "Running: global num_cluster_games; num_cluster_games = attempts.groupby(['user_hash',criteria])['user_hash'].count()\n",
      "Took: 65.72332262992859\n",
      "Running: global wins_plus_losses; wins_plus_losses = attempts.groupby(['user_hash',criteria])['is_passed'].sum()\n",
      "Took: 49.48749017715454\n",
      "301684.7407600879\n"
     ]
    }
   ],
   "source": [
    "#Get variance of performance rating per cluster per user\n",
    "ratebin_performance_user = calc_user_performance(True,criteria='rating_labels')\n",
    "avg_ratebin_variance = ratebin_performance_user.var(level=0).agg('mean')\n",
    "print(avg_ratebin_variance)"
   ]
  },
  {
   "cell_type": "code",
   "execution_count": 12,
   "metadata": {},
   "outputs": [
    {
     "name": "stdout",
     "output_type": "stream",
     "text": [
      "Running: global opponent_ratings_total; opponent_ratings_total = attempts.groupby(['user_hash',criteria])['rating'].sum()\n",
      "Took: 52.80535292625427\n",
      "Running: global num_cluster_games; num_cluster_games = attempts.groupby(['user_hash',criteria])['user_hash'].count()\n",
      "Took: 61.5224027633667\n",
      "Running: global wins_plus_losses; wins_plus_losses = attempts.groupby(['user_hash',criteria])['is_passed'].sum()\n",
      "Took: 46.60187864303589\n",
      "108281.5993984598\n"
     ]
    }
   ],
   "source": [
    "#Get variance of performance rating per cluster per user\n",
    "cluster_performance_user = calc_user_performance(True)\n",
    "avg_cluster_variance = cluster_performance_user.var(level=0).agg('mean')\n",
    "print(avg_cluster_variance)"
   ]
  },
  {
   "cell_type": "code",
   "execution_count": 13,
   "metadata": {},
   "outputs": [
    {
     "name": "stdout",
     "output_type": "stream",
     "text": [
      "Running: global opponent_ratings_total; opponent_ratings_total = attempts.groupby(['user_hash',criteria])['rating'].sum()\n",
      "Took: 49.9693386554718\n",
      "Running: global num_cluster_games; num_cluster_games = attempts.groupby(['user_hash',criteria])['user_hash'].count()\n",
      "Took: 60.08043146133423\n",
      "Running: global wins_plus_losses; wins_plus_losses = attempts.groupby(['user_hash',criteria])['is_passed'].sum()\n",
      "Took: 45.7137565612793\n",
      "110985.33692446668\n"
     ]
    }
   ],
   "source": [
    "#Get variance of performance rating per cluster per user\n",
    "bpr_performance_user = calc_user_performance(time=True,criteria='bpr_cluster')\n",
    "avg_bpr_variance = bpr_performance_user.var(level=0).agg('mean')\n",
    "print(avg_bpr_variance)"
   ]
  },
  {
   "cell_type": "code",
   "execution_count": 14,
   "metadata": {},
   "outputs": [
    {
     "name": "stdout",
     "output_type": "stream",
     "text": [
      "Running: global opponent_ratings_total; opponent_ratings_total = attempts.groupby(['user_hash',criteria])['rating'].sum()\n",
      "Took: 47.67429518699646\n",
      "Running: global num_cluster_games; num_cluster_games = attempts.groupby(['user_hash',criteria])['user_hash'].count()\n",
      "Took: 57.87936449050903\n",
      "Running: global wins_plus_losses; wins_plus_losses = attempts.groupby(['user_hash',criteria])['is_passed'].sum()\n",
      "Took: 46.34751224517822\n",
      "46236.27020432449\n"
     ]
    }
   ],
   "source": [
    "#Get variance of performance rating per tag per user\n",
    "tag_performance_user = calc_user_performance(time=True,criteria='tag')\n",
    "avg_tag_variance = tag_performance_user.var(level=0).agg('mean')\n",
    "print(avg_tag_variance)"
   ]
  },
  {
   "cell_type": "code",
   "execution_count": 18,
   "metadata": {},
   "outputs": [],
   "source": [
    "import matplotlib.pyplot as plt\n",
    "\n",
    "\n",
    "def plot_tag_counts(series,label,filename):\n",
    "    fig = plt.figure(figsize=(8,6))\n",
    "    ax = fig.add_subplot(1, 1, 1)\n",
    "    newdata = series.sort_values(ascending=False)\n",
    "    newdata = newdata.reset_index()[0]\n",
    "    ax.bar(newdata.index, newdata.values,align='edge')\n",
    "    ax.set_xticklabels(newdata.index,rotation='vertical')\n",
    "    plt.title(label)\n",
    "    plt.tight_layout()\n",
    "    #plt.savefig('../plots/presentation/' + filename)\n",
    "    plt.show()\n"
   ]
  },
  {
   "cell_type": "code",
   "execution_count": 19,
   "metadata": {},
   "outputs": [
    {
     "data": {
      "image/png": "[encoded data removed]",
      "text/plain": [
       "<Figure size 576x432 with 1 Axes>"
      ]
     },
     "metadata": {
      "needs_background": "light"
     },
     "output_type": "display_data"
    }
   ],
   "source": [
    "ratebin_avgs = ratebin_performance_user.groupby('rating_labels').agg('mean')\n",
    "plot_tag_counts(ratebin_avgs,'Rating Bin Avg Performace','ratingbin_avg_performance')"
   ]
  },
  {
   "cell_type": "code",
   "execution_count": 20,
   "metadata": {},
   "outputs": [
    {
     "data": {
      "image/png": "[encoded data removed]",
      "text/plain": [
       "<Figure size 576x432 with 1 Axes>"
      ]
     },
     "metadata": {
      "needs_background": "light"
     },
     "output_type": "display_data"
    }
   ],
   "source": [
    "tag_avgs = tag_performance_user.groupby('tag').agg('mean')\n",
    "plot_tag_counts(tag_avgs,'Tag Avg Performance','tag_avg_performance')"
   ]
  },
  {
   "cell_type": "code",
   "execution_count": 21,
   "metadata": {},
   "outputs": [
    {
     "data": {
      "image/png": "[encoded data removed]",
      "text/plain": [
       "<Figure size 576x432 with 1 Axes>"
      ]
     },
     "metadata": {
      "needs_background": "light"
     },
     "output_type": "display_data"
    }
   ],
   "source": [
    "cluster_avgs = cluster_performance_user.groupby('cluster').agg('mean')\n",
    "#cluster_avgs.index = map(str, range(1,21))\n",
    "plot_tag_counts(cluster_avgs,'Cluster Avg Performance','cluster_avg_performance')"
   ]
  },
  {
   "cell_type": "code",
   "execution_count": 22,
   "metadata": {},
   "outputs": [
    {
     "data": {
      "image/png": "[encoded data removed]",
      "text/plain": [
       "<Figure size 576x432 with 1 Axes>"
      ]
     },
     "metadata": {
      "needs_background": "light"
     },
     "output_type": "display_data"
    }
   ],
   "source": [
    "bpr_avgs = bpr_performance_user.groupby('bpr_cluster').agg('mean')\n",
    "plot_tag_counts(bpr_avgs,'BPR Cluster Avg Performance','bpr_avg_performance')"
   ]
  },
  {
   "cell_type": "code",
   "execution_count": null,
   "metadata": {},
   "outputs": [],
   "source": [
    "print('Ratebin Max and Min Performances')\n",
    "print(max(ratebin_avgs))\n",
    "print(min(ratebin_avgs))\n",
    "print('---------')\n",
    "print('Tag Max and Min Performances')\n",
    "print(max(tag_avgs))\n",
    "print(min(tag_avgs))\n",
    "print('---------')\n",
    "print('Cluster Max and Min Performances')\n",
    "print(max(cluster_avgs))\n",
    "print(min(cluster_avgs))\n",
    "print('---------')\n",
    "print('BPR Max and Min Performances')\n",
    "print(max(bpr_avgs))\n",
    "print(min(bpr_avgs))"
   ]
  },
  {
   "cell_type": "markdown",
   "metadata": {},
   "source": [
    "<h2>Get Average User Success Sample Var in Fake Clusters</h2>"
   ]
  },
  {
   "cell_type": "code",
   "execution_count": 23,
   "metadata": {},
   "outputs": [],
   "source": [
    "#Get number of puzzles in each cluster and create a numpy array of cluster labels so that the number of labels\n",
    "#for cluster 'a' correspond to the count of cluster a in the original puzzle metadata\n",
    "cluster_count = puzzle_data.groupby('cluster')['tactics_problem_id'].nunique().values\n",
    "cluster_list = np.array([])\n",
    "for i in range(20):\n",
    "    clust_labels = np.full(cluster_count[i],i+1)\n",
    "    cluster_list = np.append(cluster_list,clust_labels)\n",
    "cluster_list = cluster_list.astype(int)"
   ]
  },
  {
   "cell_type": "code",
   "execution_count": 24,
   "metadata": {},
   "outputs": [],
   "source": [
    "#Shuffle the order of the rows of the original puzzle metadata\n",
    "puzzle_data_shuffled = puzzle_data.copy().sample(frac=1).reset_index(drop=True)\n",
    "#Add the clusters to the shuffled puzzles so that the mismatch will create clusters of equal size as the original\n",
    "#But with the puzzles grouped randomly\n",
    "puzzle_data_shuffled['cluster'] = cluster_list\n",
    "#Shuffle again for appearance\n",
    "puzzle_data_shuffled = puzzle_data_shuffled.sample(frac=1).reset_index(drop=True)"
   ]
  },
  {
   "cell_type": "code",
   "execution_count": 25,
   "metadata": {},
   "outputs": [
    {
     "data": {
      "text/html": [
       "<div>\n",
       "<style scoped>\n",
       "    .dataframe tbody tr th:only-of-type {\n",
       "        vertical-align: middle;\n",
       "    }\n",
       "\n",
       "    .dataframe tbody tr th {\n",
       "        vertical-align: top;\n",
       "    }\n",
       "\n",
       "    .dataframe thead th {\n",
       "        text-align: right;\n",
       "    }\n",
       "</style>\n",
       "<table border=\"1\" class=\"dataframe\">\n",
       "  <thead>\n",
       "    <tr style=\"text-align: right;\">\n",
       "      <th></th>\n",
       "      <th>tactics_problem_id</th>\n",
       "      <th>puzzle_id</th>\n",
       "      <th>rating</th>\n",
       "      <th>rd</th>\n",
       "      <th>attempt_count</th>\n",
       "      <th>average_seconds</th>\n",
       "      <th>move_count</th>\n",
       "      <th>tags</th>\n",
       "      <th>fen</th>\n",
       "      <th>tag</th>\n",
       "      <th>cluster</th>\n",
       "      <th>bpr_cluster</th>\n",
       "    </tr>\n",
       "  </thead>\n",
       "  <tbody>\n",
       "    <tr>\n",
       "      <th>0</th>\n",
       "      <td>78604</td>\n",
       "      <td>20923</td>\n",
       "      <td>660</td>\n",
       "      <td>42.14</td>\n",
       "      <td>33691</td>\n",
       "      <td>24</td>\n",
       "      <td>1</td>\n",
       "      <td>Mate in 1,Smothered Mate</td>\n",
       "      <td>https://lichess.org/analysis/r2q2rk/pppbN1pp/3...</td>\n",
       "      <td>Smothered Mate</td>\n",
       "      <td>4</td>\n",
       "      <td>20</td>\n",
       "    </tr>\n",
       "    <tr>\n",
       "      <th>1</th>\n",
       "      <td>28720</td>\n",
       "      <td>1447</td>\n",
       "      <td>983</td>\n",
       "      <td>44.69</td>\n",
       "      <td>61091</td>\n",
       "      <td>47</td>\n",
       "      <td>2</td>\n",
       "      <td>Fork / Double Attack</td>\n",
       "      <td>https://lichess.org/analysis/5bk1/ppp2r2/2n1rq...</td>\n",
       "      <td>Fork / Double Attack</td>\n",
       "      <td>9</td>\n",
       "      <td>6</td>\n",
       "    </tr>\n",
       "    <tr>\n",
       "      <th>2</th>\n",
       "      <td>187797</td>\n",
       "      <td>39819</td>\n",
       "      <td>400</td>\n",
       "      <td>40.00</td>\n",
       "      <td>5829</td>\n",
       "      <td>13</td>\n",
       "      <td>1</td>\n",
       "      <td>Mate in 1</td>\n",
       "      <td>https://lichess.org/analysis/r4rk1/1pq2p1p/3bp...</td>\n",
       "      <td>Mate in 1</td>\n",
       "      <td>8</td>\n",
       "      <td>5</td>\n",
       "    </tr>\n",
       "    <tr>\n",
       "      <th>3</th>\n",
       "      <td>158121</td>\n",
       "      <td>35235</td>\n",
       "      <td>1442</td>\n",
       "      <td>45.32</td>\n",
       "      <td>60953</td>\n",
       "      <td>40</td>\n",
       "      <td>2</td>\n",
       "      <td>Discovered Attack,Interference,Trapped Piece,X...</td>\n",
       "      <td>https://lichess.org/analysis/r1bq1r1k/pppnn1pp...</td>\n",
       "      <td>X-Ray Attack</td>\n",
       "      <td>5</td>\n",
       "      <td>9</td>\n",
       "    </tr>\n",
       "    <tr>\n",
       "      <th>4</th>\n",
       "      <td>194000</td>\n",
       "      <td>40732</td>\n",
       "      <td>400</td>\n",
       "      <td>40.00</td>\n",
       "      <td>4025</td>\n",
       "      <td>10</td>\n",
       "      <td>1</td>\n",
       "      <td>Mate in 1</td>\n",
       "      <td>https://lichess.org/analysis/2k4r/1p6/pR6/P6r/...</td>\n",
       "      <td>Mate in 1</td>\n",
       "      <td>4</td>\n",
       "      <td>4</td>\n",
       "    </tr>\n",
       "  </tbody>\n",
       "</table>\n",
       "</div>"
      ],
      "text/plain": [
       "   tactics_problem_id  puzzle_id  rating     rd  attempt_count  \\\n",
       "0               78604      20923     660  42.14          33691   \n",
       "1               28720       1447     983  44.69          61091   \n",
       "2              187797      39819     400  40.00           5829   \n",
       "3              158121      35235    1442  45.32          60953   \n",
       "4              194000      40732     400  40.00           4025   \n",
       "\n",
       "   average_seconds  move_count  \\\n",
       "0               24           1   \n",
       "1               47           2   \n",
       "2               13           1   \n",
       "3               40           2   \n",
       "4               10           1   \n",
       "\n",
       "                                                tags  \\\n",
       "0                           Mate in 1,Smothered Mate   \n",
       "1                               Fork / Double Attack   \n",
       "2                                          Mate in 1   \n",
       "3  Discovered Attack,Interference,Trapped Piece,X...   \n",
       "4                                          Mate in 1   \n",
       "\n",
       "                                                 fen                   tag  \\\n",
       "0  https://lichess.org/analysis/r2q2rk/pppbN1pp/3...        Smothered Mate   \n",
       "1  https://lichess.org/analysis/5bk1/ppp2r2/2n1rq...  Fork / Double Attack   \n",
       "2  https://lichess.org/analysis/r4rk1/1pq2p1p/3bp...             Mate in 1   \n",
       "3  https://lichess.org/analysis/r1bq1r1k/pppnn1pp...          X-Ray Attack   \n",
       "4  https://lichess.org/analysis/2k4r/1p6/pR6/P6r/...             Mate in 1   \n",
       "\n",
       "   cluster  bpr_cluster  \n",
       "0        4           20  \n",
       "1        9            6  \n",
       "2        8            5  \n",
       "3        5            9  \n",
       "4        4            4  "
      ]
     },
     "execution_count": 25,
     "metadata": {},
     "output_type": "execute_result"
    }
   ],
   "source": [
    "puzzle_data_shuffled.head()"
   ]
  },
  {
   "cell_type": "code",
   "execution_count": 26,
   "metadata": {},
   "outputs": [
    {
     "data": {
      "application/vnd.jupyter.widget-view+json": {
       "model_id": "b345ee033785443585833a5f0219b47a",
       "version_major": 2,
       "version_minor": 0
      },
      "text/plain": [
       "HBox(children=(IntProgress(value=0, max=3), HTML(value='')))"
      ]
     },
     "metadata": {},
     "output_type": "display_data"
    },
    {
     "name": "stdout",
     "output_type": "stream",
     "text": [
      "38509.211342645125\n",
      "37234.771844508105\n",
      "37678.14545240125\n",
      "\n"
     ]
    }
   ],
   "source": [
    "#Loop that recreates random baseline clusters and recomputes the average variance of player skills in each cluster\n",
    "results = []\n",
    "trials = 3\n",
    "for i in tqdm(range(trials)):\n",
    "    puzzle_data_shuffled = puzzle_data.copy().sample(frac=1).reset_index(drop=True)\n",
    "    puzzle_data_shuffled['cluster'] = cluster_list\n",
    "    attempts.drop(['cluster'],axis=1,inplace=True)\n",
    "    attempts=pd.merge(attempts,\n",
    "                      puzzle_data_shuffled[['tactics_problem_id','cluster']],\n",
    "                      on='tactics_problem_id', \n",
    "                      how='inner')\n",
    "    #Get variance of performance rating per cluster per user\n",
    "    performance_user = calc_user_performance()\n",
    "    avg_cluster_variance = performance_user.var(level=0).agg('mean')\n",
    "    print(avg_cluster_variance)\n",
    "    results.append(avg_cluster_variance)"
   ]
  },
  {
   "cell_type": "code",
   "execution_count": 27,
   "metadata": {
    "scrolled": true
   },
   "outputs": [
    {
     "name": "stdout",
     "output_type": "stream",
     "text": [
      "37234.771844508105\n",
      "37807.37621318483\n",
      "38509.211342645125\n"
     ]
    }
   ],
   "source": [
    "print(min(results))\n",
    "print(sum(results)/3)\n",
    "print(max(results))"
   ]
  },
  {
   "cell_type": "markdown",
   "metadata": {},
   "source": [
    "<h2>Add Cluster Performance to Prediction Data</h2>"
   ]
  },
  {
   "cell_type": "code",
   "execution_count": null,
   "metadata": {},
   "outputs": [],
   "source": [
    "pred_data_file = '../prediction_data_diff_rating.csv'\n",
    "data = pd.read_csv(pred_data_file)"
   ]
  },
  {
   "cell_type": "code",
   "execution_count": null,
   "metadata": {},
   "outputs": [],
   "source": [
    "data.head()"
   ]
  },
  {
   "cell_type": "code",
   "execution_count": null,
   "metadata": {},
   "outputs": [],
   "source": [
    "#Get the cluster performance for each user in both clusters of the prediction data\n",
    "def get_cluster_performance(row):\n",
    "    user_scores = cluster_performance_user.loc[row['user_hash']]\n",
    "    clus1 = user_scores[row['cluster_1']]\n",
    "    clus2 = user_scores[row['cluster_2']]\n",
    "    row['cluster_1_perf'] = clus1\n",
    "    row['cluster_2_perf'] = clus2\n",
    "    return row\n",
    "\n",
    "data = data.progress_apply(lambda x: get_cluster_performance(x),axis=1)"
   ]
  },
  {
   "cell_type": "code",
   "execution_count": null,
   "metadata": {},
   "outputs": [],
   "source": [
    "#Save \n",
    "data.to_csv(pred_data_file,header=True,index=False)"
   ]
  }
 ],
 "metadata": {
  "kernelspec": {
   "display_name": "Python 3",
   "language": "python",
   "name": "python3"
  },
  "language_info": {
   "codemirror_mode": {
    "name": "ipython",
    "version": 3
   },
   "file_extension": ".py",
   "mimetype": "text/x-python",
   "name": "python",
   "nbconvert_exporter": "python",
   "pygments_lexer": "ipython3",
   "version": "3.7.1"
  }
 },
 "nbformat": 4,
 "nbformat_minor": 4
}
