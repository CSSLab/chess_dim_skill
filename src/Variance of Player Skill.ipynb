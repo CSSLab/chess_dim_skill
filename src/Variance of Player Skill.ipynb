{
 "cells": [
  {
   "cell_type": "code",
   "execution_count": 1,
   "metadata": {},
   "outputs": [
    {
     "data": {
      "application/vnd.jupyter.widget-view+json": {
       "model_id": "cb50bf4e66aa40f88e4d95d62acf0abe",
       "version_major": 2,
       "version_minor": 0
      },
      "text/plain": [
       "HBox(children=(IntProgress(value=1, bar_style='info', max=1), HTML(value='')))"
      ]
     },
     "metadata": {},
     "output_type": "display_data"
    },
    {
     "name": "stdout",
     "output_type": "stream",
     "text": [
      "\n"
     ]
    }
   ],
   "source": [
    "import numpy as np\n",
    "import pandas as pd\n",
    "from tqdm import tqdm_notebook as tqdm\n",
    "tqdm().pandas()\n",
    "puzzle_data = pd.read_csv(\"../full_meta_clustered_singletag.tsv\", sep='\\t')"
   ]
  },
  {
   "cell_type": "code",
   "execution_count": 2,
   "metadata": {},
   "outputs": [],
   "source": [
    "#Load the full dataset of puzzle attempts\n",
    "attempts = pd.read_csv(\"/w/225/1/chess/tactics/glicko_user_tactics_problem.csv_00\")"
   ]
  },
  {
   "cell_type": "markdown",
   "metadata": {},
   "source": [
    "<h2>Get Average User Success Sample Var in Actual Clusters</h2>"
   ]
  },
  {
   "cell_type": "code",
   "execution_count": 9,
   "metadata": {},
   "outputs": [],
   "source": [
    "#Join cluster labels to puzzles that were clustered \n",
    "attempts=pd.merge(attempts,puzzle_data[['tactics_problem_id','cluster']],on='tactics_problem_id', how='inner')"
   ]
  },
  {
   "cell_type": "code",
   "execution_count": 3,
   "metadata": {},
   "outputs": [],
   "source": [
    "#Filter attempts to include only attempts by players who have played at least 100 games\n",
    "attempts = attempts.loc[attempts['userGamesPlayed'] >= 100]"
   ]
  },
  {
   "cell_type": "code",
   "execution_count": 129,
   "metadata": {},
   "outputs": [
    {
     "data": {
      "text/html": [
       "<div>\n",
       "<style scoped>\n",
       "    .dataframe tbody tr th:only-of-type {\n",
       "        vertical-align: middle;\n",
       "    }\n",
       "\n",
       "    .dataframe tbody tr th {\n",
       "        vertical-align: top;\n",
       "    }\n",
       "\n",
       "    .dataframe thead th {\n",
       "        text-align: right;\n",
       "    }\n",
       "</style>\n",
       "<table border=\"1\" class=\"dataframe\">\n",
       "  <thead>\n",
       "    <tr style=\"text-align: right;\">\n",
       "      <th></th>\n",
       "      <th>user_tactics_problem_id</th>\n",
       "      <th>user_hash</th>\n",
       "      <th>create_date</th>\n",
       "      <th>date</th>\n",
       "      <th>last_game_date</th>\n",
       "      <th>seconds</th>\n",
       "      <th>is_passed</th>\n",
       "      <th>correct_move_count</th>\n",
       "      <th>rating_change</th>\n",
       "      <th>tactics_problem_id</th>\n",
       "      <th>ratingUser</th>\n",
       "      <th>varianceUser</th>\n",
       "      <th>ratingProblem</th>\n",
       "      <th>varianceProblem</th>\n",
       "      <th>userGamesPlayed</th>\n",
       "      <th>success</th>\n",
       "      <th>cluster</th>\n",
       "    </tr>\n",
       "  </thead>\n",
       "  <tbody>\n",
       "    <tr>\n",
       "      <th>0</th>\n",
       "      <td>2822621</td>\n",
       "      <td>ec2164fc960c33cb378fb589ec23a455fac6cd575c62ab...</td>\n",
       "      <td>2008-04-02 15:58:44</td>\n",
       "      <td>2008-04-02</td>\n",
       "      <td>2008-04-02</td>\n",
       "      <td>10</td>\n",
       "      <td>0</td>\n",
       "      <td>0</td>\n",
       "      <td>-27</td>\n",
       "      <td>27060</td>\n",
       "      <td>1600</td>\n",
       "      <td>75</td>\n",
       "      <td>1928</td>\n",
       "      <td>261</td>\n",
       "      <td>100</td>\n",
       "      <td>0.131459</td>\n",
       "      <td>9</td>\n",
       "    </tr>\n",
       "    <tr>\n",
       "      <th>1</th>\n",
       "      <td>2831172</td>\n",
       "      <td>cd1950759a710929d8a76f9e531f0d18de64c8de6141ad...</td>\n",
       "      <td>2008-04-03 06:15:38</td>\n",
       "      <td>2008-04-03</td>\n",
       "      <td>2008-04-03</td>\n",
       "      <td>14</td>\n",
       "      <td>0</td>\n",
       "      <td>0</td>\n",
       "      <td>-21</td>\n",
       "      <td>27060</td>\n",
       "      <td>1773</td>\n",
       "      <td>44</td>\n",
       "      <td>1717</td>\n",
       "      <td>134</td>\n",
       "      <td>178</td>\n",
       "      <td>0.579900</td>\n",
       "      <td>9</td>\n",
       "    </tr>\n",
       "    <tr>\n",
       "      <th>2</th>\n",
       "      <td>2833192</td>\n",
       "      <td>79be8658df80df08ab425b1c20ba41770de5cee5949a36...</td>\n",
       "      <td>2008-04-03 09:18:25</td>\n",
       "      <td>2008-04-03</td>\n",
       "      <td>2008-04-03</td>\n",
       "      <td>5</td>\n",
       "      <td>1</td>\n",
       "      <td>1</td>\n",
       "      <td>53</td>\n",
       "      <td>27060</td>\n",
       "      <td>1807</td>\n",
       "      <td>38</td>\n",
       "      <td>1724</td>\n",
       "      <td>118</td>\n",
       "      <td>296</td>\n",
       "      <td>0.617225</td>\n",
       "      <td>9</td>\n",
       "    </tr>\n",
       "    <tr>\n",
       "      <th>3</th>\n",
       "      <td>2835324</td>\n",
       "      <td>e8f281ea2931e4e2c562c774aa1ec72b5ab88ffb789e9d...</td>\n",
       "      <td>2008-04-03 12:01:48</td>\n",
       "      <td>2008-04-03</td>\n",
       "      <td>2008-04-03</td>\n",
       "      <td>19</td>\n",
       "      <td>1</td>\n",
       "      <td>1</td>\n",
       "      <td>11</td>\n",
       "      <td>27060</td>\n",
       "      <td>1773</td>\n",
       "      <td>35</td>\n",
       "      <td>1696</td>\n",
       "      <td>112</td>\n",
       "      <td>193</td>\n",
       "      <td>0.609033</td>\n",
       "      <td>9</td>\n",
       "    </tr>\n",
       "    <tr>\n",
       "      <th>4</th>\n",
       "      <td>2849652</td>\n",
       "      <td>0575612356f922da19918aa0b69d42a19886aec9d5aa71...</td>\n",
       "      <td>2008-04-04 12:23:27</td>\n",
       "      <td>2008-04-04</td>\n",
       "      <td>2008-04-04</td>\n",
       "      <td>16</td>\n",
       "      <td>0</td>\n",
       "      <td>0</td>\n",
       "      <td>-22</td>\n",
       "      <td>27060</td>\n",
       "      <td>1818</td>\n",
       "      <td>44</td>\n",
       "      <td>1720</td>\n",
       "      <td>85</td>\n",
       "      <td>275</td>\n",
       "      <td>0.637408</td>\n",
       "      <td>9</td>\n",
       "    </tr>\n",
       "  </tbody>\n",
       "</table>\n",
       "</div>"
      ],
      "text/plain": [
       "   user_tactics_problem_id                                          user_hash  \\\n",
       "0                  2822621  ec2164fc960c33cb378fb589ec23a455fac6cd575c62ab...   \n",
       "1                  2831172  cd1950759a710929d8a76f9e531f0d18de64c8de6141ad...   \n",
       "2                  2833192  79be8658df80df08ab425b1c20ba41770de5cee5949a36...   \n",
       "3                  2835324  e8f281ea2931e4e2c562c774aa1ec72b5ab88ffb789e9d...   \n",
       "4                  2849652  0575612356f922da19918aa0b69d42a19886aec9d5aa71...   \n",
       "\n",
       "           create_date        date last_game_date  seconds  is_passed  \\\n",
       "0  2008-04-02 15:58:44  2008-04-02     2008-04-02       10          0   \n",
       "1  2008-04-03 06:15:38  2008-04-03     2008-04-03       14          0   \n",
       "2  2008-04-03 09:18:25  2008-04-03     2008-04-03        5          1   \n",
       "3  2008-04-03 12:01:48  2008-04-03     2008-04-03       19          1   \n",
       "4  2008-04-04 12:23:27  2008-04-04     2008-04-04       16          0   \n",
       "\n",
       "   correct_move_count  rating_change  tactics_problem_id  ratingUser  \\\n",
       "0                   0            -27               27060        1600   \n",
       "1                   0            -21               27060        1773   \n",
       "2                   1             53               27060        1807   \n",
       "3                   1             11               27060        1773   \n",
       "4                   0            -22               27060        1818   \n",
       "\n",
       "   varianceUser  ratingProblem  varianceProblem  userGamesPlayed   success  \\\n",
       "0            75           1928              261              100  0.131459   \n",
       "1            44           1717              134              178  0.579900   \n",
       "2            38           1724              118              296  0.617225   \n",
       "3            35           1696              112              193  0.609033   \n",
       "4            44           1720               85              275  0.637408   \n",
       "\n",
       "   cluster  \n",
       "0        9  \n",
       "1        9  \n",
       "2        9  \n",
       "3        9  \n",
       "4        9  "
      ]
     },
     "execution_count": 129,
     "metadata": {},
     "output_type": "execute_result"
    }
   ],
   "source": [
    "attempts.head()"
   ]
  },
  {
   "cell_type": "code",
   "execution_count": 6,
   "metadata": {},
   "outputs": [
    {
     "data": {
      "application/vnd.jupyter.widget-view+json": {
       "model_id": "1f1002e75c1e4909a9b9258c3bb31d93",
       "version_major": 2,
       "version_minor": 0
      },
      "text/plain": [
       "HBox(children=(IntProgress(value=0, max=105580408), HTML(value='')))"
      ]
     },
     "metadata": {},
     "output_type": "display_data"
    },
    {
     "name": "stdout",
     "output_type": "stream",
     "text": [
      "\n"
     ]
    }
   ],
   "source": [
    "#Add expected success for each player using formula for ELO expected score here: \n",
    "#https://en.wikipedia.org/wiki/Elo_rating_system#Mathematical_details\n",
    "\n",
    "def add_success(row):\n",
    "    prob_rating = row['ratingProblem']\n",
    "    rating_user = row['ratingUser']\n",
    "    rating_diff = prob_rating - rating_user\n",
    "    return 1/(1 + 10**(rating_diff/400))\n",
    "\n",
    "attempts['success'] = attempts.progress_apply(lambda row: add_success(row),axis=1)"
   ]
  },
  {
   "cell_type": "code",
   "execution_count": 25,
   "metadata": {},
   "outputs": [
    {
     "name": "stdout",
     "output_type": "stream",
     "text": [
      "0.013883403671947049\n"
     ]
    }
   ],
   "source": [
    "#Get average user success for each cluster\n",
    "user_cluster_averaged = attempts.groupby(['user_hash','cluster'])['success'].agg('mean')\n",
    "#Get the variance of average cluster success and then take the average\n",
    "avg_cluster_variance = user_cluster_averaged.var(level=0).agg('mean')\n",
    "print(avg_cluster_variance)"
   ]
  },
  {
   "cell_type": "markdown",
   "metadata": {},
   "source": [
    "<h2>Get Average User Success Sample Var in Fake Clusters</h2>"
   ]
  },
  {
   "cell_type": "code",
   "execution_count": 93,
   "metadata": {},
   "outputs": [],
   "source": [
    "#Get number of puzzles in each cluster and create a numpy array of cluster labels so that the number of labels\n",
    "#for cluster 'a' correspond to the count of cluster a in the original puzzle metadata\n",
    "cluster_count = puzzle_data.groupby('cluster')['tactics_problem_id'].nunique().values\n",
    "cluster_list = np.array([])\n",
    "for i in range(20):\n",
    "    clust_labels = np.full(cluster_count[i],i+1)\n",
    "    cluster_list = np.append(cluster_list,clust_labels)\n",
    "cluster_list = cluster_list.astype(int)"
   ]
  },
  {
   "cell_type": "code",
   "execution_count": 117,
   "metadata": {},
   "outputs": [],
   "source": [
    "#Shuffle the order of the rows of the original puzzle metadata\n",
    "puzzle_data_shuffled = puzzle_data.copy().sample(frac=1).reset_index(drop=True)\n",
    "#Add the clusters to the shuffled puzzles so that the mismatch will create clusters of equal size as the original\n",
    "#But with the puzzles grouped randomly\n",
    "puzzle_data_shuffled['cluster'] = cluster_list\n",
    "#Shuffle again for appearance\n",
    "puzzle_data_shuffled = puzzle_data_shuffled.sample(frac=1).reset_index(drop=True)"
   ]
  },
  {
   "cell_type": "code",
   "execution_count": 118,
   "metadata": {},
   "outputs": [
    {
     "data": {
      "text/html": [
       "<div>\n",
       "<style scoped>\n",
       "    .dataframe tbody tr th:only-of-type {\n",
       "        vertical-align: middle;\n",
       "    }\n",
       "\n",
       "    .dataframe tbody tr th {\n",
       "        vertical-align: top;\n",
       "    }\n",
       "\n",
       "    .dataframe thead th {\n",
       "        text-align: right;\n",
       "    }\n",
       "</style>\n",
       "<table border=\"1\" class=\"dataframe\">\n",
       "  <thead>\n",
       "    <tr style=\"text-align: right;\">\n",
       "      <th></th>\n",
       "      <th>tactics_problem_id</th>\n",
       "      <th>rating</th>\n",
       "      <th>rd</th>\n",
       "      <th>attempt_count</th>\n",
       "      <th>average_seconds</th>\n",
       "      <th>move_count</th>\n",
       "      <th>tags</th>\n",
       "      <th>fen</th>\n",
       "      <th>tag</th>\n",
       "      <th>cluster</th>\n",
       "    </tr>\n",
       "  </thead>\n",
       "  <tbody>\n",
       "    <tr>\n",
       "      <th>0</th>\n",
       "      <td>70491</td>\n",
       "      <td>400</td>\n",
       "      <td>40.15</td>\n",
       "      <td>4248</td>\n",
       "      <td>28</td>\n",
       "      <td>1</td>\n",
       "      <td>Mate in 1</td>\n",
       "      <td>https://lichess.org/analysis/r7/p2R4/1p3pk1/2p...</td>\n",
       "      <td>Mate in 1</td>\n",
       "      <td>14</td>\n",
       "    </tr>\n",
       "    <tr>\n",
       "      <th>1</th>\n",
       "      <td>66730</td>\n",
       "      <td>1617</td>\n",
       "      <td>45.20</td>\n",
       "      <td>49296</td>\n",
       "      <td>57</td>\n",
       "      <td>4</td>\n",
       "      <td>Discovered Attack,Mate in 3+,Pin,Skewer,Vulner...</td>\n",
       "      <td>https://lichess.org/analysis/5rk1/pp2qrp1/2p1p...</td>\n",
       "      <td>Skewer</td>\n",
       "      <td>8</td>\n",
       "    </tr>\n",
       "    <tr>\n",
       "      <th>2</th>\n",
       "      <td>155014</td>\n",
       "      <td>1163</td>\n",
       "      <td>45.12</td>\n",
       "      <td>62286</td>\n",
       "      <td>27</td>\n",
       "      <td>2</td>\n",
       "      <td>Attacking Castled King,Basic Checkmates,Discov...</td>\n",
       "      <td>https://lichess.org/analysis/1n1r1r1k/pppb1ppB...</td>\n",
       "      <td>Interference</td>\n",
       "      <td>8</td>\n",
       "    </tr>\n",
       "    <tr>\n",
       "      <th>3</th>\n",
       "      <td>82146</td>\n",
       "      <td>1385</td>\n",
       "      <td>45.41</td>\n",
       "      <td>61340</td>\n",
       "      <td>29</td>\n",
       "      <td>1</td>\n",
       "      <td>Mate in 2,Mating Net,Vulnerable King</td>\n",
       "      <td>https://lichess.org/analysis/3q1k1r/1p2b2P/r2p...</td>\n",
       "      <td>Vulnerable King</td>\n",
       "      <td>14</td>\n",
       "    </tr>\n",
       "    <tr>\n",
       "      <th>4</th>\n",
       "      <td>46309</td>\n",
       "      <td>811</td>\n",
       "      <td>43.99</td>\n",
       "      <td>48267</td>\n",
       "      <td>48</td>\n",
       "      <td>1</td>\n",
       "      <td>Fork / Double Attack,Pin</td>\n",
       "      <td>https://lichess.org/analysis/r1bn1rk1/3n2p1/1p...</td>\n",
       "      <td>Pin</td>\n",
       "      <td>8</td>\n",
       "    </tr>\n",
       "  </tbody>\n",
       "</table>\n",
       "</div>"
      ],
      "text/plain": [
       "   tactics_problem_id  rating     rd  attempt_count  average_seconds  \\\n",
       "0               70491     400  40.15           4248               28   \n",
       "1               66730    1617  45.20          49296               57   \n",
       "2              155014    1163  45.12          62286               27   \n",
       "3               82146    1385  45.41          61340               29   \n",
       "4               46309     811  43.99          48267               48   \n",
       "\n",
       "   move_count                                               tags  \\\n",
       "0           1                                          Mate in 1   \n",
       "1           4  Discovered Attack,Mate in 3+,Pin,Skewer,Vulner...   \n",
       "2           2  Attacking Castled King,Basic Checkmates,Discov...   \n",
       "3           1               Mate in 2,Mating Net,Vulnerable King   \n",
       "4           1                           Fork / Double Attack,Pin   \n",
       "\n",
       "                                                 fen              tag  cluster  \n",
       "0  https://lichess.org/analysis/r7/p2R4/1p3pk1/2p...        Mate in 1       14  \n",
       "1  https://lichess.org/analysis/5rk1/pp2qrp1/2p1p...           Skewer        8  \n",
       "2  https://lichess.org/analysis/1n1r1r1k/pppb1ppB...     Interference        8  \n",
       "3  https://lichess.org/analysis/3q1k1r/1p2b2P/r2p...  Vulnerable King       14  \n",
       "4  https://lichess.org/analysis/r1bn1rk1/3n2p1/1p...              Pin        8  "
      ]
     },
     "execution_count": 118,
     "metadata": {},
     "output_type": "execute_result"
    }
   ],
   "source": [
    "puzzle_data_shuffled.head()"
   ]
  },
  {
   "cell_type": "code",
   "execution_count": 121,
   "metadata": {},
   "outputs": [],
   "source": [
    "attempts.drop(['cluster'],axis=1,inplace=True)\n",
    "attempts=pd.merge(attempts,\n",
    "                  puzzle_data_shuffled[['tactics_problem_id','cluster']],\n",
    "                  on='tactics_problem_id', \n",
    "                  how='inner')"
   ]
  },
  {
   "cell_type": "code",
   "execution_count": 122,
   "metadata": {},
   "outputs": [
    {
     "name": "stdout",
     "output_type": "stream",
     "text": [
      "0.007632470212113265\n"
     ]
    }
   ],
   "source": [
    "#Get average user success for each cluster\n",
    "user_cluster_averaged = attempts.groupby(['user_hash','cluster'])['success'].agg('mean')\n",
    "#Get the variance of average cluster success and then take the average\n",
    "avg_cluster_variance = user_cluster_averaged.var(level=0).agg('mean')\n",
    "print(avg_cluster_variance)"
   ]
  },
  {
   "cell_type": "code",
   "execution_count": 124,
   "metadata": {},
   "outputs": [
    {
     "data": {
      "application/vnd.jupyter.widget-view+json": {
       "model_id": "086242fe82724900ad2010aa89fef17d",
       "version_major": 2,
       "version_minor": 0
      },
      "text/plain": [
       "HBox(children=(IntProgress(value=0, max=10), HTML(value='')))"
      ]
     },
     "metadata": {},
     "output_type": "display_data"
    },
    {
     "name": "stdout",
     "output_type": "stream",
     "text": [
      "\n"
     ]
    }
   ],
   "source": [
    "#Loop that recreates random baseline clusters and recomputes the average variance of player skills in each cluster\n",
    "results = []\n",
    "for i in tqdm(range(10)):\n",
    "    puzzle_data_shuffled = puzzle_data.copy().sample(frac=1).reset_index(drop=True)\n",
    "    puzzle_data_shuffled['cluster'] = cluster_list\n",
    "    attempts.drop(['cluster'],axis=1,inplace=True)\n",
    "    attempts=pd.merge(attempts,\n",
    "                      puzzle_data_shuffled[['tactics_problem_id','cluster']],\n",
    "                      on='tactics_problem_id', \n",
    "                      how='inner')\n",
    "    #Get average user success for each cluster\n",
    "    user_cluster_averaged = attempts.groupby(['user_hash','cluster'])['success'].agg('mean')\n",
    "    #Get the variance of average cluster success and then take the average\n",
    "    avg_cluster_variance = user_cluster_averaged.var(level=0).agg('mean')\n",
    "    results.append(avg_cluster_variance)"
   ]
  },
  {
   "cell_type": "code",
   "execution_count": 128,
   "metadata": {},
   "outputs": [
    {
     "name": "stdout",
     "output_type": "stream",
     "text": [
      "[0.007747881945537818, 0.00741636836770366, 0.00793006632924327, 0.007580549637144724, 0.0072726002652239, 0.007482436331059905, 0.007156147995837817, 0.007554701906236195, 0.007303807171266644, 0.007404616147067197]\n"
     ]
    }
   ],
   "source": [
    "print(results)"
   ]
  },
  {
   "cell_type": "code",
   "execution_count": 127,
   "metadata": {},
   "outputs": [
    {
     "name": "stdout",
     "output_type": "stream",
     "text": [
      "0.007156147995837817\n",
      "0.007484917609632114\n",
      "0.00793006632924327\n"
     ]
    }
   ],
   "source": [
    "print(min(results))\n",
    "print(sum(results)/10)\n",
    "print(max(results))"
   ]
  }
 ],
 "metadata": {
  "kernelspec": {
   "display_name": "Python 3",
   "language": "python",
   "name": "python3"
  },
  "language_info": {
   "codemirror_mode": {
    "name": "ipython",
    "version": 3
   },
   "file_extension": ".py",
   "mimetype": "text/x-python",
   "name": "python",
   "nbconvert_exporter": "python",
   "pygments_lexer": "ipython3",
   "version": "3.7.1"
  }
 },
 "nbformat": 4,
 "nbformat_minor": 4
}
