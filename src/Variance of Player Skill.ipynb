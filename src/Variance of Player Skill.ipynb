{
 "cells": [
  {
   "cell_type": "code",
   "execution_count": 1,
   "metadata": {},
   "outputs": [
    {
     "data": {
      "application/vnd.jupyter.widget-view+json": {
       "model_id": "afd6ef4787d64ceb84a24fe9e72406c3",
       "version_major": 2,
       "version_minor": 0
      },
      "text/plain": [
       "HBox(children=(IntProgress(value=1, bar_style='info', max=1), HTML(value='')))"
      ]
     },
     "metadata": {},
     "output_type": "display_data"
    },
    {
     "name": "stdout",
     "output_type": "stream",
     "text": [
      "\n"
     ]
    }
   ],
   "source": [
    "import numpy as np\n",
    "import pandas as pd\n",
    "from tqdm import tqdm_notebook as tqdm\n",
    "tqdm().pandas()\n",
    "puzzle_data = pd.read_csv(\"../full_meta_clustered_singletag.tsv\", sep='\\t')"
   ]
  },
  {
   "cell_type": "code",
   "execution_count": 2,
   "metadata": {},
   "outputs": [],
   "source": [
    "#Load the full dataset of puzzle attempts\n",
    "attempts = pd.read_csv(\"/w/225/1/chess/tactics/glicko_user_tactics_problem.csv_00\")"
   ]
  },
  {
   "cell_type": "code",
   "execution_count": 5,
   "metadata": {},
   "outputs": [],
   "source": [
    "#Replace each 0 in the is_passed field with a -1 for calculating the total won - failed later\n",
    "attempts['is_passed'] = attempts['is_passed'].replace(0, -1,regex=True)"
   ]
  },
  {
   "cell_type": "markdown",
   "metadata": {},
   "source": [
    "<h2>Get Average User Success Sample Var in Actual Clusters</h2>"
   ]
  },
  {
   "cell_type": "code",
   "execution_count": 4,
   "metadata": {},
   "outputs": [],
   "source": [
    "#Filter attempts to include only attempts by players who have played at least 100 games\n",
    "attempts = attempts.loc[attempts['userGamesPlayed'] >= 100]"
   ]
  },
  {
   "cell_type": "code",
   "execution_count": 6,
   "metadata": {},
   "outputs": [],
   "source": [
    "#Join cluster labels to puzzles that were clustered \n",
    "attempts=pd.merge(attempts,puzzle_data[['tactics_problem_id','cluster','tag']],on='tactics_problem_id', how='inner')"
   ]
  },
  {
   "cell_type": "code",
   "execution_count": 8,
   "metadata": {},
   "outputs": [],
   "source": [
    "#Filter down to attempts for puzzles that are in the top 20 tags\n",
    "top_tags = ['Mate in 1', 'Mate in 2', 'Fork / Double Attack', 'Mate in 3+',\n",
    "       'Hanging Piece', 'Mating Net', 'Pin', 'Vulnerable King',\n",
    "       'Decoy / Deflection', 'Remove the Defender', 'Discovered Attack',\n",
    "       'Defense', 'Endgame Tactics', 'Basic Checkmates', 'Back Rank',\n",
    "       'Sacrifice', 'Pawn Promotion', 'Zwischenzug', 'Trapped Piece',\n",
    "       'Attacking Castled King']\n",
    "attempts = attempts.loc[attempts['tag'].isin(top_tags)]"
   ]
  },
  {
   "cell_type": "code",
   "execution_count": 12,
   "metadata": {},
   "outputs": [
    {
     "data": {
      "text/plain": [
       "{'Attacking Castled King',\n",
       " 'Back Rank',\n",
       " 'Basic Checkmates',\n",
       " 'Decoy / Deflection',\n",
       " 'Defense',\n",
       " 'Discovered Attack',\n",
       " 'Endgame Tactics',\n",
       " 'Fork / Double Attack',\n",
       " 'Hanging Piece',\n",
       " 'Mate in 1',\n",
       " 'Mate in 2',\n",
       " 'Mate in 3+',\n",
       " 'Mating Net',\n",
       " 'Pawn Promotion',\n",
       " 'Pin',\n",
       " 'Remove the Defender',\n",
       " 'Sacrifice',\n",
       " 'Trapped Piece',\n",
       " 'Vulnerable King',\n",
       " 'Zwischenzug'}"
      ]
     },
     "execution_count": 12,
     "metadata": {},
     "output_type": "execute_result"
    }
   ],
   "source": [
    "puzzle_data.head()"
   ]
  },
  {
   "cell_type": "code",
   "execution_count": 7,
   "metadata": {},
   "outputs": [
    {
     "data": {
      "text/plain": [
       "\"'\\ndef add_success(row):\\n    prob_rating = row['ratingProblem']\\n    rating_user = row['ratingUser']\\n    rating_diff = prob_rating - rating_user\\n    return row['is_passed'] - 1/(1 + 10**(rating_diff/400))\\n\\nattempts['success'] = attempts.progress_apply(lambda row: add_success(row),axis=1)\\n\""
      ]
     },
     "execution_count": 7,
     "metadata": {},
     "output_type": "execute_result"
    }
   ],
   "source": [
    "#Add expected success for each player using formula for ELO expected score here: \n",
    "#https://en.wikipedia.org/wiki/Elo_rating_system#Mathematical_details\n",
    "''''\n",
    "def add_success(row):\n",
    "    prob_rating = row['ratingProblem']\n",
    "    rating_user = row['ratingUser']\n",
    "    rating_diff = prob_rating - rating_user\n",
    "    return row['is_passed'] - 1/(1 + 10**(rating_diff/400))\n",
    "\n",
    "attempts['success'] = attempts.progress_apply(lambda row: add_success(row),axis=1)\n",
    "'''"
   ]
  },
  {
   "cell_type": "code",
   "execution_count": 8,
   "metadata": {},
   "outputs": [
    {
     "data": {
      "text/plain": [
       "\"\\n#Get average user success for each cluster\\nopponent_ratings_total = attempts.groupby(['user_hash','cluster'])['ratingProblem'].sum()\\nnum_cluster_games = attempts.groupby(['user_hash','cluster']).nunique()\\nuser_cluster_averaged = attempts.groupby(['user_hash','cluster'])['success'].agg('mean')\\n#Get the variance of average cluster success and then take the average\\navg_cluster_variance = user_cluster_averaged.var(level=0).agg('mean')\\nprint(avg_cluster_variance)\\n\""
      ]
     },
     "execution_count": 8,
     "metadata": {},
     "output_type": "execute_result"
    }
   ],
   "source": [
    "'''\n",
    "#Get average user success for each cluster\n",
    "opponent_ratings_total = attempts.groupby(['user_hash','cluster'])['ratingProblem'].sum()\n",
    "num_cluster_games = attempts.groupby(['user_hash','cluster']).nunique()\n",
    "user_cluster_averaged = attempts.groupby(['user_hash','cluster'])['success'].agg('mean')\n",
    "#Get the variance of average cluster success and then take the average\n",
    "avg_cluster_variance = user_cluster_averaged.var(level=0).agg('mean')\n",
    "print(avg_cluster_variance)\n",
    "'''"
   ]
  },
  {
   "cell_type": "code",
   "execution_count": 13,
   "metadata": {},
   "outputs": [],
   "source": [
    "#Calculate performance rating per cluster per user\n",
    "import time\n",
    "\n",
    "def time_command(command,criteria):\n",
    "    print('Running: ' + command)\n",
    "    start = time.time()\n",
    "    exec(command)\n",
    "    print('Took: '  + str(time.time()-start))\n",
    "\n",
    "def calc_user_performance(time=False,criteria='cluster'):\n",
    "    commands = [\"global opponent_ratings_total; opponent_ratings_total = attempts.groupby(['user_hash',criteria])['ratingProblem'].sum()\",\n",
    "                \"global num_cluster_games; num_cluster_games = attempts.groupby(['user_hash',criteria])['user_hash'].count()\",\n",
    "                \"global wins_plus_losses; wins_plus_losses = attempts.groupby(['user_hash',criteria])['is_passed'].sum()\"]\n",
    "    for command in commands:\n",
    "        if time:\n",
    "            time_command(command,criteria)\n",
    "        else:\n",
    "            exec(command)\n",
    "    return (opponent_ratings_total + 400*wins_plus_losses)/num_cluster_games"
   ]
  },
  {
   "cell_type": "code",
   "execution_count": 16,
   "metadata": {},
   "outputs": [
    {
     "name": "stdout",
     "output_type": "stream",
     "text": [
      "53283.67937626435\n"
     ]
    }
   ],
   "source": [
    "#Get variance of performance rating per cluster per user\n",
    "cluster_performance_user = calc_user_performance(True)\n",
    "avg_cluster_variance = cluster_performance_user.var(level=0).agg('mean')\n",
    "print(avg_cluster_variance)"
   ]
  },
  {
   "cell_type": "code",
   "execution_count": 15,
   "metadata": {},
   "outputs": [
    {
     "data": {
      "text/plain": [
       "user_hash                                                         cluster\n",
       "0000ed89d79d5e4fc767591ef5cafeaacd230d9c5022e578808647f10253b4b4  4          2538.888889\n",
       "000112a893ef54c6a79bcaaccb54e698ec3b4c46e20f7e4b8fc46e601829a451  1          1956.500000\n",
       "                                                                  2          1834.597403\n",
       "                                                                  5          1885.470588\n",
       "                                                                  10         1375.000000\n",
       "                                                                  11         1362.000000\n",
       "                                                                  12         2166.000000\n",
       "                                                                  13         1972.360000\n",
       "                                                                  14         1911.070896\n",
       "                                                                  15         1891.870968\n",
       "                                                                  16         2003.960000\n",
       "                                                                  17         1784.700000\n",
       "                                                                  18         1886.200000\n",
       "000179c6757662e7904bc0c311e106352bf2bd916530bd826e693c9c1a3ed17b  1          2052.923077\n",
       "                                                                  2          2022.955882\n",
       "                                                                  3          2159.666667\n",
       "                                                                  4          1955.400000\n",
       "                                                                  5          2115.687500\n",
       "                                                                  6          2341.000000\n",
       "                                                                  11         2108.142857\n",
       "                                                                  13         1987.269231\n",
       "                                                                  14         2022.114035\n",
       "                                                                  15         2131.500000\n",
       "                                                                  16         1834.375000\n",
       "                                                                  17         1729.500000\n",
       "                                                                  18         2447.500000\n",
       "0001cd74eef5cbb5b6b3a80e91ea323a6e6c7c1ebb97f98a4ac72488ce4715f9  1          1292.000000\n",
       "                                                                  2          1733.666667\n",
       "                                                                  13         1629.000000\n",
       "                                                                  14         1740.250000\n",
       "                                                                                ...     \n",
       "fffed79ef3af842396229fe76a9066a5ce2ae47cdc4f3df864c06883b83dbaaf  15         2184.000000\n",
       "                                                                  20         2246.000000\n",
       "fffedf9e6fd9175edaecfa8e7b7063c7d4f90f4568a5a5fab67411171ec90eb8  4          2331.181818\n",
       "                                                                  5          2286.000000\n",
       "ffff7f9b22890d19922af44cec66244ee292d9f6abf635af6f58cb944e99484b  1          2270.666667\n",
       "                                                                  2          2069.350000\n",
       "                                                                  5          2311.000000\n",
       "                                                                  7          2113.000000\n",
       "                                                                  13         1609.000000\n",
       "                                                                  14         2024.131579\n",
       "                                                                  15         1980.750000\n",
       "                                                                  16         2061.375000\n",
       "                                                                  17         2180.500000\n",
       "                                                                  18         1695.000000\n",
       "ffffc40d79a7083858d71523880122079fe99681c9e9303c3c22ff8174f35319  1          1855.500000\n",
       "                                                                  2          1876.105263\n",
       "                                                                  5          1938.083333\n",
       "                                                                  13         2091.500000\n",
       "                                                                  14         1883.017544\n",
       "                                                                  15         1527.000000\n",
       "                                                                  16         1708.000000\n",
       "                                                                  18         1952.333333\n",
       "ffffd2dc7881807a6a29e65652d982301302f0d87bb46381bb377835be3cf8ce  1          2096.500000\n",
       "                                                                  2          2027.700000\n",
       "                                                                  5          2033.894737\n",
       "                                                                  7          1365.000000\n",
       "                                                                  13         2255.000000\n",
       "                                                                  14         2065.176471\n",
       "                                                                  15         1716.250000\n",
       "                                                                  16         1882.500000\n",
       "Length: 1419710, dtype: float64"
      ]
     },
     "execution_count": 15,
     "metadata": {},
     "output_type": "execute_result"
    }
   ],
   "source": [
    "performance_user"
   ]
  },
  {
   "cell_type": "code",
   "execution_count": 17,
   "metadata": {},
   "outputs": [
    {
     "name": "stdout",
     "output_type": "stream",
     "text": [
      "Running: global opponent_ratings_total; opponent_ratings_total = attempts.groupby(['user_hash',criteria])['ratingProblem'].sum()\n",
      "Took: 63.32361674308777\n",
      "Running: global num_cluster_games; num_cluster_games = attempts.groupby(['user_hash',criteria])['user_hash'].count()\n",
      "Took: 81.53019905090332\n",
      "Running: global wins_plus_losses; wins_plus_losses = attempts.groupby(['user_hash',criteria])['is_passed'].sum()\n",
      "Took: 61.449013233184814\n",
      "44134.626560228426\n"
     ]
    }
   ],
   "source": [
    "#Get variance of performance rating per tag per user\n",
    "tag_performance_user = calc_user_performance(time=True,criteria='tag')\n",
    "avg_cluster_variance = tag_performance_user.var(level=0).agg('mean')\n",
    "print(avg_cluster_variance)"
   ]
  },
  {
   "cell_type": "code",
   "execution_count": 20,
   "metadata": {},
   "outputs": [
    {
     "data": {
      "text/plain": [
       "20"
      ]
     },
     "execution_count": 20,
     "metadata": {},
     "output_type": "execute_result"
    }
   ],
   "source": [
    "len(set(attempts['cluster']))"
   ]
  },
  {
   "cell_type": "markdown",
   "metadata": {},
   "source": [
    "<h2>Get Average User Success Sample Var in Fake Clusters</h2>"
   ]
  },
  {
   "cell_type": "code",
   "execution_count": 25,
   "metadata": {},
   "outputs": [],
   "source": [
    "#Get number of puzzles in each cluster and create a numpy array of cluster labels so that the number of labels\n",
    "#for cluster 'a' correspond to the count of cluster a in the original puzzle metadata\n",
    "cluster_count = puzzle_data.groupby('cluster')['tactics_problem_id'].nunique().values\n",
    "cluster_list = np.array([])\n",
    "for i in range(20):\n",
    "    clust_labels = np.full(cluster_count[i],i+1)\n",
    "    cluster_list = np.append(cluster_list,clust_labels)\n",
    "cluster_list = cluster_list.astype(int)"
   ]
  },
  {
   "cell_type": "code",
   "execution_count": 26,
   "metadata": {},
   "outputs": [],
   "source": [
    "#Shuffle the order of the rows of the original puzzle metadata\n",
    "puzzle_data_shuffled = puzzle_data.copy().sample(frac=1).reset_index(drop=True)\n",
    "#Add the clusters to the shuffled puzzles so that the mismatch will create clusters of equal size as the original\n",
    "#But with the puzzles grouped randomly\n",
    "puzzle_data_shuffled['cluster'] = cluster_list\n",
    "#Shuffle again for appearance\n",
    "puzzle_data_shuffled = puzzle_data_shuffled.sample(frac=1).reset_index(drop=True)"
   ]
  },
  {
   "cell_type": "code",
   "execution_count": 27,
   "metadata": {},
   "outputs": [
    {
     "data": {
      "text/html": [
       "<div>\n",
       "<style scoped>\n",
       "    .dataframe tbody tr th:only-of-type {\n",
       "        vertical-align: middle;\n",
       "    }\n",
       "\n",
       "    .dataframe tbody tr th {\n",
       "        vertical-align: top;\n",
       "    }\n",
       "\n",
       "    .dataframe thead th {\n",
       "        text-align: right;\n",
       "    }\n",
       "</style>\n",
       "<table border=\"1\" class=\"dataframe\">\n",
       "  <thead>\n",
       "    <tr style=\"text-align: right;\">\n",
       "      <th></th>\n",
       "      <th>tactics_problem_id</th>\n",
       "      <th>rating</th>\n",
       "      <th>rd</th>\n",
       "      <th>attempt_count</th>\n",
       "      <th>average_seconds</th>\n",
       "      <th>move_count</th>\n",
       "      <th>tags</th>\n",
       "      <th>fen</th>\n",
       "      <th>tag</th>\n",
       "      <th>cluster</th>\n",
       "    </tr>\n",
       "  </thead>\n",
       "  <tbody>\n",
       "    <tr>\n",
       "      <th>0</th>\n",
       "      <td>28169</td>\n",
       "      <td>1066</td>\n",
       "      <td>45.12</td>\n",
       "      <td>60397</td>\n",
       "      <td>126</td>\n",
       "      <td>4</td>\n",
       "      <td>Mate in 3+,Mating Net</td>\n",
       "      <td>https://lichess.org/analysis/2kr1r2/p1p3p1/3b3...</td>\n",
       "      <td>Mating Net</td>\n",
       "      <td>16</td>\n",
       "    </tr>\n",
       "    <tr>\n",
       "      <th>1</th>\n",
       "      <td>32987</td>\n",
       "      <td>1009</td>\n",
       "      <td>44.06</td>\n",
       "      <td>61868</td>\n",
       "      <td>37</td>\n",
       "      <td>3</td>\n",
       "      <td>Fork / Double Attack</td>\n",
       "      <td>https://lichess.org/analysis/6k1/5p1p/6p1/2p5/...</td>\n",
       "      <td>Fork / Double Attack</td>\n",
       "      <td>4</td>\n",
       "    </tr>\n",
       "    <tr>\n",
       "      <th>2</th>\n",
       "      <td>35696</td>\n",
       "      <td>1484</td>\n",
       "      <td>45.02</td>\n",
       "      <td>51055</td>\n",
       "      <td>41</td>\n",
       "      <td>1</td>\n",
       "      <td>Hanging Piece,Overloading,Pin</td>\n",
       "      <td>https://lichess.org/analysis/r1b1kb1r/pppp1pp1...</td>\n",
       "      <td>Overloading</td>\n",
       "      <td>1</td>\n",
       "    </tr>\n",
       "    <tr>\n",
       "      <th>3</th>\n",
       "      <td>157958</td>\n",
       "      <td>400</td>\n",
       "      <td>40.15</td>\n",
       "      <td>4532</td>\n",
       "      <td>40</td>\n",
       "      <td>1</td>\n",
       "      <td>Mate in 1</td>\n",
       "      <td>https://lichess.org/analysis/rn1qkb1r/1b1pnp2/...</td>\n",
       "      <td>Mate in 1</td>\n",
       "      <td>14</td>\n",
       "    </tr>\n",
       "    <tr>\n",
       "      <th>4</th>\n",
       "      <td>88305</td>\n",
       "      <td>1130</td>\n",
       "      <td>46.43</td>\n",
       "      <td>62583</td>\n",
       "      <td>52</td>\n",
       "      <td>2</td>\n",
       "      <td>Basic Checkmates,Mate in 2,Sacrifice,Clearance...</td>\n",
       "      <td>https://lichess.org/analysis/3rr3/6k1/6Np/p1p3...</td>\n",
       "      <td>Clearance Sacrifice</td>\n",
       "      <td>4</td>\n",
       "    </tr>\n",
       "  </tbody>\n",
       "</table>\n",
       "</div>"
      ],
      "text/plain": [
       "   tactics_problem_id  rating     rd  attempt_count  average_seconds  \\\n",
       "0               28169    1066  45.12          60397              126   \n",
       "1               32987    1009  44.06          61868               37   \n",
       "2               35696    1484  45.02          51055               41   \n",
       "3              157958     400  40.15           4532               40   \n",
       "4               88305    1130  46.43          62583               52   \n",
       "\n",
       "   move_count                                               tags  \\\n",
       "0           4                              Mate in 3+,Mating Net   \n",
       "1           3                               Fork / Double Attack   \n",
       "2           1                      Hanging Piece,Overloading,Pin   \n",
       "3           1                                          Mate in 1   \n",
       "4           2  Basic Checkmates,Mate in 2,Sacrifice,Clearance...   \n",
       "\n",
       "                                                 fen                   tag  \\\n",
       "0  https://lichess.org/analysis/2kr1r2/p1p3p1/3b3...            Mating Net   \n",
       "1  https://lichess.org/analysis/6k1/5p1p/6p1/2p5/...  Fork / Double Attack   \n",
       "2  https://lichess.org/analysis/r1b1kb1r/pppp1pp1...           Overloading   \n",
       "3  https://lichess.org/analysis/rn1qkb1r/1b1pnp2/...             Mate in 1   \n",
       "4  https://lichess.org/analysis/3rr3/6k1/6Np/p1p3...   Clearance Sacrifice   \n",
       "\n",
       "   cluster  \n",
       "0       16  \n",
       "1        4  \n",
       "2        1  \n",
       "3       14  \n",
       "4        4  "
      ]
     },
     "execution_count": 27,
     "metadata": {},
     "output_type": "execute_result"
    }
   ],
   "source": [
    "puzzle_data_shuffled.head()"
   ]
  },
  {
   "cell_type": "code",
   "execution_count": 28,
   "metadata": {},
   "outputs": [
    {
     "data": {
      "application/vnd.jupyter.widget-view+json": {
       "model_id": "6bb139d7e96746169f7812e5b78f56da",
       "version_major": 2,
       "version_minor": 0
      },
      "text/plain": [
       "HBox(children=(IntProgress(value=0, max=3), HTML(value='')))"
      ]
     },
     "metadata": {},
     "output_type": "display_data"
    },
    {
     "name": "stdout",
     "output_type": "stream",
     "text": [
      "48279.21326431261\n",
      "48996.26945307859\n",
      "48517.741629443146\n",
      "\n"
     ]
    }
   ],
   "source": [
    "#Loop that recreates random baseline clusters and recomputes the average variance of player skills in each cluster\n",
    "results = []\n",
    "for i in tqdm(range(3)):\n",
    "    puzzle_data_shuffled = puzzle_data.copy().sample(frac=1).reset_index(drop=True)\n",
    "    puzzle_data_shuffled['cluster'] = cluster_list\n",
    "    attempts.drop(['cluster'],axis=1,inplace=True)\n",
    "    attempts=pd.merge(attempts,\n",
    "                      puzzle_data_shuffled[['tactics_problem_id','cluster']],\n",
    "                      on='tactics_problem_id', \n",
    "                      how='inner')\n",
    "    #Get variance of performance rating per cluster per user\n",
    "    performance_user = calc_user_performance()\n",
    "    avg_cluster_variance = performance_user.var(level=0).agg('mean')\n",
    "    print(avg_cluster_variance)\n",
    "    results.append(avg_cluster_variance)"
   ]
  },
  {
   "cell_type": "code",
   "execution_count": 29,
   "metadata": {},
   "outputs": [
    {
     "name": "stdout",
     "output_type": "stream",
     "text": [
      "[48279.21326431261, 48996.26945307859, 48517.741629443146]\n"
     ]
    }
   ],
   "source": [
    "print(results)"
   ]
  },
  {
   "cell_type": "code",
   "execution_count": 30,
   "metadata": {},
   "outputs": [
    {
     "name": "stdout",
     "output_type": "stream",
     "text": [
      "48279.21326431261\n",
      "48597.741448944784\n",
      "48996.26945307859\n"
     ]
    }
   ],
   "source": [
    "print(min(results))\n",
    "print(sum(results)/3)\n",
    "print(max(results))"
   ]
  }
 ],
 "metadata": {
  "kernelspec": {
   "display_name": "Python 3",
   "language": "python",
   "name": "python3"
  },
  "language_info": {
   "codemirror_mode": {
    "name": "ipython",
    "version": 3
   },
   "file_extension": ".py",
   "mimetype": "text/x-python",
   "name": "python",
   "nbconvert_exporter": "python",
   "pygments_lexer": "ipython3",
   "version": "3.7.1"
  }
 },
 "nbformat": 4,
 "nbformat_minor": 4
}
