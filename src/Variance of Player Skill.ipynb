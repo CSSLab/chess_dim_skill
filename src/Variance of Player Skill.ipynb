{
 "cells": [
  {
   "cell_type": "code",
   "execution_count": 1,
   "metadata": {},
   "outputs": [
    {
     "data": {
      "application/vnd.jupyter.widget-view+json": {
       "model_id": "1cff35f0391b40779967a122f0e37a69",
       "version_major": 2,
       "version_minor": 0
      },
      "text/plain": [
       "HBox(children=(IntProgress(value=1, bar_style='info', max=1), HTML(value='')))"
      ]
     },
     "metadata": {},
     "output_type": "display_data"
    },
    {
     "name": "stdout",
     "output_type": "stream",
     "text": [
      "\n"
     ]
    }
   ],
   "source": [
    "import numpy as np\n",
    "import pandas as pd\n",
    "from tqdm import tqdm_notebook as tqdm\n",
    "tqdm().pandas()\n",
    "puzzle_data = pd.read_csv(\"../full_meta_clustered_singletag.tsv\", sep='\\t')"
   ]
  },
  {
   "cell_type": "code",
   "execution_count": 2,
   "metadata": {},
   "outputs": [],
   "source": [
    "#Load the full dataset of puzzle attempts\n",
    "attempts = pd.read_csv(\"/w/225/1/chess/tactics/glicko_user_tactics_problem.csv_00\")"
   ]
  },
  {
   "cell_type": "code",
   "execution_count": 3,
   "metadata": {},
   "outputs": [],
   "source": [
    "#Replace each 0 in the is_passed field with a -1 for calculating the total won - failed later\n",
    "attempts['is_passed'] = attempts['is_passed'].replace(0, -1,regex=True)"
   ]
  },
  {
   "cell_type": "markdown",
   "metadata": {},
   "source": [
    "<h2>Get Average User Success Sample Var in Actual Clusters</h2>"
   ]
  },
  {
   "cell_type": "code",
   "execution_count": 4,
   "metadata": {},
   "outputs": [],
   "source": [
    "#Filter attempts to include only attempts by players who have played at least 100 games\n",
    "attempts = attempts.loc[attempts['userGamesPlayed'] >= 1000]"
   ]
  },
  {
   "cell_type": "code",
   "execution_count": 5,
   "metadata": {},
   "outputs": [],
   "source": [
    "#Join cluster labels to puzzles that were clustered \n",
    "attempts=pd.merge(attempts,puzzle_data[['tactics_problem_id','cluster','tag','rating']],on='tactics_problem_id', how='inner')"
   ]
  },
  {
   "cell_type": "code",
   "execution_count": 6,
   "metadata": {},
   "outputs": [
    {
     "data": {
      "text/html": [
       "<div>\n",
       "<style scoped>\n",
       "    .dataframe tbody tr th:only-of-type {\n",
       "        vertical-align: middle;\n",
       "    }\n",
       "\n",
       "    .dataframe tbody tr th {\n",
       "        vertical-align: top;\n",
       "    }\n",
       "\n",
       "    .dataframe thead th {\n",
       "        text-align: right;\n",
       "    }\n",
       "</style>\n",
       "<table border=\"1\" class=\"dataframe\">\n",
       "  <thead>\n",
       "    <tr style=\"text-align: right;\">\n",
       "      <th></th>\n",
       "      <th>user_tactics_problem_id</th>\n",
       "      <th>user_hash</th>\n",
       "      <th>create_date</th>\n",
       "      <th>date</th>\n",
       "      <th>last_game_date</th>\n",
       "      <th>seconds</th>\n",
       "      <th>is_passed</th>\n",
       "      <th>correct_move_count</th>\n",
       "      <th>rating_change</th>\n",
       "      <th>tactics_problem_id</th>\n",
       "      <th>ratingUser</th>\n",
       "      <th>varianceUser</th>\n",
       "      <th>ratingProblem</th>\n",
       "      <th>varianceProblem</th>\n",
       "      <th>userGamesPlayed</th>\n",
       "      <th>cluster</th>\n",
       "      <th>tag</th>\n",
       "      <th>rating</th>\n",
       "    </tr>\n",
       "  </thead>\n",
       "  <tbody>\n",
       "    <tr>\n",
       "      <th>0</th>\n",
       "      <td>3337015</td>\n",
       "      <td>3da90302d3d94216f2c06cc49efb2b122bee379c814392...</td>\n",
       "      <td>2008-05-11 10:17:09</td>\n",
       "      <td>2008-05-11</td>\n",
       "      <td>2008-05-11</td>\n",
       "      <td>8</td>\n",
       "      <td>-1</td>\n",
       "      <td>0</td>\n",
       "      <td>-44</td>\n",
       "      <td>30668</td>\n",
       "      <td>1829</td>\n",
       "      <td>36</td>\n",
       "      <td>1762</td>\n",
       "      <td>138</td>\n",
       "      <td>1002</td>\n",
       "      <td>4</td>\n",
       "      <td>Vulnerable King</td>\n",
       "      <td>1503</td>\n",
       "    </tr>\n",
       "    <tr>\n",
       "      <th>1</th>\n",
       "      <td>3337748</td>\n",
       "      <td>b7654c69d380e16dc133d59936f34b1318e353faa450fa...</td>\n",
       "      <td>2008-05-11 11:36:23</td>\n",
       "      <td>2008-05-11</td>\n",
       "      <td>2008-05-11</td>\n",
       "      <td>9</td>\n",
       "      <td>1</td>\n",
       "      <td>1</td>\n",
       "      <td>54</td>\n",
       "      <td>30668</td>\n",
       "      <td>1775</td>\n",
       "      <td>44</td>\n",
       "      <td>1819</td>\n",
       "      <td>128</td>\n",
       "      <td>1001</td>\n",
       "      <td>4</td>\n",
       "      <td>Vulnerable King</td>\n",
       "      <td>1503</td>\n",
       "    </tr>\n",
       "    <tr>\n",
       "      <th>2</th>\n",
       "      <td>3419396</td>\n",
       "      <td>7a348494ef7ba27a6fe2ed089ac84aca4a95ba77b95484...</td>\n",
       "      <td>2008-05-18 21:24:22</td>\n",
       "      <td>2008-05-18</td>\n",
       "      <td>2008-05-18</td>\n",
       "      <td>32</td>\n",
       "      <td>-1</td>\n",
       "      <td>0</td>\n",
       "      <td>-51</td>\n",
       "      <td>30668</td>\n",
       "      <td>1872</td>\n",
       "      <td>29</td>\n",
       "      <td>1831</td>\n",
       "      <td>68</td>\n",
       "      <td>1266</td>\n",
       "      <td>4</td>\n",
       "      <td>Vulnerable King</td>\n",
       "      <td>1503</td>\n",
       "    </tr>\n",
       "    <tr>\n",
       "      <th>3</th>\n",
       "      <td>3424342</td>\n",
       "      <td>9adee4e89a43a5f412bb4227433937655e99a11426c109...</td>\n",
       "      <td>2008-05-19 10:08:06</td>\n",
       "      <td>2008-05-19</td>\n",
       "      <td>2008-05-19</td>\n",
       "      <td>39</td>\n",
       "      <td>-1</td>\n",
       "      <td>0</td>\n",
       "      <td>-34</td>\n",
       "      <td>30668</td>\n",
       "      <td>1584</td>\n",
       "      <td>56</td>\n",
       "      <td>1861</td>\n",
       "      <td>65</td>\n",
       "      <td>1451</td>\n",
       "      <td>4</td>\n",
       "      <td>Vulnerable King</td>\n",
       "      <td>1503</td>\n",
       "    </tr>\n",
       "    <tr>\n",
       "      <th>4</th>\n",
       "      <td>3425081</td>\n",
       "      <td>709c6b9629f82206e2d0a980c2100253329e6c162a0c1b...</td>\n",
       "      <td>2008-05-19 11:16:20</td>\n",
       "      <td>2008-05-19</td>\n",
       "      <td>2008-05-19</td>\n",
       "      <td>6</td>\n",
       "      <td>-1</td>\n",
       "      <td>0</td>\n",
       "      <td>-12</td>\n",
       "      <td>30668</td>\n",
       "      <td>1639</td>\n",
       "      <td>47</td>\n",
       "      <td>1865</td>\n",
       "      <td>64</td>\n",
       "      <td>1227</td>\n",
       "      <td>4</td>\n",
       "      <td>Vulnerable King</td>\n",
       "      <td>1503</td>\n",
       "    </tr>\n",
       "  </tbody>\n",
       "</table>\n",
       "</div>"
      ],
      "text/plain": [
       "   user_tactics_problem_id                                          user_hash  \\\n",
       "0                  3337015  3da90302d3d94216f2c06cc49efb2b122bee379c814392...   \n",
       "1                  3337748  b7654c69d380e16dc133d59936f34b1318e353faa450fa...   \n",
       "2                  3419396  7a348494ef7ba27a6fe2ed089ac84aca4a95ba77b95484...   \n",
       "3                  3424342  9adee4e89a43a5f412bb4227433937655e99a11426c109...   \n",
       "4                  3425081  709c6b9629f82206e2d0a980c2100253329e6c162a0c1b...   \n",
       "\n",
       "           create_date        date last_game_date  seconds  is_passed  \\\n",
       "0  2008-05-11 10:17:09  2008-05-11     2008-05-11        8         -1   \n",
       "1  2008-05-11 11:36:23  2008-05-11     2008-05-11        9          1   \n",
       "2  2008-05-18 21:24:22  2008-05-18     2008-05-18       32         -1   \n",
       "3  2008-05-19 10:08:06  2008-05-19     2008-05-19       39         -1   \n",
       "4  2008-05-19 11:16:20  2008-05-19     2008-05-19        6         -1   \n",
       "\n",
       "   correct_move_count  rating_change  tactics_problem_id  ratingUser  \\\n",
       "0                   0            -44               30668        1829   \n",
       "1                   1             54               30668        1775   \n",
       "2                   0            -51               30668        1872   \n",
       "3                   0            -34               30668        1584   \n",
       "4                   0            -12               30668        1639   \n",
       "\n",
       "   varianceUser  ratingProblem  varianceProblem  userGamesPlayed  cluster  \\\n",
       "0            36           1762              138             1002        4   \n",
       "1            44           1819              128             1001        4   \n",
       "2            29           1831               68             1266        4   \n",
       "3            56           1861               65             1451        4   \n",
       "4            47           1865               64             1227        4   \n",
       "\n",
       "               tag  rating  \n",
       "0  Vulnerable King    1503  \n",
       "1  Vulnerable King    1503  \n",
       "2  Vulnerable King    1503  \n",
       "3  Vulnerable King    1503  \n",
       "4  Vulnerable King    1503  "
      ]
     },
     "execution_count": 6,
     "metadata": {},
     "output_type": "execute_result"
    }
   ],
   "source": [
    "attempts.head()"
   ]
  },
  {
   "cell_type": "code",
   "execution_count": 33,
   "metadata": {},
   "outputs": [],
   "source": [
    "#Filter down to attempts for puzzles that are in the top 20 tags\n",
    "'''\n",
    "top_tags = ['Mate in 1', 'Mate in 2', 'Fork / Double Attack', 'Mate in 3+',\n",
    "       'Hanging Piece', 'Mating Net', 'Pin', 'Vulnerable King',\n",
    "       'Decoy / Deflection', 'Remove the Defender', 'Discovered Attack',\n",
    "       'Defense', 'Endgame Tactics', 'Basic Checkmates', 'Back Rank',\n",
    "       'Sacrifice', 'Pawn Promotion', 'Zwischenzug', 'Trapped Piece',\n",
    "       'Attacking Castled King']\n",
    "attempts = attempts.loc[attempts['tag'].isin(top_tags)]\n",
    "'''"
   ]
  },
  {
   "cell_type": "code",
   "execution_count": 7,
   "metadata": {},
   "outputs": [
    {
     "data": {
      "text/plain": [
       "\"'\\ndef add_success(row):\\n    prob_rating = row['ratingProblem']\\n    rating_user = row['ratingUser']\\n    rating_diff = prob_rating - rating_user\\n    return row['is_passed'] - 1/(1 + 10**(rating_diff/400))\\n\\nattempts['success'] = attempts.progress_apply(lambda row: add_success(row),axis=1)\\n\""
      ]
     },
     "execution_count": 7,
     "metadata": {},
     "output_type": "execute_result"
    }
   ],
   "source": [
    "#Add expected success for each player using formula for ELO expected score here: \n",
    "#https://en.wikipedia.org/wiki/Elo_rating_system#Mathematical_details\n",
    "''''\n",
    "def add_success(row):\n",
    "    prob_rating = row['ratingProblem']\n",
    "    rating_user = row['ratingUser']\n",
    "    rating_diff = prob_rating - rating_user\n",
    "    return row['is_passed'] - 1/(1 + 10**(rating_diff/400))\n",
    "\n",
    "attempts['success'] = attempts.progress_apply(lambda row: add_success(row),axis=1)\n",
    "'''"
   ]
  },
  {
   "cell_type": "code",
   "execution_count": 8,
   "metadata": {},
   "outputs": [
    {
     "data": {
      "text/plain": [
       "\"\\n#Get average user success for each cluster\\nopponent_ratings_total = attempts.groupby(['user_hash','cluster'])['ratingProblem'].sum()\\nnum_cluster_games = attempts.groupby(['user_hash','cluster']).nunique()\\nuser_cluster_averaged = attempts.groupby(['user_hash','cluster'])['success'].agg('mean')\\n#Get the variance of average cluster success and then take the average\\navg_cluster_variance = user_cluster_averaged.var(level=0).agg('mean')\\nprint(avg_cluster_variance)\\n\""
      ]
     },
     "execution_count": 8,
     "metadata": {},
     "output_type": "execute_result"
    }
   ],
   "source": [
    "'''\n",
    "#Get average user success for each cluster\n",
    "opponent_ratings_total = attempts.groupby(['user_hash','cluster'])['ratingProblem'].sum()\n",
    "num_cluster_games = attempts.groupby(['user_hash','cluster']).nunique()\n",
    "user_cluster_averaged = attempts.groupby(['user_hash','cluster'])['success'].agg('mean')\n",
    "#Get the variance of average cluster success and then take the average\n",
    "avg_cluster_variance = user_cluster_averaged.var(level=0).agg('mean')\n",
    "print(avg_cluster_variance)\n",
    "'''"
   ]
  },
  {
   "cell_type": "code",
   "execution_count": 7,
   "metadata": {},
   "outputs": [],
   "source": [
    "#Calculate performance rating per cluster per user\n",
    "import time\n",
    "\n",
    "def time_command(command,criteria):\n",
    "    print('Running: ' + command)\n",
    "    start = time.time()\n",
    "    exec(command)\n",
    "    print('Took: '  + str(time.time()-start))\n",
    "\n",
    "def calc_user_performance(time=False,criteria='cluster'):\n",
    "    commands = [\"global opponent_ratings_total; opponent_ratings_total = attempts.groupby(['user_hash',criteria])['rating'].sum()\",\n",
    "                \"global num_cluster_games; num_cluster_games = attempts.groupby(['user_hash',criteria])['user_hash'].count()\",\n",
    "                \"global wins_plus_losses; wins_plus_losses = attempts.groupby(['user_hash',criteria])['is_passed'].sum()\"]\n",
    "    for command in commands:\n",
    "        if time:\n",
    "            time_command(command,criteria)\n",
    "        else:\n",
    "            exec(command)\n",
    "    return (opponent_ratings_total + 400*wins_plus_losses)/num_cluster_games"
   ]
  },
  {
   "cell_type": "code",
   "execution_count": 8,
   "metadata": {},
   "outputs": [
    {
     "name": "stdout",
     "output_type": "stream",
     "text": [
      "Running: global opponent_ratings_total; opponent_ratings_total = attempts.groupby(['user_hash',criteria])['rating'].sum()\n",
      "Took: 84.89727139472961\n",
      "Running: global num_cluster_games; num_cluster_games = attempts.groupby(['user_hash',criteria])['user_hash'].count()\n",
      "Took: 46.87016987800598\n",
      "Running: global wins_plus_losses; wins_plus_losses = attempts.groupby(['user_hash',criteria])['is_passed'].sum()\n",
      "Took: 36.659831047058105\n",
      "108281.5993984598\n"
     ]
    }
   ],
   "source": [
    "#Get variance of performance rating per cluster per user\n",
    "cluster_performance_user = calc_user_performance(True)\n",
    "avg_cluster_variance = cluster_performance_user.var(level=0).agg('mean')\n",
    "print(avg_cluster_variance)"
   ]
  },
  {
   "cell_type": "code",
   "execution_count": 24,
   "metadata": {},
   "outputs": [
    {
     "data": {
      "text/plain": [
       "user_hash                                                         tag                   \n",
       "0006c3f3f05ee8a902169bf52833f36833580952eb90bd774328ad15d9c21fd2  Attacking Castled King    1196.648649\n",
       "                                                                  Attacking f7/f2           1152.555556\n",
       "                                                                  Back Rank                 1119.927273\n",
       "                                                                  Basic Checkmates          1199.075000\n",
       "                                                                  Clearance Sacrifice       1213.658537\n",
       "                                                                  Decoy / Deflection        1076.720000\n",
       "                                                                  Defense                   1212.897959\n",
       "                                                                  Desperado                 1100.647059\n",
       "                                                                  Discovered Attack         1211.423077\n",
       "                                                                  Double Check              1171.083333\n",
       "                                                                  En passant                1504.000000\n",
       "                                                                  Endgame Tactics           1032.214286\n",
       "                                                                  Exchange Sacrifice        1220.305556\n",
       "                                                                  Fork / Double Attack      1163.480392\n",
       "                                                                  Hanging Piece             1166.395349\n",
       "                                                                  Interference              1237.272727\n",
       "                                                                  Mate in 1                  957.085526\n",
       "                                                                  Mate in 2                 1044.761468\n",
       "                                                                  Mate in 3+                1025.166667\n",
       "                                                                  Mating Net                1200.885496\n",
       "                                                                  Opposition                1627.000000\n",
       "                                                                  Overloading               1248.421053\n",
       "                                                                  Pawn Promotion            1183.365385\n",
       "                                                                  Perpetual Check           1055.000000\n",
       "                                                                  Pin                       1146.200000\n",
       "                                                                  Queen Sacrifice           1205.750000\n",
       "                                                                  Remove the Defender       1152.024390\n",
       "                                                                  Sacrifice                 1221.333333\n",
       "                                                                  Simplification            1342.913043\n",
       "                                                                  Skewer                    1180.508772\n",
       "                                                                                               ...     \n",
       "fffd93efa4b2dfb26e77d7285734cea8add25c950e99d135e91e48f2967a888a  Discovered Attack         1219.750000\n",
       "                                                                  Double Check              1288.888889\n",
       "                                                                  En passant                1734.000000\n",
       "                                                                  Endgame Tactics           1548.600000\n",
       "                                                                  Exchange Sacrifice        1264.325581\n",
       "                                                                  Fork / Double Attack      1126.088235\n",
       "                                                                  Hanging Piece             1239.864865\n",
       "                                                                  Interference              1293.090909\n",
       "                                                                  Mate in 1                 1054.363636\n",
       "                                                                  Mate in 2                 1145.700000\n",
       "                                                                  Mate in 3+                1301.900000\n",
       "                                                                  Mating Net                1244.647059\n",
       "                                                                  Opposition                1002.333333\n",
       "                                                                  Overloading               1372.956522\n",
       "                                                                  Pawn Promotion            1298.689655\n",
       "                                                                  Pin                       1247.843750\n",
       "                                                                  Queen Sacrifice           1218.083333\n",
       "                                                                  Remove the Defender       1095.933333\n",
       "                                                                  Sacrifice                 1278.260870\n",
       "                                                                  Simplification            1142.642857\n",
       "                                                                  Skewer                    1211.843750\n",
       "                                                                  Smothered Mate            1596.000000\n",
       "                                                                  Stalemate                 1255.500000\n",
       "                                                                  Trapped Piece             1301.017857\n",
       "                                                                  Underpromotion            1307.000000\n",
       "                                                                  Vulnerable King           1320.517857\n",
       "                                                                  Windmill                  1336.000000\n",
       "                                                                  X-Ray Attack              1210.629630\n",
       "                                                                  Zugzwang                  1329.000000\n",
       "                                                                  Zwischenzug               1263.775000\n",
       "Length: 1036383, dtype: float64"
      ]
     },
     "execution_count": 24,
     "metadata": {},
     "output_type": "execute_result"
    }
   ],
   "source": [
    "tag_performance_user"
   ]
  },
  {
   "cell_type": "code",
   "execution_count": 9,
   "metadata": {},
   "outputs": [
    {
     "name": "stdout",
     "output_type": "stream",
     "text": [
      "Running: global opponent_ratings_total; opponent_ratings_total = attempts.groupby(['user_hash',criteria])['rating'].sum()\n",
      "Took: 39.78676199913025\n",
      "Running: global num_cluster_games; num_cluster_games = attempts.groupby(['user_hash',criteria])['user_hash'].count()\n",
      "Took: 53.713523387908936\n",
      "Running: global wins_plus_losses; wins_plus_losses = attempts.groupby(['user_hash',criteria])['is_passed'].sum()\n",
      "Took: 39.55060005187988\n",
      "46236.27020432449\n"
     ]
    }
   ],
   "source": [
    "#Get variance of performance rating per tag per user\n",
    "tag_performance_user = calc_user_performance(time=True,criteria='tag')\n",
    "avg_tag_variance = tag_performance_user.var(level=0).agg('mean')\n",
    "print(avg_tag_variance)"
   ]
  },
  {
   "cell_type": "code",
   "execution_count": 10,
   "metadata": {},
   "outputs": [],
   "source": [
    "import matplotlib.pyplot as plt\n",
    "\n",
    "\n",
    "def plot_tag_counts(series,label,filename):\n",
    "    fig = plt.figure(figsize=(8,6))\n",
    "    ax = fig.add_subplot(1, 1, 1)\n",
    "    ax.bar(series.index, series.values,align='edge')\n",
    "    ax.set_xticklabels(series.index,rotation='vertical')\n",
    "    plt.title(label)\n",
    "    plt.tight_layout()\n",
    "    plt.savefig('../plots/' + filename)\n",
    "    plt.show()\n"
   ]
  },
  {
   "cell_type": "code",
   "execution_count": 16,
   "metadata": {},
   "outputs": [
    {
     "data": {
      "image/png": "[encoded data removed]",
      "text/plain": [
       "<Figure size 576x432 with 1 Axes>"
      ]
     },
     "metadata": {
      "needs_background": "light"
     },
     "output_type": "display_data"
    }
   ],
   "source": [
    "tag_avgs = tag_performance_user.groupby('tag').agg('mean')\n",
    "plot_tag_counts(tag_avgs,'Tag Avg Performance','tag_avg_performance')"
   ]
  },
  {
   "cell_type": "code",
   "execution_count": 23,
   "metadata": {},
   "outputs": [
    {
     "name": "stdout",
     "output_type": "stream",
     "text": [
      "Tag Max and Min Performances\n",
      "3161.9861111111113\n",
      "974.8391029022273\n",
      "---------\n",
      "Cluster Max and Min Performances\n",
      "1541.8321925613213\n",
      "636.0686723852039\n"
     ]
    }
   ],
   "source": [
    "print('Tag Max and Min Performances')\n",
    "print(max(tag_avgs))\n",
    "print(min(tag_avgs))\n",
    "print('---------')\n",
    "print('Cluster Max and Min Performances')\n",
    "print(max(cluster_avgs))\n",
    "print(min(cluster_avgs))"
   ]
  },
  {
   "cell_type": "code",
   "execution_count": 17,
   "metadata": {},
   "outputs": [
    {
     "data": {
      "image/png": "[encoded data removed]",
      "text/plain": [
       "<Figure size 576x432 with 1 Axes>"
      ]
     },
     "metadata": {
      "needs_background": "light"
     },
     "output_type": "display_data"
    }
   ],
   "source": [
    "cluster_avgs = cluster_performance_user.groupby('cluster').agg('mean')\n",
    "cluster_avgs.index = map(str, range(1,21))\n",
    "plot_tag_counts(cluster_avgs,'Cluster Avg Performance','cluster_avg_performance')"
   ]
  },
  {
   "cell_type": "markdown",
   "metadata": {},
   "source": [
    "<h2>Get Average User Success Sample Var in Fake Clusters</h2>"
   ]
  },
  {
   "cell_type": "code",
   "execution_count": 18,
   "metadata": {},
   "outputs": [],
   "source": [
    "#Get number of puzzles in each cluster and create a numpy array of cluster labels so that the number of labels\n",
    "#for cluster 'a' correspond to the count of cluster a in the original puzzle metadata\n",
    "cluster_count = puzzle_data.groupby('cluster')['tactics_problem_id'].nunique().values\n",
    "cluster_list = np.array([])\n",
    "for i in range(20):\n",
    "    clust_labels = np.full(cluster_count[i],i+1)\n",
    "    cluster_list = np.append(cluster_list,clust_labels)\n",
    "cluster_list = cluster_list.astype(int)"
   ]
  },
  {
   "cell_type": "code",
   "execution_count": 19,
   "metadata": {},
   "outputs": [],
   "source": [
    "#Shuffle the order of the rows of the original puzzle metadata\n",
    "puzzle_data_shuffled = puzzle_data.copy().sample(frac=1).reset_index(drop=True)\n",
    "#Add the clusters to the shuffled puzzles so that the mismatch will create clusters of equal size as the original\n",
    "#But with the puzzles grouped randomly\n",
    "puzzle_data_shuffled['cluster'] = cluster_list\n",
    "#Shuffle again for appearance\n",
    "puzzle_data_shuffled = puzzle_data_shuffled.sample(frac=1).reset_index(drop=True)"
   ]
  },
  {
   "cell_type": "code",
   "execution_count": 20,
   "metadata": {},
   "outputs": [
    {
     "data": {
      "text/html": [
       "<div>\n",
       "<style scoped>\n",
       "    .dataframe tbody tr th:only-of-type {\n",
       "        vertical-align: middle;\n",
       "    }\n",
       "\n",
       "    .dataframe tbody tr th {\n",
       "        vertical-align: top;\n",
       "    }\n",
       "\n",
       "    .dataframe thead th {\n",
       "        text-align: right;\n",
       "    }\n",
       "</style>\n",
       "<table border=\"1\" class=\"dataframe\">\n",
       "  <thead>\n",
       "    <tr style=\"text-align: right;\">\n",
       "      <th></th>\n",
       "      <th>tactics_problem_id</th>\n",
       "      <th>rating</th>\n",
       "      <th>rd</th>\n",
       "      <th>attempt_count</th>\n",
       "      <th>average_seconds</th>\n",
       "      <th>move_count</th>\n",
       "      <th>tags</th>\n",
       "      <th>fen</th>\n",
       "      <th>tag</th>\n",
       "      <th>cluster</th>\n",
       "    </tr>\n",
       "  </thead>\n",
       "  <tbody>\n",
       "    <tr>\n",
       "      <th>0</th>\n",
       "      <td>195412</td>\n",
       "      <td>1436</td>\n",
       "      <td>45.40</td>\n",
       "      <td>60667</td>\n",
       "      <td>51</td>\n",
       "      <td>2</td>\n",
       "      <td>Decoy / Deflection,Mate in 2,Overloading</td>\n",
       "      <td>https://lichess.org/analysis/3q4/p4R2/6pk/1p5b...</td>\n",
       "      <td>Overloading</td>\n",
       "      <td>4</td>\n",
       "    </tr>\n",
       "    <tr>\n",
       "      <th>1</th>\n",
       "      <td>27208</td>\n",
       "      <td>400</td>\n",
       "      <td>40.70</td>\n",
       "      <td>4764</td>\n",
       "      <td>32</td>\n",
       "      <td>1</td>\n",
       "      <td>Mate in 1</td>\n",
       "      <td>https://lichess.org/analysis/6k1/2Q2pp1/2P1p3/...</td>\n",
       "      <td>Mate in 1</td>\n",
       "      <td>8</td>\n",
       "    </tr>\n",
       "    <tr>\n",
       "      <th>2</th>\n",
       "      <td>40598</td>\n",
       "      <td>1525</td>\n",
       "      <td>45.02</td>\n",
       "      <td>51597</td>\n",
       "      <td>46</td>\n",
       "      <td>2</td>\n",
       "      <td>Decoy / Deflection,Discovered Attack,Mate in 3...</td>\n",
       "      <td>https://lichess.org/analysis/r4qr1/1p2pp1k/3p3...</td>\n",
       "      <td>Discovered Attack</td>\n",
       "      <td>9</td>\n",
       "    </tr>\n",
       "    <tr>\n",
       "      <th>3</th>\n",
       "      <td>40677</td>\n",
       "      <td>1009</td>\n",
       "      <td>45.42</td>\n",
       "      <td>62078</td>\n",
       "      <td>57</td>\n",
       "      <td>1</td>\n",
       "      <td>Attacking Castled King</td>\n",
       "      <td>https://lichess.org/analysis/1rr3k1/3bpp1p/3p2...</td>\n",
       "      <td>Attacking Castled King</td>\n",
       "      <td>17</td>\n",
       "    </tr>\n",
       "    <tr>\n",
       "      <th>4</th>\n",
       "      <td>46937</td>\n",
       "      <td>686</td>\n",
       "      <td>43.48</td>\n",
       "      <td>45008</td>\n",
       "      <td>34</td>\n",
       "      <td>1</td>\n",
       "      <td>Hanging Piece,Pin</td>\n",
       "      <td>https://lichess.org/analysis/6k1/5p2/1p6/1P4p1...</td>\n",
       "      <td>Pin</td>\n",
       "      <td>14</td>\n",
       "    </tr>\n",
       "  </tbody>\n",
       "</table>\n",
       "</div>"
      ],
      "text/plain": [
       "   tactics_problem_id  rating     rd  attempt_count  average_seconds  \\\n",
       "0              195412    1436  45.40          60667               51   \n",
       "1               27208     400  40.70           4764               32   \n",
       "2               40598    1525  45.02          51597               46   \n",
       "3               40677    1009  45.42          62078               57   \n",
       "4               46937     686  43.48          45008               34   \n",
       "\n",
       "   move_count                                               tags  \\\n",
       "0           2           Decoy / Deflection,Mate in 2,Overloading   \n",
       "1           1                                          Mate in 1   \n",
       "2           2  Decoy / Deflection,Discovered Attack,Mate in 3...   \n",
       "3           1                             Attacking Castled King   \n",
       "4           1                                  Hanging Piece,Pin   \n",
       "\n",
       "                                                 fen                     tag  \\\n",
       "0  https://lichess.org/analysis/3q4/p4R2/6pk/1p5b...             Overloading   \n",
       "1  https://lichess.org/analysis/6k1/2Q2pp1/2P1p3/...               Mate in 1   \n",
       "2  https://lichess.org/analysis/r4qr1/1p2pp1k/3p3...       Discovered Attack   \n",
       "3  https://lichess.org/analysis/1rr3k1/3bpp1p/3p2...  Attacking Castled King   \n",
       "4  https://lichess.org/analysis/6k1/5p2/1p6/1P4p1...                     Pin   \n",
       "\n",
       "   cluster  \n",
       "0        4  \n",
       "1        8  \n",
       "2        9  \n",
       "3       17  \n",
       "4       14  "
      ]
     },
     "execution_count": 20,
     "metadata": {},
     "output_type": "execute_result"
    }
   ],
   "source": [
    "puzzle_data_shuffled.head()"
   ]
  },
  {
   "cell_type": "code",
   "execution_count": 21,
   "metadata": {},
   "outputs": [
    {
     "data": {
      "application/vnd.jupyter.widget-view+json": {
       "model_id": "84b14f3e0aa146c28d0a56a1656438af",
       "version_major": 2,
       "version_minor": 0
      },
      "text/plain": [
       "HBox(children=(IntProgress(value=0, max=3), HTML(value='')))"
      ]
     },
     "metadata": {},
     "output_type": "display_data"
    },
    {
     "name": "stdout",
     "output_type": "stream",
     "text": [
      "38767.70463934681\n",
      "37558.122179808284\n",
      "37694.21553551763\n",
      "\n"
     ]
    }
   ],
   "source": [
    "#Loop that recreates random baseline clusters and recomputes the average variance of player skills in each cluster\n",
    "results = []\n",
    "for i in tqdm(range(3)):\n",
    "    puzzle_data_shuffled = puzzle_data.copy().sample(frac=1).reset_index(drop=True)\n",
    "    puzzle_data_shuffled['cluster'] = cluster_list\n",
    "    attempts.drop(['cluster'],axis=1,inplace=True)\n",
    "    attempts=pd.merge(attempts,\n",
    "                      puzzle_data_shuffled[['tactics_problem_id','cluster']],\n",
    "                      on='tactics_problem_id', \n",
    "                      how='inner')\n",
    "    #Get variance of performance rating per cluster per user\n",
    "    performance_user = calc_user_performance()\n",
    "    avg_cluster_variance = performance_user.var(level=0).agg('mean')\n",
    "    print(avg_cluster_variance)\n",
    "    results.append(avg_cluster_variance)"
   ]
  },
  {
   "cell_type": "code",
   "execution_count": 25,
   "metadata": {
    "scrolled": true
   },
   "outputs": [
    {
     "name": "stdout",
     "output_type": "stream",
     "text": [
      "37558.122179808284\n",
      "38006.680784890916\n",
      "38767.70463934681\n"
     ]
    }
   ],
   "source": [
    "print(min(results))\n",
    "print(sum(results)/3)\n",
    "print(max(results))"
   ]
  }
 ],
 "metadata": {
  "kernelspec": {
   "display_name": "Python 3",
   "language": "python",
   "name": "python3"
  },
  "language_info": {
   "codemirror_mode": {
    "name": "ipython",
    "version": 3
   },
   "file_extension": ".py",
   "mimetype": "text/x-python",
   "name": "python",
   "nbconvert_exporter": "python",
   "pygments_lexer": "ipython3",
   "version": "3.7.1"
  }
 },
 "nbformat": 4,
 "nbformat_minor": 4
}
