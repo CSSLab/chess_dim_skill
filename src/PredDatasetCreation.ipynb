{
 "cells": [
  {
   "cell_type": "code",
   "execution_count": 1,
   "metadata": {},
   "outputs": [
    {
     "data": {
      "application/vnd.jupyter.widget-view+json": {
       "model_id": "1ecc7b4ae84244b58bd0d1acb262642c",
       "version_major": 2,
       "version_minor": 0
      },
      "text/plain": [
       "HBox(children=(IntProgress(value=1, bar_style='info', max=1), HTML(value='')))"
      ]
     },
     "metadata": {},
     "output_type": "display_data"
    },
    {
     "name": "stdout",
     "output_type": "stream",
     "text": [
      "\n"
     ]
    }
   ],
   "source": [
    "import numpy as np\n",
    "import pandas as pd\n",
    "from tqdm import tqdm_notebook as tqdm\n",
    "tqdm().pandas()\n",
    "\n",
    "DIFF_RATING_OUTPUT_NAME = 'diff_rating_pred_data.csv'\n",
    "SAME_RATING_OUTPUT_NAME = 'same_rating_pred_data.csv'"
   ]
  },
  {
   "cell_type": "code",
   "execution_count": 2,
   "metadata": {},
   "outputs": [],
   "source": [
    "#Load problem metadata\n",
    "problems = pd.read_csv(\"../../ChessPuzzleEmbeddings/optimal_meta.tsv\",sep='\\t')"
   ]
  },
  {
   "cell_type": "code",
   "execution_count": 3,
   "metadata": {},
   "outputs": [],
   "source": [
    "#Read the attempts dataset and filter out users that have played less than 1k games\n",
    "attempts = pd.read_csv(\"/w/225/1/chess/tactics/glicko_user_tactics_problem.csv_00\")\n",
    "attempts = attempts.loc[attempts['userGamesPlayed'] >= 1000]"
   ]
  },
  {
   "cell_type": "code",
   "execution_count": 4,
   "metadata": {
    "scrolled": false
   },
   "outputs": [],
   "source": [
    "#Assign rating labels to problems in metadata so that problems \n",
    "#with ratings within the same range have the same label\n",
    "start = 375\n",
    "end = 3025\n",
    "interval = 25\n",
    "problems['rating_labels'] = pd.cut(problems['rating'],np.arange(start,end,interval),labels=range(1,((end-start)//interval)))\n",
    "#Merge problem metadata to join cluster and rating labels to the attempts by puzzle ID\n",
    "attempts=pd.merge(attempts,problems[['tactics_problem_id','cluster','rating_labels']],on='tactics_problem_id', how='inner')\n",
    "#Get list of individual users\n",
    "users = list(set(attempts['user_hash'].values))"
   ]
  },
  {
   "cell_type": "code",
   "execution_count": 6,
   "metadata": {},
   "outputs": [],
   "source": [
    "#Check if the two puzzles, given by their ID belong to the same cluster or not\n",
    "def test_tuple(tup):\n",
    "    prob_1 = problems.loc[problems['tactics_problem_id'] == tup[0]]['cluster'].values[0]\n",
    "    prob_2 = problems.loc[problems['tactics_problem_id'] == tup[1]]['cluster'].values[0]\n",
    "    return prob_1 != prob_2\n",
    "#Check if the two puzzles, given by their ID belong to the same cluster or not\n",
    "def test_rating_labels(tup):\n",
    "    prob_1 = problems.loc[problems['tactics_problem_id'] == tup[0]]['rating_labels'].values[0]\n",
    "    prob_2 = problems.loc[problems['tactics_problem_id'] == tup[1]]['rating_labels'].values[0]\n",
    "    return prob_1 != prob_2"
   ]
  },
  {
   "cell_type": "code",
   "execution_count": 7,
   "metadata": {},
   "outputs": [
    {
     "data": {
      "text/plain": [
       "(67259, 18)"
      ]
     },
     "execution_count": 7,
     "metadata": {},
     "output_type": "execute_result"
    }
   ],
   "source": [
    "#Filter out users that have played less than cluster_games_played games in each cluster\n",
    "cluster_games_played = 100\n",
    "user_cluster_count = attempts.groupby(['user_hash','cluster'])['tactics_problem_id'].count().to_frame()\n",
    "user_cluster_count.rename(columns={'tactics_problem_id':'cluster_count'},inplace=True)\n",
    "attempts  = pd.merge(attempts,user_cluster_count,on=['user_hash','cluster'],how='inner')\n",
    "attempts = attempts.loc[attempts.cluster_count > cluster_games_played]\n",
    "attempts.shape"
   ]
  },
  {
   "cell_type": "markdown",
   "metadata": {},
   "source": [
    "<h2>Pass/Fail Sampling & Dataset Creation</h2>\n",
    "<p>First cell below to create dataset of different ratings, second to create same rating</p>"
   ]
  },
  {
   "cell_type": "code",
   "execution_count": null,
   "metadata": {},
   "outputs": [],
   "source": [
    "#Creation of different rating dataset\n",
    "from itertools import product\n",
    "import random\n",
    "id_table = pd.DataFrame()\n",
    "i = 0\n",
    "for user in tqdm(users):\n",
    "    print('User: ' + user)\n",
    "    temp = []\n",
    "    user_list = attempts.loc[attempts[\"user_hash\"] == user]\n",
    "    #List of rating range labels\n",
    "    labels = list(set(user_list['rating_labels'].dropna()))\n",
    "    success = list(user_list.loc[user_list[\"is_passed\"] == 1]['tactics_problem_id'])\n",
    "    failed = list(user_list.loc[user_list[\"is_passed\"] == 0]['tactics_problem_id'])\n",
    "    #Get the correct porportion of passed/failed combinations for this rating label\n",
    "    combs = random.sample(set(product(success,failed)),min(len(success),len(failed)))\n",
    "    j = 0\n",
    "    while len(temp) < 200 and j < len(combs):\n",
    "        comb = combs[j]\n",
    "        if test_rating_labels(comb) and comb not in temp:\n",
    "            id_table=id_table.append(pd.Series([user,comb[0],comb[1]]),ignore_index=True)\n",
    "            temp.append(comb)\n",
    "        j += 1\n",
    "    i += 1\n",
    "    if i % 10 == 0:\n",
    "        id_table.to_csv(DIFF_RATING_OUTPUT_NAME, mode='w', header=False,index=False)"
   ]
  },
  {
   "cell_type": "code",
   "execution_count": null,
   "metadata": {},
   "outputs": [],
   "source": [
    "#Creation of the same rating dataset\n",
    "from itertools import product\n",
    "import random\n",
    "id_table = pd.DataFrame()\n",
    "i = 0\n",
    "for user in tqdm(users):\n",
    "    print('User: ' + user)\n",
    "    temp = []\n",
    "    user_list = attempts.loc[attempts[\"user_hash\"] == user]\n",
    "    n = len(user_list)\n",
    "    #List of rating range labels\n",
    "    labels = list(set(user_list['rating_labels'].dropna()))\n",
    "    #print('doing user: ' + user)\n",
    "    for val in labels:\n",
    "        porp = int(porps.loc[val]*n)\n",
    "        #Get all problems completed by the user with this rating label\n",
    "        probs = user_list.loc[user_list['rating_labels'] == val]\n",
    "        success = list(probs.loc[probs[\"is_passed\"] == 1]['tactics_problem_id'])\n",
    "        failed = list(probs.loc[probs[\"is_passed\"] == 0]['tactics_problem_id'])\n",
    "        combs = random.sample(set(product(success,failed)),min(len(success),len(failed)))\n",
    "        for comb in combs:\n",
    "            if test_tuple(comb) and comb not in temp:\n",
    "                id_table=id_table.append(pd.Series([user,comb[0],comb[1]]),ignore_index=True)\n",
    "                temp.append(comb)\n",
    "    i += 1\n",
    "    #if i % 10 == 0:\n",
    "    #    id_table.to_csv(SAME_RATING_OUTPUT_NAME, mode='w', header=False,index=False)"
   ]
  },
  {
   "cell_type": "markdown",
   "metadata": {},
   "source": [
    "<h2>Clean Data and prepare for Prediction Task</h2>"
   ]
  },
  {
   "cell_type": "code",
   "execution_count": 9,
   "metadata": {},
   "outputs": [],
   "source": [
    "#Rename the columns of the collected puzzle pairs\n",
    "id_table = id_table.rename(columns={0:'user_hash',1:'puzzle_1',2:'puzzle_2'})\n",
    "id_table = id_table.astype({'puzzle_1': 'int32','puzzle_2':'int32'})"
   ]
  },
  {
   "cell_type": "code",
   "execution_count": 10,
   "metadata": {},
   "outputs": [],
   "source": [
    "#Join the puzzle rating and cluster labels for both puzzles as well as the rating labels\n",
    "id_table = pd.merge(id_table,problems[['tactics_problem_id','cluster','rating','tag']],left_on='puzzle_1', right_on='tactics_problem_id',how='inner')\n",
    "id_table = id_table.rename(columns={'cluster':'cluster_1','rating':'rating_1','tag':'tag_1'}).drop('tactics_problem_id',axis=1)\n",
    "id_table = pd.merge(id_table,problems[['tactics_problem_id','cluster','rating','tag']],left_on='puzzle_2', right_on='tactics_problem_id',how='inner')\n",
    "id_table = id_table.rename(columns={'cluster':'cluster_2','rating':'rating_2','tag':'tag_2'}).drop('tactics_problem_id',axis=1)"
   ]
  },
  {
   "cell_type": "code",
   "execution_count": 11,
   "metadata": {},
   "outputs": [
    {
     "data": {
      "application/vnd.jupyter.widget-view+json": {
       "model_id": "65be654935104b3d8064463d52637e13",
       "version_major": 2,
       "version_minor": 0
      },
      "text/plain": [
       "HBox(children=(IntProgress(value=0, max=7701), HTML(value='')))"
      ]
     },
     "metadata": {},
     "output_type": "display_data"
    },
    {
     "name": "stdout",
     "output_type": "stream",
     "text": [
      "\n"
     ]
    }
   ],
   "source": [
    "#Randomly flip the rows so that if the passed_puzzle = 0, the puzzle_1 and corresponding fields\n",
    "#belong to the passsed puzzle\n",
    "def flip(row,field):\n",
    "    name_1 = field  + '_1'\n",
    "    name_2 = field + '_2'\n",
    "    temp = row[name_2]\n",
    "    row[name_2] = row[name_1]\n",
    "    row[name_1] = temp\n",
    "    return row\n",
    "    \n",
    "\n",
    "def flip_fields(row):\n",
    "    if row['passed_puzzle'] == 1:\n",
    "        row = flip(row,'cluster')\n",
    "        row = flip(row,'rating')        \n",
    "        row = flip(row,'tag')\n",
    "        row = flip(row,'puzzle')\n",
    "    return row\n",
    "\n",
    "id_table['passed_puzzle'] = np.full(id_table.shape[0],0)\n",
    "\n",
    "def switch_win(row):\n",
    "    num = random.uniform(0,1)\n",
    "    if num > 0.5:\n",
    "        row['passed_puzzle'] = 1\n",
    "        row = flip_fields(row)\n",
    "    return row\n",
    "        \n",
    "id_table = id_table.progress_apply(lambda x: switch_win(x),axis=1)"
   ]
  },
  {
   "cell_type": "code",
   "execution_count": 12,
   "metadata": {},
   "outputs": [
    {
     "data": {
      "text/html": [
       "<div>\n",
       "<style scoped>\n",
       "    .dataframe tbody tr th:only-of-type {\n",
       "        vertical-align: middle;\n",
       "    }\n",
       "\n",
       "    .dataframe tbody tr th {\n",
       "        vertical-align: top;\n",
       "    }\n",
       "\n",
       "    .dataframe thead th {\n",
       "        text-align: right;\n",
       "    }\n",
       "</style>\n",
       "<table border=\"1\" class=\"dataframe\">\n",
       "  <thead>\n",
       "    <tr style=\"text-align: right;\">\n",
       "      <th></th>\n",
       "      <th>user_hash</th>\n",
       "      <th>puzzle_1</th>\n",
       "      <th>puzzle_2</th>\n",
       "      <th>cluster_1</th>\n",
       "      <th>rating_1</th>\n",
       "      <th>tag_1</th>\n",
       "      <th>cluster_2</th>\n",
       "      <th>rating_2</th>\n",
       "      <th>tag_2</th>\n",
       "      <th>passed_puzzle</th>\n",
       "    </tr>\n",
       "  </thead>\n",
       "  <tbody>\n",
       "    <tr>\n",
       "      <th>0</th>\n",
       "      <td>ee0e44518695a3481a3ed59b545c4719d54e894fb3d5e0...</td>\n",
       "      <td>35635</td>\n",
       "      <td>28567</td>\n",
       "      <td>4</td>\n",
       "      <td>1151</td>\n",
       "      <td>Overloading</td>\n",
       "      <td>5</td>\n",
       "      <td>1175</td>\n",
       "      <td>Fork / Double Attack</td>\n",
       "      <td>0</td>\n",
       "    </tr>\n",
       "    <tr>\n",
       "      <th>1</th>\n",
       "      <td>01098357c866093611fa8a576bb5bade948458bdd8dd39...</td>\n",
       "      <td>28567</td>\n",
       "      <td>36085</td>\n",
       "      <td>5</td>\n",
       "      <td>1175</td>\n",
       "      <td>Fork / Double Attack</td>\n",
       "      <td>2</td>\n",
       "      <td>1168</td>\n",
       "      <td>Mate in 3+</td>\n",
       "      <td>1</td>\n",
       "    </tr>\n",
       "    <tr>\n",
       "      <th>2</th>\n",
       "      <td>01098357c866093611fa8a576bb5bade948458bdd8dd39...</td>\n",
       "      <td>28567</td>\n",
       "      <td>27327</td>\n",
       "      <td>5</td>\n",
       "      <td>1175</td>\n",
       "      <td>Fork / Double Attack</td>\n",
       "      <td>2</td>\n",
       "      <td>1167</td>\n",
       "      <td>Pin</td>\n",
       "      <td>1</td>\n",
       "    </tr>\n",
       "    <tr>\n",
       "      <th>3</th>\n",
       "      <td>9adee4e89a43a5f412bb4227433937655e99a11426c109...</td>\n",
       "      <td>28567</td>\n",
       "      <td>32975</td>\n",
       "      <td>5</td>\n",
       "      <td>1175</td>\n",
       "      <td>Fork / Double Attack</td>\n",
       "      <td>2</td>\n",
       "      <td>1161</td>\n",
       "      <td>Pin</td>\n",
       "      <td>1</td>\n",
       "    </tr>\n",
       "    <tr>\n",
       "      <th>4</th>\n",
       "      <td>9adee4e89a43a5f412bb4227433937655e99a11426c109...</td>\n",
       "      <td>34782</td>\n",
       "      <td>28567</td>\n",
       "      <td>2</td>\n",
       "      <td>1164</td>\n",
       "      <td>Overloading</td>\n",
       "      <td>5</td>\n",
       "      <td>1175</td>\n",
       "      <td>Fork / Double Attack</td>\n",
       "      <td>0</td>\n",
       "    </tr>\n",
       "  </tbody>\n",
       "</table>\n",
       "</div>"
      ],
      "text/plain": [
       "                                           user_hash  puzzle_1  puzzle_2  \\\n",
       "0  ee0e44518695a3481a3ed59b545c4719d54e894fb3d5e0...     35635     28567   \n",
       "1  01098357c866093611fa8a576bb5bade948458bdd8dd39...     28567     36085   \n",
       "2  01098357c866093611fa8a576bb5bade948458bdd8dd39...     28567     27327   \n",
       "3  9adee4e89a43a5f412bb4227433937655e99a11426c109...     28567     32975   \n",
       "4  9adee4e89a43a5f412bb4227433937655e99a11426c109...     34782     28567   \n",
       "\n",
       "   cluster_1  rating_1                 tag_1  cluster_2  rating_2  \\\n",
       "0          4      1151           Overloading          5      1175   \n",
       "1          5      1175  Fork / Double Attack          2      1168   \n",
       "2          5      1175  Fork / Double Attack          2      1167   \n",
       "3          5      1175  Fork / Double Attack          2      1161   \n",
       "4          2      1164           Overloading          5      1175   \n",
       "\n",
       "                  tag_2  passed_puzzle  \n",
       "0  Fork / Double Attack              0  \n",
       "1            Mate in 3+              1  \n",
       "2                   Pin              1  \n",
       "3                   Pin              1  \n",
       "4  Fork / Double Attack              0  "
      ]
     },
     "execution_count": 12,
     "metadata": {},
     "output_type": "execute_result"
    }
   ],
   "source": [
    "id_table.head()"
   ]
  }
 ],
 "metadata": {
  "kernelspec": {
   "display_name": "Python 3",
   "language": "python",
   "name": "python3"
  },
  "language_info": {
   "codemirror_mode": {
    "name": "ipython",
    "version": 3
   },
   "file_extension": ".py",
   "mimetype": "text/x-python",
   "name": "python",
   "nbconvert_exporter": "python",
   "pygments_lexer": "ipython3",
   "version": "3.7.1"
  }
 },
 "nbformat": 4,
 "nbformat_minor": 2
}
