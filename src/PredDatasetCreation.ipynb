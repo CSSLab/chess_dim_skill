{
 "cells": [
  {
   "cell_type": "code",
   "execution_count": 1,
   "metadata": {},
   "outputs": [
    {
     "data": {
      "application/vnd.jupyter.widget-view+json": {
       "model_id": "",
       "version_major": 2,
       "version_minor": 0
      },
      "text/plain": [
       "HBox(children=(IntProgress(value=1, bar_style='info', max=1), HTML(value='')))"
      ]
     },
     "metadata": {},
     "output_type": "display_data"
    },
    {
     "name": "stdout",
     "output_type": "stream",
     "text": [
      "\n"
     ]
    }
   ],
   "source": [
    "import numpy as np\n",
    "import pandas as pd\n",
    "from tqdm import tqdm_notebook as tqdm\n",
    "tqdm().pandas()\n",
    "\n",
    "DIFF_RATING_OUTPUT_NAME = 'diff_rating_pred_data.csv'\n",
    "SAME_RATING_OUTPUT_NAME = 'same_rating_pred_data.csv'\n",
    "cluster_types = ['tag','word2vec_cluster','bpr_cluster']\n",
    "same_rating = False"
   ]
  },
  {
   "cell_type": "markdown",
   "metadata": {},
   "source": [
    "<h1>Load and Filter Data</h2>"
   ]
  },
  {
   "cell_type": "code",
   "execution_count": 2,
   "metadata": {},
   "outputs": [],
   "source": [
    "#Load problem metadata\n",
    "problems = pd.read_csv(\"../../ChessPuzzleEmbeddings/bpr_puzzle_meta.tsv\",sep='\\t')"
   ]
  },
  {
   "cell_type": "code",
   "execution_count": 3,
   "metadata": {},
   "outputs": [],
   "source": [
    "#Read the attempts dataset and filter out users that have played less than 1k games\n",
    "attempts = pd.read_csv(\"/w/225/1/chess/tactics/glicko_user_tactics_problem.csv_00\")\n",
    "attempts = attempts.loc[attempts['userGamesPlayed'] >= 1000]"
   ]
  },
  {
   "cell_type": "code",
   "execution_count": 4,
   "metadata": {
    "scrolled": false
   },
   "outputs": [],
   "source": [
    "#Assign rating labels to problems in metadata so that problems \n",
    "#with ratings within the same interval have the same label\n",
    "start = 375\n",
    "end = 3025\n",
    "interval = 25\n",
    "problems['rating_labels'] = pd.cut(problems['rating'],np.arange(start,end,interval),labels=range(1,((end-start)//interval)))\n",
    "#Merge problem metadata to join cluster and rating labels to the attempts by puzzle ID\n",
    "attempts=pd.merge(attempts,problems[['tactics_problem_id','word2vec_cluster','tag','bpr_cluster','rating_labels','rating']],on='tactics_problem_id', how='inner')"
   ]
  },
  {
   "cell_type": "code",
   "execution_count": 5,
   "metadata": {},
   "outputs": [],
   "source": [
    "#Filter the data down to 8 columns \n",
    "attempts = attempts[['user_hash','tactics_problem_id','word2vec_cluster','bpr_cluster','tag','ratingUser','rating_labels','is_passed','rating']]"
   ]
  },
  {
   "cell_type": "code",
   "execution_count": 6,
   "metadata": {},
   "outputs": [
    {
     "data": {
      "text/plain": [
       "(48635761, 9)"
      ]
     },
     "execution_count": 6,
     "metadata": {},
     "output_type": "execute_result"
    }
   ],
   "source": [
    "attempts.shape"
   ]
  },
  {
   "cell_type": "code",
   "execution_count": 7,
   "metadata": {},
   "outputs": [
    {
     "name": "stdout",
     "output_type": "stream",
     "text": [
      "Joining attempts with cluster attempt count for: tag\n",
      "Joining attempts with cluster attempt count for: word2vec_cluster\n",
      "Joining attempts with cluster attempt count for: bpr_cluster\n"
     ]
    }
   ],
   "source": [
    "def join_cluster_attempt_count(cluster_type):\n",
    "    '''\n",
    "    Given a cluster type (tag, word2vec, bpr), add\n",
    "    a new column to the attempts data with the number\n",
    "    of times the user in each row has attempted the cluster_type\n",
    "    the puzzle belongs to\n",
    "    '''\n",
    "    print('Joining attempts with cluster attempt count for: ' + cluster_type)\n",
    "    user_count_list = attempts.groupby(['user_hash',cluster_type])['tactics_problem_id'].count()\n",
    "    user_count_list = user_count_list.rename(cluster_type + '_attempt_count')\n",
    "    return pd.merge(attempts,user_count_list,on=['user_hash',cluster_type],how='left')\n",
    "\n",
    "#Create lists of cluster counts for each user\n",
    "for cluster in cluster_types:\n",
    "    attempts = join_cluster_attempt_count(cluster)"
   ]
  },
  {
   "cell_type": "code",
   "execution_count": 12,
   "metadata": {},
   "outputs": [
    {
     "name": "stdout",
     "output_type": "stream",
     "text": [
      "(48635761, 12)\n"
     ]
    },
    {
     "data": {
      "text/html": [
       "<div>\n",
       "<style scoped>\n",
       "    .dataframe tbody tr th:only-of-type {\n",
       "        vertical-align: middle;\n",
       "    }\n",
       "\n",
       "    .dataframe tbody tr th {\n",
       "        vertical-align: top;\n",
       "    }\n",
       "\n",
       "    .dataframe thead th {\n",
       "        text-align: right;\n",
       "    }\n",
       "</style>\n",
       "<table border=\"1\" class=\"dataframe\">\n",
       "  <thead>\n",
       "    <tr style=\"text-align: right;\">\n",
       "      <th></th>\n",
       "      <th>user_hash</th>\n",
       "      <th>tactics_problem_id</th>\n",
       "      <th>word2vec_cluster</th>\n",
       "      <th>bpr_cluster</th>\n",
       "      <th>tag</th>\n",
       "      <th>ratingUser</th>\n",
       "      <th>rating_labels</th>\n",
       "      <th>is_passed</th>\n",
       "      <th>rating</th>\n",
       "      <th>tag_attempt_count</th>\n",
       "      <th>word2vec_cluster_attempt_count</th>\n",
       "      <th>bpr_cluster_attempt_count</th>\n",
       "    </tr>\n",
       "  </thead>\n",
       "  <tbody>\n",
       "    <tr>\n",
       "      <th>0</th>\n",
       "      <td>3da90302d3d94216f2c06cc49efb2b122bee379c814392...</td>\n",
       "      <td>30668</td>\n",
       "      <td>4</td>\n",
       "      <td>1</td>\n",
       "      <td>Vulnerable King</td>\n",
       "      <td>1829</td>\n",
       "      <td>73</td>\n",
       "      <td>0</td>\n",
       "      <td>2197</td>\n",
       "      <td>310</td>\n",
       "      <td>1191</td>\n",
       "      <td>777</td>\n",
       "    </tr>\n",
       "    <tr>\n",
       "      <th>1</th>\n",
       "      <td>b7654c69d380e16dc133d59936f34b1318e353faa450fa...</td>\n",
       "      <td>30668</td>\n",
       "      <td>4</td>\n",
       "      <td>1</td>\n",
       "      <td>Vulnerable King</td>\n",
       "      <td>1775</td>\n",
       "      <td>73</td>\n",
       "      <td>1</td>\n",
       "      <td>2197</td>\n",
       "      <td>269</td>\n",
       "      <td>1336</td>\n",
       "      <td>925</td>\n",
       "    </tr>\n",
       "    <tr>\n",
       "      <th>2</th>\n",
       "      <td>7a348494ef7ba27a6fe2ed089ac84aca4a95ba77b95484...</td>\n",
       "      <td>30668</td>\n",
       "      <td>4</td>\n",
       "      <td>1</td>\n",
       "      <td>Vulnerable King</td>\n",
       "      <td>1872</td>\n",
       "      <td>73</td>\n",
       "      <td>0</td>\n",
       "      <td>2197</td>\n",
       "      <td>248</td>\n",
       "      <td>1000</td>\n",
       "      <td>707</td>\n",
       "    </tr>\n",
       "    <tr>\n",
       "      <th>3</th>\n",
       "      <td>9adee4e89a43a5f412bb4227433937655e99a11426c109...</td>\n",
       "      <td>30668</td>\n",
       "      <td>4</td>\n",
       "      <td>1</td>\n",
       "      <td>Vulnerable King</td>\n",
       "      <td>1584</td>\n",
       "      <td>73</td>\n",
       "      <td>0</td>\n",
       "      <td>2197</td>\n",
       "      <td>104</td>\n",
       "      <td>867</td>\n",
       "      <td>635</td>\n",
       "    </tr>\n",
       "    <tr>\n",
       "      <th>4</th>\n",
       "      <td>709c6b9629f82206e2d0a980c2100253329e6c162a0c1b...</td>\n",
       "      <td>30668</td>\n",
       "      <td>4</td>\n",
       "      <td>1</td>\n",
       "      <td>Vulnerable King</td>\n",
       "      <td>1639</td>\n",
       "      <td>73</td>\n",
       "      <td>0</td>\n",
       "      <td>2197</td>\n",
       "      <td>31</td>\n",
       "      <td>84</td>\n",
       "      <td>54</td>\n",
       "    </tr>\n",
       "  </tbody>\n",
       "</table>\n",
       "</div>"
      ],
      "text/plain": [
       "                                           user_hash  tactics_problem_id  \\\n",
       "0  3da90302d3d94216f2c06cc49efb2b122bee379c814392...               30668   \n",
       "1  b7654c69d380e16dc133d59936f34b1318e353faa450fa...               30668   \n",
       "2  7a348494ef7ba27a6fe2ed089ac84aca4a95ba77b95484...               30668   \n",
       "3  9adee4e89a43a5f412bb4227433937655e99a11426c109...               30668   \n",
       "4  709c6b9629f82206e2d0a980c2100253329e6c162a0c1b...               30668   \n",
       "\n",
       "   word2vec_cluster  bpr_cluster              tag  ratingUser rating_labels  \\\n",
       "0                 4            1  Vulnerable King        1829            73   \n",
       "1                 4            1  Vulnerable King        1775            73   \n",
       "2                 4            1  Vulnerable King        1872            73   \n",
       "3                 4            1  Vulnerable King        1584            73   \n",
       "4                 4            1  Vulnerable King        1639            73   \n",
       "\n",
       "   is_passed  rating  tag_attempt_count  word2vec_cluster_attempt_count  \\\n",
       "0          0    2197                310                            1191   \n",
       "1          1    2197                269                            1336   \n",
       "2          0    2197                248                            1000   \n",
       "3          0    2197                104                             867   \n",
       "4          0    2197                 31                              84   \n",
       "\n",
       "   bpr_cluster_attempt_count  \n",
       "0                        777  \n",
       "1                        925  \n",
       "2                        707  \n",
       "3                        635  \n",
       "4                         54  "
      ]
     },
     "execution_count": 12,
     "metadata": {},
     "output_type": "execute_result"
    }
   ],
   "source": [
    "print(attempts.shape)\n",
    "attempts.head()"
   ]
  },
  {
   "cell_type": "code",
   "execution_count": 13,
   "metadata": {},
   "outputs": [],
   "source": [
    "#Gives 11346 unique users\n",
    "x = 100\n",
    "all_pass = attempts.loc[(attempts.tag_attempt_count >= x) & (attempts.word2vec_cluster_attempt_count >= x) & (attempts.bpr_cluster_attempt_count >= x)]\n",
    "all_pass.reset_index(inplace=True)"
   ]
  },
  {
   "cell_type": "code",
   "execution_count": 14,
   "metadata": {},
   "outputs": [
    {
     "name": "stdout",
     "output_type": "stream",
     "text": [
      "(26729792, 13)\n"
     ]
    }
   ],
   "source": [
    "print(all_pass.shape)"
   ]
  },
  {
   "cell_type": "markdown",
   "metadata": {},
   "source": [
    "<h2>Split Data for Pairing Win/Losses</h2>"
   ]
  },
  {
   "cell_type": "code",
   "execution_count": 15,
   "metadata": {},
   "outputs": [],
   "source": [
    "#Create a table of all losses and all wins\n",
    "loss_rows = all_pass.loc[all_pass.is_passed == 0]\n",
    "win_rows = all_pass[~all_pass.index.isin(loss_rows.index)]"
   ]
  },
  {
   "cell_type": "code",
   "execution_count": 16,
   "metadata": {},
   "outputs": [],
   "source": [
    "def rename_cols(dataframe,idee):\n",
    "    '''\n",
    "    Function that renames the column names in \n",
    "    the given dataframe by appending an identifier. \n",
    "    This distinguishes between the passed and failed puzzle\n",
    "    '''\n",
    "    new_names = []\n",
    "    for col in dataframe.columns:\n",
    "        new_names.append(col + '_' + idee)\n",
    "    dataframe.columns = new_names\n",
    "        \n",
    "#Rename the dataframes\n",
    "rename_cols(loss_rows,'2')\n",
    "rename_cols(win_rows,'1')"
   ]
  },
  {
   "cell_type": "code",
   "execution_count": 17,
   "metadata": {},
   "outputs": [
    {
     "name": "stderr",
     "output_type": "stream",
     "text": [
      "/h/224/evanb/anaconda3/envs/chess_tactic/lib/python3.7/site-packages/ipykernel_launcher.py:3: SettingWithCopyWarning: \n",
      "A value is trying to be set on a copy of a slice from a DataFrame.\n",
      "Try using .loc[row_indexer,col_indexer] = value instead\n",
      "\n",
      "See the caveats in the documentation: http://pandas.pydata.org/pandas-docs/stable/indexing.html#indexing-view-versus-copy\n",
      "  This is separate from the ipykernel package so we can avoid doing imports until\n",
      "/h/224/evanb/anaconda3/envs/chess_tactic/lib/python3.7/site-packages/ipykernel_launcher.py:4: SettingWithCopyWarning: \n",
      "A value is trying to be set on a copy of a slice from a DataFrame.\n",
      "Try using .loc[row_indexer,col_indexer] = value instead\n",
      "\n",
      "See the caveats in the documentation: http://pandas.pydata.org/pandas-docs/stable/indexing.html#indexing-view-versus-copy\n",
      "  after removing the cwd from sys.path.\n"
     ]
    }
   ],
   "source": [
    "#Create a running_count column of user attempts to keep track of the number of times\n",
    "#the user appears in the dataset\n",
    "loss_rows['user_attempt_number'] = loss_rows.groupby('user_hash_2').cumcount()+1\n",
    "win_rows['user_attempt_number'] = win_rows.groupby('user_hash_1').cumcount()+1"
   ]
  },
  {
   "cell_type": "code",
   "execution_count": 18,
   "metadata": {},
   "outputs": [],
   "source": [
    "#Get only the first k wins and k losses from each user so that joining \n",
    "#doesnt create a HUGE data table\n",
    "k = 100\n",
    "first_100_wins = win_rows.loc[win_rows.user_attempt_number <= k]\n",
    "first_100_losses = loss_rows.loc[loss_rows.user_attempt_number <= k]"
   ]
  },
  {
   "cell_type": "markdown",
   "metadata": {},
   "source": [
    "<h2>Recombining Wins and Losses into Prediction Set</h2>"
   ]
  },
  {
   "cell_type": "code",
   "execution_count": 19,
   "metadata": {},
   "outputs": [],
   "source": [
    "#Merge the wins and losses\n",
    "if same_rating:\n",
    "    combined_pairs = pd.merge(first_100_wins,first_100_losses,left_on=['rating_labels_1','user_hash_1'],\n",
    "                        right_on=['rating_labels_2','user_hash_2'],how='left')\n",
    "else:\n",
    "    combined_pairs = pd.merge(first_100_wins,first_100_losses,left_on='user_hash_1',\n",
    "                    right_on='user_hash_2',how='left')"
   ]
  },
  {
   "cell_type": "code",
   "execution_count": 22,
   "metadata": {},
   "outputs": [],
   "source": [
    "#Filter pairs so that only rows where each cluster_type has 2 different values\n",
    "#Gives: 1,631,988 rows\n",
    "diff_pairs = combined_pairs.loc[(combined_pairs.tag_1 != combined_pairs.tag_2) & \n",
    "                                (combined_pairs.word2vec_cluster_1 != combined_pairs.word2vec_cluster_2) & \n",
    "                                (combined_pairs.bpr_cluster_1 != combined_pairs.bpr_cluster_2) &\n",
    "                                (combined_pairs.rating_1 != combined_pairs.rating_2)]"
   ]
  },
  {
   "cell_type": "code",
   "execution_count": 24,
   "metadata": {},
   "outputs": [
    {
     "data": {
      "text/html": [
       "<div>\n",
       "<style scoped>\n",
       "    .dataframe tbody tr th:only-of-type {\n",
       "        vertical-align: middle;\n",
       "    }\n",
       "\n",
       "    .dataframe tbody tr th {\n",
       "        vertical-align: top;\n",
       "    }\n",
       "\n",
       "    .dataframe thead th {\n",
       "        text-align: right;\n",
       "    }\n",
       "</style>\n",
       "<table border=\"1\" class=\"dataframe\">\n",
       "  <thead>\n",
       "    <tr style=\"text-align: right;\">\n",
       "      <th></th>\n",
       "      <th>index_1</th>\n",
       "      <th>user_hash_1</th>\n",
       "      <th>tactics_problem_id_1</th>\n",
       "      <th>word2vec_cluster_1</th>\n",
       "      <th>bpr_cluster_1</th>\n",
       "      <th>tag_1</th>\n",
       "      <th>ratingUser_1</th>\n",
       "      <th>rating_labels_1</th>\n",
       "      <th>is_passed_1</th>\n",
       "      <th>rating_1</th>\n",
       "      <th>...</th>\n",
       "      <th>bpr_cluster_2</th>\n",
       "      <th>tag_2</th>\n",
       "      <th>ratingUser_2</th>\n",
       "      <th>rating_labels_2</th>\n",
       "      <th>is_passed_2</th>\n",
       "      <th>rating_2</th>\n",
       "      <th>tag_attempt_count_2</th>\n",
       "      <th>word2vec_cluster_attempt_count_2</th>\n",
       "      <th>bpr_cluster_attempt_count_2</th>\n",
       "      <th>user_attempt_number_y</th>\n",
       "    </tr>\n",
       "  </thead>\n",
       "  <tbody>\n",
       "    <tr>\n",
       "      <th>0</th>\n",
       "      <td>1</td>\n",
       "      <td>b7654c69d380e16dc133d59936f34b1318e353faa450fa...</td>\n",
       "      <td>30668</td>\n",
       "      <td>4</td>\n",
       "      <td>1</td>\n",
       "      <td>Vulnerable King</td>\n",
       "      <td>1775</td>\n",
       "      <td>73</td>\n",
       "      <td>1</td>\n",
       "      <td>2197</td>\n",
       "      <td>...</td>\n",
       "      <td>6</td>\n",
       "      <td>Back Rank</td>\n",
       "      <td>1764</td>\n",
       "      <td>60</td>\n",
       "      <td>0</td>\n",
       "      <td>1864</td>\n",
       "      <td>133</td>\n",
       "      <td>1332</td>\n",
       "      <td>1192</td>\n",
       "      <td>1</td>\n",
       "    </tr>\n",
       "    <tr>\n",
       "      <th>1</th>\n",
       "      <td>1</td>\n",
       "      <td>b7654c69d380e16dc133d59936f34b1318e353faa450fa...</td>\n",
       "      <td>30668</td>\n",
       "      <td>4</td>\n",
       "      <td>1</td>\n",
       "      <td>Vulnerable King</td>\n",
       "      <td>1775</td>\n",
       "      <td>73</td>\n",
       "      <td>1</td>\n",
       "      <td>2197</td>\n",
       "      <td>...</td>\n",
       "      <td>19</td>\n",
       "      <td>Fork / Double Attack</td>\n",
       "      <td>1843</td>\n",
       "      <td>49</td>\n",
       "      <td>0</td>\n",
       "      <td>1596</td>\n",
       "      <td>288</td>\n",
       "      <td>394</td>\n",
       "      <td>243</td>\n",
       "      <td>2</td>\n",
       "    </tr>\n",
       "    <tr>\n",
       "      <th>5</th>\n",
       "      <td>1</td>\n",
       "      <td>b7654c69d380e16dc133d59936f34b1318e353faa450fa...</td>\n",
       "      <td>30668</td>\n",
       "      <td>4</td>\n",
       "      <td>1</td>\n",
       "      <td>Vulnerable King</td>\n",
       "      <td>1775</td>\n",
       "      <td>73</td>\n",
       "      <td>1</td>\n",
       "      <td>2197</td>\n",
       "      <td>...</td>\n",
       "      <td>6</td>\n",
       "      <td>Pin</td>\n",
       "      <td>1809</td>\n",
       "      <td>56</td>\n",
       "      <td>0</td>\n",
       "      <td>1760</td>\n",
       "      <td>275</td>\n",
       "      <td>510</td>\n",
       "      <td>1192</td>\n",
       "      <td>6</td>\n",
       "    </tr>\n",
       "    <tr>\n",
       "      <th>6</th>\n",
       "      <td>1</td>\n",
       "      <td>b7654c69d380e16dc133d59936f34b1318e353faa450fa...</td>\n",
       "      <td>30668</td>\n",
       "      <td>4</td>\n",
       "      <td>1</td>\n",
       "      <td>Vulnerable King</td>\n",
       "      <td>1775</td>\n",
       "      <td>73</td>\n",
       "      <td>1</td>\n",
       "      <td>2197</td>\n",
       "      <td>...</td>\n",
       "      <td>8</td>\n",
       "      <td>Trapped Piece</td>\n",
       "      <td>1725</td>\n",
       "      <td>61</td>\n",
       "      <td>0</td>\n",
       "      <td>1891</td>\n",
       "      <td>297</td>\n",
       "      <td>1940</td>\n",
       "      <td>726</td>\n",
       "      <td>7</td>\n",
       "    </tr>\n",
       "    <tr>\n",
       "      <th>13</th>\n",
       "      <td>1</td>\n",
       "      <td>b7654c69d380e16dc133d59936f34b1318e353faa450fa...</td>\n",
       "      <td>30668</td>\n",
       "      <td>4</td>\n",
       "      <td>1</td>\n",
       "      <td>Vulnerable King</td>\n",
       "      <td>1775</td>\n",
       "      <td>73</td>\n",
       "      <td>1</td>\n",
       "      <td>2197</td>\n",
       "      <td>...</td>\n",
       "      <td>13</td>\n",
       "      <td>Remove the Defender</td>\n",
       "      <td>1749</td>\n",
       "      <td>52</td>\n",
       "      <td>0</td>\n",
       "      <td>1668</td>\n",
       "      <td>202</td>\n",
       "      <td>125</td>\n",
       "      <td>136</td>\n",
       "      <td>14</td>\n",
       "    </tr>\n",
       "  </tbody>\n",
       "</table>\n",
       "<p>5 rows × 28 columns</p>\n",
       "</div>"
      ],
      "text/plain": [
       "    index_1                                        user_hash_1  \\\n",
       "0         1  b7654c69d380e16dc133d59936f34b1318e353faa450fa...   \n",
       "1         1  b7654c69d380e16dc133d59936f34b1318e353faa450fa...   \n",
       "5         1  b7654c69d380e16dc133d59936f34b1318e353faa450fa...   \n",
       "6         1  b7654c69d380e16dc133d59936f34b1318e353faa450fa...   \n",
       "13        1  b7654c69d380e16dc133d59936f34b1318e353faa450fa...   \n",
       "\n",
       "    tactics_problem_id_1  word2vec_cluster_1  bpr_cluster_1            tag_1  \\\n",
       "0                  30668                   4              1  Vulnerable King   \n",
       "1                  30668                   4              1  Vulnerable King   \n",
       "5                  30668                   4              1  Vulnerable King   \n",
       "6                  30668                   4              1  Vulnerable King   \n",
       "13                 30668                   4              1  Vulnerable King   \n",
       "\n",
       "    ratingUser_1 rating_labels_1  is_passed_1  rating_1  ...  bpr_cluster_2  \\\n",
       "0           1775              73            1      2197  ...              6   \n",
       "1           1775              73            1      2197  ...             19   \n",
       "5           1775              73            1      2197  ...              6   \n",
       "6           1775              73            1      2197  ...              8   \n",
       "13          1775              73            1      2197  ...             13   \n",
       "\n",
       "                   tag_2  ratingUser_2  rating_labels_2  is_passed_2 rating_2  \\\n",
       "0              Back Rank          1764               60            0     1864   \n",
       "1   Fork / Double Attack          1843               49            0     1596   \n",
       "5                    Pin          1809               56            0     1760   \n",
       "6          Trapped Piece          1725               61            0     1891   \n",
       "13   Remove the Defender          1749               52            0     1668   \n",
       "\n",
       "    tag_attempt_count_2  word2vec_cluster_attempt_count_2  \\\n",
       "0                   133                              1332   \n",
       "1                   288                               394   \n",
       "5                   275                               510   \n",
       "6                   297                              1940   \n",
       "13                  202                               125   \n",
       "\n",
       "    bpr_cluster_attempt_count_2 user_attempt_number_y  \n",
       "0                          1192                     1  \n",
       "1                           243                     2  \n",
       "5                          1192                     6  \n",
       "6                           726                     7  \n",
       "13                          136                    14  \n",
       "\n",
       "[5 rows x 28 columns]"
      ]
     },
     "execution_count": 24,
     "metadata": {},
     "output_type": "execute_result"
    }
   ],
   "source": [
    "diff_pairs.head()"
   ]
  },
  {
   "cell_type": "code",
   "execution_count": 25,
   "metadata": {},
   "outputs": [
    {
     "name": "stdout",
     "output_type": "stream",
     "text": [
      "(87821598,)\n"
     ]
    }
   ],
   "source": [
    "original_indices = diff_pairs[['index_1','index_2']]\n",
    "original_indices = original_indices['index_1'].append(original_indices['index_2'])\n",
    "print(original_indices.shape)"
   ]
  },
  {
   "cell_type": "code",
   "execution_count": 26,
   "metadata": {},
   "outputs": [],
   "source": [
    "#Remove Unnecessary columns\n",
    "diff_pairs = diff_pairs.drop(['user_hash_2','ratingUser_2','user_attempt_number_x','is_passed_1','is_passed_2','user_attempt_number_y','index_1','index_2','rating_labels_1','rating_labels_2','tag_attempt_count_2', 'word2vec_cluster_attempt_count_2','bpr_cluster_attempt_count_2'],axis=1)\n",
    "diff_pairs = diff_pairs.rename(columns={'user_hash_1':'user_hash','ratingUser_1':'ratingUser','tactics_problem_id_1':'puzzle_1','tactics_problem_id_2':'puzzle_2'})"
   ]
  },
  {
   "cell_type": "markdown",
   "metadata": {},
   "source": [
    "<h2>Remove the attempts in the prediction set from the main attempts data</h2>"
   ]
  },
  {
   "cell_type": "code",
   "execution_count": 27,
   "metadata": {},
   "outputs": [],
   "source": [
    "#Remove the indices for both attempts in each row of diff_pairs from the original attempts\n",
    "attempts = attempts[~attempts.index.isin(original_indices)]"
   ]
  },
  {
   "cell_type": "code",
   "execution_count": 28,
   "metadata": {},
   "outputs": [
    {
     "data": {
      "text/plain": [
       "(46622738, 12)"
      ]
     },
     "execution_count": 28,
     "metadata": {},
     "output_type": "execute_result"
    }
   ],
   "source": [
    "attempts.shape"
   ]
  },
  {
   "cell_type": "markdown",
   "metadata": {},
   "source": [
    "<h2>Get User Performance in Across Cluster Types</h2>"
   ]
  },
  {
   "cell_type": "code",
   "execution_count": 29,
   "metadata": {},
   "outputs": [],
   "source": [
    "#Calculate performance rating per cluster per user\n",
    "import time\n",
    "\n",
    "def time_command(command,criteria):\n",
    "    print('Running: ' + command)\n",
    "    start = time.time()\n",
    "    exec(command)\n",
    "    print('Took: '  + str(time.time()-start))\n",
    "\n",
    "def calc_user_performance(criteria,time=False):\n",
    "    commands = [\"global opponent_ratings_total; opponent_ratings_total = attempts.groupby(['user_hash',criteria])['rating'].sum()\",\n",
    "                \"global num_cluster_games; num_cluster_games = attempts.groupby(['user_hash',criteria])['user_hash'].count()\",\n",
    "                \"global wins_plus_losses; wins_plus_losses = attempts.groupby(['user_hash',criteria])['is_passed'].sum()\"]\n",
    "    for command in commands:\n",
    "        if time:\n",
    "            time_command(command,criteria)\n",
    "        else:\n",
    "            exec(command)\n",
    "    return (opponent_ratings_total + 400*wins_plus_losses)/num_cluster_games"
   ]
  },
  {
   "cell_type": "code",
   "execution_count": 30,
   "metadata": {},
   "outputs": [
    {
     "name": "stdout",
     "output_type": "stream",
     "text": [
      "Running: global opponent_ratings_total; opponent_ratings_total = attempts.groupby(['user_hash',criteria])['rating'].sum()\n",
      "Took: 30.7746901512146\n",
      "Running: global num_cluster_games; num_cluster_games = attempts.groupby(['user_hash',criteria])['user_hash'].count()\n",
      "Took: 37.73167085647583\n",
      "Running: global wins_plus_losses; wins_plus_losses = attempts.groupby(['user_hash',criteria])['is_passed'].sum()\n",
      "Took: 41.963892698287964\n",
      "42813.88235330399\n",
      "Running: global opponent_ratings_total; opponent_ratings_total = attempts.groupby(['user_hash',criteria])['rating'].sum()\n",
      "Took: 29.53066086769104\n",
      "Running: global num_cluster_games; num_cluster_games = attempts.groupby(['user_hash',criteria])['user_hash'].count()\n",
      "Took: 55.059786796569824\n",
      "Running: global wins_plus_losses; wins_plus_losses = attempts.groupby(['user_hash',criteria])['is_passed'].sum()\n",
      "Took: 64.75843262672424\n",
      "39847.91867818745\n",
      "Running: global opponent_ratings_total; opponent_ratings_total = attempts.groupby(['user_hash',criteria])['rating'].sum()\n",
      "Took: 39.268391847610474\n",
      "Running: global num_cluster_games; num_cluster_games = attempts.groupby(['user_hash',criteria])['user_hash'].count()\n",
      "Took: 69.31777262687683\n",
      "Running: global wins_plus_losses; wins_plus_losses = attempts.groupby(['user_hash',criteria])['is_passed'].sum()\n",
      "Took: 35.05408191680908\n",
      "14236.03074870254\n"
     ]
    }
   ],
   "source": [
    "#Get user performance in each word2vec cluster, bpr cluster, and tag\n",
    "word2vec_performance_user = calc_user_performance(criteria='word2vec_cluster',time=True)\n",
    "word2vec_cluster_variance = word2vec_performance_user.var(level=0).agg('mean')\n",
    "print(word2vec_cluster_variance)\n",
    "\n",
    "bpr_performance_user = calc_user_performance(criteria='bpr_cluster',time=True)\n",
    "avg_bpr_variance = bpr_performance_user.var(level=0).agg('mean')\n",
    "print(avg_bpr_variance)\n",
    "\n",
    "tag_performance_user = calc_user_performance(criteria='tag',time=True)\n",
    "avg_tag_variance = tag_performance_user.var(level=0).agg('mean')\n",
    "print(avg_tag_variance)"
   ]
  },
  {
   "cell_type": "code",
   "execution_count": 40,
   "metadata": {},
   "outputs": [
    {
     "data": {
      "text/html": [
       "<div>\n",
       "<style scoped>\n",
       "    .dataframe tbody tr th:only-of-type {\n",
       "        vertical-align: middle;\n",
       "    }\n",
       "\n",
       "    .dataframe tbody tr th {\n",
       "        vertical-align: top;\n",
       "    }\n",
       "\n",
       "    .dataframe thead th {\n",
       "        text-align: right;\n",
       "    }\n",
       "</style>\n",
       "<table border=\"1\" class=\"dataframe\">\n",
       "  <thead>\n",
       "    <tr style=\"text-align: right;\">\n",
       "      <th></th>\n",
       "      <th>user_hash</th>\n",
       "      <th>tactics_problem_id</th>\n",
       "      <th>word2vec_cluster</th>\n",
       "      <th>bpr_cluster</th>\n",
       "      <th>tag</th>\n",
       "      <th>ratingUser</th>\n",
       "      <th>rating_labels</th>\n",
       "      <th>is_passed</th>\n",
       "      <th>rating</th>\n",
       "      <th>tag_attempt_count</th>\n",
       "      <th>word2vec_cluster_attempt_count</th>\n",
       "      <th>bpr_cluster_attempt_count</th>\n",
       "    </tr>\n",
       "  </thead>\n",
       "  <tbody>\n",
       "    <tr>\n",
       "      <th>3</th>\n",
       "      <td>9adee4e89a43a5f412bb4227433937655e99a11426c109...</td>\n",
       "      <td>30668</td>\n",
       "      <td>4</td>\n",
       "      <td>1</td>\n",
       "      <td>Vulnerable King</td>\n",
       "      <td>1584</td>\n",
       "      <td>73</td>\n",
       "      <td>0</td>\n",
       "      <td>2197</td>\n",
       "      <td>104</td>\n",
       "      <td>867</td>\n",
       "      <td>635</td>\n",
       "    </tr>\n",
       "    <tr>\n",
       "      <th>4</th>\n",
       "      <td>709c6b9629f82206e2d0a980c2100253329e6c162a0c1b...</td>\n",
       "      <td>30668</td>\n",
       "      <td>4</td>\n",
       "      <td>1</td>\n",
       "      <td>Vulnerable King</td>\n",
       "      <td>1639</td>\n",
       "      <td>73</td>\n",
       "      <td>0</td>\n",
       "      <td>2197</td>\n",
       "      <td>31</td>\n",
       "      <td>84</td>\n",
       "      <td>54</td>\n",
       "    </tr>\n",
       "    <tr>\n",
       "      <th>7</th>\n",
       "      <td>e3390301248720198f4f2b4114c3cc61727568bd391e3b...</td>\n",
       "      <td>30668</td>\n",
       "      <td>4</td>\n",
       "      <td>1</td>\n",
       "      <td>Vulnerable King</td>\n",
       "      <td>1586</td>\n",
       "      <td>73</td>\n",
       "      <td>0</td>\n",
       "      <td>2197</td>\n",
       "      <td>86</td>\n",
       "      <td>265</td>\n",
       "      <td>183</td>\n",
       "    </tr>\n",
       "    <tr>\n",
       "      <th>10</th>\n",
       "      <td>0575612356f922da19918aa0b69d42a19886aec9d5aa71...</td>\n",
       "      <td>30668</td>\n",
       "      <td>4</td>\n",
       "      <td>1</td>\n",
       "      <td>Vulnerable King</td>\n",
       "      <td>1770</td>\n",
       "      <td>73</td>\n",
       "      <td>0</td>\n",
       "      <td>2197</td>\n",
       "      <td>76</td>\n",
       "      <td>190</td>\n",
       "      <td>132</td>\n",
       "    </tr>\n",
       "    <tr>\n",
       "      <th>11</th>\n",
       "      <td>5d69a4dc96b0a77bf602c085da3e976df736ac74a0601c...</td>\n",
       "      <td>30668</td>\n",
       "      <td>4</td>\n",
       "      <td>1</td>\n",
       "      <td>Vulnerable King</td>\n",
       "      <td>1879</td>\n",
       "      <td>73</td>\n",
       "      <td>0</td>\n",
       "      <td>2197</td>\n",
       "      <td>152</td>\n",
       "      <td>108</td>\n",
       "      <td>61</td>\n",
       "    </tr>\n",
       "  </tbody>\n",
       "</table>\n",
       "</div>"
      ],
      "text/plain": [
       "                                            user_hash  tactics_problem_id  \\\n",
       "3   9adee4e89a43a5f412bb4227433937655e99a11426c109...               30668   \n",
       "4   709c6b9629f82206e2d0a980c2100253329e6c162a0c1b...               30668   \n",
       "7   e3390301248720198f4f2b4114c3cc61727568bd391e3b...               30668   \n",
       "10  0575612356f922da19918aa0b69d42a19886aec9d5aa71...               30668   \n",
       "11  5d69a4dc96b0a77bf602c085da3e976df736ac74a0601c...               30668   \n",
       "\n",
       "    word2vec_cluster  bpr_cluster              tag  ratingUser rating_labels  \\\n",
       "3                  4            1  Vulnerable King        1584            73   \n",
       "4                  4            1  Vulnerable King        1639            73   \n",
       "7                  4            1  Vulnerable King        1586            73   \n",
       "10                 4            1  Vulnerable King        1770            73   \n",
       "11                 4            1  Vulnerable King        1879            73   \n",
       "\n",
       "    is_passed  rating  tag_attempt_count  word2vec_cluster_attempt_count  \\\n",
       "3           0    2197                104                             867   \n",
       "4           0    2197                 31                              84   \n",
       "7           0    2197                 86                             265   \n",
       "10          0    2197                 76                             190   \n",
       "11          0    2197                152                             108   \n",
       "\n",
       "    bpr_cluster_attempt_count  \n",
       "3                         635  \n",
       "4                          54  \n",
       "7                         183  \n",
       "10                        132  \n",
       "11                         61  "
      ]
     },
     "execution_count": 40,
     "metadata": {},
     "output_type": "execute_result"
    }
   ],
   "source": [
    "attempts.head()"
   ]
  },
  {
   "cell_type": "code",
   "execution_count": 31,
   "metadata": {},
   "outputs": [],
   "source": [
    "#Create frames from series\n",
    "table_1 = word2vec_performance_user.to_frame().rename(columns={0:'word2vec_cluster_perf'})\n",
    "table_1.reset_index(inplace=True)\n",
    "table_2 = tag_performance_user.to_frame().rename(columns={0:'tag_perf'})\n",
    "table_2.reset_index(inplace=True)\n",
    "table_3 = bpr_performance_user.to_frame().rename(columns={0:'bpr_cluster_perf'})\n",
    "table_3.reset_index(inplace=True)"
   ]
  },
  {
   "cell_type": "code",
   "execution_count": 74,
   "metadata": {},
   "outputs": [],
   "source": [
    "diff_pairs = diff_pairs.reset_index()"
   ]
  },
  {
   "cell_type": "code",
   "execution_count": null,
   "metadata": {},
   "outputs": [],
   "source": [
    "!wc -l ../prediction_data/improved_prediction_task.csv"
   ]
  },
  {
   "cell_type": "code",
   "execution_count": 33,
   "metadata": {},
   "outputs": [],
   "source": [
    "#Admittedly horrible code to merge the performance data onto the pairs dataset\n",
    "def merge_performance(cluster_type,table):\n",
    "    table.rename(columns={cluster_type:cluster_type+'_1',cluster_type+'_perf':cluster_type+'_perf_1'},inplace=True)\n",
    "    temp = pd.merge(diff_pairs,table[['user_hash',cluster_type+'_1',cluster_type+'_perf_1']],on=['user_hash',cluster_type+'_1'],how='inner')\n",
    "    table.rename(columns={cluster_type+'_1':cluster_type+'_2',cluster_type+'_perf_1':cluster_type+'_perf_2'},inplace=True)\n",
    "    return pd.merge(temp,table[['user_hash',cluster_type+'_2',cluster_type+'_perf_2']],on=['user_hash',cluster_type+'_2'],how='inner')\n",
    "    \n",
    "diff_pairs = merge_performance('word2vec_cluster',table_1)\n",
    "diff_pairs = merge_performance('tag',table_2)\n",
    "diff_pairs = merge_performance('bpr_cluster',table_3)"
   ]
  },
  {
   "cell_type": "code",
   "execution_count": 36,
   "metadata": {},
   "outputs": [],
   "source": [
    "#diff_pairs = diff_pairs.drop(['cluster_score_1','cluster_score_2','tag_score_x','tag_score_y','bpr_score_x','bpr_score_y'],axis=1)\n",
    "diff_pairs['passed_puzzle'] = np.full(diff_pairs.shape[0],0)"
   ]
  },
  {
   "cell_type": "code",
   "execution_count": 104,
   "metadata": {},
   "outputs": [],
   "source": [
    "#Drop reoccuring combinations\n",
    "def get_unique_combos(df): \n",
    "    df = df.drop_duplicates(subset=['user_hash','word2vec_cluster_1','word2vec_cluster_2'], keep='last')\n",
    "    df = df.drop_duplicates(subset=['user_hash','bpr_cluster_1','bpr_cluster_2'], keep='last')\n",
    "    df = df.drop_duplicates(subset=['user_hash','tag_1','tag_2'], keep='last')\n",
    "    return df.reset_index(drop=True)\n",
    "diff_pairs = get_unique_combos(diff_pairs)"
   ]
  },
  {
   "cell_type": "markdown",
   "metadata": {},
   "source": [
    "<h2>Clean Data and prepare for Prediction Task</h2>"
   ]
  },
  {
   "cell_type": "code",
   "execution_count": 68,
   "metadata": {},
   "outputs": [
    {
     "data": {
      "application/vnd.jupyter.widget-view+json": {
       "model_id": "6285f19f9e164005819599c4c97055cf",
       "version_major": 2,
       "version_minor": 0
      },
      "text/plain": [
       "HBox(children=(IntProgress(value=0, max=199993), HTML(value='')))"
      ]
     },
     "metadata": {},
     "output_type": "display_data"
    }
   ],
   "source": [
    "#Randomly flip the rows so that if the passed_puzzle = 0, the puzzle_1 and corresponding fields\n",
    "#belong to the passsed puzzle\n",
    "import random\n",
    "def flip(row,field):\n",
    "    name_1 = field  + '_1'\n",
    "    name_2 = field + '_2'\n",
    "    temp = row[name_2]\n",
    "    row[name_2] = row[name_1]\n",
    "    row[name_1] = temp\n",
    "    return row\n",
    "    \n",
    "\n",
    "def flip_fields(row):\n",
    "    row = flip(row,'word2vec_cluster')\n",
    "    row = flip(row,'word2vec_cluster_perf')\n",
    "    row = flip(row,'bpr_cluster')\n",
    "    row = flip(row,'bpr_cluster_perf')\n",
    "    row = flip(row,'tag')\n",
    "    row = flip(row,'tag_perf')\n",
    "    row = flip(row,'rating')\n",
    "    row = flip(row,'puzzle')\n",
    "    return row\n",
    "\n",
    "def switch_win(row):\n",
    "    num = random.uniform(0,1)\n",
    "    if num > 0.5:\n",
    "        row['passed_puzzle'] = 1\n",
    "        row = flip_fields(row)\n",
    "    return row\n",
    "        \n",
    "diff_pairs = diff_pairs.progress_apply(lambda x: switch_win(x),axis=1)"
   ]
  },
  {
   "cell_type": "markdown",
   "metadata": {},
   "source": [
    "<h2>Simple Prediction</h2>"
   ]
  },
  {
   "cell_type": "code",
   "execution_count": 148,
   "metadata": {},
   "outputs": [],
   "source": [
    "#random_samples = np.random.choice(diff_pairs.index,8000)\n",
    "X = diff_pairs.drop('user_hash',axis=1)\n",
    "y = diff_pairs['passed_puzzle']"
   ]
  },
  {
   "cell_type": "code",
   "execution_count": 149,
   "metadata": {},
   "outputs": [],
   "source": [
    "#Split the data into train and test sets\n",
    "from sklearn.model_selection import train_test_split\n",
    "X_train, X_test, y_train, y_test = train_test_split(X, y, test_size=0.20, random_state=42)"
   ]
  },
  {
   "cell_type": "code",
   "execution_count": 150,
   "metadata": {},
   "outputs": [],
   "source": [
    "from sklearn.linear_model import LogisticRegression\n",
    "from sklearn.model_selection import cross_val_score\n",
    "features = ['tag_perf','word2vec_cluster_perf','bpr_cluster_perf']"
   ]
  },
  {
   "cell_type": "code",
   "execution_count": 151,
   "metadata": {},
   "outputs": [
    {
     "name": "stdout",
     "output_type": "stream",
     "text": [
      "Average accuracy over 5 folds for tag_perf: 0.5219441497372278\n",
      "Average accuracy over 5 folds for word2vec_cluster_perf: 0.5999987698922032\n",
      "Average accuracy over 5 folds for bpr_cluster_perf: 0.6048225540815728\n"
     ]
    }
   ],
   "source": [
    "for feature in features:\n",
    "    log_reg = LogisticRegression(solver='lbfgs')\n",
    "    log_reg.fit(X_train[[feature+ '_1',feature +'_2']],y_train)\n",
    "    scores = cross_val_score(log_reg,X_test[[feature+ '_1',feature +'_2']],y_test,cv=5,scoring='accuracy')\n",
    "    #print(scores)\n",
    "    print('Average accuracy over 5 folds for {}: {}'.format(feature,sum(scores)/len(scores)))"
   ]
  }
 ],
 "metadata": {
  "kernelspec": {
   "display_name": "Python 3",
   "language": "python",
   "name": "python3"
  },
  "language_info": {
   "codemirror_mode": {
    "name": "ipython",
    "version": 3
   },
   "file_extension": ".py",
   "mimetype": "text/x-python",
   "name": "python",
   "nbconvert_exporter": "python",
   "pygments_lexer": "ipython3",
   "version": "3.7.1"
  }
 },
 "nbformat": 4,
 "nbformat_minor": 2
}
