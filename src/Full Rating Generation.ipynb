{
 "cells": [
  {
   "cell_type": "code",
   "execution_count": null,
   "id": "verbal-breath",
   "metadata": {},
   "outputs": [],
   "source": [
    "import numpy as np\n",
    "import pandas as pd\n",
    "import os\n",
    "import csv\n",
    "import datetime\n",
    "import json\n",
    "import math"
   ]
  },
  {
   "cell_type": "code",
   "execution_count": null,
   "id": "honest-egypt",
   "metadata": {},
   "outputs": [],
   "source": [
    "path = '''/w/225/1/chess/tactics/'''\n",
    "os.chdir(path)\n",
    "#filename = '''user_tactics_problem.csv_00'''"
   ]
  },
  {
   "cell_type": "code",
   "execution_count": null,
   "id": "continuing-egyptian",
   "metadata": {},
   "outputs": [],
   "source": [
    "!ls"
   ]
  },
  {
   "cell_type": "code",
   "execution_count": null,
   "id": "nominated-argument",
   "metadata": {},
   "outputs": [],
   "source": [
    "class Player:\n",
    "    def __init__(self,rating=1720,rd=350):\n",
    "        self.rating = rating\n",
    "        self.rd = rd\n",
    "        self.p = 3 * (math.log(10)**2) / ((math.pi ** 2) * 400**2)\n",
    "        self.q = math.log(10)/400\n",
    "        self.c = 900\n",
    "    \n",
    "    def getRating(self):\n",
    "        return self.rating\n",
    "    \n",
    "    def getRd(self):\n",
    "        return self.rd\n",
    "    \n",
    "    def f(self, oppRd):\n",
    "        return 1/math.sqrt(1 + (self.p * (oppRd ** 2)))\n",
    "    \n",
    "    def E(self, oppRating, oppRd):\n",
    "        return 1/(1 + 10**(-1 * (self.rating - oppRating) * self.f(oppRd) / 400))\n",
    "    \n",
    "    def K(self, oppRating, oppRd):\n",
    "        k = self.q * self.f(oppRd)/ ((1/self.rd ** 2) + (self.q **2)*(self.f(oppRd)**2)*self.E(oppRating, oppRd) * (1-self.E(oppRating, oppRd)))\n",
    "        if k < 16:\n",
    "            return 16\n",
    "        else:\n",
    "            return k\n",
    "    \n",
    "    def update_no_games(self, timeWithoutPlaying):\n",
    "        #print(timeWithoutPlaying)\n",
    "        self.rd = math.sqrt(self.rd**2 + self.c * timeWithoutPlaying)\n",
    "        if self.rd > 350:\n",
    "            self.rd = 350\n",
    "    \n",
    "    def update_player(self, oppRating, oppRd, result):\n",
    "        self.rating = self.rating + (self.K(oppRating, oppRd) * (int(result) - self.E(oppRating, oppRd)))\n",
    "        self.rd = (math.sqrt((1/self.rd ** 2) + (self.q ** 2 ) * (self.f(oppRd) ** 2) * self.E(oppRating, oppRd) * (1-self.E(oppRating, oppRd))))** -1 "
   ]
  },
  {
   "cell_type": "code",
   "execution_count": null,
   "id": "renewable-equivalent",
   "metadata": {},
   "outputs": [],
   "source": [
    "#df = pd.read_csv(filename, nrows = 10)\n",
    "#print(df)\n",
    "'''\n",
    "\n",
    "userDict = {} #user_ID:Rating\n",
    "problemDict = {} # ID:Rating\n",
    "userGamesPlayed = {} #user_ID:number of games played\n",
    "userLastPlayed = {} #user_ID:date of last game played\n",
    "\n",
    "def getRating(user, Dict, default):\n",
    "    if user not in Dict:\n",
    "        Dict[user] = default\n",
    "    return Dict[user]    \n",
    "'''\n",
    "def getRating(user, Dict):\n",
    "    if user not in Dict:\n",
    "        Dict[user] = Player()\n",
    "    return Dict[user].getRating()\n",
    "\n",
    "def getDateTime(raw_dt):\n",
    "    a, b, c = [int(i) for i in raw_dt.split()[0].split(\"-\")]\n",
    "    return datetime.date(a, b, c)\n",
    "\n",
    "#with open('/h/224/evanb/chess_dim_skill/user_puzzle_dics/userGamesPlayed.json') as json_file:\n",
    "#    userGamesPlayed = json.load(json_file)\n",
    "with open('/h/224/evanb/chess_dim_skill/user_puzzle_dics/userLastPlayed.json') as json_file:\n",
    "    userLastPlayed = json.load(json_file)\n",
    "for key in userLastPlayed.keys():\n",
    "    userLastPlayed[key] = getDateTime(userLastPlayed[key])\n",
    "with open('/h/224/evanb/chess_dim_skill/user_puzzle_dics/userdict.json') as json_file:\n",
    "    user_stats = json.load(json_file)\n",
    "with open('/h/224/evanb/chess_dim_skill/user_puzzle_dics/problemdict.json') as json_file:\n",
    "    problem_stats = json.load(json_file)"
   ]
  },
  {
   "cell_type": "code",
   "execution_count": null,
   "id": "caroline-rebel",
   "metadata": {},
   "outputs": [],
   "source": [
    "userDict = {}\n",
    "for key in user_stats.keys():\n",
    "    stat = user_stats[key]\n",
    "    userDict[key] = Player(stat['rating'],stat['rd'])"
   ]
  },
  {
   "cell_type": "code",
   "execution_count": null,
   "id": "buried-russell",
   "metadata": {},
   "outputs": [],
   "source": [
    "problemDict = {}\n",
    "for key in problem_stats.keys():\n",
    "    stat = problem_stats[key]\n",
    "    problemDict[key] = Player(stat['rating'],stat['rd'])"
   ]
  },
  {
   "cell_type": "code",
   "execution_count": null,
   "id": "extreme-immunology",
   "metadata": {},
   "outputs": [],
   "source": [
    "import sys\n",
    "sys.stdout = open('/dev/stdout', 'w')"
   ]
  },
  {
   "cell_type": "code",
   "execution_count": null,
   "id": "surprised-technology",
   "metadata": {
    "scrolled": true
   },
   "outputs": [],
   "source": [
    "#save ints, not floats\n",
    "#write to file every 100000 lines or so to speed up\n",
    "#write own \n",
    "\n",
    "chunksUsed = 0\n",
    "newCSV = open(\"glicko_user_tactics_problem_all.csv\", \"a\", newline= \"\")\n",
    "newCSV = csv.writer(newCSV)\n",
    "#newCSV.writerow([\"user_tactics_problem_id\", \"user_hash\", \"create_date\", \"date\", \"last_game_date\", \"seconds\", \"is_passed\", \"correct_move_count\", \"rating_change\", \"tactics_problem_id\", \"ratingUser\", \"varianceUser\", \"ratingProblem\", \"varianceProblem\", \"userGamesPlayed\"])\n",
    "problemProblems = []\n",
    "for i in range(1,10):\n",
    "    filename = 'user_tactics_problem.csv_0{}.bz2'.format(i)\n",
    "    print('Trying file: {}'.format(filename))\n",
    "    for chunk in pd.read_csv(filename, names = ['user_tactics_problem_id','user_hash','create_date','seconds','is_passed','correct_move_count','rating_change','tactics_problem_id'],chunksize=10000): \n",
    "        rows = []\n",
    "        for index, row in chunk.iterrows():\n",
    "            #print(row.user_hash)\n",
    "            user = row[\"user_hash\"]\n",
    "            problem = row[\"tactics_problem_id\"]\n",
    "            if str(problem) in problemProblems:\n",
    "                continue\n",
    "            winner = row[\"is_passed\"]\n",
    "            date = getDateTime(row[\"create_date\"])\n",
    "            if user not in userLastPlayed:\n",
    "                userLastPlayed[user] = date\n",
    "            userRating = getRating(user, userDict)\n",
    "            daysMissed = (date-userLastPlayed[user]).days\n",
    "            userDict[user].update_no_games(daysMissed)\n",
    "            lastGame = userLastPlayed[user]\n",
    "            userLastPlayed[user] = date\n",
    "            userRd = userDict[user].getRd()\n",
    "            problemRating = getRating(problem, problemDict)\n",
    "            problemRd = problemDict[problem].getRd()\n",
    "            #userDict[user], problemDict[problem] = EloRating(userRating, problemRating, winner)\n",
    "            try:\n",
    "                userDict[user].update_player(problemRating, problemRd, bool(winner))\n",
    "                problemDict[problem].update_player(userRating, userRd, not bool(winner))\n",
    "                if user not in userGamesPlayed:\n",
    "                    userGamesPlayed[user] = 1\n",
    "                else:\n",
    "                    userGamesPlayed[user] = userGamesPlayed[user] + 1\n",
    "                newRow = [row[\"user_tactics_problem_id\"], row[\"user_hash\"], row[\"create_date\"], str(date), str(lastGame), row[\"seconds\"], row[\"is_passed\"], row[\"correct_move_count\"], row[\"rating_change\"], row[\"tactics_problem_id\"], str(int(userRating)), str(int(userRd)), str(int(problemRating)), str(int(problemRd)), str(userGamesPlayed[user]-1)]\n",
    "                rows.append(newRow)\n",
    "            except:\n",
    "                print(\"error with rating,  user:\", user)\n",
    "                print(\"problem ID:\", problem)\n",
    "                problemProblems.append(str(problem))\n",
    "\n",
    "        newCSV.writerows(rows)    \n",
    "        chunksUsed += 1\n",
    "        if chunksUsed % 10 == 0:\n",
    "            print('Chunks used: {}'.format(chunksUsed))\n",
    "        #break\n",
    "    #break\n",
    "    print('Done with file: {}'.format(i))"
   ]
  },
  {
   "cell_type": "markdown",
   "id": "loving-school",
   "metadata": {},
   "source": [
    "<h2>Save JSON file</h2>"
   ]
  },
  {
   "cell_type": "code",
   "execution_count": null,
   "id": "august-berkeley",
   "metadata": {},
   "outputs": [],
   "source": [
    "import json\n",
    "from tqdm import tqdm_notebook as tqdm\n",
    "userDictSave = {}\n",
    "for has in tqdm(userDict.keys()):\n",
    "    player = userDict[has]\n",
    "    dic = {'rating':player.getRating(),'rd':player.getRd()}\n",
    "    userDictSave[has] = dic\n",
    "    #print(player.getRating(),player.getRd())\n",
    "    \n",
    "with open('/h/224/evanb/chess_dim_skill/user_puzzle_dics/userdict.json', 'w') as outfile:\n",
    "    json.dump(userDictSave, outfile)\n",
    "    \n",
    "problemDictSave = {}\n",
    "for has in tqdm(problemDict.keys()):\n",
    "    player = problemDict[has]\n",
    "    dic = {'rating':player.getRating(),'rd':player.getRd()}\n",
    "    problemDictSave[has] = dic\n",
    "    \n",
    "with open('/h/224/evanb/chess_dim_skill/user_puzzle_dics/problemdict.json', 'w') as outfile:\n",
    "    json.dump(problemDictSave, outfile)\n",
    "    \n"
   ]
  },
  {
   "cell_type": "code",
   "execution_count": null,
   "id": "reliable-journal",
   "metadata": {},
   "outputs": [],
   "source": [
    "#with open('/h/224/evanb/chess_dim_skill/user_puzzle_dics/userGamesPlayed.json', 'w') as outfile:\n",
    "#    json.dump(userGamesPlayed,outfile)\n",
    "#with open('/h/224/evanb/chess_dim_skill/user_puzzle_dics/userLastPlayed.json', 'w') as outfile:\n",
    "#    json.dump(userLastPlayed, outfile,default=str)"
   ]
  }
 ],
 "metadata": {
  "kernelspec": {
   "display_name": "chess_tactic",
   "language": "python",
   "name": "chess_tactic"
  },
  "language_info": {
   "codemirror_mode": {
    "name": "ipython",
    "version": 3
   },
   "file_extension": ".py",
   "mimetype": "text/x-python",
   "name": "python",
   "nbconvert_exporter": "python",
   "pygments_lexer": "ipython3",
   "version": "3.7.1"
  }
 },
 "nbformat": 4,
 "nbformat_minor": 5
}
