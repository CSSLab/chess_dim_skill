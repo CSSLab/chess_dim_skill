{
 "cells": [
  {
   "cell_type": "code",
   "execution_count": 1,
   "metadata": {},
   "outputs": [],
   "source": [
    "#The code for this notebook was based on code from here: \n",
    "#https://medium.com/radon-dev/implicit-bayesian-personalized-ranking-in-tensorflow-b4dfa733c478\n",
    "\n",
    "import tensorflow as tf\n",
    "import pandas as pd\n",
    "import numpy as np\n",
    "from scipy.sparse import csr_matrix,dok_matrix\n",
    "from math import ceil\n",
    "\n",
    "from tqdm import tqdm_notebook as tqdm"
   ]
  },
  {
   "cell_type": "code",
   "execution_count": 2,
   "metadata": {},
   "outputs": [
    {
     "data": {
      "application/vnd.jupyter.widget-view+json": {
       "model_id": "83bbb571c67e4dd58f9602594977a721",
       "version_major": 2,
       "version_minor": 0
      },
      "text/plain": [
       "HBox(children=(IntProgress(value=1, bar_style='info', max=1), HTML(value='')))"
      ]
     },
     "metadata": {},
     "output_type": "display_data"
    },
    {
     "name": "stdout",
     "output_type": "stream",
     "text": [
      "\n"
     ]
    }
   ],
   "source": [
    "tqdm().pandas()"
   ]
  },
  {
   "cell_type": "markdown",
   "metadata": {},
   "source": [
    "<h2>Create table of valid (u,i,j) triplets</h2>"
   ]
  },
  {
   "cell_type": "code",
   "execution_count": 3,
   "metadata": {},
   "outputs": [
    {
     "name": "stdout",
     "output_type": "stream",
     "text": [
      "(129998184, 15)\n"
     ]
    }
   ],
   "source": [
    "#Read the puzzzle attempts data\n",
    "df = pd.read_csv('/w/225/1/chess/tactics/glicko_user_tactics_problem.csv_00')\n",
    "print(df.shape)"
   ]
  },
  {
   "cell_type": "code",
   "execution_count": 4,
   "metadata": {},
   "outputs": [],
   "source": [
    "#Filter out any attempts that are in the prediction dataset\n",
    "df = df.loc[df['userGamesPlayed'] >= 1000]"
   ]
  },
  {
   "cell_type": "code",
   "execution_count": 16,
   "metadata": {},
   "outputs": [],
   "source": [
    "#Get the last rating for each puzzle and join on the attempts\n",
    "puzzle_ratings = df.groupby('tactics_problem_id').tail(1)[['tactics_problem_id','ratingProblem']]\n",
    "puzzle_ratings.rename(columns={'ratingProblem':'rating'},inplace=True)\n",
    "df.drop('ratingProblem',axis=1,inplace=True)\n",
    "df = pd.merge(df,puzzle_ratings,on='tactics_problem_id')"
   ]
  },
  {
   "cell_type": "code",
   "execution_count": 38,
   "metadata": {},
   "outputs": [
    {
     "data": {
      "text/plain": [
       "(50885640, 18)"
      ]
     },
     "execution_count": 38,
     "metadata": {},
     "output_type": "execute_result"
    }
   ],
   "source": [
    "df.shape"
   ]
  },
  {
   "cell_type": "code",
   "execution_count": 37,
   "metadata": {},
   "outputs": [],
   "source": [
    "start = 375\n",
    "end = 3025\n",
    "interval = 25\n",
    "df['rating_labels'] = pd.cut(df['rating'],np.arange(start,end,interval),labels=range(1,((end-start)//interval)))"
   ]
  },
  {
   "cell_type": "code",
   "execution_count": 7,
   "metadata": {},
   "outputs": [],
   "source": [
    "#df['user_attempt_number'] = df.groupby('user_hash').cumcount()+1\n",
    "df['user_cat'] = df['user_hash'].astype('category').cat.codes"
   ]
  },
  {
   "cell_type": "code",
   "execution_count": null,
   "metadata": {},
   "outputs": [],
   "source": [
    "'''\n",
    "Max matchup that gets all possible pairings for each user and then\n",
    "deletes duplicates for failed and won puzzle so that each ID occurs only\n",
    "once for each user (because users only have one attempt per puzzle, it can't\n",
    "occur in both win and fail anyway)\n",
    "'''\n",
    "max_matchup = pd.DataFrame()\n",
    "n_users = df.user_cat.astype('int32').max() + 1\n",
    "for user in tqdm(range(n_users)):\n",
    "    #Get all attempts by user\n",
    "    user_table = df.loc[df.user_cat == user]\n",
    "    #Get wins by the user\n",
    "    wins = user_table.loc[user_table.is_passed == 1][['tactics_problem_id','rating_labels','user_hash','user_cat']]\n",
    "    wins.rename(columns={'tactics_problem_id':'win_id'},inplace=True)\n",
    "    #Get fails by the user\n",
    "    fails = user_table.loc[user_table.is_passed == 0][['tactics_problem_id','rating_labels','user_hash','user_cat']]\n",
    "    fails.rename(columns={'tactics_problem_id':'fail_id'},inplace=True)\n",
    "    #Create rows where the user has passed and failed both puzzles and both puzzles have same rating label\n",
    "    combined = pd.merge(wins,fails,on=['user_cat','rating_labels'],how='inner')\n",
    "    #Make sure that puzzle ids only occur once for each user in the matchup\n",
    "    combined = combined.drop_duplicates(subset=['win_id'])[['user_cat','fail_id','win_id','rating_labels']]\n",
    "    combined = combined.drop_duplicates(subset=['fail_id'])[['user_cat','fail_id','win_id','rating_labels']]\n",
    "    max_matchup = max_matchup.append(combined)\n",
    "    '''\n",
    "    #Save to CSV periodically\n",
    "    if user % 1000 == 0:\n",
    "        max_matchup.to_csv('../important/_rating_matchup.csv',index=False,header=True)\n",
    "        print('Saved CSV')\n",
    "    '''\n",
    "#Reset index\n",
    "max_matchup.reset_index(drop=True,inplace=True)"
   ]
  },
  {
   "cell_type": "code",
   "execution_count": 27,
   "metadata": {},
   "outputs": [
    {
     "name": "stdout",
     "output_type": "stream",
     "text": [
      "reading user_max_matchup.csv\n",
      "reading user_ogmeta_rating_matchup.csv\n",
      "reading user_attempt_rating_matchup.csv\n"
     ]
    }
   ],
   "source": [
    "#Code to add other meta data of the attempt since they were missed in the first data set creation\n",
    "'''\n",
    "files = ['user_max_matchup.csv','user_ogmeta_rating_matchup.csv','user_attempt_rating_matchup.csv']\n",
    "modified = []\n",
    "for file in files:\n",
    "    print('reading {}'.format(file))\n",
    "    triplets = pd.read_csv('../important/' + file)\n",
    "    triplets = pd.merge(triplets,df[['tactics_problem_id','user_cat','create_date','seconds']],left_on=['user_cat','fail_id'],right_on=['user_cat','tactics_problem_id'],how='left')\n",
    "    triplets.drop('tactics_problem_id',axis=1,inplace=True)\n",
    "    triplets.rename(columns = {'create_date':'fail_date','seconds':'fail_second'},inplace=True)\n",
    "    triplets = pd.merge(triplets,df[['tactics_problem_id','user_cat','create_date','seconds']],left_on=['user_cat','win_id'],right_on=['user_cat','tactics_problem_id'],how='left')\n",
    "    triplets.drop('tactics_problem_id',axis=1,inplace=True)\n",
    "    triplets.rename(columns = {'create_date':'win_date','seconds':'win_second'},inplace=True)\n",
    "    modified.append(triplets)\n",
    "    #triplets.to_csv(file,header=True,index=False)\n",
    "'''"
   ]
  },
  {
   "cell_type": "markdown",
   "metadata": {},
   "source": [
    "<h2>Load Saved (u,i,j) triplets</h2>"
   ]
  },
  {
   "cell_type": "code",
   "execution_count": 92,
   "metadata": {},
   "outputs": [
    {
     "name": "stdout",
     "output_type": "stream",
     "text": [
      "Num of unique users: 30010\n",
      "Table shape: (1079443, 8)\n"
     ]
    }
   ],
   "source": [
    "#triplets = max_matchup\n",
    "triplets = pd.read_csv('../important/user_ogmeta_rating_matchup.csv')\n",
    "print('Num of unique users: {}'.format(len(triplets.user_cat.unique())))\n",
    "print('Table shape: {}'.format(triplets.shape))"
   ]
  },
  {
   "cell_type": "code",
   "execution_count": 93,
   "metadata": {},
   "outputs": [],
   "source": [
    "#Assign ids in win and fail id columns unique identifiers\n",
    "#such that the max num of identifiers equals the num of unique\n",
    "#puzzles\n",
    "cats = triplets['fail_id'].append(triplets['win_id'])\n",
    "cats = cats.astype('category').cat.codes\n",
    "triplets['fail_cat'] = cats[:triplets.shape[0]]\n",
    "triplets['win_cat'] = cats[triplets.shape[0]:]"
   ]
  },
  {
   "cell_type": "code",
   "execution_count": 94,
   "metadata": {},
   "outputs": [
    {
     "name": "stdout",
     "output_type": "stream",
     "text": [
      "N_users: 30301. N_puzzles: 32239\n"
     ]
    }
   ],
   "source": [
    "#Create lookup table mapping tactics_problem_id to unique puzzle identifiers\n",
    "def create_lookup(triplets):\n",
    "    ids = triplets['fail_id'].append(triplets['win_id'])\n",
    "    cats = ids.astype('category').cat.codes\n",
    "    triplets['fail_cat'] = cats[:triplets.shape[0]].values\n",
    "    triplets['win_cat'] = cats[triplets.shape[0]:].values\n",
    "    #Assign Ids to user\n",
    "    #triplets['user_cat'] = triplets['user_hash'].astype('category').cat.codes\n",
    "    lookup = pd.concat([ids.drop_duplicates(), cats.drop_duplicates()], axis=1).reset_index(drop=True)\n",
    "    lookup.rename(columns={0:'tactics_problem_id',1:'puzzle_id'},inplace=True)\n",
    "    return lookup\n",
    "\n",
    "#Create lookup table for triplets\n",
    "lookup = create_lookup(triplets)\n",
    "n_users = triplets.user_cat.astype('int32').max() + 1\n",
    "n_puzzles = lookup.shape[0]\n",
    "print(\"N_users: {}. N_puzzles: {}\".format(n_users,n_puzzles))"
   ]
  },
  {
   "cell_type": "code",
   "execution_count": 95,
   "metadata": {},
   "outputs": [
    {
     "name": "stdout",
     "output_type": "stream",
     "text": [
      "(799493, 10)\n",
      "(265129, 10)\n",
      "(64767, 10)\n"
     ]
    }
   ],
   "source": [
    "def train_test(data,k):\n",
    "    n_rows = round(k*data.shape[0])\n",
    "    indices = np.random.randint(0,data.shape[0],n_rows)\n",
    "    test_data = data.iloc[indices].reset_index(drop=True)\n",
    "    train_data = data.drop(indices).reset_index(drop=True)\n",
    "    return train_data,test_data\n",
    "#Create train and test set of data\n",
    "np.random.seed(1456)\n",
    "train_data,val_data = train_test(triplets,0.3)\n",
    "val_data,test_data = train_test(val_data,0.2)\n",
    "print(train_data.shape)\n",
    "print(val_data.shape)\n",
    "print(test_data.shape)\n"
   ]
  },
  {
   "cell_type": "code",
   "execution_count": 96,
   "metadata": {},
   "outputs": [],
   "source": [
    "#Initializing model\n",
    "#model = BPRObject(n_users,n_puzzles,64,0.005,test_data)\n",
    "uids = train_data['user_cat'].values\n",
    "iids = train_data['win_cat'].values\n",
    "jids = train_data['fail_cat'].values"
   ]
  },
  {
   "cell_type": "markdown",
   "metadata": {},
   "source": [
    "<h2>Set up Model Class</h2>"
   ]
  },
  {
   "cell_type": "code",
   "execution_count": 83,
   "metadata": {},
   "outputs": [],
   "source": [
    "#-------------------------\n",
    "# TENSORFLOW GRAPH\n",
    "#-------------------------\n",
    "\n",
    "# Set up our Tensorflow graph\n",
    "#graph = tf.Graph()\n",
    "def init_variable(size, dim, name=None):\n",
    "    '''\n",
    "    Helper function to initialize a new variable with\n",
    "    uniform random values.\n",
    "    '''\n",
    "    std = np.sqrt(2 / dim)\n",
    "    return tf.Variable(tf.random_uniform([size, dim], -std, std), name=name)\n",
    "\n",
    "\n",
    "def embed(inputs, size, dim, name=None):\n",
    "    '''\n",
    "    Helper function to get a Tensorflow variable and create\n",
    "    an embedding lookup to map our user and item\n",
    "    indices to vectors.\n",
    "    '''\n",
    "    emb = init_variable(size, dim, name)\n",
    "    return tf.nn.embedding_lookup(emb, inputs)\n",
    "\n",
    "\n",
    "def get_variable(graph, session, name):\n",
    "    '''\n",
    "    Helper function to get the value of a\n",
    "    Tensorflow variable by name.\n",
    "    '''\n",
    "    v = graph.get_operation_by_name(name)\n",
    "    v = v.values()[0]\n",
    "    v = v.eval(session=session)\n",
    "    return v"
   ]
  },
  {
   "cell_type": "code",
   "execution_count": 84,
   "metadata": {},
   "outputs": [],
   "source": [
    "class BPRObject:\n",
    "    #To build the graph when instantiated\n",
    "    def __init__(self, num_users, num_puzzles, num_factors,lr,lambs,val_data):\n",
    "        # Independent lambda regularization values \n",
    "        # for user, items and bias.\n",
    "        self.lambda_user = lambs[0]\n",
    "        self.lambda_fail_item = lambs[1]\n",
    "        self.lambda_win_item = lambs[2]\n",
    "        #Training history\n",
    "        self.auc_data = []\n",
    "        self.loss_data = []\n",
    "        self.vals = []\n",
    "        #Set the number of users for later use\n",
    "        self.num_users = num_users\n",
    "        self.num_puzzles = num_puzzles\n",
    "        #Graph\n",
    "        self.graph = tf.Graph()\n",
    "        #Validation Data\n",
    "        self.val_data = val_data\n",
    "        with self.graph.as_default():\n",
    "            '''\n",
    "            Loss function: \n",
    "            -SUM ln σ(xui - xuj) + λ(w1)**2 + λ(w2)**2 + λ(w3)**2 ...\n",
    "            ln = the natural log\n",
    "            σ(xuij) = the sigmoid function of xuij.\n",
    "            λ = lambda regularization value.\n",
    "            ||W||**2 = the squared L2 norm of our model parameters.\n",
    "\n",
    "            '''\n",
    "            # Input into our model, in this case our user (u),\n",
    "            # known item (i) an unknown item (j) triplets.\n",
    "            self.u = tf.placeholder(tf.int32, shape=(None, 1))\n",
    "            self.i = tf.placeholder(tf.int32, shape=(None, 1))\n",
    "            self.j = tf.placeholder(tf.int32, shape=(None, 1))\n",
    "\n",
    "            # User feature embedding\n",
    "            self.u_factors = embed(self.u, num_users, num_factors, 'user_factors') # U matrix\n",
    "\n",
    "            # Known and unknown item embeddings\n",
    "            self.item_factors = init_variable(num_puzzles, num_factors, \"puzzle_factors\") # V matrix\n",
    "            self.i_factors = tf.nn.embedding_lookup(self.item_factors, self.i)\n",
    "            self.j_factors = tf.nn.embedding_lookup(self.item_factors, self.j)\n",
    "\n",
    "            # i and j bias embeddings.\n",
    "            self.item_bias = init_variable(num_puzzles, 1, \"item_bias\")\n",
    "            self.i_bias = tf.nn.embedding_lookup(self.item_bias, self.i)\n",
    "            self.i_bias = tf.reshape(self.i_bias, [-1, 1])\n",
    "            self.j_bias = tf.nn.embedding_lookup(self.item_bias, self.j)\n",
    "            self.j_bias = tf.reshape(self.j_bias, [-1, 1])\n",
    "\n",
    "            # Calculate the dot product + bias for known and unknown\n",
    "            # item to get xui and xuj.\n",
    "            self.xui = self.i_bias + tf.reduce_sum(self.u_factors * self.i_factors, axis=2)\n",
    "            self.xuj = self.j_bias + tf.reduce_sum(self.u_factors * self.j_factors, axis=2)\n",
    "\n",
    "            # We calculate xuij.\n",
    "            self.xuij = self.xui - self.xuj\n",
    "\n",
    "            # Calculate the mean AUC (area under curve).\n",
    "            # if xuij is greater than 0, that means that \n",
    "            # xui is greater than xuj (and thats what we want).\n",
    "            self.u_auc = tf.reduce_mean(tf.to_float(self.xuij > 0))\n",
    "\n",
    "            # Output the AUC value to tensorboard for monitoring.\n",
    "            tf.summary.scalar('auc', self.u_auc)\n",
    "\n",
    "            # Calculate the squared L2 norm ||W||**2 multiplied by λ.\n",
    "            self.l2_norm = tf.add_n([\n",
    "                self.lambda_user * tf.reduce_sum(tf.multiply(self.u_factors, self.u_factors)),\n",
    "                self.lambda_win_item * tf.reduce_sum(tf.multiply(self.i_factors, self.i_factors)),\n",
    "                self.lambda_fail_item * tf.reduce_sum(tf.multiply(self.j_factors, self.j_factors))\n",
    "                ])\n",
    "\n",
    "            # Calculate the loss as ||W||**2 - ln σ(Xuij)\n",
    "            #loss = l2_norm - tf.reduce_mean(tf.log(tf.sigmoid(xuij)))\n",
    "            self.loss = -tf.reduce_mean(tf.log(tf.sigmoid(self.xuij))) + self.l2_norm\n",
    "\n",
    "            # Train using the Adam optimizer to minimize \n",
    "            # our loss function.\n",
    "            self.opt = tf.train.AdamOptimizer(learning_rate=lr)\n",
    "            self.step = self.opt.minimize(self.loss)\n",
    "\n",
    "            # Initialize all tensorflow variables.\n",
    "            self.init_op = tf.global_variables_initializer()\n",
    "        self.sess = tf.Session(config=None,graph=self.graph)\n",
    "    \n",
    "    def evaluate(self,val_data):\n",
    "        # Grab our user matrix U\n",
    "        user_vecs = get_variable(self.graph, self.sess, 'user_factors')\n",
    "\n",
    "        # Grab our item matrix V\n",
    "        item_vecs = get_variable(self.graph, self.sess, 'puzzle_factors')\n",
    "        \n",
    "        # Grab our item bias\n",
    "        item_bi = get_variable(self.graph, self.sess, 'item_bias').reshape(-1)\n",
    "        #Get the unique category ID's for the user, win and fail puzzles\n",
    "        calc_matr = user_vecs.dot(item_vecs.T)\n",
    "        uids = val_data.user_cat.values\n",
    "        iids = val_data.win_cat.values\n",
    "        jids = val_data.fail_cat.values\n",
    "        ui = (calc_matr[uids,iids] + item_bi[iids])\n",
    "        uj = (calc_matr[uids,jids] + item_bi[jids])\n",
    "        scores = ui - uj\n",
    "        correct = (scores > 0).sum()\n",
    "        return correct/val_data.shape[0]\n",
    "\n",
    "    def launchG(self,epochs,batches,samples,uids,iids,jids):\n",
    "        '''\n",
    "        Train the Model using the given number of epochs,\n",
    "        batch size, number of random samples and a tuple \n",
    "        with form (user_ids,puzzle_ids) from which to draw\n",
    "        those samples\n",
    "        '''\n",
    "        self.sess.run(self.init_op)\n",
    "        progress = tqdm(total=batches*epochs)\n",
    "        for _ in range(epochs):\n",
    "            for _ in range(batches):\n",
    "                # We want to sample one known and one unknown \n",
    "                # puzzle for each user. \n",
    "                idx = np.random.randint(low=0, high=len(uids), size=samples)\n",
    "                # First we sample 15000 uniform users.\n",
    "                #batch_u = np.random.randint(low=0, high=self.num_users, size=samples)\n",
    "                #batch_u = np.random.choice(shared_users,size=samples)\n",
    "\n",
    "                # We then grab the users matching those indices.\n",
    "                batch_u = uids[idx].reshape(-1, 1)\n",
    "                batch_i = iids[idx].reshape(-1, 1)\n",
    "                batch_j = jids[idx].reshape(-1, 1)\n",
    "                # Feed our users, known and unknown items to\n",
    "                # our tensorflow graph. \n",
    "                feed_dict = { self.u: batch_u, self.i: batch_i, self.j: batch_j }\n",
    "                \n",
    "                #Run the training session\n",
    "                _, l, auc = self.sess.run([self.step, self.loss, self.u_auc], feed_dict)\n",
    "\n",
    "            validation = self.evaluate(self.val_data)\n",
    "            print('Validation Accuracy: {}'.format(validation))\n",
    "            self.auc_data.append(auc)\n",
    "            #self.loss_data.append(l)\n",
    "            self.vals.append(validation)\n",
    "            progress.update(batches)\n",
    "            progress.set_description('Loss: %.3f | AUC: %.3f' % (l, auc))\n",
    "\n",
    "        progress.close()\n",
    "            \n",
    "    def get_item_embeddings(self):\n",
    "        return get_variable(self.graph, self.sess, 'puzzle_factors')\n",
    "    \n",
    "    def get_user_embeddings(self):\n",
    "        return get_variable(self.graph, self.sess, 'user_factors')\n",
    "    \n",
    "    def get_val_history(self):\n",
    "        return self.vals\n",
    "    \n",
    "    def get_train_history(self):\n",
    "        return self.auc_data"
   ]
  },
  {
   "cell_type": "code",
   "execution_count": 97,
   "metadata": {},
   "outputs": [
    {
     "data": {
      "application/vnd.jupyter.widget-view+json": {
       "model_id": "efd7b20985fc4c6cbb93b7b0b4e37a82",
       "version_major": 2,
       "version_minor": 0
      },
      "text/plain": [
       "HBox(children=(IntProgress(value=0, max=2500), HTML(value='')))"
      ]
     },
     "metadata": {},
     "output_type": "display_data"
    },
    {
     "name": "stdout",
     "output_type": "stream",
     "text": [
      "Validation Accuracy: 0.5130747673773899\n",
      "Validation Accuracy: 0.5236356641483957\n",
      "Validation Accuracy: 0.5336949183227787\n",
      "Validation Accuracy: 0.5431054316955143\n",
      "Validation Accuracy: 0.5522745531420554\n",
      "Validation Accuracy: 0.5619981216690743\n",
      "Validation Accuracy: 0.5701149251873616\n",
      "Validation Accuracy: 0.5773906287128153\n",
      "Validation Accuracy: 0.5835876120680876\n",
      "Validation Accuracy: 0.5885286030573796\n",
      "Validation Accuracy: 0.5925455155792086\n",
      "Validation Accuracy: 0.5958948285551562\n",
      "Validation Accuracy: 0.5994063267315156\n",
      "Validation Accuracy: 0.6010621244752554\n",
      "Validation Accuracy: 0.6029819446382704\n",
      "Validation Accuracy: 0.603468500239506\n",
      "Validation Accuracy: 0.6049621127828341\n",
      "Validation Accuracy: 0.6059239087387649\n",
      "Validation Accuracy: 0.6069498244250912\n",
      "Validation Accuracy: 0.6066480845173482\n",
      "Validation Accuracy: 0.6066103670288803\n",
      "Validation Accuracy: 0.6069573679227848\n",
      "Validation Accuracy: 0.6083717737403301\n",
      "Validation Accuracy: 0.6079644248648771\n",
      "Validation Accuracy: 0.6088055248577108\n",
      "Validation Accuracy: 0.6090091992954373\n",
      "Validation Accuracy: 0.6097032010832463\n",
      "Validation Accuracy: 0.6096466248505444\n",
      "Validation Accuracy: 0.6095032983943666\n",
      "Validation Accuracy: 0.6089375360673484\n",
      "Validation Accuracy: 0.609548559380528\n",
      "Validation Accuracy: 0.6101784414379415\n",
      "Validation Accuracy: 0.6100539737259976\n",
      "Validation Accuracy: 0.61002757148407\n",
      "Validation Accuracy: 0.6099483647582875\n",
      "Validation Accuracy: 0.6096164508597701\n",
      "Validation Accuracy: 0.6100237997352232\n",
      "Validation Accuracy: 0.6101105499586994\n",
      "Validation Accuracy: 0.6099521365071343\n",
      "Validation Accuracy: 0.6098729297813518\n",
      "Validation Accuracy: 0.6103972028710553\n",
      "Validation Accuracy: 0.6099634517536746\n",
      "Validation Accuracy: 0.6098540710371178\n",
      "Validation Accuracy: 0.610348170136047\n",
      "Validation Accuracy: 0.6097748643113352\n",
      "Validation Accuracy: 0.6098276687951902\n",
      "Validation Accuracy: 0.6102991374010387\n",
      "Validation Accuracy: 0.6107555190115\n",
      "Validation Accuracy: 0.6102086154287159\n",
      "Validation Accuracy: 0.6106574535414836\n",
      "\n"
     ]
    }
   ],
   "source": [
    "#Run model\n",
    "lambs = (1,0.01,0.001)\n",
    "model = BPRObject(n_users,n_puzzles,16,0.005,lambs,val_data)\n",
    "model.launchG(50,50,15000,uids,iids,jids)"
   ]
  },
  {
   "cell_type": "markdown",
   "metadata": {},
   "source": [
    "<h2>Grid Search</h2>"
   ]
  },
  {
   "cell_type": "code",
   "execution_count": null,
   "metadata": {},
   "outputs": [],
   "source": [
    "import seaborn as sns\n",
    "fail_lambs = np.array([0.0001,0.001,0.01,0.1,1])\n",
    "win_lambs = np.array([0.0001,0.001,0.01,0.1,1])\n",
    "val_histories = []\n",
    "train_histories = []\n",
    "for win in win_lambs:\n",
    "    for fail in fail_lambs:\n",
    "        print(\"Trying win: {} with fail: {}\".format(win,fail))\n",
    "        #Lambda values for user, item, bias\n",
    "        lambs = (1,fail,win)\n",
    "        model = BPRObject(n_users,n_puzzles,16,0.005,lambs,val_data)\n",
    "        #Feed in the training data in the form of the uids, iids, jids\n",
    "        model.launchG(50,50,15000,uids,iids,jids)\n",
    "        #Get and save the validation and training histories\n",
    "        val_history = model.get_val_history()\n",
    "        train_history = model.get_train_history()\n",
    "        val_histories.append(val_history)\n",
    "        train_histories.append(train_history)        "
   ]
  },
  {
   "cell_type": "code",
   "execution_count": 23,
   "metadata": {},
   "outputs": [],
   "source": [
    "samples = np.array([100,1000,1500,10000,15000])\n",
    "batches = np.array([10,30,50,80,100])"
   ]
  },
  {
   "cell_type": "code",
   "execution_count": 17,
   "metadata": {},
   "outputs": [
    {
     "data": {
      "text/plain": [
       "0.6300653850671469"
      ]
     },
     "execution_count": 17,
     "metadata": {},
     "output_type": "execute_result"
    }
   ],
   "source": [
    "model.evaluate(test_data)"
   ]
  },
  {
   "cell_type": "code",
   "execution_count": 36,
   "metadata": {},
   "outputs": [],
   "source": [
    "np.save('../important/val_histories_diff_lambdas.npy',val_histories)\n",
    "np.save('../important/train_histories_diff_lambdas.npy',train_histories)"
   ]
  },
  {
   "cell_type": "code",
   "execution_count": 39,
   "metadata": {},
   "outputs": [
    {
     "data": {
      "image/png": "[encoded data removed]",
      "text/plain": [
       "<Figure size 432x288 with 2 Axes>"
      ]
     },
     "metadata": {
      "needs_background": "light"
     },
     "output_type": "display_data"
    }
   ],
   "source": [
    "import seaborn as sns\n",
    "import matplotlib.pyplot as plt\n",
    "#val_histories = np.load('../important/val_histories_regularized.npy')\n",
    "max_val = np.array([max(val) for val in val_histories])\n",
    "#train_histories = np.load('../important/train_histories.npy')\n",
    "#max_train = [max(train_histories) for val in train_histories]\n",
    "max_val = max_val.reshape(5,5)\n",
    "cmap = sns.color_palette(\"rocket\")\n",
    "ax = sns.heatmap(max_val)\n",
    "ax.set_xticklabels(win_lambs)\n",
    "plt.xlabel('Fail λ')\n",
    "ax.set_yticklabels(fail_lambs)\n",
    "plt.title('Win vs Fail λ')\n",
    "plt.ylabel('Win λ')\n",
    "plt.savefig('../plots/bpr_heatmap_win_fail_lamb.png')\n",
    "plt.show()"
   ]
  },
  {
   "cell_type": "code",
   "execution_count": 28,
   "metadata": {},
   "outputs": [
    {
     "data": {
      "image/png": "[encoded data removed]",
      "text/plain": [
       "<Figure size 936x648 with 7 Axes>"
      ]
     },
     "metadata": {
      "needs_background": "light"
     },
     "output_type": "display_data"
    }
   ],
   "source": [
    "#print(max_vals.index(0.5693705324057472))\n",
    "import matplotlib.pyplot as plt\n",
    "reshaped_val = np.array(val_histories).reshape(2,3,50)\n",
    "reshaped_train = np.array(train_histories).reshape(2,3,50)\n",
    "lambs = [0,0.0001,0.001,0.01,0.1,1]\n",
    "fig= plt.figure(figsize=(13,9))\n",
    "axes = fig.subplots(nrows=2,ncols=3)\n",
    "main = fig.add_subplot(111, frameon=False)\n",
    "index = 0\n",
    "for i in range(2):\n",
    "    for j in range(3):\n",
    "        val_data = reshaped_val[i,j]\n",
    "        train_data= reshaped_train[i,j]\n",
    "        axes[i,j].plot(val_data,c='orange',label='Validation')\n",
    "        axes[i,j].plot(train_data,c='blue',label='Training')\n",
    "        axes[i,j].set_title('Bias: {}'.format(lambs[index]))\n",
    "        index += 1\n",
    "plt.tight_layout()\n",
    "plt.title('Bias λ Train and Val. Loss',size=20,pad=40)\n",
    "#plt.xlabel('Item λ',size=20)\n",
    "plt.ylabel('Bias λ',size=20)\n",
    "plt.savefig('../plots/bias_val_train_acc_.png')\n",
    "#plt.title(\"Validation Accuracy vs Training Accuracy for K = 16 & α=0.05\")\n",
    "#plt.plot(val_histories[24],c='orange',label='Validation')\n",
    "#plt.plot(train_histories[24],c='blue',label='Training')\n",
    "#plt.legend(loc='best')"
   ]
  },
  {
   "cell_type": "code",
   "execution_count": null,
   "metadata": {},
   "outputs": [],
   "source": [
    "#Load different types of triplet datasets, train and evaluate on each of them\n",
    "files = ['user_max_matchup.csv','user_ogmeta_rating_matchup.csv','user_attempt_rating_matchup.csv']\n",
    "for file in files:\n",
    "    triplets = pd.read_csv('../important/'+file)\n",
    "    cats = triplets['fail_id'].append(triplets['win_id'])\n",
    "    cats = cats.astype('category').cat.codes\n",
    "    triplets['fail_cat'] = cats[:triplets.shape[0]]\n",
    "    triplets['win_cat'] = cats[triplets.shape[0]:]\n",
    "    train_data,val_data = train_test(triplets,0.3)\n",
    "    val_data,test_data = train_test(val_data,0.2)\n",
    "    uids = train_data['user_cat'].values\n",
    "    iids = train_data['win_cat'].values\n",
    "    jids = train_data['fail_cat'].values\n",
    "    n_users = triplets.user_cat.astype('int32').max() + 1\n",
    "    n_puzzles = max(triplets.fail_cat.astype('int32').max() + 1,triplets.win_cat.astype('int32').max() + 1)\n",
    "    lambs = (1,0.01,0.001)\n",
    "    model = BPRObject(n_users,n_puzzles,16,0.005,lambs,val_data)\n",
    "    model.launchG(50,50,15000,uids,iids,jids)\n",
    "    test_acc = model.evaluate(test_data)\n",
    "    print('Model trained on {}:{}'.format(file,test_acc))"
   ]
  },
  {
   "cell_type": "markdown",
   "metadata": {},
   "source": [
    "<h2>Prepare Data for Projector</h2>"
   ]
  },
  {
   "cell_type": "code",
   "execution_count": 99,
   "metadata": {},
   "outputs": [],
   "source": [
    "#Get puzzle embeddings and prepare for the projector\n",
    "item_vecs = model.get_item_embeddings()\n",
    "item_frame = pd.DataFrame(item_vecs)\n",
    "item_frame = item_frame.reindex(lookup['puzzle_id'])"
   ]
  },
  {
   "cell_type": "code",
   "execution_count": 100,
   "metadata": {},
   "outputs": [],
   "source": [
    "#Load puzzle metadata\n",
    "puzzle_data = pd.read_csv('../important/tactics_problem_singletag.csv')"
   ]
  },
  {
   "cell_type": "code",
   "execution_count": 101,
   "metadata": {},
   "outputs": [
    {
     "name": "stdout",
     "output_type": "stream",
     "text": [
      "Saving meta and vecs\n"
     ]
    }
   ],
   "source": [
    "print('Saving meta and vecs')\n",
    "meta_file = pd.merge(lookup,puzzle_data,on='tactics_problem_id',how='left')\n",
    "meta_file.drop(['pgn','rd','puzzle_id'],axis=1,inplace=True)\n",
    "meta_file = meta_file.fillna(0)\n",
    "vec_file_name = '../../ChessPuzzleEmbeddings/rating_bpr/metarating_maxmatchup_vecs.tsv'\n",
    "meta_file_name = '../../ChessPuzzleEmbeddings/rating_bpr/metarating_maxmatchup_meta.tsv'\n",
    "item_frame.to_csv(vec_file_name,sep='\\t',index=False,header=False)\n",
    "meta_file.to_csv(meta_file_name,sep='\\t',index=False,header=True)"
   ]
  },
  {
   "cell_type": "code",
   "execution_count": 102,
   "metadata": {},
   "outputs": [
    {
     "data": {
      "text/plain": [
       "(32239, 9)"
      ]
     },
     "execution_count": 102,
     "metadata": {},
     "output_type": "execute_result"
    }
   ],
   "source": [
    "meta_file.shape"
   ]
  }
 ],
 "metadata": {
  "kernelspec": {
   "display_name": "Python 3",
   "language": "python",
   "name": "python3"
  },
  "language_info": {
   "codemirror_mode": {
    "name": "ipython",
    "version": 3
   },
   "file_extension": ".py",
   "mimetype": "text/x-python",
   "name": "python",
   "nbconvert_exporter": "python",
   "pygments_lexer": "ipython3",
   "version": "3.7.1"
  }
 },
 "nbformat": 4,
 "nbformat_minor": 2
}
