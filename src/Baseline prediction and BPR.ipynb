{
 "cells": [
  {
   "cell_type": "code",
   "execution_count": 1,
   "metadata": {},
   "outputs": [],
   "source": [
    "from scipy.sparse import csr_matrix, dok_matrix, coo_matrix\n",
    "import pandas as pd\n",
    "import numpy as np\n",
    "import implicit\n",
    "from tqdm.notebook import tqdm"
   ]
  },
  {
   "cell_type": "code",
   "execution_count": 33,
   "metadata": {},
   "outputs": [
    {
     "data": {
      "text/html": [
       "<div>\n",
       "<style scoped>\n",
       "    .dataframe tbody tr th:only-of-type {\n",
       "        vertical-align: middle;\n",
       "    }\n",
       "\n",
       "    .dataframe tbody tr th {\n",
       "        vertical-align: top;\n",
       "    }\n",
       "\n",
       "    .dataframe thead th {\n",
       "        text-align: right;\n",
       "    }\n",
       "</style>\n",
       "<table border=\"1\" class=\"dataframe\">\n",
       "  <thead>\n",
       "    <tr style=\"text-align: right;\">\n",
       "      <th></th>\n",
       "      <th>Unnamed: 0</th>\n",
       "      <th>user_hash</th>\n",
       "      <th>puzzle_1</th>\n",
       "      <th>puzzle_2</th>\n",
       "      <th>cluster_1</th>\n",
       "      <th>rating_labels</th>\n",
       "      <th>rating_1</th>\n",
       "      <th>cluster_2</th>\n",
       "      <th>rating_2</th>\n",
       "      <th>cluster_perf_1</th>\n",
       "      <th>cluster_perf_2</th>\n",
       "      <th>passed_puzzle</th>\n",
       "    </tr>\n",
       "  </thead>\n",
       "  <tbody>\n",
       "    <tr>\n",
       "      <th>0</th>\n",
       "      <td>0</td>\n",
       "      <td>0df86500b477547f62eea54bb9e136ae81d75ad924090a...</td>\n",
       "      <td>34864</td>\n",
       "      <td>195592</td>\n",
       "      <td>6</td>\n",
       "      <td>2</td>\n",
       "      <td>407</td>\n",
       "      <td>14</td>\n",
       "      <td>420</td>\n",
       "      <td>807.000000</td>\n",
       "      <td>1072.145455</td>\n",
       "      <td>0</td>\n",
       "    </tr>\n",
       "    <tr>\n",
       "      <th>1</th>\n",
       "      <td>1</td>\n",
       "      <td>2e3f96438c113cb00b724c2b0b5399ed66bc7451207a63...</td>\n",
       "      <td>195592</td>\n",
       "      <td>34864</td>\n",
       "      <td>14</td>\n",
       "      <td>2</td>\n",
       "      <td>420</td>\n",
       "      <td>6</td>\n",
       "      <td>407</td>\n",
       "      <td>1043.076760</td>\n",
       "      <td>808.900000</td>\n",
       "      <td>1</td>\n",
       "    </tr>\n",
       "    <tr>\n",
       "      <th>2</th>\n",
       "      <td>2</td>\n",
       "      <td>e7be030b30d68734fe1bfd8801bb4104e81db94d57f871...</td>\n",
       "      <td>195592</td>\n",
       "      <td>34864</td>\n",
       "      <td>14</td>\n",
       "      <td>2</td>\n",
       "      <td>420</td>\n",
       "      <td>6</td>\n",
       "      <td>407</td>\n",
       "      <td>1205.652174</td>\n",
       "      <td>759.000000</td>\n",
       "      <td>1</td>\n",
       "    </tr>\n",
       "    <tr>\n",
       "      <th>3</th>\n",
       "      <td>3</td>\n",
       "      <td>a9797f35d72e6473da05de5176750b5f836fbc414a37f5...</td>\n",
       "      <td>195592</td>\n",
       "      <td>34864</td>\n",
       "      <td>14</td>\n",
       "      <td>2</td>\n",
       "      <td>420</td>\n",
       "      <td>6</td>\n",
       "      <td>407</td>\n",
       "      <td>1246.872996</td>\n",
       "      <td>909.777778</td>\n",
       "      <td>1</td>\n",
       "    </tr>\n",
       "    <tr>\n",
       "      <th>4</th>\n",
       "      <td>4</td>\n",
       "      <td>7af510b2c63044cef2379aae31e6cb880816e987217dfc...</td>\n",
       "      <td>195592</td>\n",
       "      <td>39933</td>\n",
       "      <td>14</td>\n",
       "      <td>2</td>\n",
       "      <td>420</td>\n",
       "      <td>5</td>\n",
       "      <td>411</td>\n",
       "      <td>1188.519048</td>\n",
       "      <td>1638.991643</td>\n",
       "      <td>1</td>\n",
       "    </tr>\n",
       "    <tr>\n",
       "      <th>...</th>\n",
       "      <td>...</td>\n",
       "      <td>...</td>\n",
       "      <td>...</td>\n",
       "      <td>...</td>\n",
       "      <td>...</td>\n",
       "      <td>...</td>\n",
       "      <td>...</td>\n",
       "      <td>...</td>\n",
       "      <td>...</td>\n",
       "      <td>...</td>\n",
       "      <td>...</td>\n",
       "      <td>...</td>\n",
       "    </tr>\n",
       "    <tr>\n",
       "      <th>806326</th>\n",
       "      <td>806326</td>\n",
       "      <td>01ad240792e4b24aa32ec68f4589b54dcc3415c570fdf8...</td>\n",
       "      <td>97236</td>\n",
       "      <td>158723</td>\n",
       "      <td>9</td>\n",
       "      <td>1</td>\n",
       "      <td>400</td>\n",
       "      <td>8</td>\n",
       "      <td>400</td>\n",
       "      <td>477.538462</td>\n",
       "      <td>538.833333</td>\n",
       "      <td>0</td>\n",
       "    </tr>\n",
       "    <tr>\n",
       "      <th>806327</th>\n",
       "      <td>806327</td>\n",
       "      <td>01ad240792e4b24aa32ec68f4589b54dcc3415c570fdf8...</td>\n",
       "      <td>185109</td>\n",
       "      <td>158723</td>\n",
       "      <td>9</td>\n",
       "      <td>1</td>\n",
       "      <td>400</td>\n",
       "      <td>8</td>\n",
       "      <td>400</td>\n",
       "      <td>477.538462</td>\n",
       "      <td>538.833333</td>\n",
       "      <td>0</td>\n",
       "    </tr>\n",
       "    <tr>\n",
       "      <th>806328</th>\n",
       "      <td>806328</td>\n",
       "      <td>01ad240792e4b24aa32ec68f4589b54dcc3415c570fdf8...</td>\n",
       "      <td>158723</td>\n",
       "      <td>158103</td>\n",
       "      <td>8</td>\n",
       "      <td>1</td>\n",
       "      <td>400</td>\n",
       "      <td>9</td>\n",
       "      <td>400</td>\n",
       "      <td>538.833333</td>\n",
       "      <td>477.538462</td>\n",
       "      <td>1</td>\n",
       "    </tr>\n",
       "    <tr>\n",
       "      <th>806329</th>\n",
       "      <td>806329</td>\n",
       "      <td>6fb74b461ab717b4ab25eae19702bc944209a7ce09576f...</td>\n",
       "      <td>153150</td>\n",
       "      <td>79682</td>\n",
       "      <td>8</td>\n",
       "      <td>4</td>\n",
       "      <td>451</td>\n",
       "      <td>17</td>\n",
       "      <td>462</td>\n",
       "      <td>567.583333</td>\n",
       "      <td>627.617647</td>\n",
       "      <td>0</td>\n",
       "    </tr>\n",
       "    <tr>\n",
       "      <th>806330</th>\n",
       "      <td>806330</td>\n",
       "      <td>c98995bbf2a8a14ed62163506ee1b650e8d5d5c970bc3f...</td>\n",
       "      <td>314989</td>\n",
       "      <td>95218</td>\n",
       "      <td>4</td>\n",
       "      <td>92</td>\n",
       "      <td>2662</td>\n",
       "      <td>19</td>\n",
       "      <td>2672</td>\n",
       "      <td>1964.221250</td>\n",
       "      <td>1736.000000</td>\n",
       "      <td>1</td>\n",
       "    </tr>\n",
       "  </tbody>\n",
       "</table>\n",
       "<p>806331 rows × 12 columns</p>\n",
       "</div>"
      ],
      "text/plain": [
       "        Unnamed: 0                                          user_hash  \\\n",
       "0                0  0df86500b477547f62eea54bb9e136ae81d75ad924090a...   \n",
       "1                1  2e3f96438c113cb00b724c2b0b5399ed66bc7451207a63...   \n",
       "2                2  e7be030b30d68734fe1bfd8801bb4104e81db94d57f871...   \n",
       "3                3  a9797f35d72e6473da05de5176750b5f836fbc414a37f5...   \n",
       "4                4  7af510b2c63044cef2379aae31e6cb880816e987217dfc...   \n",
       "...            ...                                                ...   \n",
       "806326      806326  01ad240792e4b24aa32ec68f4589b54dcc3415c570fdf8...   \n",
       "806327      806327  01ad240792e4b24aa32ec68f4589b54dcc3415c570fdf8...   \n",
       "806328      806328  01ad240792e4b24aa32ec68f4589b54dcc3415c570fdf8...   \n",
       "806329      806329  6fb74b461ab717b4ab25eae19702bc944209a7ce09576f...   \n",
       "806330      806330  c98995bbf2a8a14ed62163506ee1b650e8d5d5c970bc3f...   \n",
       "\n",
       "        puzzle_1  puzzle_2  cluster_1  rating_labels  rating_1  cluster_2  \\\n",
       "0          34864    195592          6              2       407         14   \n",
       "1         195592     34864         14              2       420          6   \n",
       "2         195592     34864         14              2       420          6   \n",
       "3         195592     34864         14              2       420          6   \n",
       "4         195592     39933         14              2       420          5   \n",
       "...          ...       ...        ...            ...       ...        ...   \n",
       "806326     97236    158723          9              1       400          8   \n",
       "806327    185109    158723          9              1       400          8   \n",
       "806328    158723    158103          8              1       400          9   \n",
       "806329    153150     79682          8              4       451         17   \n",
       "806330    314989     95218          4             92      2662         19   \n",
       "\n",
       "        rating_2  cluster_perf_1  cluster_perf_2  passed_puzzle  \n",
       "0            420      807.000000     1072.145455              0  \n",
       "1            407     1043.076760      808.900000              1  \n",
       "2            407     1205.652174      759.000000              1  \n",
       "3            407     1246.872996      909.777778              1  \n",
       "4            411     1188.519048     1638.991643              1  \n",
       "...          ...             ...             ...            ...  \n",
       "806326       400      477.538462      538.833333              0  \n",
       "806327       400      477.538462      538.833333              0  \n",
       "806328       400      538.833333      477.538462              1  \n",
       "806329       462      567.583333      627.617647              0  \n",
       "806330      2672     1964.221250     1736.000000              1  \n",
       "\n",
       "[806331 rows x 12 columns]"
      ]
     },
     "execution_count": 33,
     "metadata": {},
     "output_type": "execute_result"
    }
   ],
   "source": [
    "df = pd.read_csv(\"/w/225/1/chess/tactics/prediction_data_full_shuffled.csv\")\n",
    "df"
   ]
  },
  {
   "cell_type": "code",
   "execution_count": 5,
   "metadata": {},
   "outputs": [
    {
     "data": {
      "text/plain": [
       "0.49679226025044304"
      ]
     },
     "execution_count": 5,
     "metadata": {},
     "output_type": "execute_result"
    }
   ],
   "source": [
    "#baseline prediction based on ELO rating by assuming the higher rating is the successful one.\n",
    "\n",
    "r,c = df.shape\n",
    "\n",
    "correct_prediction = 0\n",
    "for i in range(r):\n",
    "    rating_1 = df.iloc[i,6]\n",
    "    rating_2 = df.iloc[i,8]\n",
    "    if rating_1 >= rating_2:\n",
    "        predict_puzzle = \"puzzle_1\"\n",
    "    else:\n",
    "        predict_puzzle = \"puzzle_2\"\n",
    "    \n",
    "    if df.iloc[i,11] == 0:\n",
    "        correct_puzzle = \"puzzle_1\"\n",
    "    else:\n",
    "        correct_puzzle = \"puzzle_2\"\n",
    "    \n",
    "    if correct_puzzle == predict_puzzle:\n",
    "        correct_prediction += 1\n",
    "\n",
    "correct_prediction / r\n",
    "    "
   ]
  },
  {
   "cell_type": "code",
   "execution_count": 67,
   "metadata": {},
   "outputs": [
    {
     "data": {
      "text/plain": [
       "0.5032077397495569"
      ]
     },
     "execution_count": 67,
     "metadata": {},
     "output_type": "execute_result"
    }
   ],
   "source": [
    "#baseline prediction based on ELO rating by assuming the lower rating is the successful one.\n",
    "\n",
    "r,c = df.shape\n",
    "\n",
    "correct_prediction = 0\n",
    "for i in range(r):\n",
    "    rating_1 = df.iloc[i,6]\n",
    "    rating_2 = df.iloc[i,8]\n",
    "    if rating_1 <= rating_2:\n",
    "        predict_puzzle = \"puzzle_1\"\n",
    "    else:\n",
    "        predict_puzzle = \"puzzle_2\"\n",
    "    \n",
    "    if df.iloc[i,11] == 0:\n",
    "        correct_puzzle = \"puzzle_1\"\n",
    "    else:\n",
    "        correct_puzzle = \"puzzle_2\"\n",
    "    \n",
    "    if correct_puzzle == predict_puzzle:\n",
    "        correct_prediction += 1\n",
    "\n",
    "correct_prediction / r\n",
    "    "
   ]
  },
  {
   "cell_type": "code",
   "execution_count": 52,
   "metadata": {},
   "outputs": [
    {
     "data": {
      "text/plain": [
       "0.49997916488390004"
      ]
     },
     "execution_count": 52,
     "metadata": {},
     "output_type": "execute_result"
    }
   ],
   "source": [
    "#baseline prediction based on ELO rating by randomly choosing the successful one.\n",
    "\n",
    "r,c = df.shape\n",
    "\n",
    "sum_accuracy = 0\n",
    "repeat = 10\n",
    "\n",
    "for n in range(repeat):\n",
    "    correct_prediction = 0\n",
    "    for i in range(r):\n",
    "        predict_puzzle = np.random.randint(1,3)\n",
    "        if predict_puzzle == 1:\n",
    "            predict_puzzle = \"puzzle_1\"\n",
    "        else:\n",
    "            predict_puzzle = \"puzzle_2\"\n",
    "\n",
    "        if df.iloc[i,11] == 0:\n",
    "            correct_puzzle = \"puzzle_1\"\n",
    "        else:\n",
    "            correct_puzzle = \"puzzle_2\"\n",
    "\n",
    "        if correct_puzzle == predict_puzzle:\n",
    "            correct_prediction += 1\n",
    "    accuracy = correct_prediction / r\n",
    "    sum_accuracy += accuracy\n",
    "\n",
    "avg_accuracy = sum_accuracy / repeat\n",
    "avg_accuracy    "
   ]
  },
  {
   "cell_type": "code",
   "execution_count": 53,
   "metadata": {},
   "outputs": [
    {
     "data": {
      "text/plain": [
       "0.5124483617769874"
      ]
     },
     "execution_count": 53,
     "metadata": {},
     "output_type": "execute_result"
    }
   ],
   "source": [
    "#baseline prediction based on cluster rating by assuming the higher cluster performance is the successful one.\n",
    "\n",
    "r,c = df.shape\n",
    "\n",
    "correct_prediction = 0\n",
    "for i in range(r):\n",
    "    cluster_perf_1 = df.iloc[i,9]\n",
    "    cluster_perf_2 = df.iloc[i,10]\n",
    "    predict_puzzle = np.random.randint(1,3)\n",
    "    if predict_puzzle == 1:\n",
    "        predict_puzzle = \"puzzle_1\"\n",
    "    else:\n",
    "        predict_puzzle = \"puzzle_2\"\n",
    "    \n",
    "    if df.iloc[i,11] == 0:\n",
    "        correct_puzzle = \"puzzle_1\"\n",
    "    else:\n",
    "        correct_puzzle = \"puzzle_2\"\n",
    "    \n",
    "    if correct_puzzle == predict_puzzle:\n",
    "        correct_prediction += 1\n",
    "\n",
    "correct_prediction / r\n",
    "    "
   ]
  },
  {
   "cell_type": "code",
   "execution_count": 55,
   "metadata": {},
   "outputs": [
    {
     "data": {
      "text/plain": [
       "0.49984237242521984"
      ]
     },
     "execution_count": 55,
     "metadata": {},
     "output_type": "execute_result"
    }
   ],
   "source": [
    "#baseline prediction based on cluster rating by randomly choosing the successful one.\n",
    "\n",
    "r,c = df.shape\n",
    "\n",
    "sum_accuracy = 0\n",
    "repeat = 10\n",
    "\n",
    "for n in range(repeat):\n",
    "    correct_prediction = 0\n",
    "    for i in range(r):\n",
    "        predict_puzzle = np.random.randint(1,3)\n",
    "        if predict_puzzle == 1:\n",
    "            predict_puzzle = \"puzzle_1\"\n",
    "        else:\n",
    "            predict_puzzle = \"puzzle_2\"\n",
    "\n",
    "        if df.iloc[i,11] == 0:\n",
    "            correct_puzzle = \"puzzle_1\"\n",
    "        else:\n",
    "            correct_puzzle = \"puzzle_2\"\n",
    "\n",
    "        if correct_puzzle == predict_puzzle:\n",
    "            correct_prediction += 1\n",
    "    accuracy = correct_prediction / r\n",
    "    sum_accuracy += accuracy\n",
    "\n",
    "avg_accuracy = sum_accuracy / repeat\n",
    "avg_accuracy "
   ]
  },
  {
   "cell_type": "code",
   "execution_count": 10,
   "metadata": {},
   "outputs": [
    {
     "data": {
      "application/vnd.jupyter.widget-view+json": {
       "model_id": "8b2369f8db90423aa2e0f15f47c43a4e",
       "version_major": 2,
       "version_minor": 0
      },
      "text/plain": [
       "HBox(children=(FloatProgress(value=0.0, max=806331.0), HTML(value='')))"
      ]
     },
     "metadata": {},
     "output_type": "display_data"
    },
    {
     "name": "stdout",
     "output_type": "stream",
     "text": [
      "\n"
     ]
    },
    {
     "data": {
      "text/html": [
       "<div>\n",
       "<style scoped>\n",
       "    .dataframe tbody tr th:only-of-type {\n",
       "        vertical-align: middle;\n",
       "    }\n",
       "\n",
       "    .dataframe tbody tr th {\n",
       "        vertical-align: top;\n",
       "    }\n",
       "\n",
       "    .dataframe thead th {\n",
       "        text-align: right;\n",
       "    }\n",
       "</style>\n",
       "<table border=\"1\" class=\"dataframe\">\n",
       "  <thead>\n",
       "    <tr style=\"text-align: right;\">\n",
       "      <th></th>\n",
       "      <th>user_hash</th>\n",
       "      <th>puzzle_id</th>\n",
       "      <th>is_passed</th>\n",
       "    </tr>\n",
       "  </thead>\n",
       "  <tbody>\n",
       "    <tr>\n",
       "      <th>0</th>\n",
       "      <td>0df86500b477547f62eea54bb9e136ae81d75ad924090a...</td>\n",
       "      <td>34864</td>\n",
       "      <td>1</td>\n",
       "    </tr>\n",
       "    <tr>\n",
       "      <th>1</th>\n",
       "      <td>0df86500b477547f62eea54bb9e136ae81d75ad924090a...</td>\n",
       "      <td>195592</td>\n",
       "      <td>0</td>\n",
       "    </tr>\n",
       "    <tr>\n",
       "      <th>2</th>\n",
       "      <td>2e3f96438c113cb00b724c2b0b5399ed66bc7451207a63...</td>\n",
       "      <td>195592</td>\n",
       "      <td>0</td>\n",
       "    </tr>\n",
       "    <tr>\n",
       "      <th>3</th>\n",
       "      <td>2e3f96438c113cb00b724c2b0b5399ed66bc7451207a63...</td>\n",
       "      <td>34864</td>\n",
       "      <td>1</td>\n",
       "    </tr>\n",
       "    <tr>\n",
       "      <th>4</th>\n",
       "      <td>e7be030b30d68734fe1bfd8801bb4104e81db94d57f871...</td>\n",
       "      <td>195592</td>\n",
       "      <td>0</td>\n",
       "    </tr>\n",
       "    <tr>\n",
       "      <th>...</th>\n",
       "      <td>...</td>\n",
       "      <td>...</td>\n",
       "      <td>...</td>\n",
       "    </tr>\n",
       "    <tr>\n",
       "      <th>1612657</th>\n",
       "      <td>01ad240792e4b24aa32ec68f4589b54dcc3415c570fdf8...</td>\n",
       "      <td>158103</td>\n",
       "      <td>1</td>\n",
       "    </tr>\n",
       "    <tr>\n",
       "      <th>1612658</th>\n",
       "      <td>6fb74b461ab717b4ab25eae19702bc944209a7ce09576f...</td>\n",
       "      <td>153150</td>\n",
       "      <td>1</td>\n",
       "    </tr>\n",
       "    <tr>\n",
       "      <th>1612659</th>\n",
       "      <td>6fb74b461ab717b4ab25eae19702bc944209a7ce09576f...</td>\n",
       "      <td>79682</td>\n",
       "      <td>0</td>\n",
       "    </tr>\n",
       "    <tr>\n",
       "      <th>1612660</th>\n",
       "      <td>c98995bbf2a8a14ed62163506ee1b650e8d5d5c970bc3f...</td>\n",
       "      <td>314989</td>\n",
       "      <td>0</td>\n",
       "    </tr>\n",
       "    <tr>\n",
       "      <th>1612661</th>\n",
       "      <td>c98995bbf2a8a14ed62163506ee1b650e8d5d5c970bc3f...</td>\n",
       "      <td>95218</td>\n",
       "      <td>1</td>\n",
       "    </tr>\n",
       "  </tbody>\n",
       "</table>\n",
       "<p>1612662 rows × 3 columns</p>\n",
       "</div>"
      ],
      "text/plain": [
       "                                                 user_hash puzzle_id is_passed\n",
       "0        0df86500b477547f62eea54bb9e136ae81d75ad924090a...     34864         1\n",
       "1        0df86500b477547f62eea54bb9e136ae81d75ad924090a...    195592         0\n",
       "2        2e3f96438c113cb00b724c2b0b5399ed66bc7451207a63...    195592         0\n",
       "3        2e3f96438c113cb00b724c2b0b5399ed66bc7451207a63...     34864         1\n",
       "4        e7be030b30d68734fe1bfd8801bb4104e81db94d57f871...    195592         0\n",
       "...                                                    ...       ...       ...\n",
       "1612657  01ad240792e4b24aa32ec68f4589b54dcc3415c570fdf8...    158103         1\n",
       "1612658  6fb74b461ab717b4ab25eae19702bc944209a7ce09576f...    153150         1\n",
       "1612659  6fb74b461ab717b4ab25eae19702bc944209a7ce09576f...     79682         0\n",
       "1612660  c98995bbf2a8a14ed62163506ee1b650e8d5d5c970bc3f...    314989         0\n",
       "1612661  c98995bbf2a8a14ed62163506ee1b650e8d5d5c970bc3f...     95218         1\n",
       "\n",
       "[1612662 rows x 3 columns]"
      ]
     },
     "execution_count": 10,
     "metadata": {},
     "output_type": "execute_result"
    }
   ],
   "source": [
    "#reformatting the df with the structure as below. This is done so that it's easier to create the training data for BPR.\n",
    "\n",
    "data = pd.DataFrame(index = np.arange(r*2), columns = ['user_hash','puzzle_id', 'is_passed'])\n",
    "\n",
    "for i in tqdm(range(r)):\n",
    "    data.iloc[2*i,0] = df.iloc[i,1]\n",
    "    data.iloc[2*i,1] = df.iloc[i,2]\n",
    "    data.iloc[2*i+1,0] = df.iloc[i,1]\n",
    "    data.iloc[2*i+1,1] = df.iloc[i,3]\n",
    "    if df.iloc[i,11] == 0:\n",
    "        data.iloc[2*i,2] = 1\n",
    "        data.iloc[2*i+1,2] = 0\n",
    "    else:\n",
    "        data.iloc[2*i,2] = 0\n",
    "        data.iloc[2*i+1,2] = 1\n",
    "\n",
    "data"
   ]
  },
  {
   "cell_type": "code",
   "execution_count": 2,
   "metadata": {},
   "outputs": [
    {
     "ename": "NameError",
     "evalue": "name 'data' is not defined",
     "output_type": "error",
     "traceback": [
      "\u001b[0;31m---------------------------------------------------------------------------\u001b[0m",
      "\u001b[0;31mNameError\u001b[0m                                 Traceback (most recent call last)",
      "\u001b[0;32m<ipython-input-2-2f0a0c38e776>\u001b[0m in \u001b[0;36m<module>\u001b[0;34m\u001b[0m\n\u001b[0;32m----> 1\u001b[0;31m \u001b[0mdata\u001b[0m \u001b[0;34m=\u001b[0m \u001b[0mdata\u001b[0m\u001b[0;34m.\u001b[0m\u001b[0mto_csv\u001b[0m\u001b[0;34m(\u001b[0m\u001b[0;34m\"prediction_data.csv\"\u001b[0m\u001b[0;34m,\u001b[0m \u001b[0mindex\u001b[0m \u001b[0;34m=\u001b[0m \u001b[0;32mFalse\u001b[0m\u001b[0;34m)\u001b[0m\u001b[0;34m\u001b[0m\u001b[0;34m\u001b[0m\u001b[0m\n\u001b[0m",
      "\u001b[0;31mNameError\u001b[0m: name 'data' is not defined"
     ]
    }
   ],
   "source": [
    "data = data.to_csv(\"prediction_data.csv\", index = False)"
   ]
  },
  {
   "cell_type": "code",
   "execution_count": 2,
   "metadata": {},
   "outputs": [],
   "source": [
    "data = pd.read_csv(\"prediction_data.csv\")"
   ]
  },
  {
   "cell_type": "code",
   "execution_count": 56,
   "metadata": {},
   "outputs": [],
   "source": [
    "def create_matrix(data, users_col, items_col, ratings_col, option, threshold = None):\n",
    "    \"\"\"\n",
    "    creates the sparse user-item interaction matrix,\n",
    "    if the data is not in the format where the interaction only\n",
    "    contains the positive items (indicated by 1), then use the \n",
    "    threshold parameter to determine which items are considered positive\n",
    "    \n",
    "    Parameters\n",
    "    ----------\n",
    "    data : DataFrame\n",
    "        implicit rating data\n",
    "\n",
    "    users_col : str\n",
    "        user column name\n",
    "\n",
    "    items_col : str\n",
    "        item column name\n",
    "    \n",
    "    ratings_col : str\n",
    "        implicit rating column name\n",
    "\n",
    "    threshold : int, default None\n",
    "        threshold to determine whether the user-item pair is \n",
    "        a positive feedback\n",
    "\n",
    "    Returns\n",
    "    -------\n",
    "    ratings : scipy sparse csr_matrix, shape [n_users, n_items]\n",
    "        user/item ratings matrix\n",
    "\n",
    "    data : DataFrame\n",
    "        implict rating data that retains only the positive feedback\n",
    "        (if specified to do so)\n",
    "    \"\"\"\n",
    "    #if threshold is not None:\n",
    "        #data = data[data[ratings_col] >= threshold]\n",
    "        #data[ratings_col] = 1\n",
    "    \n",
    "    for col in (items_col, users_col, ratings_col):\n",
    "        data[col] = data[col].astype('category')\n",
    "    \n",
    "    if option == \"item_users\":\n",
    "        ratings = coo_matrix((data[ratings_col],\n",
    "                              (data[items_col].cat.codes, data[users_col].cat.codes)))\n",
    "    else:\n",
    "        ratings = csr_matrix((data[ratings_col],\n",
    "                              (data[users_col].cat.codes, data[items_col].cat.codes)))\n",
    "    ratings.eliminate_zeros()\n",
    "    \n",
    "    \"\"\"item_to_code = {}\n",
    "    puzzle_id_list = list(data['puzzle_id'])\n",
    "    code_item_list = list(data[items_col].cat.codes)\n",
    "    for i in range(len(puzzle_id_list)):\n",
    "        item_to_code[puzzle_id_list[i]] = code_item_list[i]\n",
    "        \n",
    "    user_to_code = {}\n",
    "    user_hash_list = list(data['user_hash'])\n",
    "    code_user_list = list(data[users_col].cat.codes)\n",
    "    for i in range(len(user_id_list)):\n",
    "        user_to_code[user_hash_list[i]] = code_user_list[i]\"\"\"\n",
    "    \n",
    "    #return ratings, data, user_to_code, item_to_code\n",
    "    return ratings, data"
   ]
  },
  {
   "cell_type": "code",
   "execution_count": 57,
   "metadata": {},
   "outputs": [],
   "source": [
    "items_col = 'puzzle_id'\n",
    "users_col = 'user_hash'\n",
    "ratings_col = 'is_passed'\n",
    "threshold = 1\n",
    "item_user_data, data_filtered  = create_matrix(data, users_col, items_col, ratings_col, \"item_users\", threshold)\n",
    "user_item_data, data_filtered = create_matrix(data, users_col, items_col, ratings_col, \"user_items\", threshold)"
   ]
  },
  {
   "cell_type": "code",
   "execution_count": 58,
   "metadata": {},
   "outputs": [
    {
     "data": {
      "application/vnd.jupyter.widget-view+json": {
       "model_id": "cff75eedf1d44aa7a3b1eb7e55e435e4",
       "version_major": 2,
       "version_minor": 0
      },
      "text/plain": [
       "HBox(children=(FloatProgress(value=0.0), HTML(value='')))"
      ]
     },
     "metadata": {},
     "output_type": "display_data"
    },
    {
     "name": "stdout",
     "output_type": "stream",
     "text": [
      "\n"
     ]
    }
   ],
   "source": [
    "model = implicit.bpr.BayesianPersonalizedRanking()\n",
    "model.fit(item_user_data)"
   ]
  },
  {
   "cell_type": "code",
   "execution_count": 59,
   "metadata": {},
   "outputs": [],
   "source": [
    "#create a dictionary that maps the puzzle id to its respective numerical code.\n",
    "\n",
    "item_to_code = {}\n",
    "puzzle_id_list = list(data['puzzle_id'])\n",
    "code_item_list = list(data[items_col].astype(\"category\").cat.codes)\n",
    "for i in range(len(puzzle_id_list)):\n",
    "    item_to_code[puzzle_id_list[i]] = code_item_list[i]\n",
    "\n",
    "#create a dictionary that maps the user hash to its respective numerical code.\n",
    "\n",
    "user_to_code = {}\n",
    "user_hash_list = list(data['user_hash'])\n",
    "code_user_list = list(data[users_col].astype(\"category\").cat.codes)\n",
    "for i in range(len(user_hash_list)):\n",
    "    user_to_code[user_hash_list[i]] = code_user_list[i]"
   ]
  },
  {
   "cell_type": "code",
   "execution_count": 60,
   "metadata": {},
   "outputs": [
    {
     "data": {
      "text/plain": [
       "(20552,)"
      ]
     },
     "execution_count": 60,
     "metadata": {},
     "output_type": "execute_result"
    }
   ],
   "source": [
    "#predicting \"ratings\" for specific user. The values are in the range of [0,1]\n",
    "\n",
    "user_pred = model.user_factors[user_to_code[user_hash_list[0]]].dot(model.item_factors.T)\n",
    "user_pred.shape"
   ]
  },
  {
   "cell_type": "code",
   "execution_count": 61,
   "metadata": {},
   "outputs": [
    {
     "data": {
      "text/plain": [
       "(20552, 101)"
      ]
     },
     "execution_count": 61,
     "metadata": {},
     "output_type": "execute_result"
    }
   ],
   "source": [
    "model.item_factors.shape"
   ]
  },
  {
   "cell_type": "code",
   "execution_count": 62,
   "metadata": {},
   "outputs": [
    {
     "data": {
      "text/plain": [
       "(20552, 288)"
      ]
     },
     "execution_count": 62,
     "metadata": {},
     "output_type": "execute_result"
    }
   ],
   "source": [
    "item_user_data.shape"
   ]
  },
  {
   "cell_type": "code",
   "execution_count": 37,
   "metadata": {},
   "outputs": [
    {
     "data": {
      "text/plain": [
       "0.48717462183644183"
      ]
     },
     "execution_count": 37,
     "metadata": {},
     "output_type": "execute_result"
    }
   ],
   "source": [
    "#training accuracy of BPR ranking (yeah, this is wrong. I can't figure out how to do the evaluation properly.)\n",
    "\n",
    "r,c = df.shape\n",
    "\n",
    "correct_prediction = 0\n",
    "for i in range(r):\n",
    "    item_id_list = [item_to_code[df.iloc[i,2]], item_to_code[df.iloc[i,3]]]\n",
    "    rank_items = model.rank_items(user_to_code[user_hash_list[i]], user_item_data, item_id_list)\n",
    "    predict_puzzle = rank_items[0][0]\n",
    "    \n",
    "    if df.iloc[i,11] == 0:\n",
    "        correct_puzzle = item_to_code[df.iloc[i,2]]\n",
    "    else:\n",
    "        correct_puzzle = item_to_code[df.iloc[i,3]]\n",
    "    \n",
    "    if correct_puzzle == predict_puzzle:\n",
    "        correct_prediction += 1\n",
    "\n",
    "correct_prediction / r\n",
    "    "
   ]
  }
 ],
 "metadata": {
  "kernelspec": {
   "display_name": "Python 3",
   "language": "python",
   "name": "python3"
  },
  "language_info": {
   "codemirror_mode": {
    "name": "ipython",
    "version": 3
   },
   "file_extension": ".py",
   "mimetype": "text/x-python",
   "name": "python",
   "nbconvert_exporter": "python",
   "pygments_lexer": "ipython3",
   "version": "3.6.9"
  }
 },
 "nbformat": 4,
 "nbformat_minor": 4
}
